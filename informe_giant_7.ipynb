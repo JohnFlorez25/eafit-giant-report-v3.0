{
  "cells": [
    {
      "cell_type": "markdown",
      "source": [
        "***\n",
        "\n",
        "<div align=\"center\">\n",
        "  <h3> Desarrollo de un gestor de inteligencia colectiva y un marco de trabajo para el aprendizaje a través de la resolución colaborativa de      problemas en entornos educativos transmediales </h3>\n",
        "  <h4> Reporte técnico de Análisis de Datos. </h4>\n",
        "  <h5> Implementación de Algoritmos de clasificación bajo modelos matemáticos de aprendizaje automático bajo el lenguaje de programación Julia </h5>\n",
        "  <h3> RT - 007 </h3>\n",
        "  <h3> JOHN FABER FLÓREZ VASCO - MÓDULO DE DATOS - GIANT </h3>\n",
        "</div>\n",
        "\n",
        "***"
      ],
      "metadata": {
        "nteract": {
          "transient": {
            "deleting": false
          }
        }
      }
    },
    {
      "cell_type": "markdown",
      "source": [
        "<div align=\"center\">\n",
        "  <h2> RESUMEN </h2>\n",
        "</div>\n",
        "\n",
        "<p style='text-align: justify;'> \n",
        "  Este reporte técnico tiene como objetivo evidenciar el proceso de aprendizaje automático por medio de distintos modelos mátematicos de clasificación haciendo uso del lenguaje de programación Julia, por lo cual se van a evaluar distintos modelos de clasficación bajo un conjunto de datos de prueba y con el fin de dar detalle de el análisis de datos e integración de distintos modelos en Julia, vamos a exponer el modelo SIR para análisis de datos epidemiológicos </p>\n",
        "\n",
        "<div align=\"center\">\n",
        "  <h2>INTRODUCCIÓN</h2>\n",
        "</div>\n",
        "<p style='text-align: justify;'> \n",
        "\n",
        "  En el aprendizaje automático, el aprendizaje supervisado es una técnica para deducir una función a partir de datos de entrenamiento. Los datos de entrenamiento consisten de pares de objetos <strong> normalmente vectores </strong>: una componente del par son los datos de entrada y el otro, los resultados deseados. La salida de la función puede ser un valor numérico <strong> (como en los problemas de regresión) </strong> o una etiqueta de clase (como en los de clasificación). El objetivo del aprendizaje supervisado es el de crear una función capaz de predecir el valor correspondiente a cualquier objeto de entrada válida después de haber visto una serie de ejemplos, los datos de entrenamiento. Para ello, tiene que generalizar a partir de los datos presentados a las situaciones no vistas previamente.\n",
        "  \n",
        "  Teniendo en cuenta que al realizar un ejercicio de aprendizaje se busca poder tener modelos generalizados que permitan cumplir con el objetivo de la tarea de aprendizaje, de esta forma al tener validados y probados disintos algoritmos que permitan bajo un conjunto de datos de prueba, al realizarse las distintas iteraciones que recolecten datos del gestor de inteligencia colectiva GIANT, se puede pasar a ejecutar y trabajar con dichos algoritmos en los datos reales obtenidos.\n",
        "  \n",
        "  Para este informe se van a trabajar con modelos mátematicos de clasificación teniendo en cuenta los siguientes modelos de aprendizaje:\n",
        "  \n",
        "<ul>\n",
        "    <li> Arboles de decisión</li>\n",
        "    <li> Bosques Aleatorios</li>\n",
        "    <li> Maquinas de soporte vectorial</li>\n",
        "</ul>\n",
        "\n",
        "Finalmente se mostrará el funcionamiento del modelo SIR el cual es uno de los modelos epidemiológicos más simples capaces de capturar muchas de las características típicas de los brotes epidémicos. El nombre del modelo proviene de las iniciales S (población susceptible), I (población infectada) y R (población recuperada). El modelo relaciona las variaciones de las tres poblaciones (Susceptible, Infectada y Recuperada) a través de la tasa de infección y el período infeccioso promedio.\n",
        "<p style='text-align: justify;'> "
      ],
      "metadata": {
        "nteract": {
          "transient": {
            "deleting": false
          }
        }
      }
    },
    {
      "cell_type": "markdown",
      "source": [
        "<div align=\"center\">\n",
        "  <h2> 1. CONTEXTUALIZACIÓN DEL PROBLEMA : ENFERMEDAD POR EL VIRUS DEL ÉBOLA </h2>\n",
        "</div>\n",
        "<p style='text-align: justify;'>\n",
        "La enfermedad por el virus del Ébola (EVD) se transmite por contacto directo con fluidos corporales. A diferencia de la gripe y los resfriados, las partículas en el aire no transmiten la enfermedad.\n",
        "\n",
        "Es probable que una persona infectada se enferme mucho (los síntomas incluyen dolor, fiebre, diarrea y vómitos) y también es muy probable que muera: en la epidemia que consideraremos, murieron hasta 7 de cada 10 casos no tratados, y en general aproximadamente 1 de cada 3 casos conocidos murieron.\n",
        "\n",
        "No está del todo claro qué tan infecciosa es realmente la enfermedad. Las personas que están en contacto diario con una persona enferma, en particular aquellas que con frecuencia las tocan y / o su ropa y ropa de cama parecen estar en alto riesgo a menos que se tomen precauciones especiales. En una etapa de la epidemia, se dijo que 1 de cada 10 casos era personal médico involucrado en el cuidado de los enfermos. Por otro lado, simplemente estar en presencia de personas enfermas no parece ser un gran riesgo.\n",
        "\n",
        "La enfermedad dura aproximadamente tres semanas en la mayoría de las personas, después de lo cual están muertos o el virus ya no está activo en sus cuerpos. El período infeccioso parece concentrarse alrededor de la tercera semana, que es cuando la enfermedad es más aguda.\n",
        "\n",
        "Sin embargo, en algunos casos parece que el virus puede persistir de forma inactiva en los cuerpos de los sobrevivientes. No está claro cuánto dura esto ni la probabilidad de que los sobrevivientes vuelvan a ser infecciosos. Lamentablemente, es cierto que muchos sobrevivientes continúan experimentando problemas de salud debido a EVD.\n",
        "</p>"
      ],
      "metadata": {
        "nteract": {
          "transient": {
            "deleting": false
          }
        }
      }
    },
    {
      "cell_type": "markdown",
      "source": [
        "<div align=\"center\">\n",
        "  <h2> 2. LA EPIDEMIA DE ÉBOLA EN ÁFRICA OCCIDENTAL</h2>\n",
        "</div>\n",
        "<p style='text-align: justify;'>\n",
        "Hasta 2013, todos los casos conocidos de EVD estaban en África Central. Pero en 2014, se informaron varios casos desde Guinea en África occidental, y estos se remontan a un niño que se enfermó y murió en diciembre de 2013.\n",
        "\n",
        "Este niño infectó a tres miembros de la familia que posteriormente también murieron. El contexto social es uno de pequeños pueblos bastante cercanos entre sí, y la enfermedad se propagó a los pueblos vecinos. Desde allí se extendió rápidamente a otras áreas de Guinea, y también a los países vecinos, Liberia y Sierra Leona (pero no a otros países vecinos, excepto brevemente a Malí). En los tres países, se extendió no solo a través de pequeños pueblos sino también a través de pueblos y ciudades.\n",
        "\n",
        "Debido a que un solo caso de EVD puede infectar potencialmente a muchos otros en poco tiempo, y debido a que mata a tantos que se enferman, representa una amenaza de salud muy grave en cualquier lugar donde aparezca. Al principio, en Guinea no se reconoció, porque muchas enfermedades tienen síntomas similares y no se conocía en África occidental. Además, Guinea, Liberia y Sierra Leona son países que han sufrido una gran interrupción a través de la guerra civil y, en consecuencia, tienen sistemas de salud débiles y hay mucha desconfianza del gobierno. La respuesta inicial a EVD en estos países no pudo contenerlo, y se generalizó en unos meses. Durante gran parte de 2014, el número de casos nuevos por semana parecía estar aumentando.\n",
        "\n",
        "Si bien en muchos sentidos uno desearía que el mundo respondiera más rápida y plenamente, eventualmente hubo un gran esfuerzo, particularmente por parte de Médicos Sin Fronteras y la Organización Mundial de la Salud. Ellos, junto con las autoridades locales de salud y el gobierno, pudieron eventualmente proporcionar medidas efectivas de tratamiento y prevención. A fines de 2014, el número de casos nuevos por semana no estaba creciendo y, a lo largo de 2015, los casos nuevos por semana se hicieron cada vez menos.\n",
        "\n",
        "En la mayor parte de 2016, no hubo nuevos casos en los tres países más afectados. La emergencia internacional ha terminado. Sin embargo, los sistemas de salud en los tres países permanecen en alerta por posibles brotes. Y, por supuesto, los sobrevivientes aún viven con las graves consecuencias de la epidemia.\n",
        "</p>"
      ],
      "metadata": {
        "nteract": {
          "transient": {
            "deleting": false
          }
        }
      }
    },
    {
      "cell_type": "markdown",
      "source": [
        "<div align=\"center\">\n",
        "  <h2> 3. CAPTURA Y PREPROCESAMIENTO DE LOS DATOS DE ÉBOLA EN ÁFRICA OCCIDENTAL</h2>\n",
        "</div>\n",
        "<p style='text-align: justify;'>"
      ],
      "metadata": {
        "nteract": {
          "transient": {
            "deleting": false
          }
        }
      }
    },
    {
      "cell_type": "code",
      "source": [
        "#Establecemos el uso del manipulador de paquetes\n",
        "import Pkg; \n",
        "Pkg.add(\"Pkg\")"
      ],
      "outputs": [
        {
          "output_type": "stream",
          "name": "stderr",
          "text": [
            "\u001b[32m\u001b[1m   Updating\u001b[22m\u001b[39m registry at `~/.julia/registries/General`\n",
            "\u001b[32m\u001b[1m   Updating\u001b[22m\u001b[39m git-repo `https://github.com/JuliaRegistries/General.git`\n",
            "\u001b[32m\u001b[1m  Resolving\u001b[22m\u001b[39m package versions...\n",
            "\u001b[32m\u001b[1m   Updating\u001b[22m\u001b[39m `~/.julia/environments/v1.4/Project.toml`\n",
            "\u001b[90m [no changes]\u001b[39m\n",
            "\u001b[32m\u001b[1m   Updating\u001b[22m\u001b[39m `~/.julia/environments/v1.4/Manifest.toml`\n",
            "\u001b[90m [no changes]\u001b[39m\n"
          ]
        },
        {
          "output_type": "stream",
          "name": "stdout",
          "text": [
            "\u001b[?25l    \u001b[36m\u001b[1mFetching:\u001b[22m\u001b[39m [>                                        ]  0.0 %\r    \u001b[36m\u001b[1mFetching:\u001b[22m\u001b[39m [========================================>]  100.0 %\r\u001b[2K\u001b[?25h"
          ]
        }
      ],
      "execution_count": 6,
      "metadata": {
        "collapsed": true,
        "jupyter": {
          "source_hidden": false,
          "outputs_hidden": false
        },
        "nteract": {
          "transient": {
            "deleting": false
          }
        },
        "execution": {
          "iopub.status.busy": "2020-07-30T21:12:26.367Z",
          "iopub.execute_input": "2020-07-30T21:12:26.380Z",
          "iopub.status.idle": "2020-07-30T21:12:54.511Z"
        }
      }
    },
    {
      "cell_type": "code",
      "source": [
        "#Importación de paquetes\n",
        "Pkg.add(\"DelimitedFiles\")\n",
        "Pkg.add(\"Dates\")"
      ],
      "outputs": [
        {
          "output_type": "stream",
          "name": "stderr",
          "text": [
            "\u001b[32m\u001b[1m  Resolving\u001b[22m\u001b[39m package versions...\n",
            "\u001b[32m\u001b[1m   Updating\u001b[22m\u001b[39m `~/.julia/environments/v1.4/Project.toml`\n",
            " \u001b[90m [8bb1440f]\u001b[39m\u001b[92m + DelimitedFiles \u001b[39m\n",
            "\u001b[32m\u001b[1m   Updating\u001b[22m\u001b[39m `~/.julia/environments/v1.4/Manifest.toml`\n",
            "\u001b[90m [no changes]\u001b[39m\n",
            "\u001b[32m\u001b[1m  Resolving\u001b[22m\u001b[39m package versions...\n",
            "\u001b[32m\u001b[1m   Updating\u001b[22m\u001b[39m `~/.julia/environments/v1.4/Project.toml`\n",
            " \u001b[90m [ade2ca70]\u001b[39m\u001b[92m + Dates \u001b[39m\n",
            "\u001b[32m\u001b[1m   Updating\u001b[22m\u001b[39m `~/.julia/environments/v1.4/Manifest.toml`\n",
            "\u001b[90m [no changes]\u001b[39m\n"
          ]
        }
      ],
      "execution_count": 8,
      "metadata": {
        "collapsed": true,
        "jupyter": {
          "source_hidden": false,
          "outputs_hidden": false
        },
        "nteract": {
          "transient": {
            "deleting": false
          }
        },
        "execution": {
          "iopub.status.busy": "2020-07-30T21:16:01.651Z",
          "iopub.execute_input": "2020-07-30T21:16:01.660Z",
          "iopub.status.idle": "2020-07-30T21:16:03.568Z"
        }
      }
    },
    {
      "cell_type": "code",
      "source": [
        "#Estableciendo los paquetes a usar\n",
        "using DelimitedFiles\n",
        "using Dates"
      ],
      "outputs": [],
      "execution_count": 9,
      "metadata": {
        "collapsed": true,
        "jupyter": {
          "source_hidden": false,
          "outputs_hidden": false
        },
        "nteract": {
          "transient": {
            "deleting": false
          }
        },
        "execution": {
          "iopub.status.busy": "2020-07-30T21:16:39.698Z",
          "iopub.execute_input": "2020-07-30T21:16:39.706Z",
          "iopub.status.idle": "2020-07-30T21:16:39.718Z"
        }
      }
    },
    {
      "cell_type": "code",
      "source": [
        "#Obteniendo el conjunto de datos\n",
        "dataEVDraw = DelimitedFiles.readdlm(\"evd_africa_data.csv\", ',')"
      ],
      "outputs": [
        {
          "output_type": "execute_result",
          "execution_count": 70,
          "data": {
            "text/plain": "54×9 Array{Any,2}:\n \"25 Nov 2015\"  28637  11314  3804  2536  …  4808     14122     3955\n \"18 Nov 2015\"  28634  11314  3804  2536     4808     14122     3955\n \"11 Nov 2015\"  28635  11314  3805  2536     4808     14122     3955\n \"4 Nov 2015\"   28607  11314  3810  2536     4808     14089     3955\n \"25 Oct 2015\"  28539  11298  3806  2535     4808     14061     3955\n \"18 Oct 2015\"  28476  11298  3803  2535  …  4808     14001     3955\n \"11 Oct 2015\"  28454  11297  3800  2534     4808     13982     3955\n \"27 Sep 2015\"  28388  11296  3805  2533     4808     13911     3955\n \"20 Sep 2015\"  28295  11295  3800  2532     4808     13823     3955\n \"13 Sep 2015\"  28220  11291  3792  2530     4808     13756     3953\n \"6 Sep 2015\"   28147  11291  3792  2530  …  4808     13683     3953\n \"30 Aug 2015\"  28073  11290  3792  2529     4808     13609     3953\n \"16 Aug 2015\"  27952  11284  3786  2524     4808     13494     3952\n ⋮                                        ⋱                     \n \"9 Aug 2014\"    1835   1011   506   373      323       730      315\n \"30 Jul 2014\"   1437    825   472   346      227       574      252\n \"23 Jul 2014\"   1201    672   427   319      129       525      224\n \"14 Jul 2014\"    982    613   411   310  …   106       397      197\n \"2 Jul 2014\"     779    481   412   305       75       252      101\n \"17 Jun 2014\"    528    337   398   264       24        97       49\n \"27 May 2014\"    309    202   281   186       11        16        5\n \"12 May 2014\"    260    182   248   171       11          \"–\"      \"–\"\n \"1 May 2014\"     239    160   226   149  …    11          \"-\"      \"-\"\n \"14 Apr 2014\"    176    110   168   108        2          \"–\"      \"–\"\n \"31 Mar 2014\"    130     82   122    80        2          \"–\"      \"–\"\n \"22 Mar 2014\"     49     29    49    29         \"–\"       \"–\"      \"–\""
          },
          "metadata": {}
        }
      ],
      "execution_count": 70,
      "metadata": {
        "collapsed": true,
        "jupyter": {
          "source_hidden": false,
          "outputs_hidden": false
        },
        "nteract": {
          "transient": {
            "deleting": false
          }
        },
        "execution": {
          "iopub.status.busy": "2020-07-30T21:51:53.739Z",
          "iopub.execute_input": "2020-07-30T21:51:53.756Z",
          "iopub.status.idle": "2020-07-30T21:51:54.221Z"
        }
      }
    },
    {
      "cell_type": "code",
      "source": [
        "convert(DataFrame, dataEVDraw)"
      ],
      "outputs": [
        {
          "output_type": "execute_result",
          "execution_count": 71,
          "data": {
            "text/plain": "54×9 DataFrame. Omitted printing of 1 columns\n│ Row │ x1          │ x2    │ x3    │ x4   │ x5   │ x6    │ x7   │ x8    │\n│     │ \u001b[90mAny\u001b[39m         │ \u001b[90mAny\u001b[39m   │ \u001b[90mAny\u001b[39m   │ \u001b[90mAny\u001b[39m  │ \u001b[90mAny\u001b[39m  │ \u001b[90mAny\u001b[39m   │ \u001b[90mAny\u001b[39m  │ \u001b[90mAny\u001b[39m   │\n├─────┼─────────────┼───────┼───────┼──────┼──────┼───────┼──────┼───────┤\n│ 1   │ 25 Nov 2015 │ 28637 │ 11314 │ 3804 │ 2536 │ 10675 │ 4808 │ 14122 │\n│ 2   │ 18 Nov 2015 │ 28634 │ 11314 │ 3804 │ 2536 │ 10672 │ 4808 │ 14122 │\n│ 3   │ 11 Nov 2015 │ 28635 │ 11314 │ 3805 │ 2536 │ 10672 │ 4808 │ 14122 │\n│ 4   │ 4 Nov 2015  │ 28607 │ 11314 │ 3810 │ 2536 │ 10672 │ 4808 │ 14089 │\n│ 5   │ 25 Oct 2015 │ 28539 │ 11298 │ 3806 │ 2535 │ 10672 │ 4808 │ 14061 │\n│ 6   │ 18 Oct 2015 │ 28476 │ 11298 │ 3803 │ 2535 │ 10672 │ 4808 │ 14001 │\n│ 7   │ 11 Oct 2015 │ 28454 │ 11297 │ 3800 │ 2534 │ 10672 │ 4808 │ 13982 │\n│ 8   │ 27 Sep 2015 │ 28388 │ 11296 │ 3805 │ 2533 │ 10672 │ 4808 │ 13911 │\n│ 9   │ 20 Sep 2015 │ 28295 │ 11295 │ 3800 │ 2532 │ 10672 │ 4808 │ 13823 │\n│ 10  │ 13 Sep 2015 │ 28220 │ 11291 │ 3792 │ 2530 │ 10672 │ 4808 │ 13756 │\n⋮\n│ 44  │ 30 Jul 2014 │ 1437  │ 825   │ 472  │ 346  │ 391   │ 227  │ 574   │\n│ 45  │ 23 Jul 2014 │ 1201  │ 672   │ 427  │ 319  │ 249   │ 129  │ 525   │\n│ 46  │ 14 Jul 2014 │ 982   │ 613   │ 411  │ 310  │ 174   │ 106  │ 397   │\n│ 47  │ 2 Jul 2014  │ 779   │ 481   │ 412  │ 305  │ 115   │ 75   │ 252   │\n│ 48  │ 17 Jun 2014 │ 528   │ 337   │ 398  │ 264  │ 33    │ 24   │ 97    │\n│ 49  │ 27 May 2014 │ 309   │ 202   │ 281  │ 186  │ 12    │ 11   │ 16    │\n│ 50  │ 12 May 2014 │ 260   │ 182   │ 248  │ 171  │ 12    │ 11   │ –     │\n│ 51  │ 1 May 2014  │ 239   │ 160   │ 226  │ 149  │ 13    │ 11   │ -     │\n│ 52  │ 14 Apr 2014 │ 176   │ 110   │ 168  │ 108  │ 8     │ 2    │ –     │\n│ 53  │ 31 Mar 2014 │ 130   │ 82    │ 122  │ 80   │ 8     │ 2    │ –     │\n│ 54  │ 22 Mar 2014 │ 49    │ 29    │ 49   │ 29   │ –     │ –    │ –     │",
            "text/html": "<table class=\"data-frame\"><thead><tr><th></th><th>x1</th><th>x2</th><th>x3</th><th>x4</th><th>x5</th><th>x6</th><th>x7</th><th>x8</th><th>x9</th></tr><tr><th></th><th>Any</th><th>Any</th><th>Any</th><th>Any</th><th>Any</th><th>Any</th><th>Any</th><th>Any</th><th>Any</th></tr></thead><tbody><p>54 rows × 9 columns</p><tr><th>1</th><td>25 Nov 2015</td><td>28637</td><td>11314</td><td>3804</td><td>2536</td><td>10675</td><td>4808</td><td>14122</td><td>3955</td></tr><tr><th>2</th><td>18 Nov 2015</td><td>28634</td><td>11314</td><td>3804</td><td>2536</td><td>10672</td><td>4808</td><td>14122</td><td>3955</td></tr><tr><th>3</th><td>11 Nov 2015</td><td>28635</td><td>11314</td><td>3805</td><td>2536</td><td>10672</td><td>4808</td><td>14122</td><td>3955</td></tr><tr><th>4</th><td>4 Nov 2015</td><td>28607</td><td>11314</td><td>3810</td><td>2536</td><td>10672</td><td>4808</td><td>14089</td><td>3955</td></tr><tr><th>5</th><td>25 Oct 2015</td><td>28539</td><td>11298</td><td>3806</td><td>2535</td><td>10672</td><td>4808</td><td>14061</td><td>3955</td></tr><tr><th>6</th><td>18 Oct 2015</td><td>28476</td><td>11298</td><td>3803</td><td>2535</td><td>10672</td><td>4808</td><td>14001</td><td>3955</td></tr><tr><th>7</th><td>11 Oct 2015</td><td>28454</td><td>11297</td><td>3800</td><td>2534</td><td>10672</td><td>4808</td><td>13982</td><td>3955</td></tr><tr><th>8</th><td>27 Sep 2015</td><td>28388</td><td>11296</td><td>3805</td><td>2533</td><td>10672</td><td>4808</td><td>13911</td><td>3955</td></tr><tr><th>9</th><td>20 Sep 2015</td><td>28295</td><td>11295</td><td>3800</td><td>2532</td><td>10672</td><td>4808</td><td>13823</td><td>3955</td></tr><tr><th>10</th><td>13 Sep 2015</td><td>28220</td><td>11291</td><td>3792</td><td>2530</td><td>10672</td><td>4808</td><td>13756</td><td>3953</td></tr><tr><th>11</th><td>6 Sep 2015</td><td>28147</td><td>11291</td><td>3792</td><td>2530</td><td>10672</td><td>4808</td><td>13683</td><td>3953</td></tr><tr><th>12</th><td>30 Aug 2015</td><td>28073</td><td>11290</td><td>3792</td><td>2529</td><td>10672</td><td>4808</td><td>13609</td><td>3953</td></tr><tr><th>13</th><td>16 Aug 2015</td><td>27952</td><td>11284</td><td>3786</td><td>2524</td><td>10672</td><td>4808</td><td>13494</td><td>3952</td></tr><tr><th>14</th><td>9 Aug 2015</td><td>27929</td><td>11283</td><td>3787</td><td>2524</td><td>10672</td><td>4808</td><td>13470</td><td>3951</td></tr><tr><th>15</th><td>26 Jul 2015</td><td>27748</td><td>11279</td><td>3786</td><td>2520</td><td>10672</td><td>4808</td><td>13290</td><td>3951</td></tr><tr><th>16</th><td>12 Jul 2015</td><td>27642</td><td>11261</td><td>3760</td><td>2506</td><td>10673</td><td>4808</td><td>13209</td><td>3947</td></tr><tr><th>17</th><td>5 Jul 2015</td><td>27573</td><td>11246</td><td>3748</td><td>2499</td><td>10670</td><td>4807</td><td>13155</td><td>3940</td></tr><tr><th>18</th><td>28 Jun 2015</td><td>27514</td><td>11220</td><td>3729</td><td>2482</td><td>10666</td><td>4806</td><td>13119</td><td>3932</td></tr><tr><th>19</th><td>21 Jun 2015</td><td>27443</td><td>11207</td><td>3718</td><td>2473</td><td>10666</td><td>4806</td><td>13059</td><td>3924</td></tr><tr><th>20</th><td>14 Jun 2015</td><td>27305</td><td>11169</td><td>3674</td><td>2444</td><td>10666</td><td>4806</td><td>12965</td><td>3919</td></tr><tr><th>21</th><td>31 May 2015</td><td>27110</td><td>11132</td><td>3652</td><td>2429</td><td>10666</td><td>4806</td><td>12827</td><td>3912</td></tr><tr><th>22</th><td>17 May 2015</td><td>26898</td><td>11105</td><td>3635</td><td>2407</td><td>10666</td><td>4806</td><td>12632</td><td>3907</td></tr><tr><th>23</th><td>3 May 2015</td><td>26558</td><td>10990</td><td>3589</td><td>2386</td><td>10564</td><td>4716</td><td>12440</td><td>3903</td></tr><tr><th>24</th><td>19 Apr 2015</td><td>26009</td><td>10793</td><td>3565</td><td>2358</td><td>10212</td><td>4573</td><td>12267</td><td>3877</td></tr><tr><th>25</th><td>5 Apr 2015</td><td>25480</td><td>10557</td><td>3515</td><td>2333</td><td>9862</td><td>4408</td><td>12138</td><td>3831</td></tr><tr><th>26</th><td>22 Mar 2015</td><td>24837</td><td>10296</td><td>3429</td><td>2263</td><td>9602</td><td>4301</td><td>11841</td><td>3747</td></tr><tr><th>27</th><td>8 Mar 2015</td><td>24282</td><td>9976</td><td>3285</td><td>2170</td><td>9343</td><td>4162</td><td>11619</td><td>3629</td></tr><tr><th>28</th><td>22 Feb 2015</td><td>23659</td><td>9574</td><td>3155</td><td>2091</td><td>9238</td><td>4037</td><td>11301</td><td>3461</td></tr><tr><th>29</th><td>8 Feb 2015</td><td>22824</td><td>9147</td><td>3044</td><td>1995</td><td>8881</td><td>3826</td><td>10934</td><td>3341</td></tr><tr><th>30</th><td>25 Jan 2015</td><td>22022</td><td>8780</td><td>2917</td><td>1910</td><td>8622</td><td>3686</td><td>10518</td><td>3199</td></tr><tr><th>&vellip;</th><td>&vellip;</td><td>&vellip;</td><td>&vellip;</td><td>&vellip;</td><td>&vellip;</td><td>&vellip;</td><td>&vellip;</td><td>&vellip;</td><td>&vellip;</td></tr></tbody></table>",
            "text/latex": "\\begin{tabular}{r|ccccccccc}\n\t& x1 & x2 & x3 & x4 & x5 & x6 & x7 & x8 & x9\\\\\n\t\\hline\n\t& Any & Any & Any & Any & Any & Any & Any & Any & Any\\\\\n\t\\hline\n\t1 & 25 Nov 2015 & 28637 & 11314 & 3804 & 2536 & 10675 & 4808 & 14122 & 3955 \\\\\n\t2 & 18 Nov 2015 & 28634 & 11314 & 3804 & 2536 & 10672 & 4808 & 14122 & 3955 \\\\\n\t3 & 11 Nov 2015 & 28635 & 11314 & 3805 & 2536 & 10672 & 4808 & 14122 & 3955 \\\\\n\t4 & 4 Nov 2015 & 28607 & 11314 & 3810 & 2536 & 10672 & 4808 & 14089 & 3955 \\\\\n\t5 & 25 Oct 2015 & 28539 & 11298 & 3806 & 2535 & 10672 & 4808 & 14061 & 3955 \\\\\n\t6 & 18 Oct 2015 & 28476 & 11298 & 3803 & 2535 & 10672 & 4808 & 14001 & 3955 \\\\\n\t7 & 11 Oct 2015 & 28454 & 11297 & 3800 & 2534 & 10672 & 4808 & 13982 & 3955 \\\\\n\t8 & 27 Sep 2015 & 28388 & 11296 & 3805 & 2533 & 10672 & 4808 & 13911 & 3955 \\\\\n\t9 & 20 Sep 2015 & 28295 & 11295 & 3800 & 2532 & 10672 & 4808 & 13823 & 3955 \\\\\n\t10 & 13 Sep 2015 & 28220 & 11291 & 3792 & 2530 & 10672 & 4808 & 13756 & 3953 \\\\\n\t11 & 6 Sep 2015 & 28147 & 11291 & 3792 & 2530 & 10672 & 4808 & 13683 & 3953 \\\\\n\t12 & 30 Aug 2015 & 28073 & 11290 & 3792 & 2529 & 10672 & 4808 & 13609 & 3953 \\\\\n\t13 & 16 Aug 2015 & 27952 & 11284 & 3786 & 2524 & 10672 & 4808 & 13494 & 3952 \\\\\n\t14 & 9 Aug 2015 & 27929 & 11283 & 3787 & 2524 & 10672 & 4808 & 13470 & 3951 \\\\\n\t15 & 26 Jul 2015 & 27748 & 11279 & 3786 & 2520 & 10672 & 4808 & 13290 & 3951 \\\\\n\t16 & 12 Jul 2015 & 27642 & 11261 & 3760 & 2506 & 10673 & 4808 & 13209 & 3947 \\\\\n\t17 & 5 Jul 2015 & 27573 & 11246 & 3748 & 2499 & 10670 & 4807 & 13155 & 3940 \\\\\n\t18 & 28 Jun 2015 & 27514 & 11220 & 3729 & 2482 & 10666 & 4806 & 13119 & 3932 \\\\\n\t19 & 21 Jun 2015 & 27443 & 11207 & 3718 & 2473 & 10666 & 4806 & 13059 & 3924 \\\\\n\t20 & 14 Jun 2015 & 27305 & 11169 & 3674 & 2444 & 10666 & 4806 & 12965 & 3919 \\\\\n\t21 & 31 May 2015 & 27110 & 11132 & 3652 & 2429 & 10666 & 4806 & 12827 & 3912 \\\\\n\t22 & 17 May 2015 & 26898 & 11105 & 3635 & 2407 & 10666 & 4806 & 12632 & 3907 \\\\\n\t23 & 3 May 2015 & 26558 & 10990 & 3589 & 2386 & 10564 & 4716 & 12440 & 3903 \\\\\n\t24 & 19 Apr 2015 & 26009 & 10793 & 3565 & 2358 & 10212 & 4573 & 12267 & 3877 \\\\\n\t25 & 5 Apr 2015 & 25480 & 10557 & 3515 & 2333 & 9862 & 4408 & 12138 & 3831 \\\\\n\t26 & 22 Mar 2015 & 24837 & 10296 & 3429 & 2263 & 9602 & 4301 & 11841 & 3747 \\\\\n\t27 & 8 Mar 2015 & 24282 & 9976 & 3285 & 2170 & 9343 & 4162 & 11619 & 3629 \\\\\n\t28 & 22 Feb 2015 & 23659 & 9574 & 3155 & 2091 & 9238 & 4037 & 11301 & 3461 \\\\\n\t29 & 8 Feb 2015 & 22824 & 9147 & 3044 & 1995 & 8881 & 3826 & 10934 & 3341 \\\\\n\t30 & 25 Jan 2015 & 22022 & 8780 & 2917 & 1910 & 8622 & 3686 & 10518 & 3199 \\\\\n\t$\\dots$ & $\\dots$ & $\\dots$ & $\\dots$ & $\\dots$ & $\\dots$ & $\\dots$ & $\\dots$ & $\\dots$ & $\\dots$ \\\\\n\\end{tabular}\n"
          },
          "metadata": {}
        }
      ],
      "execution_count": 71,
      "metadata": {
        "collapsed": true,
        "jupyter": {
          "source_hidden": false,
          "outputs_hidden": false
        },
        "nteract": {
          "transient": {
            "deleting": false
          }
        },
        "execution": {
          "iopub.status.busy": "2020-07-30T21:51:58.422Z",
          "iopub.execute_input": "2020-07-30T21:51:58.439Z",
          "iopub.status.idle": "2020-07-30T21:51:58.542Z"
        }
      }
    },
    {
      "cell_type": "code",
      "source": [
        "# Convirtiendo un Date String a DataTime format\n",
        "println(DateTime(dataEVDraw[1,1], \"d u y\"))"
      ],
      "outputs": [
        {
          "output_type": "stream",
          "name": "stdout",
          "text": [
            "2015-11-25T00:00:00\n"
          ]
        }
      ],
      "execution_count": 72,
      "metadata": {
        "collapsed": true,
        "jupyter": {
          "source_hidden": false,
          "outputs_hidden": false
        },
        "nteract": {
          "transient": {
            "deleting": false
          }
        },
        "execution": {
          "iopub.status.busy": "2020-07-30T21:52:09.711Z",
          "iopub.execute_input": "2020-07-30T21:52:09.726Z",
          "iopub.status.idle": "2020-07-30T21:52:09.831Z"
        }
      }
    },
    {
      "cell_type": "code",
      "source": [
        "# Convirtiendo toda la columna 1 en un DataType\n",
        "# Capturando todos los datos de la columna 1\n",
        "col1 = dataEVDraw[:, 1]"
      ],
      "outputs": [
        {
          "output_type": "execute_result",
          "execution_count": 73,
          "data": {
            "text/plain": "54-element Array{Any,1}:\n \"25 Nov 2015\"\n \"18 Nov 2015\"\n \"11 Nov 2015\"\n \"4 Nov 2015\"\n \"25 Oct 2015\"\n \"18 Oct 2015\"\n \"11 Oct 2015\"\n \"27 Sep 2015\"\n \"20 Sep 2015\"\n \"13 Sep 2015\"\n \"6 Sep 2015\"\n \"30 Aug 2015\"\n \"16 Aug 2015\"\n ⋮\n \"9 Aug 2014\"\n \"30 Jul 2014\"\n \"23 Jul 2014\"\n \"14 Jul 2014\"\n \"2 Jul 2014\"\n \"17 Jun 2014\"\n \"27 May 2014\"\n \"12 May 2014\"\n \"1 May 2014\"\n \"14 Apr 2014\"\n \"31 Mar 2014\"\n \"22 Mar 2014\""
          },
          "metadata": {}
        }
      ],
      "execution_count": 73,
      "metadata": {
        "collapsed": true,
        "jupyter": {
          "source_hidden": false,
          "outputs_hidden": false
        },
        "nteract": {
          "transient": {
            "deleting": false
          }
        },
        "execution": {
          "iopub.status.busy": "2020-07-30T21:52:11.828Z",
          "iopub.execute_input": "2020-07-30T21:52:11.845Z",
          "iopub.status.idle": "2020-07-30T21:52:11.880Z"
        }
      }
    },
    {
      "cell_type": "code",
      "source": [
        "# Ejecutamos un ciclo for que permita crear para cada dato\n",
        "# de la columna 1 en un DataType\n",
        "for i = 1:54\n",
        "    col1[i] = DateTime(col1[i], \"d u y\")\n",
        "end\n",
        "println(col1)"
      ],
      "outputs": [
        {
          "output_type": "stream",
          "name": "stdout",
          "text": [
            "Any[2015-11-25T00:00:00, 2015-11-18T00:00:00, 2015-11-11T00:00:00, 2015-11-04T00:00:00, 2015-10-25T00:00:00, 2015-10-18T00:00:00, 2015-10-11T00:00:00, 2015-09-27T00:00:00, 2015-09-20T00:00:00, 2015-09-13T00:00:00, 2015-09-06T00:00:00, 2015-08-30T00:00:00, 2015-08-16T00:00:00, 2015-08-09T00:00:00, 2015-07-26T00:00:00, 2015-07-12T00:00:00, 2015-07-05T00:00:00, 2015-06-28T00:00:00, 2015-06-21T00:00:00, 2015-06-14T00:00:00, 2015-05-31T00:00:00, 2015-05-17T00:00:00, 2015-05-03T00:00:00, 2015-04-19T00:00:00, 2015-04-05T00:00:00, 2015-03-22T00:00:00, 2015-03-08T00:00:00, 2015-02-22T00:00:00, 2015-02-08T00:00:00, 2015-01-25T00:00:00, 2015-01-11T00:00:00, 2014-12-28T00:00:00, 2014-12-14T00:00:00, 2014-11-30T00:00:00, 2014-11-18T00:00:00, 2014-11-02T00:00:00, 2014-10-19T00:00:00, 2014-10-12T00:00:00, 2014-09-28T00:00:00, 2014-09-14T00:00:00, 2014-08-31T00:00:00, 2014-08-16T00:00:00, 2014-08-09T00:00:00, 2014-07-30T00:00:00, 2014-07-23T00:00:00, 2014-07-14T00:00:00, 2014-07-02T00:00:00, 2014-06-17T00:00:00, 2014-05-27T00:00:00, 2014-05-12T00:00:00, 2014-05-01T00:00:00, 2014-04-14T00:00:00, 2014-03-31T00:00:00, 2014-03-22T00:00:00]\n"
          ]
        }
      ],
      "execution_count": 74,
      "metadata": {
        "collapsed": true,
        "jupyter": {
          "source_hidden": false,
          "outputs_hidden": false
        },
        "nteract": {
          "transient": {
            "deleting": false
          }
        },
        "execution": {
          "iopub.status.busy": "2020-07-30T21:52:16.005Z",
          "iopub.execute_input": "2020-07-30T21:52:16.027Z",
          "iopub.status.idle": "2020-07-30T21:52:16.294Z"
        }
      }
    },
    {
      "cell_type": "code",
      "source": [
        "# Creando data que obtenga el tiempo en días \n",
        "# desde el 22 de Marzo del 2014\n",
        "println(Dates.datetime2rata(col1[1]))"
      ],
      "outputs": [
        {
          "output_type": "stream",
          "name": "stdout",
          "text": [
            "735927\n"
          ]
        }
      ],
      "execution_count": 75,
      "metadata": {
        "collapsed": true,
        "jupyter": {
          "source_hidden": false,
          "outputs_hidden": false
        },
        "nteract": {
          "transient": {
            "deleting": false
          }
        },
        "execution": {
          "iopub.status.busy": "2020-07-30T21:52:18.349Z",
          "iopub.execute_input": "2020-07-30T21:52:18.366Z",
          "iopub.status.idle": "2020-07-30T21:52:18.398Z"
        }
      }
    },
    {
      "cell_type": "code",
      "source": [
        "# Función para obtener los días de epidemia desde el 22 de Marzo\n",
        "dayssincemar22(x)=Dates.datetime2rata(x)-Dates.datetime2rata(col1[54])\n",
        "epidays = Array{Int64}(undef, 54)\n",
        "for i = 1:54\n",
        "    epidays[i] = dayssincemar22(col1[i])\n",
        "end"
      ],
      "outputs": [],
      "execution_count": 76,
      "metadata": {
        "collapsed": true,
        "jupyter": {
          "source_hidden": false,
          "outputs_hidden": false
        },
        "nteract": {
          "transient": {
            "deleting": false
          }
        },
        "execution": {
          "iopub.status.busy": "2020-07-30T21:52:22.272Z",
          "iopub.execute_input": "2020-07-30T21:52:22.287Z",
          "iopub.status.idle": "2020-07-30T21:52:22.332Z"
        }
      }
    },
    {
      "cell_type": "code",
      "source": [
        "# Exportando los datos convertidos\n",
        "dataEVDraw[:,1] = epidays\n",
        "print(epidays)\n",
        "DelimitedFiles.writedlm(\"EbolaDateConverted.csv\",dataEVDraw,',')"
      ],
      "outputs": [
        {
          "output_type": "stream",
          "name": "stdout",
          "text": [
            "[613, 606, 599, 592, 582, 575, 568, 554, 547, 540, 533, 526, 512, 505, 491, 477, 470, 463, 456, 449, 435, 421, 407, 393, 379, 365, 351, 337, 323, 309, 295, 281, 267, 253, 241, 225, 211, 204, 190, 176, 162, 147, 140, 130, 123, 114, 102, 87, 66, 51, 40, 23, 9, 0]"
          ]
        }
      ],
      "execution_count": 77,
      "metadata": {
        "collapsed": true,
        "jupyter": {
          "source_hidden": false,
          "outputs_hidden": false
        },
        "nteract": {
          "transient": {
            "deleting": false
          }
        },
        "execution": {
          "iopub.status.busy": "2020-07-30T21:52:24.501Z",
          "iopub.execute_input": "2020-07-30T21:52:24.515Z",
          "iopub.status.idle": "2020-07-30T21:52:24.653Z"
        }
      }
    },
    {
      "cell_type": "markdown",
      "source": [
        "<div align=\"center\">\n",
        "  <h2> 4. ANÁLISIS GRÁFICO DEL CONJUNTO DE DATOS</h2>\n",
        "</div>\n",
        "<p style='text-align: justify;'>"
      ],
      "metadata": {
        "nteract": {
          "transient": {
            "deleting": false
          }
        }
      }
    },
    {
      "cell_type": "code",
      "source": [
        "# Cargando los datos procesados\n",
        "EVDdata= DelimitedFiles.readdlm(\"EbolaDateConverted.csv\",',')\n",
        "# Creamos un arreglo con los días de epidemia\n",
        "epidays = EVDdata[:,1]\n",
        "# Obtenemos un arreglo con todos los casos\n",
        "allcases = EVDdata[:,2]"
      ],
      "outputs": [
        {
          "output_type": "execute_result",
          "execution_count": 78,
          "data": {
            "text/plain": "54-element Array{Any,1}:\n 28637\n 28634\n 28635\n 28607\n 28539\n 28476\n 28454\n 28388\n 28295\n 28220\n 28147\n 28073\n 27952\n     ⋮\n  1835\n  1437\n  1201\n   982\n   779\n   528\n   309\n   260\n   239\n   176\n   130\n    49"
          },
          "metadata": {}
        }
      ],
      "execution_count": 78,
      "metadata": {
        "collapsed": true,
        "jupyter": {
          "source_hidden": false,
          "outputs_hidden": false
        },
        "nteract": {
          "transient": {
            "deleting": false
          }
        },
        "execution": {
          "iopub.status.busy": "2020-07-30T21:52:26.959Z",
          "iopub.execute_input": "2020-07-30T21:52:26.978Z",
          "iopub.status.idle": "2020-07-30T21:52:27.015Z"
        }
      }
    },
    {
      "cell_type": "code",
      "source": [
        "typeof(EVDdata)"
      ],
      "outputs": [
        {
          "output_type": "execute_result",
          "execution_count": 79,
          "data": {
            "text/plain": "Array{Any,2}"
          },
          "metadata": {}
        }
      ],
      "execution_count": 79,
      "metadata": {
        "collapsed": true,
        "jupyter": {
          "source_hidden": false,
          "outputs_hidden": false
        },
        "nteract": {
          "transient": {
            "deleting": false
          }
        },
        "execution": {
          "iopub.status.busy": "2020-07-30T21:52:30.676Z",
          "iopub.execute_input": "2020-07-30T21:52:30.690Z",
          "iopub.status.idle": "2020-07-30T21:52:30.722Z"
        }
      }
    },
    {
      "cell_type": "code",
      "source": [
        "EVDdata"
      ],
      "outputs": [
        {
          "output_type": "execute_result",
          "execution_count": 81,
          "data": {
            "text/plain": "54×9 Array{Any,2}:\n 613  28637  11314  3804  2536  10675     4808     14122     3955\n 606  28634  11314  3804  2536  10672     4808     14122     3955\n 599  28635  11314  3805  2536  10672     4808     14122     3955\n 592  28607  11314  3810  2536  10672     4808     14089     3955\n 582  28539  11298  3806  2535  10672     4808     14061     3955\n 575  28476  11298  3803  2535  10672     4808     14001     3955\n 568  28454  11297  3800  2534  10672     4808     13982     3955\n 554  28388  11296  3805  2533  10672     4808     13911     3955\n 547  28295  11295  3800  2532  10672     4808     13823     3955\n 540  28220  11291  3792  2530  10672     4808     13756     3953\n 533  28147  11291  3792  2530  10672     4808     13683     3953\n 526  28073  11290  3792  2529  10672     4808     13609     3953\n 512  27952  11284  3786  2524  10672     4808     13494     3952\n   ⋮                                ⋮                        \n 140   1835   1011   506   373    599      323       730      315\n 130   1437    825   472   346    391      227       574      252\n 123   1201    672   427   319    249      129       525      224\n 114    982    613   411   310    174      106       397      197\n 102    779    481   412   305    115       75       252      101\n  87    528    337   398   264     33       24        97       49\n  66    309    202   281   186     12       11        16        5\n  51    260    182   248   171     12       11          \"–\"      \"–\"\n  40    239    160   226   149     13       11          \"-\"      \"-\"\n  23    176    110   168   108      8        2          \"–\"      \"–\"\n   9    130     82   122    80      8        2          \"–\"      \"–\"\n   0     49     29    49    29       \"–\"      \"–\"       \"–\"      \"–\""
          },
          "metadata": {}
        }
      ],
      "execution_count": 81,
      "metadata": {
        "collapsed": true,
        "jupyter": {
          "source_hidden": false,
          "outputs_hidden": false
        },
        "nteract": {
          "transient": {
            "deleting": false
          }
        },
        "execution": {
          "iopub.status.busy": "2020-07-30T21:52:49.690Z",
          "iopub.execute_input": "2020-07-30T21:52:49.706Z",
          "iopub.status.idle": "2020-07-30T21:52:49.742Z"
        }
      }
    },
    {
      "cell_type": "code",
      "source": [
        "#Importando el paquete Plots\n",
        "Pkg.add(\"Plots\")\n",
        "using Plots\n",
        "gr()"
      ],
      "outputs": [
        {
          "output_type": "stream",
          "name": "stderr",
          "text": [
            "\u001b[32m\u001b[1m  Resolving\u001b[22m\u001b[39m package versions...\n",
            "\u001b[32m\u001b[1m   Updating\u001b[22m\u001b[39m `~/.julia/environments/v1.4/Project.toml`\n",
            "\u001b[90m [no changes]\u001b[39m\n",
            "\u001b[32m\u001b[1m   Updating\u001b[22m\u001b[39m `~/.julia/environments/v1.4/Manifest.toml`\n",
            "\u001b[90m [no changes]\u001b[39m\n"
          ]
        }
      ],
      "execution_count": 23,
      "metadata": {
        "collapsed": true,
        "jupyter": {
          "source_hidden": false,
          "outputs_hidden": false
        },
        "nteract": {
          "transient": {
            "deleting": false
          }
        },
        "execution": {
          "iopub.status.busy": "2020-07-30T21:27:38.098Z",
          "iopub.execute_input": "2020-07-30T21:27:38.110Z",
          "iopub.status.idle": "2020-07-30T21:27:39.541Z"
        }
      }
    },
    {
      "cell_type": "code",
      "source": [
        "using Plots\n",
        "gr()"
      ],
      "outputs": [
        {
          "output_type": "execute_result",
          "execution_count": 25,
          "data": {
            "text/plain": "Plots.GRBackend()"
          },
          "metadata": {}
        }
      ],
      "execution_count": 25,
      "metadata": {
        "collapsed": true,
        "jupyter": {
          "source_hidden": false,
          "outputs_hidden": false
        },
        "nteract": {
          "transient": {
            "deleting": false
          }
        },
        "execution": {
          "iopub.status.busy": "2020-07-30T21:28:02.161Z",
          "iopub.execute_input": "2020-07-30T21:28:04.502Z",
          "iopub.status.idle": "2020-07-30T21:28:05.565Z"
        }
      }
    },
    {
      "cell_type": "code",
      "source": [
        "#Graficando los casos totales\n",
        "plot(epidays, allcases,# here are the data to be plotted, below are the attributes\n",
        "    title   = \"Casos Totales de la Epidemia de Ébola en Africa Occidental\",\n",
        "    xlabel  = \"Días desde el 22 de Marzo del 2014\",\n",
        "    ylabel  = \"Total de casos\",\n",
        "    marker  = (:diamond, 8, \"green\"),\n",
        "    line    = (:scatter, \"green\"),   \n",
        "    legend  = false,\n",
        "    grid    = false,\n",
        "    size=(800,300)\n",
        ")"
      ],
      "outputs": [
        {
          "output_type": "execute_result",
          "execution_count": 239,
          "data": {
            "image/svg+xml": "<?xml version=\"1.0\" encoding=\"utf-8\"?>\n<svg xmlns=\"http://www.w3.org/2000/svg\" xmlns:xlink=\"http://www.w3.org/1999/xlink\" width=\"800\" height=\"300\" viewBox=\"0 0 3200 1200\">\n<defs>\n  <clipPath id=\"clip8600\">\n    <rect x=\"0\" y=\"0\" width=\"3200\" height=\"1200\"/>\n  </clipPath>\n</defs>\n<path clip-path=\"url(#clip8600)\" d=\"\nM0 1200 L3200 1200 L3200 0 L0 0  Z\n  \" fill=\"#ffffff\" fill-rule=\"evenodd\" fill-opacity=\"1\"/>\n<defs>\n  <clipPath id=\"clip8601\">\n    <rect x=\"640\" y=\"0\" width=\"2241\" height=\"1200\"/>\n  </clipPath>\n</defs>\n<path clip-path=\"url(#clip8600)\" d=\"\nM337.634 1064.46 L3152.76 1064.46 L3152.76 96.0013 L337.634 96.0013  Z\n  \" fill=\"#ffffff\" fill-rule=\"evenodd\" fill-opacity=\"1\"/>\n<defs>\n  <clipPath id=\"clip8602\">\n    <rect x=\"337\" y=\"96\" width=\"2816\" height=\"969\"/>\n  </clipPath>\n</defs>\n<polyline clip-path=\"url(#clip8600)\" style=\"stroke:#000000; stroke-width:4; stroke-opacity:1; fill:none\" points=\"\n  337.634,1064.46 3152.76,1064.46 \n  \"/>\n<polyline clip-path=\"url(#clip8600)\" style=\"stroke:#000000; stroke-width:4; stroke-opacity:1; fill:none\" points=\"\n  337.634,1064.46 337.634,96.0013 \n  \"/>\n<polyline clip-path=\"url(#clip8600)\" style=\"stroke:#000000; stroke-width:4; stroke-opacity:1; fill:none\" points=\"\n  417.307,1064.46 417.307,1052.84 \n  \"/>\n<polyline clip-path=\"url(#clip8600)\" style=\"stroke:#000000; stroke-width:4; stroke-opacity:1; fill:none\" points=\"\n  850.55,1064.46 850.55,1052.84 \n  \"/>\n<polyline clip-path=\"url(#clip8600)\" style=\"stroke:#000000; stroke-width:4; stroke-opacity:1; fill:none\" points=\"\n  1283.79,1064.46 1283.79,1052.84 \n  \"/>\n<polyline clip-path=\"url(#clip8600)\" style=\"stroke:#000000; stroke-width:4; stroke-opacity:1; fill:none\" points=\"\n  1717.03,1064.46 1717.03,1052.84 \n  \"/>\n<polyline clip-path=\"url(#clip8600)\" style=\"stroke:#000000; stroke-width:4; stroke-opacity:1; fill:none\" points=\"\n  2150.28,1064.46 2150.28,1052.84 \n  \"/>\n<polyline clip-path=\"url(#clip8600)\" style=\"stroke:#000000; stroke-width:4; stroke-opacity:1; fill:none\" points=\"\n  2583.52,1064.46 2583.52,1052.84 \n  \"/>\n<polyline clip-path=\"url(#clip8600)\" style=\"stroke:#000000; stroke-width:4; stroke-opacity:1; fill:none\" points=\"\n  3016.76,1064.46 3016.76,1052.84 \n  \"/>\n<polyline clip-path=\"url(#clip8600)\" style=\"stroke:#000000; stroke-width:4; stroke-opacity:1; fill:none\" points=\"\n  337.634,1038.62 371.416,1038.62 \n  \"/>\n<polyline clip-path=\"url(#clip8600)\" style=\"stroke:#000000; stroke-width:4; stroke-opacity:1; fill:none\" points=\"\n  337.634,878.824 371.416,878.824 \n  \"/>\n<polyline clip-path=\"url(#clip8600)\" style=\"stroke:#000000; stroke-width:4; stroke-opacity:1; fill:none\" points=\"\n  337.634,719.029 371.416,719.029 \n  \"/>\n<polyline clip-path=\"url(#clip8600)\" style=\"stroke:#000000; stroke-width:4; stroke-opacity:1; fill:none\" points=\"\n  337.634,559.234 371.416,559.234 \n  \"/>\n<polyline clip-path=\"url(#clip8600)\" style=\"stroke:#000000; stroke-width:4; stroke-opacity:1; fill:none\" points=\"\n  337.634,399.44 371.416,399.44 \n  \"/>\n<polyline clip-path=\"url(#clip8600)\" style=\"stroke:#000000; stroke-width:4; stroke-opacity:1; fill:none\" points=\"\n  337.634,239.645 371.416,239.645 \n  \"/>\n<g clip-path=\"url(#clip8600)\">\n<text style=\"fill:#000000; fill-opacity:1; font-family:Arial,Helvetica Neue,Helvetica,sans-serif; font-size:48px; text-anchor:middle;\" transform=\"rotate(0, 417.307, 1122.46)\" x=\"417.307\" y=\"1122.46\">0</text>\n</g>\n<g clip-path=\"url(#clip8600)\">\n<text style=\"fill:#000000; fill-opacity:1; font-family:Arial,Helvetica Neue,Helvetica,sans-serif; font-size:48px; text-anchor:middle;\" transform=\"rotate(0, 850.55, 1122.46)\" x=\"850.55\" y=\"1122.46\">100</text>\n</g>\n<g clip-path=\"url(#clip8600)\">\n<text style=\"fill:#000000; fill-opacity:1; font-family:Arial,Helvetica Neue,Helvetica,sans-serif; font-size:48px; text-anchor:middle;\" transform=\"rotate(0, 1283.79, 1122.46)\" x=\"1283.79\" y=\"1122.46\">200</text>\n</g>\n<g clip-path=\"url(#clip8600)\">\n<text style=\"fill:#000000; fill-opacity:1; font-family:Arial,Helvetica Neue,Helvetica,sans-serif; font-size:48px; text-anchor:middle;\" transform=\"rotate(0, 1717.03, 1122.46)\" x=\"1717.03\" y=\"1122.46\">300</text>\n</g>\n<g clip-path=\"url(#clip8600)\">\n<text style=\"fill:#000000; fill-opacity:1; font-family:Arial,Helvetica Neue,Helvetica,sans-serif; font-size:48px; text-anchor:middle;\" transform=\"rotate(0, 2150.28, 1122.46)\" x=\"2150.28\" y=\"1122.46\">400</text>\n</g>\n<g clip-path=\"url(#clip8600)\">\n<text style=\"fill:#000000; fill-opacity:1; font-family:Arial,Helvetica Neue,Helvetica,sans-serif; font-size:48px; text-anchor:middle;\" transform=\"rotate(0, 2583.52, 1122.46)\" x=\"2583.52\" y=\"1122.46\">500</text>\n</g>\n<g clip-path=\"url(#clip8600)\">\n<text style=\"fill:#000000; fill-opacity:1; font-family:Arial,Helvetica Neue,Helvetica,sans-serif; font-size:48px; text-anchor:middle;\" transform=\"rotate(0, 3016.76, 1122.46)\" x=\"3016.76\" y=\"1122.46\">600</text>\n</g>\n<g clip-path=\"url(#clip8600)\">\n<text style=\"fill:#000000; fill-opacity:1; font-family:Arial,Helvetica Neue,Helvetica,sans-serif; font-size:48px; text-anchor:end;\" transform=\"rotate(0, 305.634, 1056.12)\" x=\"305.634\" y=\"1056.12\">0</text>\n</g>\n<g clip-path=\"url(#clip8600)\">\n<text style=\"fill:#000000; fill-opacity:1; font-family:Arial,Helvetica Neue,Helvetica,sans-serif; font-size:48px; text-anchor:start;\" transform=\"rotate(0, 135.349, 902.551)\" x=\"135.349\" y=\"902.551\">5.0×10</text>\n</g>\n<g clip-path=\"url(#clip8600)\">\n<text style=\"fill:#000000; fill-opacity:1; font-family:Arial,Helvetica Neue,Helvetica,sans-serif; font-size:38px; text-anchor:start;\" transform=\"rotate(0, 283.89, 875.141)\" x=\"283.89\" y=\"875.141\">3</text>\n</g>\n<g clip-path=\"url(#clip8600)\">\n<text style=\"fill:#000000; fill-opacity:1; font-family:Arial,Helvetica Neue,Helvetica,sans-serif; font-size:48px; text-anchor:start;\" transform=\"rotate(0, 135.349, 742.757)\" x=\"135.349\" y=\"742.757\">1.0×10</text>\n</g>\n<g clip-path=\"url(#clip8600)\">\n<text style=\"fill:#000000; fill-opacity:1; font-family:Arial,Helvetica Neue,Helvetica,sans-serif; font-size:38px; text-anchor:start;\" transform=\"rotate(0, 283.89, 715.346)\" x=\"283.89\" y=\"715.346\">4</text>\n</g>\n<g clip-path=\"url(#clip8600)\">\n<text style=\"fill:#000000; fill-opacity:1; font-family:Arial,Helvetica Neue,Helvetica,sans-serif; font-size:48px; text-anchor:start;\" transform=\"rotate(0, 135.349, 582.962)\" x=\"135.349\" y=\"582.962\">1.5×10</text>\n</g>\n<g clip-path=\"url(#clip8600)\">\n<text style=\"fill:#000000; fill-opacity:1; font-family:Arial,Helvetica Neue,Helvetica,sans-serif; font-size:38px; text-anchor:start;\" transform=\"rotate(0, 283.89, 555.552)\" x=\"283.89\" y=\"555.552\">4</text>\n</g>\n<g clip-path=\"url(#clip8600)\">\n<text style=\"fill:#000000; fill-opacity:1; font-family:Arial,Helvetica Neue,Helvetica,sans-serif; font-size:48px; text-anchor:start;\" transform=\"rotate(0, 135.349, 423.167)\" x=\"135.349\" y=\"423.167\">2.0×10</text>\n</g>\n<g clip-path=\"url(#clip8600)\">\n<text style=\"fill:#000000; fill-opacity:1; font-family:Arial,Helvetica Neue,Helvetica,sans-serif; font-size:38px; text-anchor:start;\" transform=\"rotate(0, 283.89, 395.757)\" x=\"283.89\" y=\"395.757\">4</text>\n</g>\n<g clip-path=\"url(#clip8600)\">\n<text style=\"fill:#000000; fill-opacity:1; font-family:Arial,Helvetica Neue,Helvetica,sans-serif; font-size:48px; text-anchor:start;\" transform=\"rotate(0, 135.349, 263.373)\" x=\"135.349\" y=\"263.373\">2.5×10</text>\n</g>\n<g clip-path=\"url(#clip8600)\">\n<text style=\"fill:#000000; fill-opacity:1; font-family:Arial,Helvetica Neue,Helvetica,sans-serif; font-size:38px; text-anchor:start;\" transform=\"rotate(0, 283.89, 235.962)\" x=\"283.89\" y=\"235.962\">4</text>\n</g>\n<g clip-path=\"url(#clip8600)\">\n<text style=\"fill:#000000; fill-opacity:1; font-family:Arial,Helvetica Neue,Helvetica,sans-serif; font-size:82px; text-anchor:middle;\" transform=\"rotate(0, 1745.2, 72)\" x=\"1745.2\" y=\"72\">Casos Totales de la Epidemia de Ébola en Africa Occidental</text>\n</g>\n<g clip-path=\"url(#clip8600)\">\n<text style=\"fill:#000000; fill-opacity:1; font-family:Arial,Helvetica Neue,Helvetica,sans-serif; font-size:66px; text-anchor:middle;\" transform=\"rotate(0, 1745.2, 1206.32)\" x=\"1745.2\" y=\"1206.32\">Días desde el 22 de Marzo del 2014</text>\n</g>\n<g clip-path=\"url(#clip8600)\">\n<text style=\"fill:#000000; fill-opacity:1; font-family:Arial,Helvetica Neue,Helvetica,sans-serif; font-size:66px; text-anchor:middle;\" transform=\"rotate(-90, 61.1138, 580.231)\" x=\"61.1138\" y=\"580.231\">Total de casos</text>\n</g>\n<path clip-path=\"url(#clip8602)\" d=\"M3073.08 91.4106 L3041.08 123.411 L3073.08 155.411 L3105.08 123.411 L3073.08 91.4106 Z\" fill=\"#008000\" fill-rule=\"evenodd\" fill-opacity=\"1\" stroke=\"#000000\" stroke-opacity=\"1\" stroke-width=\"2.4\"/>\n<path clip-path=\"url(#clip8602)\" d=\"M3042.76 91.5064 L3010.76 123.506 L3042.76 155.506 L3074.76 123.506 L3042.76 91.5064 Z\" fill=\"#008000\" fill-rule=\"evenodd\" fill-opacity=\"1\" stroke=\"#000000\" stroke-opacity=\"1\" stroke-width=\"2.4\"/>\n<path clip-path=\"url(#clip8602)\" d=\"M3012.43 91.4745 L2980.43 123.474 L3012.43 155.474 L3044.43 123.474 L3012.43 91.4745 Z\" fill=\"#008000\" fill-rule=\"evenodd\" fill-opacity=\"1\" stroke=\"#000000\" stroke-opacity=\"1\" stroke-width=\"2.4\"/>\n<path clip-path=\"url(#clip8602)\" d=\"M2982.1 92.3693 L2950.1 124.369 L2982.1 156.369 L3014.1 124.369 L2982.1 92.3693 Z\" fill=\"#008000\" fill-rule=\"evenodd\" fill-opacity=\"1\" stroke=\"#000000\" stroke-opacity=\"1\" stroke-width=\"2.4\"/>\n<path clip-path=\"url(#clip8602)\" d=\"M2938.78 94.5425 L2906.78 126.543 L2938.78 158.543 L2970.78 126.543 L2938.78 94.5425 Z\" fill=\"#008000\" fill-rule=\"evenodd\" fill-opacity=\"1\" stroke=\"#000000\" stroke-opacity=\"1\" stroke-width=\"2.4\"/>\n<path clip-path=\"url(#clip8602)\" d=\"M2908.45 96.556 L2876.45 128.556 L2908.45 160.556 L2940.45 128.556 L2908.45 96.556 Z\" fill=\"#008000\" fill-rule=\"evenodd\" fill-opacity=\"1\" stroke=\"#000000\" stroke-opacity=\"1\" stroke-width=\"2.4\"/>\n<path clip-path=\"url(#clip8602)\" d=\"M2878.12 97.2591 L2846.12 129.259 L2878.12 161.259 L2910.12 129.259 L2878.12 97.2591 Z\" fill=\"#008000\" fill-rule=\"evenodd\" fill-opacity=\"1\" stroke=\"#000000\" stroke-opacity=\"1\" stroke-width=\"2.4\"/>\n<path clip-path=\"url(#clip8602)\" d=\"M2817.47 99.3683 L2785.47 131.368 L2817.47 163.368 L2849.47 131.368 L2817.47 99.3683 Z\" fill=\"#008000\" fill-rule=\"evenodd\" fill-opacity=\"1\" stroke=\"#000000\" stroke-opacity=\"1\" stroke-width=\"2.4\"/>\n<path clip-path=\"url(#clip8602)\" d=\"M2787.14 102.341 L2755.14 134.341 L2787.14 166.341 L2819.14 134.341 L2787.14 102.341 Z\" fill=\"#008000\" fill-rule=\"evenodd\" fill-opacity=\"1\" stroke=\"#000000\" stroke-opacity=\"1\" stroke-width=\"2.4\"/>\n<path clip-path=\"url(#clip8602)\" d=\"M2756.82 104.737 L2724.82 136.737 L2756.82 168.737 L2788.82 136.737 L2756.82 104.737 Z\" fill=\"#008000\" fill-rule=\"evenodd\" fill-opacity=\"1\" stroke=\"#000000\" stroke-opacity=\"1\" stroke-width=\"2.4\"/>\n<path clip-path=\"url(#clip8602)\" d=\"M2726.49 107.07 L2694.49 139.07 L2726.49 171.07 L2758.49 139.07 L2726.49 107.07 Z\" fill=\"#008000\" fill-rule=\"evenodd\" fill-opacity=\"1\" stroke=\"#000000\" stroke-opacity=\"1\" stroke-width=\"2.4\"/>\n<path clip-path=\"url(#clip8602)\" d=\"M2696.16 109.435 L2664.16 141.435 L2696.16 173.435 L2728.16 141.435 L2696.16 109.435 Z\" fill=\"#008000\" fill-rule=\"evenodd\" fill-opacity=\"1\" stroke=\"#000000\" stroke-opacity=\"1\" stroke-width=\"2.4\"/>\n<path clip-path=\"url(#clip8602)\" d=\"M2635.51 113.302 L2603.51 145.302 L2635.51 177.302 L2667.51 145.302 L2635.51 113.302 Z\" fill=\"#008000\" fill-rule=\"evenodd\" fill-opacity=\"1\" stroke=\"#000000\" stroke-opacity=\"1\" stroke-width=\"2.4\"/>\n<path clip-path=\"url(#clip8602)\" d=\"M2605.18 114.037 L2573.18 146.037 L2605.18 178.037 L2637.18 146.037 L2605.18 114.037 Z\" fill=\"#008000\" fill-rule=\"evenodd\" fill-opacity=\"1\" stroke=\"#000000\" stroke-opacity=\"1\" stroke-width=\"2.4\"/>\n<path clip-path=\"url(#clip8602)\" d=\"M2544.53 119.822 L2512.53 151.822 L2544.53 183.822 L2576.53 151.822 L2544.53 119.822 Z\" fill=\"#008000\" fill-rule=\"evenodd\" fill-opacity=\"1\" stroke=\"#000000\" stroke-opacity=\"1\" stroke-width=\"2.4\"/>\n<path clip-path=\"url(#clip8602)\" d=\"M2483.87 123.21 L2451.87 155.21 L2483.87 187.21 L2515.87 155.21 L2483.87 123.21 Z\" fill=\"#008000\" fill-rule=\"evenodd\" fill-opacity=\"1\" stroke=\"#000000\" stroke-opacity=\"1\" stroke-width=\"2.4\"/>\n<path clip-path=\"url(#clip8602)\" d=\"M2453.55 125.415 L2421.55 157.415 L2453.55 189.415 L2485.55 157.415 L2453.55 125.415 Z\" fill=\"#008000\" fill-rule=\"evenodd\" fill-opacity=\"1\" stroke=\"#000000\" stroke-opacity=\"1\" stroke-width=\"2.4\"/>\n<path clip-path=\"url(#clip8602)\" d=\"M2423.22 127.3 L2391.22 159.3 L2423.22 191.3 L2455.22 159.3 L2423.22 127.3 Z\" fill=\"#008000\" fill-rule=\"evenodd\" fill-opacity=\"1\" stroke=\"#000000\" stroke-opacity=\"1\" stroke-width=\"2.4\"/>\n<path clip-path=\"url(#clip8602)\" d=\"M2392.89 129.57 L2360.89 161.57 L2392.89 193.57 L2424.89 161.57 L2392.89 129.57 Z\" fill=\"#008000\" fill-rule=\"evenodd\" fill-opacity=\"1\" stroke=\"#000000\" stroke-opacity=\"1\" stroke-width=\"2.4\"/>\n<path clip-path=\"url(#clip8602)\" d=\"M2362.57 133.98 L2330.57 165.98 L2362.57 197.98 L2394.57 165.98 L2362.57 133.98 Z\" fill=\"#008000\" fill-rule=\"evenodd\" fill-opacity=\"1\" stroke=\"#000000\" stroke-opacity=\"1\" stroke-width=\"2.4\"/>\n<path clip-path=\"url(#clip8602)\" d=\"M2301.91 140.212 L2269.91 172.212 L2301.91 204.212 L2333.91 172.212 L2301.91 140.212 Z\" fill=\"#008000\" fill-rule=\"evenodd\" fill-opacity=\"1\" stroke=\"#000000\" stroke-opacity=\"1\" stroke-width=\"2.4\"/>\n<path clip-path=\"url(#clip8602)\" d=\"M2241.26 146.987 L2209.26 178.987 L2241.26 210.987 L2273.26 178.987 L2241.26 146.987 Z\" fill=\"#008000\" fill-rule=\"evenodd\" fill-opacity=\"1\" stroke=\"#000000\" stroke-opacity=\"1\" stroke-width=\"2.4\"/>\n<path clip-path=\"url(#clip8602)\" d=\"M2180.6 157.853 L2148.6 189.853 L2180.6 221.853 L2212.6 189.853 L2180.6 157.853 Z\" fill=\"#008000\" fill-rule=\"evenodd\" fill-opacity=\"1\" stroke=\"#000000\" stroke-opacity=\"1\" stroke-width=\"2.4\"/>\n<path clip-path=\"url(#clip8602)\" d=\"M2119.95 175.399 L2087.95 207.399 L2119.95 239.399 L2151.95 207.399 L2119.95 175.399 Z\" fill=\"#008000\" fill-rule=\"evenodd\" fill-opacity=\"1\" stroke=\"#000000\" stroke-opacity=\"1\" stroke-width=\"2.4\"/>\n<path clip-path=\"url(#clip8602)\" d=\"M2059.3 192.305 L2027.3 224.305 L2059.3 256.305 L2091.3 224.305 L2059.3 192.305 Z\" fill=\"#008000\" fill-rule=\"evenodd\" fill-opacity=\"1\" stroke=\"#000000\" stroke-opacity=\"1\" stroke-width=\"2.4\"/>\n<path clip-path=\"url(#clip8602)\" d=\"M1998.64 212.854 L1966.64 244.854 L1998.64 276.854 L2030.64 244.854 L1998.64 212.854 Z\" fill=\"#008000\" fill-rule=\"evenodd\" fill-opacity=\"1\" stroke=\"#000000\" stroke-opacity=\"1\" stroke-width=\"2.4\"/>\n<path clip-path=\"url(#clip8602)\" d=\"M1937.99 230.592 L1905.99 262.592 L1937.99 294.592 L1969.99 262.592 L1937.99 230.592 Z\" fill=\"#008000\" fill-rule=\"evenodd\" fill-opacity=\"1\" stroke=\"#000000\" stroke-opacity=\"1\" stroke-width=\"2.4\"/>\n<path clip-path=\"url(#clip8602)\" d=\"M1877.33 250.502 L1845.33 282.502 L1877.33 314.502 L1909.33 282.502 L1877.33 250.502 Z\" fill=\"#008000\" fill-rule=\"evenodd\" fill-opacity=\"1\" stroke=\"#000000\" stroke-opacity=\"1\" stroke-width=\"2.4\"/>\n<path clip-path=\"url(#clip8602)\" d=\"M1816.68 277.188 L1784.68 309.188 L1816.68 341.188 L1848.68 309.188 L1816.68 277.188 Z\" fill=\"#008000\" fill-rule=\"evenodd\" fill-opacity=\"1\" stroke=\"#000000\" stroke-opacity=\"1\" stroke-width=\"2.4\"/>\n<path clip-path=\"url(#clip8602)\" d=\"M1756.03 302.819 L1724.03 334.819 L1756.03 366.819 L1788.03 334.819 L1756.03 302.819 Z\" fill=\"#008000\" fill-rule=\"evenodd\" fill-opacity=\"1\" stroke=\"#000000\" stroke-opacity=\"1\" stroke-width=\"2.4\"/>\n<path clip-path=\"url(#clip8602)\" d=\"M1695.37 328.258 L1663.37 360.258 L1695.37 392.258 L1727.37 360.258 L1695.37 328.258 Z\" fill=\"#008000\" fill-rule=\"evenodd\" fill-opacity=\"1\" stroke=\"#000000\" stroke-opacity=\"1\" stroke-width=\"2.4\"/>\n<path clip-path=\"url(#clip8602)\" d=\"M1634.72 361.975 L1602.72 393.975 L1634.72 425.975 L1666.72 393.975 L1634.72 361.975 Z\" fill=\"#008000\" fill-rule=\"evenodd\" fill-opacity=\"1\" stroke=\"#000000\" stroke-opacity=\"1\" stroke-width=\"2.4\"/>\n<path clip-path=\"url(#clip8602)\" d=\"M1574.06 413.301 L1542.06 445.301 L1574.06 477.301 L1606.06 445.301 L1574.06 413.301 Z\" fill=\"#008000\" fill-rule=\"evenodd\" fill-opacity=\"1\" stroke=\"#000000\" stroke-opacity=\"1\" stroke-width=\"2.4\"/>\n<path clip-path=\"url(#clip8602)\" d=\"M1513.41 459.801 L1481.41 491.801 L1513.41 523.801 L1545.41 491.801 L1513.41 459.801 Z\" fill=\"#008000\" fill-rule=\"evenodd\" fill-opacity=\"1\" stroke=\"#000000\" stroke-opacity=\"1\" stroke-width=\"2.4\"/>\n<path clip-path=\"url(#clip8602)\" d=\"M1461.42 517.934 L1429.42 549.934 L1461.42 581.934 L1493.42 549.934 L1461.42 517.934 Z\" fill=\"#008000\" fill-rule=\"evenodd\" fill-opacity=\"1\" stroke=\"#000000\" stroke-opacity=\"1\" stroke-width=\"2.4\"/>\n<path clip-path=\"url(#clip8602)\" d=\"M1392.1 590.673 L1360.1 622.673 L1392.1 654.673 L1424.1 622.673 L1392.1 590.673 Z\" fill=\"#008000\" fill-rule=\"evenodd\" fill-opacity=\"1\" stroke=\"#000000\" stroke-opacity=\"1\" stroke-width=\"2.4\"/>\n<path clip-path=\"url(#clip8602)\" d=\"M1331.45 689.873 L1299.45 721.873 L1331.45 753.873 L1363.45 721.873 L1331.45 689.873 Z\" fill=\"#008000\" fill-rule=\"evenodd\" fill-opacity=\"1\" stroke=\"#000000\" stroke-opacity=\"1\" stroke-width=\"2.4\"/>\n<path clip-path=\"url(#clip8602)\" d=\"M1301.12 720.586 L1269.12 752.586 L1301.12 784.586 L1333.12 752.586 L1301.12 720.586 Z\" fill=\"#008000\" fill-rule=\"evenodd\" fill-opacity=\"1\" stroke=\"#000000\" stroke-opacity=\"1\" stroke-width=\"2.4\"/>\n<path clip-path=\"url(#clip8602)\" d=\"M1240.47 777.505 L1208.47 809.505 L1240.47 841.505 L1272.47 809.505 L1240.47 777.505 Z\" fill=\"#008000\" fill-rule=\"evenodd\" fill-opacity=\"1\" stroke=\"#000000\" stroke-opacity=\"1\" stroke-width=\"2.4\"/>\n<path clip-path=\"url(#clip8602)\" d=\"M1179.81 836.373 L1147.81 868.373 L1179.81 900.373 L1211.81 868.373 L1179.81 836.373 Z\" fill=\"#008000\" fill-rule=\"evenodd\" fill-opacity=\"1\" stroke=\"#000000\" stroke-opacity=\"1\" stroke-width=\"2.4\"/>\n<path clip-path=\"url(#clip8602)\" d=\"M1119.16 889.521 L1087.16 921.521 L1119.16 953.521 L1151.16 921.521 L1119.16 889.521 Z\" fill=\"#008000\" fill-rule=\"evenodd\" fill-opacity=\"1\" stroke=\"#000000\" stroke-opacity=\"1\" stroke-width=\"2.4\"/>\n<path clip-path=\"url(#clip8602)\" d=\"M1054.17 935.51 L1022.17 967.51 L1054.17 999.51 L1086.17 967.51 L1054.17 935.51 Z\" fill=\"#008000\" fill-rule=\"evenodd\" fill-opacity=\"1\" stroke=\"#000000\" stroke-opacity=\"1\" stroke-width=\"2.4\"/>\n<path clip-path=\"url(#clip8602)\" d=\"M1023.85 947.974 L991.847 979.974 L1023.85 1011.97 L1055.85 979.974 L1023.85 947.974 Z\" fill=\"#008000\" fill-rule=\"evenodd\" fill-opacity=\"1\" stroke=\"#000000\" stroke-opacity=\"1\" stroke-width=\"2.4\"/>\n<path clip-path=\"url(#clip8602)\" d=\"M980.522 960.693 L948.522 992.693 L980.522 1024.69 L1012.52 992.693 L980.522 960.693 Z\" fill=\"#008000\" fill-rule=\"evenodd\" fill-opacity=\"1\" stroke=\"#000000\" stroke-opacity=\"1\" stroke-width=\"2.4\"/>\n<path clip-path=\"url(#clip8602)\" d=\"M950.195 968.236 L918.195 1000.24 L950.195 1032.24 L982.195 1000.24 L950.195 968.236 Z\" fill=\"#008000\" fill-rule=\"evenodd\" fill-opacity=\"1\" stroke=\"#000000\" stroke-opacity=\"1\" stroke-width=\"2.4\"/>\n<path clip-path=\"url(#clip8602)\" d=\"M911.204 975.235 L879.204 1007.23 L911.204 1039.23 L943.204 1007.23 L911.204 975.235 Z\" fill=\"#008000\" fill-rule=\"evenodd\" fill-opacity=\"1\" stroke=\"#000000\" stroke-opacity=\"1\" stroke-width=\"2.4\"/>\n<path clip-path=\"url(#clip8602)\" d=\"M859.215 981.722 L827.215 1013.72 L859.215 1045.72 L891.215 1013.72 L859.215 981.722 Z\" fill=\"#008000\" fill-rule=\"evenodd\" fill-opacity=\"1\" stroke=\"#000000\" stroke-opacity=\"1\" stroke-width=\"2.4\"/>\n<path clip-path=\"url(#clip8602)\" d=\"M794.228 989.744 L762.228 1021.74 L794.228 1053.74 L826.228 1021.74 L794.228 989.744 Z\" fill=\"#008000\" fill-rule=\"evenodd\" fill-opacity=\"1\" stroke=\"#000000\" stroke-opacity=\"1\" stroke-width=\"2.4\"/>\n<path clip-path=\"url(#clip8602)\" d=\"M703.247 996.743 L671.247 1028.74 L703.247 1060.74 L735.247 1028.74 L703.247 996.743 Z\" fill=\"#008000\" fill-rule=\"evenodd\" fill-opacity=\"1\" stroke=\"#000000\" stroke-opacity=\"1\" stroke-width=\"2.4\"/>\n<path clip-path=\"url(#clip8602)\" d=\"M638.261 998.309 L606.261 1030.31 L638.261 1062.31 L670.261 1030.31 L638.261 998.309 Z\" fill=\"#008000\" fill-rule=\"evenodd\" fill-opacity=\"1\" stroke=\"#000000\" stroke-opacity=\"1\" stroke-width=\"2.4\"/>\n<path clip-path=\"url(#clip8602)\" d=\"M590.604 998.98 L558.604 1030.98 L590.604 1062.98 L622.604 1030.98 L590.604 998.98 Z\" fill=\"#008000\" fill-rule=\"evenodd\" fill-opacity=\"1\" stroke=\"#000000\" stroke-opacity=\"1\" stroke-width=\"2.4\"/>\n<path clip-path=\"url(#clip8602)\" d=\"M516.953 1000.99 L484.953 1032.99 L516.953 1064.99 L548.953 1032.99 L516.953 1000.99 Z\" fill=\"#008000\" fill-rule=\"evenodd\" fill-opacity=\"1\" stroke=\"#000000\" stroke-opacity=\"1\" stroke-width=\"2.4\"/>\n<path clip-path=\"url(#clip8602)\" d=\"M456.299 1002.46 L424.299 1034.46 L456.299 1066.46 L488.299 1034.46 L456.299 1002.46 Z\" fill=\"#008000\" fill-rule=\"evenodd\" fill-opacity=\"1\" stroke=\"#000000\" stroke-opacity=\"1\" stroke-width=\"2.4\"/>\n<path clip-path=\"url(#clip8602)\" d=\"M417.307 1005.05 L385.307 1037.05 L417.307 1069.05 L449.307 1037.05 L417.307 1005.05 Z\" fill=\"#008000\" fill-rule=\"evenodd\" fill-opacity=\"1\" stroke=\"#000000\" stroke-opacity=\"1\" stroke-width=\"2.4\"/>\n</svg>\n"
          },
          "metadata": {}
        }
      ],
      "execution_count": 239,
      "metadata": {
        "collapsed": true,
        "jupyter": {
          "source_hidden": false,
          "outputs_hidden": false
        },
        "nteract": {
          "transient": {
            "deleting": false
          }
        },
        "execution": {
          "iopub.status.busy": "2020-07-31T01:24:32.551Z",
          "iopub.execute_input": "2020-07-31T01:24:32.595Z",
          "iopub.status.idle": "2020-07-31T01:24:32.682Z"
        }
      }
    },
    {
      "cell_type": "code",
      "source": [
        "#Creando arreglo que segmente los casos de ébola por país\n",
        "EVDdata[end-9:end, :] \n",
        "println(EVDdata[end-9:end, :]) \n",
        "rows, cols = size(EVDdata)  \n",
        "for j = 1:cols\n",
        "    for i = 1:rows  \n",
        "       if !isnumeric(string(EVDdata[i,j])[1])  \n",
        "         EVDdata[i,j] = 0\n",
        "       end\n",
        "   end\n",
        "end\n",
        "EVDdata[end-9:end, :]"
      ],
      "outputs": [
        {
          "output_type": "stream",
          "name": "stdout",
          "text": [
            "Any[123 1201 672 427 319 249 129 525 224; 114 982 613 411 310 174 106 397 197; 102 779 481 412 305 115 75 252 101; 87 528 337 398 264 33 24 97 49; 66 309 202 281 186 12 11 16 5; 51 260 182 248 171 12 11 0 0; 40 239 160 226 149 13 11 0 0; 23 176 110 168 108 8 2 0 0; 9 130 82 122 80 8 2 0 0; 0 49 29 49 29 0 0 0 0]\n"
          ]
        },
        {
          "output_type": "execute_result",
          "execution_count": 90,
          "data": {
            "text/plain": "10×9 Array{Any,2}:\n 123  1201  672  427  319  249  129  525  224\n 114   982  613  411  310  174  106  397  197\n 102   779  481  412  305  115   75  252  101\n  87   528  337  398  264   33   24   97   49\n  66   309  202  281  186   12   11   16    5\n  51   260  182  248  171   12   11    0    0\n  40   239  160  226  149   13   11    0    0\n  23   176  110  168  108    8    2    0    0\n   9   130   82  122   80    8    2    0    0\n   0    49   29   49   29    0    0    0    0"
          },
          "metadata": {}
        }
      ],
      "execution_count": 90,
      "metadata": {
        "collapsed": true,
        "jupyter": {
          "source_hidden": false,
          "outputs_hidden": false
        },
        "nteract": {
          "transient": {
            "deleting": false
          }
        },
        "execution": {
          "iopub.status.busy": "2020-07-30T21:57:36.497Z",
          "iopub.execute_input": "2020-07-30T21:57:36.513Z",
          "iopub.status.idle": "2020-07-30T21:57:36.604Z"
        }
      }
    },
    {
      "cell_type": "code",
      "source": [
        "# Extracción de los datos, identificando los días de epidemia por país\n",
        "epidays = EVDdata[:,1]\n",
        "EVDcasesbycountry = EVDdata[:, [4, 6, 8]]"
      ],
      "outputs": [
        {
          "output_type": "execute_result",
          "execution_count": 91,
          "data": {
            "text/plain": "54×3 Array{Any,2}:\n 3804  10675  14122\n 3804  10672  14122\n 3805  10672  14122\n 3810  10672  14089\n 3806  10672  14061\n 3803  10672  14001\n 3800  10672  13982\n 3805  10672  13911\n 3800  10672  13823\n 3792  10672  13756\n 3792  10672  13683\n 3792  10672  13609\n 3786  10672  13494\n    ⋮         \n  506    599    730\n  472    391    574\n  427    249    525\n  411    174    397\n  412    115    252\n  398     33     97\n  281     12     16\n  248     12      0\n  226     13      0\n  168      8      0\n  122      8      0\n   49      0      0"
          },
          "metadata": {}
        }
      ],
      "execution_count": 91,
      "metadata": {
        "collapsed": true,
        "jupyter": {
          "source_hidden": false,
          "outputs_hidden": false
        },
        "nteract": {
          "transient": {
            "deleting": false
          }
        },
        "execution": {
          "iopub.status.busy": "2020-07-30T21:58:21.231Z",
          "iopub.execute_input": "2020-07-30T21:58:21.251Z",
          "iopub.status.idle": "2020-07-30T21:58:21.299Z"
        }
      }
    },
    {
      "cell_type": "code",
      "source": [
        "pyplot()\n",
        "plot(epidays, convert(Array{Int64},EVDcasesbycountry), size=(800,300))"
      ],
      "outputs": [
        {
          "output_type": "execute_result",
          "execution_count": 96,
          "data": {
            "image/png": "[encoded data removed]"
          },
          "metadata": {}
        }
      ],
      "execution_count": 96,
      "metadata": {
        "collapsed": true,
        "jupyter": {
          "source_hidden": false,
          "outputs_hidden": false
        },
        "nteract": {
          "transient": {
            "deleting": false
          }
        },
        "execution": {
          "iopub.status.busy": "2020-07-30T21:59:43.443Z",
          "iopub.execute_input": "2020-07-30T21:59:43.460Z",
          "iopub.status.idle": "2020-07-30T21:59:43.630Z"
        }
      }
    },
    {
      "cell_type": "code",
      "source": [
        "# Conversión a Matriz de los casos por país \n",
        "EVDcasesbycountry = convert(Array{Int64}, EVDdata[:, [4, 6, 8]])\n",
        "println(typeof(EVDcasesbycountry))"
      ],
      "outputs": [
        {
          "output_type": "stream",
          "name": "stdout",
          "text": [
            "Array{Int64,2}\n"
          ]
        }
      ],
      "execution_count": 83,
      "metadata": {
        "collapsed": true,
        "jupyter": {
          "source_hidden": false,
          "outputs_hidden": false
        },
        "nteract": {
          "transient": {
            "deleting": false
          }
        },
        "execution": {
          "iopub.status.busy": "2020-07-30T21:55:15.092Z",
          "iopub.execute_input": "2020-07-30T21:55:15.110Z",
          "iopub.status.idle": "2020-07-30T21:55:15.182Z"
        }
      }
    },
    {
      "cell_type": "code",
      "source": [
        "#plot(epidays, EVDcasesbycountry)\n",
        "plot(epidays, convert(Array{Int64},EVDcasesbycountry),\n",
        "marker  = ([:octagon :star7 :square], 9),\n",
        "legend = :topleft,\n",
        "label   = [\"Guinea\" \"Liberia\" \"Sierra Leone\"],\n",
        "#title   = \"EVD en África occidental, epidemia segregada por país\",\n",
        "xlabel  = \"Días desde el 22 de Marzo del 2014\",\n",
        "ylabel  = \"Número de casos\",\n",
        "line = (:scatter),\n",
        "size=(800, 200)\n",
        ")"
      ],
      "outputs": [
        {
          "output_type": "execute_result",
          "execution_count": 252,
          "data": {
            "image/svg+xml": "<?xml version=\"1.0\" encoding=\"utf-8\"?>\n<svg xmlns=\"http://www.w3.org/2000/svg\" xmlns:xlink=\"http://www.w3.org/1999/xlink\" width=\"800\" height=\"200\" viewBox=\"0 0 3200 800\">\n<defs>\n  <clipPath id=\"clip3800\">\n    <rect x=\"0\" y=\"0\" width=\"3200\" height=\"800\"/>\n  </clipPath>\n</defs>\n<path clip-path=\"url(#clip3800)\" d=\"\nM0 800 L3200 800 L3200 0 L0 0  Z\n  \" fill=\"#ffffff\" fill-rule=\"evenodd\" fill-opacity=\"1\"/>\n<defs>\n  <clipPath id=\"clip3801\">\n    <rect x=\"640\" y=\"0\" width=\"2241\" height=\"800\"/>\n  </clipPath>\n</defs>\n<path clip-path=\"url(#clip3800)\" d=\"\nM357.042 653.529 L3152.76 653.529 L3152.76 47.2441 L357.042 47.2441  Z\n  \" fill=\"#ffffff\" fill-rule=\"evenodd\" fill-opacity=\"1\"/>\n<defs>\n  <clipPath id=\"clip3802\">\n    <rect x=\"357\" y=\"47\" width=\"2797\" height=\"607\"/>\n  </clipPath>\n</defs>\n<polyline clip-path=\"url(#clip3802)\" style=\"stroke:#000000; stroke-width:2; stroke-opacity:0.1; fill:none\" points=\"\n  436.166,653.529 436.166,47.2441 \n  \"/>\n<polyline clip-path=\"url(#clip3802)\" style=\"stroke:#000000; stroke-width:2; stroke-opacity:0.1; fill:none\" points=\"\n  866.421,653.529 866.421,47.2441 \n  \"/>\n<polyline clip-path=\"url(#clip3802)\" style=\"stroke:#000000; stroke-width:2; stroke-opacity:0.1; fill:none\" points=\"\n  1296.68,653.529 1296.68,47.2441 \n  \"/>\n<polyline clip-path=\"url(#clip3802)\" style=\"stroke:#000000; stroke-width:2; stroke-opacity:0.1; fill:none\" points=\"\n  1726.93,653.529 1726.93,47.2441 \n  \"/>\n<polyline clip-path=\"url(#clip3802)\" style=\"stroke:#000000; stroke-width:2; stroke-opacity:0.1; fill:none\" points=\"\n  2157.19,653.529 2157.19,47.2441 \n  \"/>\n<polyline clip-path=\"url(#clip3802)\" style=\"stroke:#000000; stroke-width:2; stroke-opacity:0.1; fill:none\" points=\"\n  2587.44,653.529 2587.44,47.2441 \n  \"/>\n<polyline clip-path=\"url(#clip3802)\" style=\"stroke:#000000; stroke-width:2; stroke-opacity:0.1; fill:none\" points=\"\n  3017.7,653.529 3017.7,47.2441 \n  \"/>\n<polyline clip-path=\"url(#clip3802)\" style=\"stroke:#000000; stroke-width:2; stroke-opacity:0.1; fill:none\" points=\"\n  357.042,636.37 3152.76,636.37 \n  \"/>\n<polyline clip-path=\"url(#clip3802)\" style=\"stroke:#000000; stroke-width:2; stroke-opacity:0.1; fill:none\" points=\"\n  357.042,535.115 3152.76,535.115 \n  \"/>\n<polyline clip-path=\"url(#clip3802)\" style=\"stroke:#000000; stroke-width:2; stroke-opacity:0.1; fill:none\" points=\"\n  357.042,433.861 3152.76,433.861 \n  \"/>\n<polyline clip-path=\"url(#clip3802)\" style=\"stroke:#000000; stroke-width:2; stroke-opacity:0.1; fill:none\" points=\"\n  357.042,332.606 3152.76,332.606 \n  \"/>\n<polyline clip-path=\"url(#clip3802)\" style=\"stroke:#000000; stroke-width:2; stroke-opacity:0.1; fill:none\" points=\"\n  357.042,231.352 3152.76,231.352 \n  \"/>\n<polyline clip-path=\"url(#clip3802)\" style=\"stroke:#000000; stroke-width:2; stroke-opacity:0.1; fill:none\" points=\"\n  357.042,130.097 3152.76,130.097 \n  \"/>\n<polyline clip-path=\"url(#clip3800)\" style=\"stroke:#000000; stroke-width:4; stroke-opacity:1; fill:none\" points=\"\n  357.042,653.529 3152.76,653.529 \n  \"/>\n<polyline clip-path=\"url(#clip3800)\" style=\"stroke:#000000; stroke-width:4; stroke-opacity:1; fill:none\" points=\"\n  357.042,653.529 357.042,47.2441 \n  \"/>\n<polyline clip-path=\"url(#clip3800)\" style=\"stroke:#000000; stroke-width:4; stroke-opacity:1; fill:none\" points=\"\n  436.166,653.529 436.166,646.254 \n  \"/>\n<polyline clip-path=\"url(#clip3800)\" style=\"stroke:#000000; stroke-width:4; stroke-opacity:1; fill:none\" points=\"\n  866.421,653.529 866.421,646.254 \n  \"/>\n<polyline clip-path=\"url(#clip3800)\" style=\"stroke:#000000; stroke-width:4; stroke-opacity:1; fill:none\" points=\"\n  1296.68,653.529 1296.68,646.254 \n  \"/>\n<polyline clip-path=\"url(#clip3800)\" style=\"stroke:#000000; stroke-width:4; stroke-opacity:1; fill:none\" points=\"\n  1726.93,653.529 1726.93,646.254 \n  \"/>\n<polyline clip-path=\"url(#clip3800)\" style=\"stroke:#000000; stroke-width:4; stroke-opacity:1; fill:none\" points=\"\n  2157.19,653.529 2157.19,646.254 \n  \"/>\n<polyline clip-path=\"url(#clip3800)\" style=\"stroke:#000000; stroke-width:4; stroke-opacity:1; fill:none\" points=\"\n  2587.44,653.529 2587.44,646.254 \n  \"/>\n<polyline clip-path=\"url(#clip3800)\" style=\"stroke:#000000; stroke-width:4; stroke-opacity:1; fill:none\" points=\"\n  3017.7,653.529 3017.7,646.254 \n  \"/>\n<polyline clip-path=\"url(#clip3800)\" style=\"stroke:#000000; stroke-width:4; stroke-opacity:1; fill:none\" points=\"\n  357.042,636.37 390.59,636.37 \n  \"/>\n<polyline clip-path=\"url(#clip3800)\" style=\"stroke:#000000; stroke-width:4; stroke-opacity:1; fill:none\" points=\"\n  357.042,535.115 390.59,535.115 \n  \"/>\n<polyline clip-path=\"url(#clip3800)\" style=\"stroke:#000000; stroke-width:4; stroke-opacity:1; fill:none\" points=\"\n  357.042,433.861 390.59,433.861 \n  \"/>\n<polyline clip-path=\"url(#clip3800)\" style=\"stroke:#000000; stroke-width:4; stroke-opacity:1; fill:none\" points=\"\n  357.042,332.606 390.59,332.606 \n  \"/>\n<polyline clip-path=\"url(#clip3800)\" style=\"stroke:#000000; stroke-width:4; stroke-opacity:1; fill:none\" points=\"\n  357.042,231.352 390.59,231.352 \n  \"/>\n<polyline clip-path=\"url(#clip3800)\" style=\"stroke:#000000; stroke-width:4; stroke-opacity:1; fill:none\" points=\"\n  357.042,130.097 390.59,130.097 \n  \"/>\n<g clip-path=\"url(#clip3800)\">\n<text style=\"fill:#000000; fill-opacity:1; font-family:Arial,Helvetica Neue,Helvetica,sans-serif; font-size:48px; text-anchor:middle;\" transform=\"rotate(0, 436.166, 711.529)\" x=\"436.166\" y=\"711.529\">0</text>\n</g>\n<g clip-path=\"url(#clip3800)\">\n<text style=\"fill:#000000; fill-opacity:1; font-family:Arial,Helvetica Neue,Helvetica,sans-serif; font-size:48px; text-anchor:middle;\" transform=\"rotate(0, 866.421, 711.529)\" x=\"866.421\" y=\"711.529\">100</text>\n</g>\n<g clip-path=\"url(#clip3800)\">\n<text style=\"fill:#000000; fill-opacity:1; font-family:Arial,Helvetica Neue,Helvetica,sans-serif; font-size:48px; text-anchor:middle;\" transform=\"rotate(0, 1296.68, 711.529)\" x=\"1296.68\" y=\"711.529\">200</text>\n</g>\n<g clip-path=\"url(#clip3800)\">\n<text style=\"fill:#000000; fill-opacity:1; font-family:Arial,Helvetica Neue,Helvetica,sans-serif; font-size:48px; text-anchor:middle;\" transform=\"rotate(0, 1726.93, 711.529)\" x=\"1726.93\" y=\"711.529\">300</text>\n</g>\n<g clip-path=\"url(#clip3800)\">\n<text style=\"fill:#000000; fill-opacity:1; font-family:Arial,Helvetica Neue,Helvetica,sans-serif; font-size:48px; text-anchor:middle;\" transform=\"rotate(0, 2157.19, 711.529)\" x=\"2157.19\" y=\"711.529\">400</text>\n</g>\n<g clip-path=\"url(#clip3800)\">\n<text style=\"fill:#000000; fill-opacity:1; font-family:Arial,Helvetica Neue,Helvetica,sans-serif; font-size:48px; text-anchor:middle;\" transform=\"rotate(0, 2587.44, 711.529)\" x=\"2587.44\" y=\"711.529\">500</text>\n</g>\n<g clip-path=\"url(#clip3800)\">\n<text style=\"fill:#000000; fill-opacity:1; font-family:Arial,Helvetica Neue,Helvetica,sans-serif; font-size:48px; text-anchor:middle;\" transform=\"rotate(0, 3017.7, 711.529)\" x=\"3017.7\" y=\"711.529\">600</text>\n</g>\n<g clip-path=\"url(#clip3800)\">\n<text style=\"fill:#000000; fill-opacity:1; font-family:Arial,Helvetica Neue,Helvetica,sans-serif; font-size:48px; text-anchor:end;\" transform=\"rotate(0, 325.042, 653.87)\" x=\"325.042\" y=\"653.87\">0</text>\n</g>\n<g clip-path=\"url(#clip3800)\">\n<text style=\"fill:#000000; fill-opacity:1; font-family:Arial,Helvetica Neue,Helvetica,sans-serif; font-size:48px; text-anchor:start;\" transform=\"rotate(0, 127.994, 558.843)\" x=\"127.994\" y=\"558.843\">2.50×10</text>\n</g>\n<g clip-path=\"url(#clip3800)\">\n<text style=\"fill:#000000; fill-opacity:1; font-family:Arial,Helvetica Neue,Helvetica,sans-serif; font-size:38px; text-anchor:start;\" transform=\"rotate(0, 303.297, 531.433)\" x=\"303.297\" y=\"531.433\">3</text>\n</g>\n<g clip-path=\"url(#clip3800)\">\n<text style=\"fill:#000000; fill-opacity:1; font-family:Arial,Helvetica Neue,Helvetica,sans-serif; font-size:48px; text-anchor:start;\" transform=\"rotate(0, 127.994, 457.588)\" x=\"127.994\" y=\"457.588\">5.00×10</text>\n</g>\n<g clip-path=\"url(#clip3800)\">\n<text style=\"fill:#000000; fill-opacity:1; font-family:Arial,Helvetica Neue,Helvetica,sans-serif; font-size:38px; text-anchor:start;\" transform=\"rotate(0, 303.297, 430.178)\" x=\"303.297\" y=\"430.178\">3</text>\n</g>\n<g clip-path=\"url(#clip3800)\">\n<text style=\"fill:#000000; fill-opacity:1; font-family:Arial,Helvetica Neue,Helvetica,sans-serif; font-size:48px; text-anchor:start;\" transform=\"rotate(0, 127.994, 356.334)\" x=\"127.994\" y=\"356.334\">7.50×10</text>\n</g>\n<g clip-path=\"url(#clip3800)\">\n<text style=\"fill:#000000; fill-opacity:1; font-family:Arial,Helvetica Neue,Helvetica,sans-serif; font-size:38px; text-anchor:start;\" transform=\"rotate(0, 303.297, 328.923)\" x=\"303.297\" y=\"328.923\">3</text>\n</g>\n<g clip-path=\"url(#clip3800)\">\n<text style=\"fill:#000000; fill-opacity:1; font-family:Arial,Helvetica Neue,Helvetica,sans-serif; font-size:48px; text-anchor:start;\" transform=\"rotate(0, 127.994, 255.079)\" x=\"127.994\" y=\"255.079\">1.00×10</text>\n</g>\n<g clip-path=\"url(#clip3800)\">\n<text style=\"fill:#000000; fill-opacity:1; font-family:Arial,Helvetica Neue,Helvetica,sans-serif; font-size:38px; text-anchor:start;\" transform=\"rotate(0, 303.297, 227.669)\" x=\"303.297\" y=\"227.669\">4</text>\n</g>\n<g clip-path=\"url(#clip3800)\">\n<text style=\"fill:#000000; fill-opacity:1; font-family:Arial,Helvetica Neue,Helvetica,sans-serif; font-size:48px; text-anchor:start;\" transform=\"rotate(0, 127.994, 153.825)\" x=\"127.994\" y=\"153.825\">1.25×10</text>\n</g>\n<g clip-path=\"url(#clip3800)\">\n<text style=\"fill:#000000; fill-opacity:1; font-family:Arial,Helvetica Neue,Helvetica,sans-serif; font-size:38px; text-anchor:start;\" transform=\"rotate(0, 303.297, 126.414)\" x=\"303.297\" y=\"126.414\">4</text>\n</g>\n<g clip-path=\"url(#clip3800)\">\n<text style=\"fill:#000000; fill-opacity:1; font-family:Arial,Helvetica Neue,Helvetica,sans-serif; font-size:66px; text-anchor:middle;\" transform=\"rotate(0, 1754.9, 795.391)\" x=\"1754.9\" y=\"795.391\">Días desde el 22 de Marzo del 2014</text>\n</g>\n<g clip-path=\"url(#clip3800)\">\n<text style=\"fill:#000000; fill-opacity:1; font-family:Arial,Helvetica Neue,Helvetica,sans-serif; font-size:66px; text-anchor:middle;\" transform=\"rotate(-90, 53.7591, 350.387)\" x=\"53.7591\" y=\"350.387\">Número de casos</text>\n</g>\n<path clip-path=\"url(#clip3802)\" d=\"M3073.63 518.301 L3048.18 507.753 L3037.63 482.301 L3048.18 456.849 L3073.63 446.301 L3099.08 456.849 L3109.63 482.301 L3099.08 507.753 Z\" fill=\"#009af9\" fill-rule=\"evenodd\" fill-opacity=\"1\" stroke=\"#000000\" stroke-opacity=\"1\" stroke-width=\"1.6\"/>\n<path clip-path=\"url(#clip3802)\" d=\"M3043.51 518.301 L3018.06 507.753 L3007.51 482.301 L3018.06 456.849 L3043.51 446.301 L3068.97 456.849 L3079.51 482.301 L3068.97 507.753 Z\" fill=\"#009af9\" fill-rule=\"evenodd\" fill-opacity=\"1\" stroke=\"#000000\" stroke-opacity=\"1\" stroke-width=\"1.6\"/>\n<path clip-path=\"url(#clip3802)\" d=\"M3013.4 518.26 L2987.94 507.712 L2977.4 482.26 L2987.94 456.808 L3013.4 446.26 L3038.85 456.808 L3049.4 482.26 L3038.85 507.712 Z\" fill=\"#009af9\" fill-rule=\"evenodd\" fill-opacity=\"1\" stroke=\"#000000\" stroke-opacity=\"1\" stroke-width=\"1.6\"/>\n<path clip-path=\"url(#clip3802)\" d=\"M2983.28 518.058 L2957.83 507.51 L2947.28 482.058 L2957.83 456.606 L2983.28 446.058 L3008.73 456.606 L3019.28 482.058 L3008.73 507.51 Z\" fill=\"#009af9\" fill-rule=\"evenodd\" fill-opacity=\"1\" stroke=\"#000000\" stroke-opacity=\"1\" stroke-width=\"1.6\"/>\n<path clip-path=\"url(#clip3802)\" d=\"M2940.25 518.22 L2914.8 507.672 L2904.25 482.22 L2914.8 456.768 L2940.25 446.22 L2965.7 456.768 L2976.25 482.22 L2965.7 507.672 Z\" fill=\"#009af9\" fill-rule=\"evenodd\" fill-opacity=\"1\" stroke=\"#000000\" stroke-opacity=\"1\" stroke-width=\"1.6\"/>\n<path clip-path=\"url(#clip3802)\" d=\"M2910.13 518.341 L2884.68 507.793 L2874.13 482.341 L2884.68 456.889 L2910.13 446.341 L2935.59 456.889 L2946.13 482.341 L2935.59 507.793 Z\" fill=\"#009af9\" fill-rule=\"evenodd\" fill-opacity=\"1\" stroke=\"#000000\" stroke-opacity=\"1\" stroke-width=\"1.6\"/>\n<path clip-path=\"url(#clip3802)\" d=\"M2880.02 518.463 L2854.56 507.915 L2844.02 482.463 L2854.56 457.011 L2880.02 446.463 L2905.47 457.011 L2916.02 482.463 L2905.47 507.915 Z\" fill=\"#009af9\" fill-rule=\"evenodd\" fill-opacity=\"1\" stroke=\"#000000\" stroke-opacity=\"1\" stroke-width=\"1.6\"/>\n<path clip-path=\"url(#clip3802)\" d=\"M2819.78 518.26 L2794.33 507.712 L2783.78 482.26 L2794.33 456.808 L2819.78 446.26 L2845.23 456.808 L2855.78 482.26 L2845.23 507.712 Z\" fill=\"#009af9\" fill-rule=\"evenodd\" fill-opacity=\"1\" stroke=\"#000000\" stroke-opacity=\"1\" stroke-width=\"1.6\"/>\n<path clip-path=\"url(#clip3802)\" d=\"M2789.66 518.463 L2764.21 507.915 L2753.66 482.463 L2764.21 457.011 L2789.66 446.463 L2815.12 457.011 L2825.66 482.463 L2815.12 507.915 Z\" fill=\"#009af9\" fill-rule=\"evenodd\" fill-opacity=\"1\" stroke=\"#000000\" stroke-opacity=\"1\" stroke-width=\"1.6\"/>\n<path clip-path=\"url(#clip3802)\" d=\"M2759.55 518.787 L2734.09 508.239 L2723.55 482.787 L2734.09 457.335 L2759.55 446.787 L2785 457.335 L2795.55 482.787 L2785 508.239 Z\" fill=\"#009af9\" fill-rule=\"evenodd\" fill-opacity=\"1\" stroke=\"#000000\" stroke-opacity=\"1\" stroke-width=\"1.6\"/>\n<path clip-path=\"url(#clip3802)\" d=\"M2729.43 518.787 L2703.98 508.239 L2693.43 482.787 L2703.98 457.335 L2729.43 446.787 L2754.88 457.335 L2765.43 482.787 L2754.88 508.239 Z\" fill=\"#009af9\" fill-rule=\"evenodd\" fill-opacity=\"1\" stroke=\"#000000\" stroke-opacity=\"1\" stroke-width=\"1.6\"/>\n<path clip-path=\"url(#clip3802)\" d=\"M2699.31 518.787 L2673.86 508.239 L2663.31 482.787 L2673.86 457.335 L2699.31 446.787 L2724.76 457.335 L2735.31 482.787 L2724.76 508.239 Z\" fill=\"#009af9\" fill-rule=\"evenodd\" fill-opacity=\"1\" stroke=\"#000000\" stroke-opacity=\"1\" stroke-width=\"1.6\"/>\n<path clip-path=\"url(#clip3802)\" d=\"M2639.07 519.03 L2613.62 508.482 L2603.07 483.03 L2613.62 457.578 L2639.07 447.03 L2664.53 457.578 L2675.07 483.03 L2664.53 508.482 Z\" fill=\"#009af9\" fill-rule=\"evenodd\" fill-opacity=\"1\" stroke=\"#000000\" stroke-opacity=\"1\" stroke-width=\"1.6\"/>\n<path clip-path=\"url(#clip3802)\" d=\"M2608.96 518.989 L2583.5 508.441 L2572.96 482.989 L2583.5 457.537 L2608.96 446.989 L2634.41 457.537 L2644.96 482.989 L2634.41 508.441 Z\" fill=\"#009af9\" fill-rule=\"evenodd\" fill-opacity=\"1\" stroke=\"#000000\" stroke-opacity=\"1\" stroke-width=\"1.6\"/>\n<path clip-path=\"url(#clip3802)\" d=\"M2548.72 519.03 L2523.27 508.482 L2512.72 483.03 L2523.27 457.578 L2548.72 447.03 L2574.17 457.578 L2584.72 483.03 L2574.17 508.482 Z\" fill=\"#009af9\" fill-rule=\"evenodd\" fill-opacity=\"1\" stroke=\"#000000\" stroke-opacity=\"1\" stroke-width=\"1.6\"/>\n<path clip-path=\"url(#clip3802)\" d=\"M2488.48 520.083 L2463.03 509.535 L2452.48 484.083 L2463.03 458.631 L2488.48 448.083 L2513.94 458.631 L2524.48 484.083 L2513.94 509.535 Z\" fill=\"#009af9\" fill-rule=\"evenodd\" fill-opacity=\"1\" stroke=\"#000000\" stroke-opacity=\"1\" stroke-width=\"1.6\"/>\n<path clip-path=\"url(#clip3802)\" d=\"M2458.37 520.569 L2432.91 510.021 L2422.37 484.569 L2432.91 459.117 L2458.37 448.569 L2483.82 459.117 L2494.37 484.569 L2483.82 510.021 Z\" fill=\"#009af9\" fill-rule=\"evenodd\" fill-opacity=\"1\" stroke=\"#000000\" stroke-opacity=\"1\" stroke-width=\"1.6\"/>\n<path clip-path=\"url(#clip3802)\" d=\"M2428.25 521.339 L2402.8 510.791 L2392.25 485.339 L2402.8 459.887 L2428.25 449.339 L2453.7 459.887 L2464.25 485.339 L2453.7 510.791 Z\" fill=\"#009af9\" fill-rule=\"evenodd\" fill-opacity=\"1\" stroke=\"#000000\" stroke-opacity=\"1\" stroke-width=\"1.6\"/>\n<path clip-path=\"url(#clip3802)\" d=\"M2398.13 521.784 L2372.68 511.236 L2362.13 485.784 L2372.68 460.332 L2398.13 449.784 L2423.58 460.332 L2434.13 485.784 L2423.58 511.236 Z\" fill=\"#009af9\" fill-rule=\"evenodd\" fill-opacity=\"1\" stroke=\"#000000\" stroke-opacity=\"1\" stroke-width=\"1.6\"/>\n<path clip-path=\"url(#clip3802)\" d=\"M2368.01 523.566 L2342.56 513.018 L2332.01 487.566 L2342.56 462.114 L2368.01 451.566 L2393.46 462.114 L2404.01 487.566 L2393.46 513.018 Z\" fill=\"#009af9\" fill-rule=\"evenodd\" fill-opacity=\"1\" stroke=\"#000000\" stroke-opacity=\"1\" stroke-width=\"1.6\"/>\n<path clip-path=\"url(#clip3802)\" d=\"M2307.78 524.457 L2282.33 513.909 L2271.78 488.457 L2282.33 463.005 L2307.78 452.457 L2333.23 463.005 L2343.78 488.457 L2333.23 513.909 Z\" fill=\"#009af9\" fill-rule=\"evenodd\" fill-opacity=\"1\" stroke=\"#000000\" stroke-opacity=\"1\" stroke-width=\"1.6\"/>\n<path clip-path=\"url(#clip3802)\" d=\"M2247.54 525.146 L2222.09 514.598 L2211.54 489.146 L2222.09 463.694 L2247.54 453.146 L2272.99 463.694 L2283.54 489.146 L2272.99 514.598 Z\" fill=\"#009af9\" fill-rule=\"evenodd\" fill-opacity=\"1\" stroke=\"#000000\" stroke-opacity=\"1\" stroke-width=\"1.6\"/>\n<path clip-path=\"url(#clip3802)\" d=\"M2187.31 527.009 L2161.85 516.461 L2151.31 491.009 L2161.85 465.557 L2187.31 455.009 L2212.76 465.557 L2223.31 491.009 L2212.76 516.461 Z\" fill=\"#009af9\" fill-rule=\"evenodd\" fill-opacity=\"1\" stroke=\"#000000\" stroke-opacity=\"1\" stroke-width=\"1.6\"/>\n<path clip-path=\"url(#clip3802)\" d=\"M2127.07 527.981 L2101.62 517.433 L2091.07 491.981 L2101.62 466.529 L2127.07 455.981 L2152.52 466.529 L2163.07 491.981 L2152.52 517.433 Z\" fill=\"#009af9\" fill-rule=\"evenodd\" fill-opacity=\"1\" stroke=\"#000000\" stroke-opacity=\"1\" stroke-width=\"1.6\"/>\n<path clip-path=\"url(#clip3802)\" d=\"M2066.83 530.006 L2041.38 519.458 L2030.83 494.006 L2041.38 468.554 L2066.83 458.006 L2092.29 468.554 L2102.83 494.006 L2092.29 519.458 Z\" fill=\"#009af9\" fill-rule=\"evenodd\" fill-opacity=\"1\" stroke=\"#000000\" stroke-opacity=\"1\" stroke-width=\"1.6\"/>\n<path clip-path=\"url(#clip3802)\" d=\"M2006.6 533.489 L1981.15 522.941 L1970.6 497.489 L1981.15 472.037 L2006.6 461.489 L2032.05 472.037 L2042.6 497.489 L2032.05 522.941 Z\" fill=\"#009af9\" fill-rule=\"evenodd\" fill-opacity=\"1\" stroke=\"#000000\" stroke-opacity=\"1\" stroke-width=\"1.6\"/>\n<path clip-path=\"url(#clip3802)\" d=\"M1946.36 539.321 L1920.91 528.773 L1910.36 503.321 L1920.91 477.869 L1946.36 467.321 L1971.81 477.869 L1982.36 503.321 L1971.81 528.773 Z\" fill=\"#009af9\" fill-rule=\"evenodd\" fill-opacity=\"1\" stroke=\"#000000\" stroke-opacity=\"1\" stroke-width=\"1.6\"/>\n<path clip-path=\"url(#clip3802)\" d=\"M1886.13 544.587 L1860.67 534.039 L1850.13 508.587 L1860.67 483.135 L1886.13 472.587 L1911.58 483.135 L1922.13 508.587 L1911.58 534.039 Z\" fill=\"#009af9\" fill-rule=\"evenodd\" fill-opacity=\"1\" stroke=\"#000000\" stroke-opacity=\"1\" stroke-width=\"1.6\"/>\n<path clip-path=\"url(#clip3802)\" d=\"M1825.89 549.082 L1800.44 538.534 L1789.89 513.082 L1800.44 487.63 L1825.89 477.082 L1851.34 487.63 L1861.89 513.082 L1851.34 538.534 Z\" fill=\"#009af9\" fill-rule=\"evenodd\" fill-opacity=\"1\" stroke=\"#000000\" stroke-opacity=\"1\" stroke-width=\"1.6\"/>\n<path clip-path=\"url(#clip3802)\" d=\"M1765.66 554.226 L1740.2 543.678 L1729.66 518.226 L1740.2 492.774 L1765.66 482.226 L1791.11 492.774 L1801.66 518.226 L1791.11 543.678 Z\" fill=\"#009af9\" fill-rule=\"evenodd\" fill-opacity=\"1\" stroke=\"#000000\" stroke-opacity=\"1\" stroke-width=\"1.6\"/>\n<path clip-path=\"url(#clip3802)\" d=\"M1705.42 558.722 L1679.97 548.174 L1669.42 522.722 L1679.97 497.27 L1705.42 486.722 L1730.87 497.27 L1741.42 522.722 L1730.87 548.174 Z\" fill=\"#009af9\" fill-rule=\"evenodd\" fill-opacity=\"1\" stroke=\"#000000\" stroke-opacity=\"1\" stroke-width=\"1.6\"/>\n<path clip-path=\"url(#clip3802)\" d=\"M1645.18 562.731 L1619.73 552.183 L1609.18 526.731 L1619.73 501.279 L1645.18 490.731 L1670.64 501.279 L1681.18 526.731 L1670.64 552.183 Z\" fill=\"#009af9\" fill-rule=\"evenodd\" fill-opacity=\"1\" stroke=\"#000000\" stroke-opacity=\"1\" stroke-width=\"1.6\"/>\n<path clip-path=\"url(#clip3802)\" d=\"M1584.95 574.558 L1559.5 564.01 L1548.95 538.558 L1559.5 513.106 L1584.95 502.558 L1610.4 513.106 L1620.95 538.558 L1610.4 564.01 Z\" fill=\"#009af9\" fill-rule=\"evenodd\" fill-opacity=\"1\" stroke=\"#000000\" stroke-opacity=\"1\" stroke-width=\"1.6\"/>\n<path clip-path=\"url(#clip3802)\" d=\"M1524.71 584.724 L1499.26 574.176 L1488.71 548.724 L1499.26 523.272 L1524.71 512.724 L1550.16 523.272 L1560.71 548.724 L1550.16 574.176 Z\" fill=\"#009af9\" fill-rule=\"evenodd\" fill-opacity=\"1\" stroke=\"#000000\" stroke-opacity=\"1\" stroke-width=\"1.6\"/>\n<path clip-path=\"url(#clip3802)\" d=\"M1473.08 589.463 L1447.63 578.915 L1437.08 553.463 L1447.63 528.011 L1473.08 517.463 L1498.53 528.011 L1509.08 553.463 L1498.53 578.915 Z\" fill=\"#009af9\" fill-rule=\"evenodd\" fill-opacity=\"1\" stroke=\"#000000\" stroke-opacity=\"1\" stroke-width=\"1.6\"/>\n<path clip-path=\"url(#clip3802)\" d=\"M1404.24 602.261 L1378.79 591.713 L1368.24 566.261 L1378.79 540.809 L1404.24 530.261 L1429.69 540.809 L1440.24 566.261 L1429.69 591.713 Z\" fill=\"#009af9\" fill-rule=\"evenodd\" fill-opacity=\"1\" stroke=\"#000000\" stroke-opacity=\"1\" stroke-width=\"1.6\"/>\n<path clip-path=\"url(#clip3802)\" d=\"M1344 609.997 L1318.55 599.449 L1308 573.997 L1318.55 548.545 L1344 537.997 L1369.46 548.545 L1380 573.997 L1369.46 599.449 Z\" fill=\"#009af9\" fill-rule=\"evenodd\" fill-opacity=\"1\" stroke=\"#000000\" stroke-opacity=\"1\" stroke-width=\"1.6\"/>\n<path clip-path=\"url(#clip3802)\" d=\"M1313.89 612.751 L1288.43 602.203 L1277.89 576.751 L1288.43 551.299 L1313.89 540.751 L1339.34 551.299 L1349.89 576.751 L1339.34 602.203 Z\" fill=\"#009af9\" fill-rule=\"evenodd\" fill-opacity=\"1\" stroke=\"#000000\" stroke-opacity=\"1\" stroke-width=\"1.6\"/>\n<path clip-path=\"url(#clip3802)\" d=\"M1253.65 625.509 L1228.2 614.961 L1217.65 589.509 L1228.2 564.057 L1253.65 553.509 L1279.1 564.057 L1289.65 589.509 L1279.1 614.961 Z\" fill=\"#009af9\" fill-rule=\"evenodd\" fill-opacity=\"1\" stroke=\"#000000\" stroke-opacity=\"1\" stroke-width=\"1.6\"/>\n<path clip-path=\"url(#clip3802)\" d=\"M1193.42 634.217 L1167.96 623.669 L1157.42 598.217 L1167.96 572.765 L1193.42 562.217 L1218.87 572.765 L1229.42 598.217 L1218.87 623.669 Z\" fill=\"#009af9\" fill-rule=\"evenodd\" fill-opacity=\"1\" stroke=\"#000000\" stroke-opacity=\"1\" stroke-width=\"1.6\"/>\n<path clip-path=\"url(#clip3802)\" d=\"M1133.18 641.143 L1107.73 630.595 L1097.18 605.143 L1107.73 579.691 L1133.18 569.143 L1158.63 579.691 L1169.18 605.143 L1158.63 630.595 Z\" fill=\"#009af9\" fill-rule=\"evenodd\" fill-opacity=\"1\" stroke=\"#000000\" stroke-opacity=\"1\" stroke-width=\"1.6\"/>\n<path clip-path=\"url(#clip3802)\" d=\"M1068.64 650.377 L1043.19 639.829 L1032.64 614.377 L1043.19 588.925 L1068.64 578.377 L1094.09 588.925 L1104.64 614.377 L1094.09 639.829 Z\" fill=\"#009af9\" fill-rule=\"evenodd\" fill-opacity=\"1\" stroke=\"#000000\" stroke-opacity=\"1\" stroke-width=\"1.6\"/>\n<path clip-path=\"url(#clip3802)\" d=\"M1038.52 651.876 L1013.07 641.328 L1002.52 615.876 L1013.07 590.424 L1038.52 579.876 L1063.98 590.424 L1074.52 615.876 L1063.98 641.328 Z\" fill=\"#009af9\" fill-rule=\"evenodd\" fill-opacity=\"1\" stroke=\"#000000\" stroke-opacity=\"1\" stroke-width=\"1.6\"/>\n<path clip-path=\"url(#clip3802)\" d=\"M995.498 653.253 L970.046 642.705 L959.498 617.253 L970.046 591.801 L995.498 581.253 L1020.95 591.801 L1031.5 617.253 L1020.95 642.705 Z\" fill=\"#009af9\" fill-rule=\"evenodd\" fill-opacity=\"1\" stroke=\"#000000\" stroke-opacity=\"1\" stroke-width=\"1.6\"/>\n<path clip-path=\"url(#clip3802)\" d=\"M965.38 655.076 L939.928 644.528 L929.38 619.076 L939.928 593.624 L965.38 583.076 L990.832 593.624 L1001.38 619.076 L990.832 644.528 Z\" fill=\"#009af9\" fill-rule=\"evenodd\" fill-opacity=\"1\" stroke=\"#000000\" stroke-opacity=\"1\" stroke-width=\"1.6\"/>\n<path clip-path=\"url(#clip3802)\" d=\"M926.657 655.724 L901.205 645.176 L890.657 619.724 L901.205 594.272 L926.657 583.724 L952.109 594.272 L962.657 619.724 L952.109 645.176 Z\" fill=\"#009af9\" fill-rule=\"evenodd\" fill-opacity=\"1\" stroke=\"#000000\" stroke-opacity=\"1\" stroke-width=\"1.6\"/>\n<path clip-path=\"url(#clip3802)\" d=\"M875.026 655.683 L849.574 645.135 L839.026 619.683 L849.574 594.231 L875.026 583.683 L900.478 594.231 L911.026 619.683 L900.478 645.135 Z\" fill=\"#009af9\" fill-rule=\"evenodd\" fill-opacity=\"1\" stroke=\"#000000\" stroke-opacity=\"1\" stroke-width=\"1.6\"/>\n<path clip-path=\"url(#clip3802)\" d=\"M810.488 656.25 L785.036 645.702 L774.488 620.25 L785.036 594.798 L810.488 584.25 L835.94 594.798 L846.488 620.25 L835.94 645.702 Z\" fill=\"#009af9\" fill-rule=\"evenodd\" fill-opacity=\"1\" stroke=\"#000000\" stroke-opacity=\"1\" stroke-width=\"1.6\"/>\n<path clip-path=\"url(#clip3802)\" d=\"M720.134 660.989 L694.682 650.441 L684.134 624.989 L694.682 599.537 L720.134 588.989 L745.586 599.537 L756.134 624.989 L745.586 650.441 Z\" fill=\"#009af9\" fill-rule=\"evenodd\" fill-opacity=\"1\" stroke=\"#000000\" stroke-opacity=\"1\" stroke-width=\"1.6\"/>\n<path clip-path=\"url(#clip3802)\" d=\"M655.596 662.325 L630.144 651.777 L619.596 626.325 L630.144 600.873 L655.596 590.325 L681.048 600.873 L691.596 626.325 L681.048 651.777 Z\" fill=\"#009af9\" fill-rule=\"evenodd\" fill-opacity=\"1\" stroke=\"#000000\" stroke-opacity=\"1\" stroke-width=\"1.6\"/>\n<path clip-path=\"url(#clip3802)\" d=\"M608.268 663.217 L582.816 652.669 L572.268 627.217 L582.816 601.765 L608.268 591.217 L633.72 601.765 L644.268 627.217 L633.72 652.669 Z\" fill=\"#009af9\" fill-rule=\"evenodd\" fill-opacity=\"1\" stroke=\"#000000\" stroke-opacity=\"1\" stroke-width=\"1.6\"/>\n<path clip-path=\"url(#clip3802)\" d=\"M535.125 665.566 L509.673 655.018 L499.125 629.566 L509.673 604.114 L535.125 593.566 L560.577 604.114 L571.125 629.566 L560.577 655.018 Z\" fill=\"#009af9\" fill-rule=\"evenodd\" fill-opacity=\"1\" stroke=\"#000000\" stroke-opacity=\"1\" stroke-width=\"1.6\"/>\n<path clip-path=\"url(#clip3802)\" d=\"M474.889 667.429 L449.437 656.881 L438.889 631.429 L449.437 605.977 L474.889 595.429 L500.341 605.977 L510.889 631.429 L500.341 656.881 Z\" fill=\"#009af9\" fill-rule=\"evenodd\" fill-opacity=\"1\" stroke=\"#000000\" stroke-opacity=\"1\" stroke-width=\"1.6\"/>\n<path clip-path=\"url(#clip3802)\" d=\"M436.166 670.385 L410.714 659.837 L400.166 634.385 L410.714 608.933 L436.166 598.385 L461.618 608.933 L472.166 634.385 L461.618 659.837 Z\" fill=\"#009af9\" fill-rule=\"evenodd\" fill-opacity=\"1\" stroke=\"#000000\" stroke-opacity=\"1\" stroke-width=\"1.6\"/>\n<path clip-path=\"url(#clip3802)\" d=\"M3073.63 168.013 L3067.37 191.053 L3045.48 181.585 L3059.59 200.809 L3038.53 212.041 L3062.36 212.977 L3058.01 236.449 L3073.63 218.413 L3089.26 236.449 L3084.9 212.977 L3108.73 212.041 L3087.67 200.809 L3101.78 181.585 L3079.9 191.053 L3073.63 168.013 Z\" fill=\"#e26f46\" fill-rule=\"evenodd\" fill-opacity=\"1\" stroke=\"#000000\" stroke-opacity=\"1\" stroke-width=\"1.6\"/>\n<path clip-path=\"url(#clip3802)\" d=\"M3043.51 168.134 L3037.25 191.174 L3015.36 181.706 L3029.47 200.93 L3008.41 212.162 L3032.25 213.098 L3027.89 236.57 L3043.51 218.534 L3059.14 236.57 L3054.78 213.098 L3078.61 212.162 L3057.55 200.93 L3071.67 181.706 L3049.78 191.174 L3043.51 168.134 Z\" fill=\"#e26f46\" fill-rule=\"evenodd\" fill-opacity=\"1\" stroke=\"#000000\" stroke-opacity=\"1\" stroke-width=\"1.6\"/>\n<path clip-path=\"url(#clip3802)\" d=\"M3013.4 168.134 L3007.13 191.174 L2985.24 181.706 L2999.36 200.93 L2978.3 212.162 L3002.13 213.098 L2997.77 236.57 L3013.4 218.534 L3029.02 236.57 L3024.66 213.098 L3048.5 212.162 L3027.44 200.93 L3041.55 181.706 L3019.66 191.174 L3013.4 168.134 Z\" fill=\"#e26f46\" fill-rule=\"evenodd\" fill-opacity=\"1\" stroke=\"#000000\" stroke-opacity=\"1\" stroke-width=\"1.6\"/>\n<path clip-path=\"url(#clip3802)\" d=\"M2983.28 168.134 L2977.01 191.174 L2955.13 181.706 L2969.24 200.93 L2948.18 212.162 L2972.01 213.098 L2967.65 236.57 L2983.28 218.534 L2998.9 236.57 L2994.55 213.098 L3018.38 212.162 L2997.32 200.93 L3011.43 181.706 L2989.54 191.174 L2983.28 168.134 Z\" fill=\"#e26f46\" fill-rule=\"evenodd\" fill-opacity=\"1\" stroke=\"#000000\" stroke-opacity=\"1\" stroke-width=\"1.6\"/>\n<path clip-path=\"url(#clip3802)\" d=\"M2940.25 168.134 L2933.99 191.174 L2912.1 181.706 L2926.21 200.93 L2905.15 212.162 L2928.98 213.098 L2924.63 236.57 L2940.25 218.534 L2955.88 236.57 L2951.52 213.098 L2975.35 212.162 L2954.29 200.93 L2968.4 181.706 L2946.52 191.174 L2940.25 168.134 Z\" fill=\"#e26f46\" fill-rule=\"evenodd\" fill-opacity=\"1\" stroke=\"#000000\" stroke-opacity=\"1\" stroke-width=\"1.6\"/>\n<path clip-path=\"url(#clip3802)\" d=\"M2910.13 168.134 L2903.87 191.174 L2881.98 181.706 L2896.09 200.93 L2875.03 212.162 L2898.87 213.098 L2894.51 236.57 L2910.13 218.534 L2925.76 236.57 L2921.4 213.098 L2945.23 212.162 L2924.17 200.93 L2938.29 181.706 L2916.4 191.174 L2910.13 168.134 Z\" fill=\"#e26f46\" fill-rule=\"evenodd\" fill-opacity=\"1\" stroke=\"#000000\" stroke-opacity=\"1\" stroke-width=\"1.6\"/>\n<path clip-path=\"url(#clip3802)\" d=\"M2880.02 168.134 L2873.75 191.174 L2851.86 181.706 L2865.98 200.93 L2844.92 212.162 L2868.75 213.098 L2864.39 236.57 L2880.02 218.534 L2895.64 236.57 L2891.28 213.098 L2915.12 212.162 L2894.06 200.93 L2908.17 181.706 L2886.28 191.174 L2880.02 168.134 Z\" fill=\"#e26f46\" fill-rule=\"evenodd\" fill-opacity=\"1\" stroke=\"#000000\" stroke-opacity=\"1\" stroke-width=\"1.6\"/>\n<path clip-path=\"url(#clip3802)\" d=\"M2819.78 168.134 L2813.52 191.174 L2791.63 181.706 L2805.74 200.93 L2784.68 212.162 L2808.51 213.098 L2804.16 236.57 L2819.78 218.534 L2835.41 236.57 L2831.05 213.098 L2854.88 212.162 L2833.82 200.93 L2847.93 181.706 L2826.05 191.174 L2819.78 168.134 Z\" fill=\"#e26f46\" fill-rule=\"evenodd\" fill-opacity=\"1\" stroke=\"#000000\" stroke-opacity=\"1\" stroke-width=\"1.6\"/>\n<path clip-path=\"url(#clip3802)\" d=\"M2789.66 168.134 L2783.4 191.174 L2761.51 181.706 L2775.62 200.93 L2754.56 212.162 L2778.4 213.098 L2774.04 236.57 L2789.66 218.534 L2805.29 236.57 L2800.93 213.098 L2824.76 212.162 L2803.7 200.93 L2817.82 181.706 L2795.93 191.174 L2789.66 168.134 Z\" fill=\"#e26f46\" fill-rule=\"evenodd\" fill-opacity=\"1\" stroke=\"#000000\" stroke-opacity=\"1\" stroke-width=\"1.6\"/>\n<path clip-path=\"url(#clip3802)\" d=\"M2759.55 168.134 L2753.28 191.174 L2731.39 181.706 L2745.51 200.93 L2724.45 212.162 L2748.28 213.098 L2743.92 236.57 L2759.55 218.534 L2775.17 236.57 L2770.81 213.098 L2794.65 212.162 L2773.59 200.93 L2787.7 181.706 L2765.81 191.174 L2759.55 168.134 Z\" fill=\"#e26f46\" fill-rule=\"evenodd\" fill-opacity=\"1\" stroke=\"#000000\" stroke-opacity=\"1\" stroke-width=\"1.6\"/>\n<path clip-path=\"url(#clip3802)\" d=\"M2729.43 168.134 L2723.16 191.174 L2701.28 181.706 L2715.39 200.93 L2694.33 212.162 L2718.16 213.098 L2713.8 236.57 L2729.43 218.534 L2745.05 236.57 L2740.7 213.098 L2764.53 212.162 L2743.47 200.93 L2757.58 181.706 L2735.69 191.174 L2729.43 168.134 Z\" fill=\"#e26f46\" fill-rule=\"evenodd\" fill-opacity=\"1\" stroke=\"#000000\" stroke-opacity=\"1\" stroke-width=\"1.6\"/>\n<path clip-path=\"url(#clip3802)\" d=\"M2699.31 168.134 L2693.05 191.174 L2671.16 181.706 L2685.27 200.93 L2664.21 212.162 L2688.04 213.098 L2683.69 236.57 L2699.31 218.534 L2714.93 236.57 L2710.58 213.098 L2734.41 212.162 L2713.35 200.93 L2727.46 181.706 L2705.57 191.174 L2699.31 168.134 Z\" fill=\"#e26f46\" fill-rule=\"evenodd\" fill-opacity=\"1\" stroke=\"#000000\" stroke-opacity=\"1\" stroke-width=\"1.6\"/>\n<path clip-path=\"url(#clip3802)\" d=\"M2639.07 168.134 L2632.81 191.174 L2610.92 181.706 L2625.03 200.93 L2603.97 212.162 L2627.81 213.098 L2623.45 236.57 L2639.07 218.534 L2654.7 236.57 L2650.34 213.098 L2674.17 212.162 L2653.11 200.93 L2667.23 181.706 L2645.34 191.174 L2639.07 168.134 Z\" fill=\"#e26f46\" fill-rule=\"evenodd\" fill-opacity=\"1\" stroke=\"#000000\" stroke-opacity=\"1\" stroke-width=\"1.6\"/>\n<path clip-path=\"url(#clip3802)\" d=\"M2608.96 168.134 L2602.69 191.174 L2580.8 181.706 L2594.92 200.93 L2573.86 212.162 L2597.69 213.098 L2593.33 236.57 L2608.96 218.534 L2624.58 236.57 L2620.22 213.098 L2644.06 212.162 L2623 200.93 L2637.11 181.706 L2615.22 191.174 L2608.96 168.134 Z\" fill=\"#e26f46\" fill-rule=\"evenodd\" fill-opacity=\"1\" stroke=\"#000000\" stroke-opacity=\"1\" stroke-width=\"1.6\"/>\n<path clip-path=\"url(#clip3802)\" d=\"M2548.72 168.134 L2542.46 191.174 L2520.57 181.706 L2534.68 200.93 L2513.62 212.162 L2537.45 213.098 L2533.1 236.57 L2548.72 218.534 L2564.34 236.57 L2559.99 213.098 L2583.82 212.162 L2562.76 200.93 L2576.87 181.706 L2554.98 191.174 L2548.72 168.134 Z\" fill=\"#e26f46\" fill-rule=\"evenodd\" fill-opacity=\"1\" stroke=\"#000000\" stroke-opacity=\"1\" stroke-width=\"1.6\"/>\n<path clip-path=\"url(#clip3802)\" d=\"M2488.48 168.094 L2482.22 191.134 L2460.33 181.666 L2474.44 200.89 L2453.38 212.122 L2477.22 213.058 L2472.86 236.53 L2488.48 218.494 L2504.11 236.53 L2499.75 213.058 L2523.58 212.122 L2502.52 200.89 L2516.64 181.666 L2494.75 191.134 L2488.48 168.094 Z\" fill=\"#e26f46\" fill-rule=\"evenodd\" fill-opacity=\"1\" stroke=\"#000000\" stroke-opacity=\"1\" stroke-width=\"1.6\"/>\n<path clip-path=\"url(#clip3802)\" d=\"M2458.37 168.215 L2452.1 191.255 L2430.21 181.787 L2444.33 201.011 L2423.27 212.243 L2447.1 213.179 L2442.74 236.651 L2458.37 218.615 L2473.99 236.651 L2469.63 213.179 L2493.47 212.243 L2472.41 201.011 L2486.52 181.787 L2464.63 191.255 L2458.37 168.215 Z\" fill=\"#e26f46\" fill-rule=\"evenodd\" fill-opacity=\"1\" stroke=\"#000000\" stroke-opacity=\"1\" stroke-width=\"1.6\"/>\n<path clip-path=\"url(#clip3802)\" d=\"M2428.25 168.377 L2421.98 191.417 L2400.1 181.949 L2414.21 201.173 L2393.15 212.405 L2416.98 213.341 L2412.62 236.813 L2428.25 218.777 L2443.87 236.813 L2439.52 213.341 L2463.35 212.405 L2442.29 201.173 L2456.4 181.949 L2434.51 191.417 L2428.25 168.377 Z\" fill=\"#e26f46\" fill-rule=\"evenodd\" fill-opacity=\"1\" stroke=\"#000000\" stroke-opacity=\"1\" stroke-width=\"1.6\"/>\n<path clip-path=\"url(#clip3802)\" d=\"M2398.13 168.377 L2391.87 191.417 L2369.98 181.949 L2384.09 201.173 L2363.03 212.405 L2386.86 213.341 L2382.51 236.813 L2398.13 218.777 L2413.75 236.813 L2409.4 213.341 L2433.23 212.405 L2412.17 201.173 L2426.28 181.949 L2404.39 191.417 L2398.13 168.377 Z\" fill=\"#e26f46\" fill-rule=\"evenodd\" fill-opacity=\"1\" stroke=\"#000000\" stroke-opacity=\"1\" stroke-width=\"1.6\"/>\n<path clip-path=\"url(#clip3802)\" d=\"M2368.01 168.377 L2361.75 191.417 L2339.86 181.949 L2353.97 201.173 L2332.91 212.405 L2356.74 213.341 L2352.39 236.813 L2368.01 218.777 L2383.64 236.813 L2379.28 213.341 L2403.11 212.405 L2382.05 201.173 L2396.16 181.949 L2374.28 191.417 L2368.01 168.377 Z\" fill=\"#e26f46\" fill-rule=\"evenodd\" fill-opacity=\"1\" stroke=\"#000000\" stroke-opacity=\"1\" stroke-width=\"1.6\"/>\n<path clip-path=\"url(#clip3802)\" d=\"M2307.78 168.377 L2301.51 191.417 L2279.63 181.949 L2293.74 201.173 L2272.68 212.405 L2296.51 213.341 L2292.15 236.813 L2307.78 218.777 L2323.4 236.813 L2319.05 213.341 L2342.88 212.405 L2321.82 201.173 L2335.93 181.949 L2314.04 191.417 L2307.78 168.377 Z\" fill=\"#e26f46\" fill-rule=\"evenodd\" fill-opacity=\"1\" stroke=\"#000000\" stroke-opacity=\"1\" stroke-width=\"1.6\"/>\n<path clip-path=\"url(#clip3802)\" d=\"M2247.54 168.377 L2241.28 191.417 L2219.39 181.949 L2233.5 201.173 L2212.44 212.405 L2236.27 213.341 L2231.92 236.813 L2247.54 218.777 L2263.17 236.813 L2258.81 213.341 L2282.64 212.405 L2261.58 201.173 L2275.69 181.949 L2253.81 191.417 L2247.54 168.377 Z\" fill=\"#e26f46\" fill-rule=\"evenodd\" fill-opacity=\"1\" stroke=\"#000000\" stroke-opacity=\"1\" stroke-width=\"1.6\"/>\n<path clip-path=\"url(#clip3802)\" d=\"M2187.31 172.509 L2181.04 195.549 L2159.15 186.081 L2173.27 205.305 L2152.21 216.537 L2176.04 217.473 L2171.68 240.945 L2187.31 222.909 L2202.93 240.945 L2198.57 217.473 L2222.41 216.537 L2201.35 205.305 L2215.46 186.081 L2193.57 195.549 L2187.31 172.509 Z\" fill=\"#e26f46\" fill-rule=\"evenodd\" fill-opacity=\"1\" stroke=\"#000000\" stroke-opacity=\"1\" stroke-width=\"1.6\"/>\n<path clip-path=\"url(#clip3802)\" d=\"M2127.07 186.765 L2120.81 209.805 L2098.92 200.337 L2113.03 219.561 L2091.97 230.793 L2115.8 231.729 L2111.45 255.201 L2127.07 237.165 L2142.69 255.201 L2138.34 231.729 L2162.17 230.793 L2141.11 219.561 L2155.22 200.337 L2133.33 209.805 L2127.07 186.765 Z\" fill=\"#e26f46\" fill-rule=\"evenodd\" fill-opacity=\"1\" stroke=\"#000000\" stroke-opacity=\"1\" stroke-width=\"1.6\"/>\n<path clip-path=\"url(#clip3802)\" d=\"M2066.83 200.941 L2060.57 223.981 L2038.68 214.513 L2052.79 233.737 L2031.73 244.969 L2055.57 245.905 L2051.21 269.377 L2066.83 251.341 L2082.46 269.377 L2078.1 245.905 L2101.93 244.969 L2080.87 233.737 L2094.99 214.513 L2073.1 223.981 L2066.83 200.941 Z\" fill=\"#e26f46\" fill-rule=\"evenodd\" fill-opacity=\"1\" stroke=\"#000000\" stroke-opacity=\"1\" stroke-width=\"1.6\"/>\n<path clip-path=\"url(#clip3802)\" d=\"M2006.6 211.471 L2000.33 234.511 L1978.45 225.043 L1992.56 244.267 L1971.5 255.499 L1995.33 256.435 L1990.97 279.907 L2006.6 261.871 L2022.22 279.907 L2017.87 256.435 L2041.7 255.499 L2020.64 244.267 L2034.75 225.043 L2012.86 234.511 L2006.6 211.471 Z\" fill=\"#e26f46\" fill-rule=\"evenodd\" fill-opacity=\"1\" stroke=\"#000000\" stroke-opacity=\"1\" stroke-width=\"1.6\"/>\n<path clip-path=\"url(#clip3802)\" d=\"M1946.36 221.961 L1940.1 245.001 L1918.21 235.533 L1932.32 254.757 L1911.26 265.989 L1935.09 266.925 L1930.74 290.397 L1946.36 272.361 L1961.99 290.397 L1957.63 266.925 L1981.46 265.989 L1960.4 254.757 L1974.51 235.533 L1952.63 245.001 L1946.36 221.961 Z\" fill=\"#e26f46\" fill-rule=\"evenodd\" fill-opacity=\"1\" stroke=\"#000000\" stroke-opacity=\"1\" stroke-width=\"1.6\"/>\n<path clip-path=\"url(#clip3802)\" d=\"M1886.13 226.214 L1879.86 249.254 L1857.97 239.786 L1872.09 259.01 L1851.03 270.242 L1874.86 271.178 L1870.5 294.65 L1886.13 276.614 L1901.75 294.65 L1897.39 271.178 L1921.23 270.242 L1900.17 259.01 L1914.28 239.786 L1892.39 249.254 L1886.13 226.214 Z\" fill=\"#e26f46\" fill-rule=\"evenodd\" fill-opacity=\"1\" stroke=\"#000000\" stroke-opacity=\"1\" stroke-width=\"1.6\"/>\n<path clip-path=\"url(#clip3802)\" d=\"M1825.89 240.673 L1819.63 263.713 L1797.74 254.245 L1811.85 273.469 L1790.79 284.701 L1814.62 285.637 L1810.27 309.109 L1825.89 291.073 L1841.51 309.109 L1837.16 285.637 L1860.99 284.701 L1839.93 273.469 L1854.04 254.245 L1832.15 263.713 L1825.89 240.673 Z\" fill=\"#e26f46\" fill-rule=\"evenodd\" fill-opacity=\"1\" stroke=\"#000000\" stroke-opacity=\"1\" stroke-width=\"1.6\"/>\n<path clip-path=\"url(#clip3802)\" d=\"M1765.66 251.163 L1759.39 274.203 L1737.5 264.735 L1751.62 283.959 L1730.56 295.191 L1754.39 296.127 L1750.03 319.599 L1765.66 301.563 L1781.28 319.599 L1776.92 296.127 L1800.76 295.191 L1779.7 283.959 L1793.81 264.735 L1771.92 274.203 L1765.66 251.163 Z\" fill=\"#e26f46\" fill-rule=\"evenodd\" fill-opacity=\"1\" stroke=\"#000000\" stroke-opacity=\"1\" stroke-width=\"1.6\"/>\n<path clip-path=\"url(#clip3802)\" d=\"M1705.42 262.949 L1699.16 285.989 L1677.27 276.521 L1691.38 295.745 L1670.32 306.977 L1694.15 307.913 L1689.8 331.385 L1705.42 313.349 L1721.04 331.385 L1716.69 307.913 L1740.52 306.977 L1719.46 295.745 L1733.57 276.521 L1711.68 285.989 L1705.42 262.949 Z\" fill=\"#e26f46\" fill-rule=\"evenodd\" fill-opacity=\"1\" stroke=\"#000000\" stroke-opacity=\"1\" stroke-width=\"1.6\"/>\n<path clip-path=\"url(#clip3802)\" d=\"M1645.18 275.626 L1638.92 298.666 L1617.03 289.198 L1631.14 308.422 L1610.08 319.654 L1633.92 320.59 L1629.56 344.062 L1645.18 326.026 L1660.81 344.062 L1656.45 320.59 L1680.28 319.654 L1659.22 308.422 L1673.34 289.198 L1651.45 298.666 L1645.18 275.626 Z\" fill=\"#e26f46\" fill-rule=\"evenodd\" fill-opacity=\"1\" stroke=\"#000000\" stroke-opacity=\"1\" stroke-width=\"1.6\"/>\n<path clip-path=\"url(#clip3802)\" d=\"M1584.95 283.686 L1578.68 306.726 L1556.8 297.258 L1570.91 316.482 L1549.85 327.714 L1573.68 328.65 L1569.32 352.122 L1584.95 334.086 L1600.57 352.122 L1596.22 328.65 L1620.05 327.714 L1598.99 316.482 L1613.1 297.258 L1591.21 306.726 L1584.95 283.686 Z\" fill=\"#e26f46\" fill-rule=\"evenodd\" fill-opacity=\"1\" stroke=\"#000000\" stroke-opacity=\"1\" stroke-width=\"1.6\"/>\n<path clip-path=\"url(#clip3802)\" d=\"M1524.71 290.409 L1518.45 313.449 L1496.56 303.981 L1510.67 323.205 L1489.61 334.437 L1513.44 335.373 L1509.09 358.845 L1524.71 340.809 L1540.34 358.845 L1535.98 335.373 L1559.81 334.437 L1538.75 323.205 L1552.86 303.981 L1530.98 313.449 L1524.71 290.409 Z\" fill=\"#e26f46\" fill-rule=\"evenodd\" fill-opacity=\"1\" stroke=\"#000000\" stroke-opacity=\"1\" stroke-width=\"1.6\"/>\n<path clip-path=\"url(#clip3802)\" d=\"M1473.08 313.536 L1466.82 336.576 L1444.93 327.108 L1459.04 346.332 L1437.98 357.564 L1461.81 358.5 L1457.46 381.972 L1473.08 363.936 L1488.71 381.972 L1484.35 358.5 L1508.18 357.564 L1487.12 346.332 L1501.23 327.108 L1479.35 336.576 L1473.08 313.536 Z\" fill=\"#e26f46\" fill-rule=\"evenodd\" fill-opacity=\"1\" stroke=\"#000000\" stroke-opacity=\"1\" stroke-width=\"1.6\"/>\n<path clip-path=\"url(#clip3802)\" d=\"M1404.24 336.095 L1397.98 359.135 L1376.09 349.667 L1390.2 368.891 L1369.14 380.123 L1392.97 381.059 L1388.62 404.531 L1404.24 386.495 L1419.86 404.531 L1415.51 381.059 L1439.34 380.123 L1418.28 368.891 L1432.39 349.667 L1410.5 359.135 L1404.24 336.095 Z\" fill=\"#e26f46\" fill-rule=\"evenodd\" fill-opacity=\"1\" stroke=\"#000000\" stroke-opacity=\"1\" stroke-width=\"1.6\"/>\n<path clip-path=\"url(#clip3802)\" d=\"M1344 411.429 L1337.74 434.469 L1315.85 425.001 L1329.96 444.225 L1308.9 455.457 L1332.74 456.393 L1328.38 479.865 L1344 461.829 L1359.63 479.865 L1355.27 456.393 L1379.1 455.457 L1358.04 444.225 L1372.16 425.001 L1350.27 434.469 L1344 411.429 Z\" fill=\"#e26f46\" fill-rule=\"evenodd\" fill-opacity=\"1\" stroke=\"#000000\" stroke-opacity=\"1\" stroke-width=\"1.6\"/>\n<path clip-path=\"url(#clip3802)\" d=\"M1313.89 428.278 L1307.62 451.318 L1285.73 441.85 L1299.85 461.074 L1278.79 472.306 L1302.62 473.242 L1298.26 496.714 L1313.89 478.678 L1329.51 496.714 L1325.15 473.242 L1348.99 472.306 L1327.93 461.074 L1342.04 441.85 L1320.15 451.318 L1313.89 428.278 Z\" fill=\"#e26f46\" fill-rule=\"evenodd\" fill-opacity=\"1\" stroke=\"#000000\" stroke-opacity=\"1\" stroke-width=\"1.6\"/>\n<path clip-path=\"url(#clip3802)\" d=\"M1253.65 450.675 L1247.39 473.715 L1225.5 464.247 L1239.61 483.471 L1218.55 494.703 L1242.38 495.639 L1238.03 519.111 L1253.65 501.075 L1269.28 519.111 L1264.92 495.639 L1288.75 494.703 L1267.69 483.471 L1281.8 464.247 L1259.92 473.715 L1253.65 450.675 Z\" fill=\"#e26f46\" fill-rule=\"evenodd\" fill-opacity=\"1\" stroke=\"#000000\" stroke-opacity=\"1\" stroke-width=\"1.6\"/>\n<path clip-path=\"url(#clip3802)\" d=\"M1193.42 490.205 L1187.15 513.245 L1165.26 503.777 L1179.38 523.001 L1158.32 534.233 L1182.15 535.169 L1177.79 558.641 L1193.42 540.605 L1209.04 558.641 L1204.68 535.169 L1228.52 534.233 L1207.46 523.001 L1221.57 503.777 L1199.68 513.245 L1193.42 490.205 Z\" fill=\"#e26f46\" fill-rule=\"evenodd\" fill-opacity=\"1\" stroke=\"#000000\" stroke-opacity=\"1\" stroke-width=\"1.6\"/>\n<path clip-path=\"url(#clip3802)\" d=\"M1133.18 531.598 L1126.92 554.638 L1105.03 545.17 L1119.14 564.394 L1098.08 575.626 L1121.91 576.562 L1117.56 600.034 L1133.18 581.998 L1148.8 600.034 L1144.45 576.562 L1168.28 575.626 L1147.22 564.394 L1161.33 545.17 L1139.44 554.638 L1133.18 531.598 Z\" fill=\"#e26f46\" fill-rule=\"evenodd\" fill-opacity=\"1\" stroke=\"#000000\" stroke-opacity=\"1\" stroke-width=\"1.6\"/>\n<path clip-path=\"url(#clip3802)\" d=\"M1068.64 566.591 L1062.38 589.631 L1040.49 580.163 L1054.6 599.387 L1033.54 610.619 L1057.37 611.555 L1053.02 635.027 L1068.64 616.991 L1084.27 635.027 L1079.91 611.555 L1103.74 610.619 L1082.68 599.387 L1096.79 580.163 L1074.91 589.631 L1068.64 566.591 Z\" fill=\"#e26f46\" fill-rule=\"evenodd\" fill-opacity=\"1\" stroke=\"#000000\" stroke-opacity=\"1\" stroke-width=\"1.6\"/>\n<path clip-path=\"url(#clip3802)\" d=\"M1038.52 576.109 L1032.26 599.149 L1010.37 589.681 L1024.48 608.905 L1003.42 620.137 L1027.26 621.073 L1022.9 644.545 L1038.52 626.509 L1054.15 644.545 L1049.79 621.073 L1073.62 620.137 L1052.56 608.905 L1066.68 589.681 L1044.79 599.149 L1038.52 576.109 Z\" fill=\"#e26f46\" fill-rule=\"evenodd\" fill-opacity=\"1\" stroke=\"#000000\" stroke-opacity=\"1\" stroke-width=\"1.6\"/>\n<path clip-path=\"url(#clip3802)\" d=\"M995.498 584.534 L989.234 607.574 L967.346 598.106 L981.458 617.33 L960.398 628.562 L984.23 629.498 L979.874 652.97 L995.498 634.934 L1011.12 652.97 L1006.77 629.498 L1030.6 628.562 L1009.54 617.33 L1023.65 598.106 L1001.76 607.574 L995.498 584.534 Z\" fill=\"#e26f46\" fill-rule=\"evenodd\" fill-opacity=\"1\" stroke=\"#000000\" stroke-opacity=\"1\" stroke-width=\"1.6\"/>\n<path clip-path=\"url(#clip3802)\" d=\"M965.38 590.285 L959.116 613.325 L937.228 603.857 L951.34 623.081 L930.28 634.313 L954.112 635.249 L949.756 658.721 L965.38 640.685 L981.004 658.721 L976.648 635.249 L1000.48 634.313 L979.42 623.081 L993.532 603.857 L971.644 613.325 L965.38 590.285 Z\" fill=\"#e26f46\" fill-rule=\"evenodd\" fill-opacity=\"1\" stroke=\"#000000\" stroke-opacity=\"1\" stroke-width=\"1.6\"/>\n<path clip-path=\"url(#clip3802)\" d=\"M926.657 593.323 L920.393 616.363 L898.505 606.895 L912.617 626.119 L891.557 637.351 L915.389 638.287 L911.033 661.759 L926.657 643.723 L942.281 661.759 L937.925 638.287 L961.757 637.351 L940.697 626.119 L954.809 606.895 L932.921 616.363 L926.657 593.323 Z\" fill=\"#e26f46\" fill-rule=\"evenodd\" fill-opacity=\"1\" stroke=\"#000000\" stroke-opacity=\"1\" stroke-width=\"1.6\"/>\n<path clip-path=\"url(#clip3802)\" d=\"M875.026 595.712 L868.762 618.752 L846.874 609.284 L860.986 628.508 L839.926 639.74 L863.758 640.676 L859.402 664.148 L875.026 646.112 L890.65 664.148 L886.294 640.676 L910.126 639.74 L889.066 628.508 L903.178 609.284 L881.29 618.752 L875.026 595.712 Z\" fill=\"#e26f46\" fill-rule=\"evenodd\" fill-opacity=\"1\" stroke=\"#000000\" stroke-opacity=\"1\" stroke-width=\"1.6\"/>\n<path clip-path=\"url(#clip3802)\" d=\"M810.488 599.033 L804.224 622.073 L782.336 612.605 L796.448 631.829 L775.388 643.061 L799.22 643.997 L794.864 667.469 L810.488 649.433 L826.112 667.469 L821.756 643.997 L845.588 643.061 L824.528 631.829 L838.64 612.605 L816.752 622.073 L810.488 599.033 Z\" fill=\"#e26f46\" fill-rule=\"evenodd\" fill-opacity=\"1\" stroke=\"#000000\" stroke-opacity=\"1\" stroke-width=\"1.6\"/>\n<path clip-path=\"url(#clip3802)\" d=\"M720.134 599.884 L713.87 622.924 L691.982 613.456 L706.094 632.68 L685.034 643.912 L708.866 644.848 L704.51 668.32 L720.134 650.284 L735.758 668.32 L731.402 644.848 L755.234 643.912 L734.174 632.68 L748.286 613.456 L726.398 622.924 L720.134 599.884 Z\" fill=\"#e26f46\" fill-rule=\"evenodd\" fill-opacity=\"1\" stroke=\"#000000\" stroke-opacity=\"1\" stroke-width=\"1.6\"/>\n<path clip-path=\"url(#clip3802)\" d=\"M655.596 599.884 L649.332 622.924 L627.444 613.456 L641.556 632.68 L620.496 643.912 L644.328 644.848 L639.972 668.32 L655.596 650.284 L671.22 668.32 L666.864 644.848 L690.696 643.912 L669.636 632.68 L683.748 613.456 L661.86 622.924 L655.596 599.884 Z\" fill=\"#e26f46\" fill-rule=\"evenodd\" fill-opacity=\"1\" stroke=\"#000000\" stroke-opacity=\"1\" stroke-width=\"1.6\"/>\n<path clip-path=\"url(#clip3802)\" d=\"M608.268 599.843 L602.004 622.883 L580.116 613.415 L594.228 632.639 L573.168 643.871 L597 644.807 L592.644 668.279 L608.268 650.243 L623.892 668.279 L619.536 644.807 L643.368 643.871 L622.308 632.639 L636.42 613.415 L614.532 622.883 L608.268 599.843 Z\" fill=\"#e26f46\" fill-rule=\"evenodd\" fill-opacity=\"1\" stroke=\"#000000\" stroke-opacity=\"1\" stroke-width=\"1.6\"/>\n<path clip-path=\"url(#clip3802)\" d=\"M535.125 600.046 L528.861 623.086 L506.973 613.618 L521.085 632.842 L500.025 644.074 L523.857 645.01 L519.501 668.482 L535.125 650.446 L550.749 668.482 L546.393 645.01 L570.225 644.074 L549.165 632.842 L563.277 613.618 L541.389 623.086 L535.125 600.046 Z\" fill=\"#e26f46\" fill-rule=\"evenodd\" fill-opacity=\"1\" stroke=\"#000000\" stroke-opacity=\"1\" stroke-width=\"1.6\"/>\n<path clip-path=\"url(#clip3802)\" d=\"M474.889 600.046 L468.625 623.086 L446.737 613.618 L460.849 632.842 L439.789 644.074 L463.621 645.01 L459.265 668.482 L474.889 650.446 L490.513 668.482 L486.157 645.01 L509.989 644.074 L488.929 632.842 L503.041 613.618 L481.153 623.086 L474.889 600.046 Z\" fill=\"#e26f46\" fill-rule=\"evenodd\" fill-opacity=\"1\" stroke=\"#000000\" stroke-opacity=\"1\" stroke-width=\"1.6\"/>\n<path clip-path=\"url(#clip3802)\" d=\"M436.166 600.37 L429.902 623.41 L408.014 613.942 L422.126 633.166 L401.066 644.398 L424.898 645.334 L420.542 668.806 L436.166 650.77 L451.79 668.806 L447.434 645.334 L471.266 644.398 L450.206 633.166 L464.318 613.942 L442.43 623.41 L436.166 600.37 Z\" fill=\"#e26f46\" fill-rule=\"evenodd\" fill-opacity=\"1\" stroke=\"#000000\" stroke-opacity=\"1\" stroke-width=\"1.6\"/>\n<path clip-path=\"url(#clip3802)\" d=\"M3037.63 28.4031 L3037.63 100.403 L3109.63 100.403 L3109.63 28.4031 L3037.63 28.4031 Z\" fill=\"#3da44d\" fill-rule=\"evenodd\" fill-opacity=\"1\" stroke=\"#000000\" stroke-opacity=\"1\" stroke-width=\"1.6\"/>\n<path clip-path=\"url(#clip3802)\" d=\"M3007.51 28.4031 L3007.51 100.403 L3079.51 100.403 L3079.51 28.4031 L3007.51 28.4031 Z\" fill=\"#3da44d\" fill-rule=\"evenodd\" fill-opacity=\"1\" stroke=\"#000000\" stroke-opacity=\"1\" stroke-width=\"1.6\"/>\n<path clip-path=\"url(#clip3802)\" d=\"M2977.4 28.4031 L2977.4 100.403 L3049.4 100.403 L3049.4 28.4031 L2977.4 28.4031 Z\" fill=\"#3da44d\" fill-rule=\"evenodd\" fill-opacity=\"1\" stroke=\"#000000\" stroke-opacity=\"1\" stroke-width=\"1.6\"/>\n<path clip-path=\"url(#clip3802)\" d=\"M2947.28 29.7397 L2947.28 101.74 L3019.28 101.74 L3019.28 29.7397 L2947.28 29.7397 Z\" fill=\"#3da44d\" fill-rule=\"evenodd\" fill-opacity=\"1\" stroke=\"#000000\" stroke-opacity=\"1\" stroke-width=\"1.6\"/>\n<path clip-path=\"url(#clip3802)\" d=\"M2904.25 30.8737 L2904.25 102.874 L2976.25 102.874 L2976.25 30.8737 L2904.25 30.8737 Z\" fill=\"#3da44d\" fill-rule=\"evenodd\" fill-opacity=\"1\" stroke=\"#000000\" stroke-opacity=\"1\" stroke-width=\"1.6\"/>\n<path clip-path=\"url(#clip3802)\" d=\"M2874.13 33.3038 L2874.13 105.304 L2946.13 105.304 L2946.13 33.3038 L2874.13 33.3038 Z\" fill=\"#3da44d\" fill-rule=\"evenodd\" fill-opacity=\"1\" stroke=\"#000000\" stroke-opacity=\"1\" stroke-width=\"1.6\"/>\n<path clip-path=\"url(#clip3802)\" d=\"M2844.02 34.0734 L2844.02 106.073 L2916.02 106.073 L2916.02 34.0734 L2844.02 34.0734 Z\" fill=\"#3da44d\" fill-rule=\"evenodd\" fill-opacity=\"1\" stroke=\"#000000\" stroke-opacity=\"1\" stroke-width=\"1.6\"/>\n<path clip-path=\"url(#clip3802)\" d=\"M2783.78 36.949 L2783.78 108.949 L2855.78 108.949 L2855.78 36.949 L2783.78 36.949 Z\" fill=\"#3da44d\" fill-rule=\"evenodd\" fill-opacity=\"1\" stroke=\"#000000\" stroke-opacity=\"1\" stroke-width=\"1.6\"/>\n<path clip-path=\"url(#clip3802)\" d=\"M2753.66 40.5131 L2753.66 112.513 L2825.66 112.513 L2825.66 40.5131 L2753.66 40.5131 Z\" fill=\"#3da44d\" fill-rule=\"evenodd\" fill-opacity=\"1\" stroke=\"#000000\" stroke-opacity=\"1\" stroke-width=\"1.6\"/>\n<path clip-path=\"url(#clip3802)\" d=\"M2723.55 43.2268 L2723.55 115.227 L2795.55 115.227 L2795.55 43.2268 L2723.55 43.2268 Z\" fill=\"#3da44d\" fill-rule=\"evenodd\" fill-opacity=\"1\" stroke=\"#000000\" stroke-opacity=\"1\" stroke-width=\"1.6\"/>\n<path clip-path=\"url(#clip3802)\" d=\"M2693.43 46.1834 L2693.43 118.183 L2765.43 118.183 L2765.43 46.1834 L2693.43 46.1834 Z\" fill=\"#3da44d\" fill-rule=\"evenodd\" fill-opacity=\"1\" stroke=\"#000000\" stroke-opacity=\"1\" stroke-width=\"1.6\"/>\n<path clip-path=\"url(#clip3802)\" d=\"M2663.31 49.1805 L2663.31 121.181 L2735.31 121.181 L2735.31 49.1805 L2663.31 49.1805 Z\" fill=\"#3da44d\" fill-rule=\"evenodd\" fill-opacity=\"1\" stroke=\"#000000\" stroke-opacity=\"1\" stroke-width=\"1.6\"/>\n<path clip-path=\"url(#clip3802)\" d=\"M2603.07 53.8382 L2603.07 125.838 L2675.07 125.838 L2675.07 53.8382 L2603.07 53.8382 Z\" fill=\"#3da44d\" fill-rule=\"evenodd\" fill-opacity=\"1\" stroke=\"#000000\" stroke-opacity=\"1\" stroke-width=\"1.6\"/>\n<path clip-path=\"url(#clip3802)\" d=\"M2572.96 54.8103 L2572.96 126.81 L2644.96 126.81 L2644.96 54.8103 L2572.96 54.8103 Z\" fill=\"#3da44d\" fill-rule=\"evenodd\" fill-opacity=\"1\" stroke=\"#000000\" stroke-opacity=\"1\" stroke-width=\"1.6\"/>\n<path clip-path=\"url(#clip3802)\" d=\"M2512.72 62.1006 L2512.72 134.101 L2584.72 134.101 L2584.72 62.1006 L2512.72 62.1006 Z\" fill=\"#3da44d\" fill-rule=\"evenodd\" fill-opacity=\"1\" stroke=\"#000000\" stroke-opacity=\"1\" stroke-width=\"1.6\"/>\n<path clip-path=\"url(#clip3802)\" d=\"M2452.48 65.3813 L2452.48 137.381 L2524.48 137.381 L2524.48 65.3813 L2452.48 65.3813 Z\" fill=\"#3da44d\" fill-rule=\"evenodd\" fill-opacity=\"1\" stroke=\"#000000\" stroke-opacity=\"1\" stroke-width=\"1.6\"/>\n<path clip-path=\"url(#clip3802)\" d=\"M2422.37 67.5684 L2422.37 139.568 L2494.37 139.568 L2494.37 67.5684 L2422.37 67.5684 Z\" fill=\"#3da44d\" fill-rule=\"evenodd\" fill-opacity=\"1\" stroke=\"#000000\" stroke-opacity=\"1\" stroke-width=\"1.6\"/>\n<path clip-path=\"url(#clip3802)\" d=\"M2392.25 69.0264 L2392.25 141.026 L2464.25 141.026 L2464.25 69.0264 L2392.25 69.0264 Z\" fill=\"#3da44d\" fill-rule=\"evenodd\" fill-opacity=\"1\" stroke=\"#000000\" stroke-opacity=\"1\" stroke-width=\"1.6\"/>\n<path clip-path=\"url(#clip3802)\" d=\"M2362.13 71.4565 L2362.13 143.457 L2434.13 143.457 L2434.13 71.4565 L2362.13 71.4565 Z\" fill=\"#3da44d\" fill-rule=\"evenodd\" fill-opacity=\"1\" stroke=\"#000000\" stroke-opacity=\"1\" stroke-width=\"1.6\"/>\n<path clip-path=\"url(#clip3802)\" d=\"M2332.01 75.2637 L2332.01 147.264 L2404.01 147.264 L2404.01 75.2637 L2332.01 75.2637 Z\" fill=\"#3da44d\" fill-rule=\"evenodd\" fill-opacity=\"1\" stroke=\"#000000\" stroke-opacity=\"1\" stroke-width=\"1.6\"/>\n<path clip-path=\"url(#clip3802)\" d=\"M2271.78 80.853 L2271.78 152.853 L2343.78 152.853 L2343.78 80.853 L2271.78 80.853 Z\" fill=\"#3da44d\" fill-rule=\"evenodd\" fill-opacity=\"1\" stroke=\"#000000\" stroke-opacity=\"1\" stroke-width=\"1.6\"/>\n<path clip-path=\"url(#clip3802)\" d=\"M2211.54 88.7508 L2211.54 160.751 L2283.54 160.751 L2283.54 88.7508 L2211.54 88.7508 Z\" fill=\"#3da44d\" fill-rule=\"evenodd\" fill-opacity=\"1\" stroke=\"#000000\" stroke-opacity=\"1\" stroke-width=\"1.6\"/>\n<path clip-path=\"url(#clip3802)\" d=\"M2151.31 96.5272 L2151.31 168.527 L2223.31 168.527 L2223.31 96.5272 L2151.31 96.5272 Z\" fill=\"#3da44d\" fill-rule=\"evenodd\" fill-opacity=\"1\" stroke=\"#000000\" stroke-opacity=\"1\" stroke-width=\"1.6\"/>\n<path clip-path=\"url(#clip3802)\" d=\"M2091.07 103.534 L2091.07 175.534 L2163.07 175.534 L2163.07 103.534 L2091.07 103.534 Z\" fill=\"#3da44d\" fill-rule=\"evenodd\" fill-opacity=\"1\" stroke=\"#000000\" stroke-opacity=\"1\" stroke-width=\"1.6\"/>\n<path clip-path=\"url(#clip3802)\" d=\"M2030.83 108.759 L2030.83 180.759 L2102.83 180.759 L2102.83 108.759 L2030.83 108.759 Z\" fill=\"#3da44d\" fill-rule=\"evenodd\" fill-opacity=\"1\" stroke=\"#000000\" stroke-opacity=\"1\" stroke-width=\"1.6\"/>\n<path clip-path=\"url(#clip3802)\" d=\"M1970.6 120.788 L1970.6 192.788 L2042.6 192.788 L2042.6 120.788 L1970.6 120.788 Z\" fill=\"#3da44d\" fill-rule=\"evenodd\" fill-opacity=\"1\" stroke=\"#000000\" stroke-opacity=\"1\" stroke-width=\"1.6\"/>\n<path clip-path=\"url(#clip3802)\" d=\"M1910.36 129.779 L1910.36 201.779 L1982.36 201.779 L1982.36 129.779 L1910.36 129.779 Z\" fill=\"#3da44d\" fill-rule=\"evenodd\" fill-opacity=\"1\" stroke=\"#000000\" stroke-opacity=\"1\" stroke-width=\"1.6\"/>\n<path clip-path=\"url(#clip3802)\" d=\"M1850.13 142.659 L1850.13 214.659 L1922.13 214.659 L1922.13 142.659 L1850.13 142.659 Z\" fill=\"#3da44d\" fill-rule=\"evenodd\" fill-opacity=\"1\" stroke=\"#000000\" stroke-opacity=\"1\" stroke-width=\"1.6\"/>\n<path clip-path=\"url(#clip3802)\" d=\"M1789.89 157.523 L1789.89 229.523 L1861.89 229.523 L1861.89 157.523 L1789.89 157.523 Z\" fill=\"#3da44d\" fill-rule=\"evenodd\" fill-opacity=\"1\" stroke=\"#000000\" stroke-opacity=\"1\" stroke-width=\"1.6\"/>\n<path clip-path=\"url(#clip3802)\" d=\"M1729.66 174.372 L1729.66 246.372 L1801.66 246.372 L1801.66 174.372 L1729.66 174.372 Z\" fill=\"#3da44d\" fill-rule=\"evenodd\" fill-opacity=\"1\" stroke=\"#000000\" stroke-opacity=\"1\" stroke-width=\"1.6\"/>\n<path clip-path=\"url(#clip3802)\" d=\"M1669.42 190.329 L1669.42 262.329 L1741.42 262.329 L1741.42 190.329 L1669.42 190.329 Z\" fill=\"#3da44d\" fill-rule=\"evenodd\" fill-opacity=\"1\" stroke=\"#000000\" stroke-opacity=\"1\" stroke-width=\"1.6\"/>\n<path clip-path=\"url(#clip3802)\" d=\"M1609.18 217.79 L1609.18 289.79 L1681.18 289.79 L1681.18 217.79 L1609.18 217.79 Z\" fill=\"#3da44d\" fill-rule=\"evenodd\" fill-opacity=\"1\" stroke=\"#000000\" stroke-opacity=\"1\" stroke-width=\"1.6\"/>\n<path clip-path=\"url(#clip3802)\" d=\"M1548.95 261.937 L1548.95 333.937 L1620.95 333.937 L1620.95 261.937 L1548.95 261.937 Z\" fill=\"#3da44d\" fill-rule=\"evenodd\" fill-opacity=\"1\" stroke=\"#000000\" stroke-opacity=\"1\" stroke-width=\"1.6\"/>\n<path clip-path=\"url(#clip3802)\" d=\"M1488.71 304.221 L1488.71 376.221 L1560.71 376.221 L1560.71 304.221 L1488.71 304.221 Z\" fill=\"#3da44d\" fill-rule=\"evenodd\" fill-opacity=\"1\" stroke=\"#000000\" stroke-opacity=\"1\" stroke-width=\"1.6\"/>\n<path clip-path=\"url(#clip3802)\" d=\"M1437.08 349.664 L1437.08 421.664 L1509.08 421.664 L1509.08 349.664 L1437.08 349.664 Z\" fill=\"#3da44d\" fill-rule=\"evenodd\" fill-opacity=\"1\" stroke=\"#000000\" stroke-opacity=\"1\" stroke-width=\"1.6\"/>\n<path clip-path=\"url(#clip3802)\" d=\"M1368.24 407.622 L1368.24 479.622 L1440.24 479.622 L1440.24 407.622 L1368.24 407.622 Z\" fill=\"#3da44d\" fill-rule=\"evenodd\" fill-opacity=\"1\" stroke=\"#000000\" stroke-opacity=\"1\" stroke-width=\"1.6\"/>\n<path clip-path=\"url(#clip3802)\" d=\"M1308 450.27 L1308 522.27 L1380 522.27 L1380 450.27 L1308 450.27 Z\" fill=\"#3da44d\" fill-rule=\"evenodd\" fill-opacity=\"1\" stroke=\"#000000\" stroke-opacity=\"1\" stroke-width=\"1.6\"/>\n<path clip-path=\"url(#clip3802)\" d=\"M1277.89 468.658 L1277.89 540.658 L1349.89 540.658 L1349.89 468.658 L1277.89 468.658 Z\" fill=\"#3da44d\" fill-rule=\"evenodd\" fill-opacity=\"1\" stroke=\"#000000\" stroke-opacity=\"1\" stroke-width=\"1.6\"/>\n<path clip-path=\"url(#clip3802)\" d=\"M1217.65 506.527 L1217.65 578.527 L1289.65 578.527 L1289.65 506.527 L1217.65 506.527 Z\" fill=\"#3da44d\" fill-rule=\"evenodd\" fill-opacity=\"1\" stroke=\"#000000\" stroke-opacity=\"1\" stroke-width=\"1.6\"/>\n<path clip-path=\"url(#clip3802)\" d=\"M1157.42 533.339 L1157.42 605.339 L1229.42 605.339 L1229.42 533.339 L1157.42 533.339 Z\" fill=\"#3da44d\" fill-rule=\"evenodd\" fill-opacity=\"1\" stroke=\"#000000\" stroke-opacity=\"1\" stroke-width=\"1.6\"/>\n<path clip-path=\"url(#clip3802)\" d=\"M1097.18 551.12 L1097.18 623.12 L1169.18 623.12 L1169.18 551.12 L1097.18 551.12 Z\" fill=\"#3da44d\" fill-rule=\"evenodd\" fill-opacity=\"1\" stroke=\"#000000\" stroke-opacity=\"1\" stroke-width=\"1.6\"/>\n<path clip-path=\"url(#clip3802)\" d=\"M1032.64 566.024 L1032.64 638.024 L1104.64 638.024 L1104.64 566.024 L1032.64 566.024 Z\" fill=\"#3da44d\" fill-rule=\"evenodd\" fill-opacity=\"1\" stroke=\"#000000\" stroke-opacity=\"1\" stroke-width=\"1.6\"/>\n<path clip-path=\"url(#clip3802)\" d=\"M1002.52 570.804 L1002.52 642.804 L1074.52 642.804 L1074.52 570.804 L1002.52 570.804 Z\" fill=\"#3da44d\" fill-rule=\"evenodd\" fill-opacity=\"1\" stroke=\"#000000\" stroke-opacity=\"1\" stroke-width=\"1.6\"/>\n<path clip-path=\"url(#clip3802)\" d=\"M959.498 577.122 L959.498 649.122 L1031.5 649.122 L1031.5 577.122 L959.498 577.122 Z\" fill=\"#3da44d\" fill-rule=\"evenodd\" fill-opacity=\"1\" stroke=\"#000000\" stroke-opacity=\"1\" stroke-width=\"1.6\"/>\n<path clip-path=\"url(#clip3802)\" d=\"M929.38 579.106 L929.38 651.106 L1001.38 651.106 L1001.38 579.106 L929.38 579.106 Z\" fill=\"#3da44d\" fill-rule=\"evenodd\" fill-opacity=\"1\" stroke=\"#000000\" stroke-opacity=\"1\" stroke-width=\"1.6\"/>\n<path clip-path=\"url(#clip3802)\" d=\"M890.657 584.291 L890.657 656.291 L962.657 656.291 L962.657 584.291 L890.657 584.291 Z\" fill=\"#3da44d\" fill-rule=\"evenodd\" fill-opacity=\"1\" stroke=\"#000000\" stroke-opacity=\"1\" stroke-width=\"1.6\"/>\n<path clip-path=\"url(#clip3802)\" d=\"M839.026 590.163 L839.026 662.163 L911.026 662.163 L911.026 590.163 L839.026 590.163 Z\" fill=\"#3da44d\" fill-rule=\"evenodd\" fill-opacity=\"1\" stroke=\"#000000\" stroke-opacity=\"1\" stroke-width=\"1.6\"/>\n<path clip-path=\"url(#clip3802)\" d=\"M774.488 596.441 L774.488 668.441 L846.488 668.441 L846.488 596.441 L774.488 596.441 Z\" fill=\"#3da44d\" fill-rule=\"evenodd\" fill-opacity=\"1\" stroke=\"#000000\" stroke-opacity=\"1\" stroke-width=\"1.6\"/>\n<path clip-path=\"url(#clip3802)\" d=\"M684.134 599.722 L684.134 671.722 L756.134 671.722 L756.134 599.722 L684.134 599.722 Z\" fill=\"#3da44d\" fill-rule=\"evenodd\" fill-opacity=\"1\" stroke=\"#000000\" stroke-opacity=\"1\" stroke-width=\"1.6\"/>\n<path clip-path=\"url(#clip3802)\" d=\"M619.596 600.37 L619.596 672.37 L691.596 672.37 L691.596 600.37 L619.596 600.37 Z\" fill=\"#3da44d\" fill-rule=\"evenodd\" fill-opacity=\"1\" stroke=\"#000000\" stroke-opacity=\"1\" stroke-width=\"1.6\"/>\n<path clip-path=\"url(#clip3802)\" d=\"M572.268 600.37 L572.268 672.37 L644.268 672.37 L644.268 600.37 L572.268 600.37 Z\" fill=\"#3da44d\" fill-rule=\"evenodd\" fill-opacity=\"1\" stroke=\"#000000\" stroke-opacity=\"1\" stroke-width=\"1.6\"/>\n<path clip-path=\"url(#clip3802)\" d=\"M499.125 600.37 L499.125 672.37 L571.125 672.37 L571.125 600.37 L499.125 600.37 Z\" fill=\"#3da44d\" fill-rule=\"evenodd\" fill-opacity=\"1\" stroke=\"#000000\" stroke-opacity=\"1\" stroke-width=\"1.6\"/>\n<path clip-path=\"url(#clip3802)\" d=\"M438.889 600.37 L438.889 672.37 L510.889 672.37 L510.889 600.37 L438.889 600.37 Z\" fill=\"#3da44d\" fill-rule=\"evenodd\" fill-opacity=\"1\" stroke=\"#000000\" stroke-opacity=\"1\" stroke-width=\"1.6\"/>\n<path clip-path=\"url(#clip3802)\" d=\"M400.166 600.37 L400.166 672.37 L472.166 672.37 L472.166 600.37 L400.166 600.37 Z\" fill=\"#3da44d\" fill-rule=\"evenodd\" fill-opacity=\"1\" stroke=\"#000000\" stroke-opacity=\"1\" stroke-width=\"1.6\"/>\n<path clip-path=\"url(#clip3800)\" d=\"\nM453.042 420.684 L1048.61 420.684 L1048.61 178.764 L453.042 178.764  Z\n  \" fill=\"#ffffff\" fill-rule=\"evenodd\" fill-opacity=\"1\"/>\n<polyline clip-path=\"url(#clip3800)\" style=\"stroke:#000000; stroke-width:4; stroke-opacity:1; fill:none\" points=\"\n  453.042,420.684 1048.61,420.684 1048.61,178.764 453.042,178.764 453.042,420.684 \n  \"/>\n<path clip-path=\"url(#clip3800)\" d=\"M597.042 263.244 L580.074 256.212 L573.042 239.244 L580.074 222.276 L597.042 215.244 L614.01 222.276 L621.042 239.244 L614.01 256.212 Z\" fill=\"#009af9\" fill-rule=\"evenodd\" fill-opacity=\"1\" stroke=\"#000000\" stroke-opacity=\"1\" stroke-width=\"1.6\"/>\n<g clip-path=\"url(#clip3800)\">\n<text style=\"fill:#000000; fill-opacity:1; font-family:Arial,Helvetica Neue,Helvetica,sans-serif; font-size:48px; text-anchor:start;\" transform=\"rotate(0, 709.042, 256.744)\" x=\"709.042\" y=\"256.744\">Guinea</text>\n</g>\n<path clip-path=\"url(#clip3800)\" d=\"M597.042 275.724 L592.866 291.084 L578.274 284.772 L587.682 297.588 L573.642 305.076 L589.53 305.7 L586.626 321.348 L597.042 309.324 L607.458 321.348 L604.554 305.7 L620.442 305.076 L606.402 297.588 L615.81 284.772 L601.218 291.084 L597.042 275.724 Z\" fill=\"#e26f46\" fill-rule=\"evenodd\" fill-opacity=\"1\" stroke=\"#000000\" stroke-opacity=\"1\" stroke-width=\"1.6\"/>\n<g clip-path=\"url(#clip3800)\">\n<text style=\"fill:#000000; fill-opacity:1; font-family:Arial,Helvetica Neue,Helvetica,sans-serif; font-size:48px; text-anchor:start;\" transform=\"rotate(0, 709.042, 317.224)\" x=\"709.042\" y=\"317.224\">Liberia</text>\n</g>\n<path clip-path=\"url(#clip3800)\" d=\"M573.042 336.204 L573.042 384.204 L621.042 384.204 L621.042 336.204 L573.042 336.204 Z\" fill=\"#3da44d\" fill-rule=\"evenodd\" fill-opacity=\"1\" stroke=\"#000000\" stroke-opacity=\"1\" stroke-width=\"1.6\"/>\n<g clip-path=\"url(#clip3800)\">\n<text style=\"fill:#000000; fill-opacity:1; font-family:Arial,Helvetica Neue,Helvetica,sans-serif; font-size:48px; text-anchor:start;\" transform=\"rotate(0, 709.042, 377.704)\" x=\"709.042\" y=\"377.704\">Sierra Leone</text>\n</g>\n</svg>\n"
          },
          "metadata": {}
        }
      ],
      "execution_count": 252,
      "metadata": {
        "collapsed": true,
        "jupyter": {
          "source_hidden": false,
          "outputs_hidden": false
        },
        "nteract": {
          "transient": {
            "deleting": false
          }
        },
        "execution": {
          "iopub.status.busy": "2020-07-31T01:34:29.875Z",
          "iopub.execute_input": "2020-07-31T01:34:29.918Z",
          "iopub.status.idle": "2020-07-31T01:34:30.000Z"
        }
      }
    },
    {
      "cell_type": "markdown",
      "source": [
        "<div align=\"center\">\n",
        "  <h2> 5. LIMPIEZA DE LOS DATOS: ASIGNANDO ETIQUETAS DE CLASIFICACIÓN</h2>\n",
        "</div>\n",
        "<p style='text-align: justify;'>"
      ],
      "metadata": {
        "nteract": {
          "transient": {
            "deleting": false
          }
        }
      }
    },
    {
      "cell_type": "code",
      "source": [
        "#Instalamos el paquete de DataFrames para la obtención de los datos\n",
        "Pkg.add(\"DataFrames\")\n",
        "using DataFrames"
      ],
      "outputs": [
        {
          "output_type": "stream",
          "name": "stderr",
          "text": [
            "\u001b[32m\u001b[1m  Resolving\u001b[22m\u001b[39m package versions...\n",
            "\u001b[32m\u001b[1m   Updating\u001b[22m\u001b[39m `~/.julia/environments/v1.4/Project.toml`\n",
            "\u001b[90m [no changes]\u001b[39m\n",
            "\u001b[32m\u001b[1m   Updating\u001b[22m\u001b[39m `~/.julia/environments/v1.4/Manifest.toml`\n",
            "\u001b[90m [no changes]\u001b[39m\n"
          ]
        }
      ],
      "execution_count": 106,
      "metadata": {
        "collapsed": true,
        "jupyter": {
          "source_hidden": false,
          "outputs_hidden": false
        },
        "nteract": {
          "transient": {
            "deleting": false
          }
        },
        "execution": {
          "iopub.status.busy": "2020-07-30T22:25:09.889Z",
          "iopub.execute_input": "2020-07-30T22:25:09.905Z",
          "iopub.status.idle": "2020-07-30T22:25:11.012Z"
        }
      }
    },
    {
      "cell_type": "code",
      "source": [
        "# Paquete para poder capturar información de archivos con formato CSV\n",
        "Pkg.add(\"CSV\")\n",
        "using CSV"
      ],
      "outputs": [
        {
          "output_type": "stream",
          "name": "stderr",
          "text": [
            "\u001b[32m\u001b[1m  Resolving\u001b[22m\u001b[39m package versions...\n",
            "\u001b[32m\u001b[1m   Updating\u001b[22m\u001b[39m `~/.julia/environments/v1.4/Project.toml`\n",
            "\u001b[90m [no changes]\u001b[39m\n",
            "\u001b[32m\u001b[1m   Updating\u001b[22m\u001b[39m `~/.julia/environments/v1.4/Manifest.toml`\n",
            "\u001b[90m [no changes]\u001b[39m\n"
          ]
        }
      ],
      "execution_count": 109,
      "metadata": {
        "collapsed": true,
        "jupyter": {
          "source_hidden": false,
          "outputs_hidden": false
        },
        "nteract": {
          "transient": {
            "deleting": false
          }
        },
        "execution": {
          "iopub.status.busy": "2020-07-30T22:25:46.198Z",
          "iopub.execute_input": "2020-07-30T22:25:46.214Z",
          "iopub.status.idle": "2020-07-30T22:25:47.777Z"
        }
      }
    },
    {
      "cell_type": "code",
      "source": [
        "#Preparamos los datos en el DataFrame EbolaCleanData\n",
        "EbolaCleanData = DataFrame(CSV.File(\"dataset_ebola_clean.csv\"))\n",
        "#Mostramos lso primeros 5 elementos\n",
        "first(EbolaCleanData, 5)"
      ],
      "outputs": [
        {
          "output_type": "execute_result",
          "execution_count": 253,
          "data": {
            "text/plain": "5×4 DataFrame. Omitted printing of 2 columns\n│ Row │ Country      │ Date       │\n│     │ \u001b[90mString\u001b[39m       │ \u001b[90mDate\u001b[39m       │\n├─────┼──────────────┼────────────┤\n│ 1   │ Guinea       │ 2014-08-29 │\n│ 2   │ Nigeria      │ 2014-08-29 │\n│ 3   │ Sierra Leone │ 2014-08-29 │\n│ 4   │ Liberia      │ 2014-08-29 │\n│ 5   │ Sierra Leone │ 2014-09-05 │",
            "text/html": "<table class=\"data-frame\"><thead><tr><th></th><th>Country</th><th>Date</th><th>Cumulative no. of confirmed, probable and suspected cases</th></tr><tr><th></th><th>String</th><th>Date</th><th>Float64⍰</th></tr></thead><tbody><p>5 rows × 4 columns (omitted printing of 1 columns)</p><tr><th>1</th><td>Guinea</td><td>2014-08-29</td><td>648.0</td></tr><tr><th>2</th><td>Nigeria</td><td>2014-08-29</td><td>19.0</td></tr><tr><th>3</th><td>Sierra Leone</td><td>2014-08-29</td><td>1026.0</td></tr><tr><th>4</th><td>Liberia</td><td>2014-08-29</td><td>1378.0</td></tr><tr><th>5</th><td>Sierra Leone</td><td>2014-09-05</td><td>1261.0</td></tr></tbody></table>",
            "text/latex": "\\begin{tabular}{r|cccc}\n\t& Country & Date & Cumulative no. of confirmed, probable and suspected cases & \\\\\n\t\\hline\n\t& String & Date & Float64⍰ & \\\\\n\t\\hline\n\t1 & Guinea & 2014-08-29 & 648.0 & $\\dots$ \\\\\n\t2 & Nigeria & 2014-08-29 & 19.0 & $\\dots$ \\\\\n\t3 & Sierra Leone & 2014-08-29 & 1026.0 & $\\dots$ \\\\\n\t4 & Liberia & 2014-08-29 & 1378.0 & $\\dots$ \\\\\n\t5 & Sierra Leone & 2014-09-05 & 1261.0 & $\\dots$ \\\\\n\\end{tabular}\n"
          },
          "metadata": {}
        }
      ],
      "execution_count": 253,
      "metadata": {
        "collapsed": true,
        "jupyter": {
          "source_hidden": false,
          "outputs_hidden": false
        },
        "nteract": {
          "transient": {
            "deleting": false
          }
        },
        "execution": {
          "iopub.status.busy": "2020-07-31T01:41:33.049Z",
          "iopub.execute_input": "2020-07-31T01:41:33.086Z",
          "iopub.status.idle": "2020-07-31T01:41:41.076Z"
        }
      }
    },
    {
      "cell_type": "code",
      "source": [
        "#Tamaño del conjunto de datos\n",
        "size(EbolaCleanData)"
      ],
      "outputs": [
        {
          "output_type": "execute_result",
          "execution_count": 118,
          "data": {
            "text/plain": "(2485, 4)"
          },
          "metadata": {}
        }
      ],
      "execution_count": 118,
      "metadata": {
        "collapsed": true,
        "jupyter": {
          "source_hidden": false,
          "outputs_hidden": false
        },
        "nteract": {
          "transient": {
            "deleting": false
          }
        },
        "execution": {
          "iopub.status.busy": "2020-07-30T22:41:12.243Z",
          "iopub.execute_input": "2020-07-30T22:41:12.265Z",
          "iopub.status.idle": "2020-07-30T22:41:12.324Z"
        }
      }
    },
    {
      "cell_type": "code",
      "source": [
        "# Verificando nombres de las columnas\n",
        "names(EbolaCleanData)"
      ],
      "outputs": [
        {
          "output_type": "execute_result",
          "execution_count": 114,
          "data": {
            "text/plain": "4-element Array{Symbol,1}:\n :Country\n :Date\n Symbol(\"Cumulative no. of confirmed, probable and suspected cases\")\n Symbol(\"Cumulative no. of confirmed, probable and suspected deaths\")"
          },
          "metadata": {}
        }
      ],
      "execution_count": 114,
      "metadata": {
        "collapsed": true,
        "jupyter": {
          "source_hidden": false,
          "outputs_hidden": false
        },
        "nteract": {
          "transient": {
            "deleting": false
          }
        },
        "execution": {
          "iopub.status.busy": "2020-07-30T22:27:56.388Z",
          "iopub.execute_input": "2020-07-30T22:27:56.404Z",
          "iopub.status.idle": "2020-07-30T22:27:58.013Z"
        }
      }
    },
    {
      "cell_type": "code",
      "source": [
        "#Creando un vector de columnas\n",
        "colnames = [\"Country\",\"Date\",\"Cases\",\"Deaths\"]\n",
        "#Reasignando los nombres al conjunto de datos\n",
        "rename!(EbolaCleanData, Symbol.(colnames))"
      ],
      "outputs": [
        {
          "output_type": "execute_result",
          "execution_count": 117,
          "data": {
            "text/plain": "2485×4 DataFrame\n│ Row  │ Country                  │ Date       │ Cases    │ Deaths  │\n│      │ \u001b[90mString\u001b[39m                   │ \u001b[90mDate\u001b[39m       │ \u001b[90mFloat64⍰\u001b[39m │ \u001b[90mFloat64\u001b[39m │\n├──────┼──────────────────────────┼────────────┼──────────┼─────────┤\n│ 1    │ Guinea                   │ 2014-08-29 │ 648.0    │ 430.0   │\n│ 2    │ Nigeria                  │ 2014-08-29 │ 19.0     │ 7.0     │\n│ 3    │ Sierra Leone             │ 2014-08-29 │ 1026.0   │ 422.0   │\n│ 4    │ Liberia                  │ 2014-08-29 │ 1378.0   │ 694.0   │\n│ 5    │ Sierra Leone             │ 2014-09-05 │ 1261.0   │ 491.0   │\n│ 6    │ Nigeria                  │ 2014-09-05 │ 22.0     │ 8.0     │\n│ 7    │ Liberia                  │ 2014-09-05 │ 1871.0   │ 1089.0  │\n│ 8    │ Guinea                   │ 2014-09-05 │ 812.0    │ 517.0   │\n│ 9    │ Senegal                  │ 2014-09-05 │ 1.0      │ 0.0     │\n│ 10   │ Senegal                  │ 2014-09-08 │ 3.0      │ 0.0     │\n⋮\n│ 2475 │ Spain                    │ 2016-03-23 │ 1.0      │ 0.0     │\n│ 2476 │ Sierra Leone             │ 2016-03-23 │ 14122.0  │ 3955.0  │\n│ 2477 │ Senegal                  │ 2016-03-23 │ 1.0      │ 0.0     │\n│ 2478 │ Mali                     │ 2016-03-23 │ 8.0      │ 6.0     │\n│ 2479 │ United Kingdom           │ 2016-03-23 │ 1.0      │ 0.0     │\n│ 2480 │ Liberia                  │ 2016-03-23 │ 9.0      │ 3.0     │\n│ 2481 │ Liberia                  │ 2016-03-23 │ 10666.0  │ 4806.0  │\n│ 2482 │ Italy                    │ 2016-03-23 │ 1.0      │ 0.0     │\n│ 2483 │ Liberia                  │ 2016-03-23 │ 5.0      │ 4.0     │\n│ 2484 │ Nigeria                  │ 2016-03-23 │ 20.0     │ 8.0     │\n│ 2485 │ United States of America │ 2016-03-23 │ 4.0      │ 1.0     │",
            "text/html": "<table class=\"data-frame\"><thead><tr><th></th><th>Country</th><th>Date</th><th>Cases</th><th>Deaths</th></tr><tr><th></th><th>String</th><th>Date</th><th>Float64⍰</th><th>Float64</th></tr></thead><tbody><p>2,485 rows × 4 columns</p><tr><th>1</th><td>Guinea</td><td>2014-08-29</td><td>648.0</td><td>430.0</td></tr><tr><th>2</th><td>Nigeria</td><td>2014-08-29</td><td>19.0</td><td>7.0</td></tr><tr><th>3</th><td>Sierra Leone</td><td>2014-08-29</td><td>1026.0</td><td>422.0</td></tr><tr><th>4</th><td>Liberia</td><td>2014-08-29</td><td>1378.0</td><td>694.0</td></tr><tr><th>5</th><td>Sierra Leone</td><td>2014-09-05</td><td>1261.0</td><td>491.0</td></tr><tr><th>6</th><td>Nigeria</td><td>2014-09-05</td><td>22.0</td><td>8.0</td></tr><tr><th>7</th><td>Liberia</td><td>2014-09-05</td><td>1871.0</td><td>1089.0</td></tr><tr><th>8</th><td>Guinea</td><td>2014-09-05</td><td>812.0</td><td>517.0</td></tr><tr><th>9</th><td>Senegal</td><td>2014-09-05</td><td>1.0</td><td>0.0</td></tr><tr><th>10</th><td>Senegal</td><td>2014-09-08</td><td>3.0</td><td>0.0</td></tr><tr><th>11</th><td>Guinea</td><td>2014-09-08</td><td>862.0</td><td>555.0</td></tr><tr><th>12</th><td>Sierra Leone</td><td>2014-09-08</td><td>1361.0</td><td>509.0</td></tr><tr><th>13</th><td>Liberia</td><td>2014-09-08</td><td>2046.0</td><td>1224.0</td></tr><tr><th>14</th><td>Nigeria</td><td>2014-09-08</td><td>21.0</td><td>8.0</td></tr><tr><th>15</th><td>Guinea</td><td>2014-09-12</td><td>861.0</td><td>557.0</td></tr><tr><th>16</th><td>Sierra Leone</td><td>2014-09-12</td><td>1424.0</td><td>524.0</td></tr><tr><th>17</th><td>Nigeria</td><td>2014-09-12</td><td>21.0</td><td>8.0</td></tr><tr><th>18</th><td>Liberia</td><td>2014-09-12</td><td>2081.0</td><td>1137.0</td></tr><tr><th>19</th><td>Senegal</td><td>2014-09-12</td><td>3.0</td><td>0.0</td></tr><tr><th>20</th><td>Senegal</td><td>2014-09-16</td><td>1.0</td><td>0.0</td></tr><tr><th>21</th><td>Sierra Leone</td><td>2014-09-16</td><td>1620.0</td><td>562.0</td></tr><tr><th>22</th><td>Guinea</td><td>2014-09-16</td><td>936.0</td><td>595.0</td></tr><tr><th>23</th><td>Nigeria</td><td>2014-09-16</td><td>21.0</td><td>8.0</td></tr><tr><th>24</th><td>Liberia</td><td>2014-09-16</td><td>2407.0</td><td>1296.0</td></tr><tr><th>25</th><td>Nigeria</td><td>2014-09-18</td><td>21.0</td><td>8.0</td></tr><tr><th>26</th><td>Guinea</td><td>2014-09-18</td><td>942.0</td><td>601.0</td></tr><tr><th>27</th><td>Sierra Leone</td><td>2014-09-18</td><td>1673.0</td><td>562.0</td></tr><tr><th>28</th><td>Liberia</td><td>2014-09-18</td><td>2710.0</td><td>1459.0</td></tr><tr><th>29</th><td>Senegal</td><td>2014-09-18</td><td>1.0</td><td>0.0</td></tr><tr><th>30</th><td>Nigeria</td><td>2014-09-22</td><td>20.0</td><td>8.0</td></tr><tr><th>&vellip;</th><td>&vellip;</td><td>&vellip;</td><td>&vellip;</td><td>&vellip;</td></tr></tbody></table>",
            "text/latex": "\\begin{tabular}{r|cccc}\n\t& Country & Date & Cases & Deaths\\\\\n\t\\hline\n\t& String & Date & Float64⍰ & Float64\\\\\n\t\\hline\n\t1 & Guinea & 2014-08-29 & 648.0 & 430.0 \\\\\n\t2 & Nigeria & 2014-08-29 & 19.0 & 7.0 \\\\\n\t3 & Sierra Leone & 2014-08-29 & 1026.0 & 422.0 \\\\\n\t4 & Liberia & 2014-08-29 & 1378.0 & 694.0 \\\\\n\t5 & Sierra Leone & 2014-09-05 & 1261.0 & 491.0 \\\\\n\t6 & Nigeria & 2014-09-05 & 22.0 & 8.0 \\\\\n\t7 & Liberia & 2014-09-05 & 1871.0 & 1089.0 \\\\\n\t8 & Guinea & 2014-09-05 & 812.0 & 517.0 \\\\\n\t9 & Senegal & 2014-09-05 & 1.0 & 0.0 \\\\\n\t10 & Senegal & 2014-09-08 & 3.0 & 0.0 \\\\\n\t11 & Guinea & 2014-09-08 & 862.0 & 555.0 \\\\\n\t12 & Sierra Leone & 2014-09-08 & 1361.0 & 509.0 \\\\\n\t13 & Liberia & 2014-09-08 & 2046.0 & 1224.0 \\\\\n\t14 & Nigeria & 2014-09-08 & 21.0 & 8.0 \\\\\n\t15 & Guinea & 2014-09-12 & 861.0 & 557.0 \\\\\n\t16 & Sierra Leone & 2014-09-12 & 1424.0 & 524.0 \\\\\n\t17 & Nigeria & 2014-09-12 & 21.0 & 8.0 \\\\\n\t18 & Liberia & 2014-09-12 & 2081.0 & 1137.0 \\\\\n\t19 & Senegal & 2014-09-12 & 3.0 & 0.0 \\\\\n\t20 & Senegal & 2014-09-16 & 1.0 & 0.0 \\\\\n\t21 & Sierra Leone & 2014-09-16 & 1620.0 & 562.0 \\\\\n\t22 & Guinea & 2014-09-16 & 936.0 & 595.0 \\\\\n\t23 & Nigeria & 2014-09-16 & 21.0 & 8.0 \\\\\n\t24 & Liberia & 2014-09-16 & 2407.0 & 1296.0 \\\\\n\t25 & Nigeria & 2014-09-18 & 21.0 & 8.0 \\\\\n\t26 & Guinea & 2014-09-18 & 942.0 & 601.0 \\\\\n\t27 & Sierra Leone & 2014-09-18 & 1673.0 & 562.0 \\\\\n\t28 & Liberia & 2014-09-18 & 2710.0 & 1459.0 \\\\\n\t29 & Senegal & 2014-09-18 & 1.0 & 0.0 \\\\\n\t30 & Nigeria & 2014-09-22 & 20.0 & 8.0 \\\\\n\t$\\dots$ & $\\dots$ & $\\dots$ & $\\dots$ & $\\dots$ \\\\\n\\end{tabular}\n"
          },
          "metadata": {}
        }
      ],
      "execution_count": 117,
      "metadata": {
        "collapsed": true,
        "jupyter": {
          "source_hidden": false,
          "outputs_hidden": false
        },
        "nteract": {
          "transient": {
            "deleting": false
          }
        },
        "execution": {
          "iopub.status.busy": "2020-07-30T22:31:37.998Z",
          "iopub.execute_input": "2020-07-30T22:31:38.016Z",
          "iopub.status.idle": "2020-07-30T22:31:38.053Z"
        }
      }
    },
    {
      "cell_type": "code",
      "source": [
        "# Borrando todos aquellos datos clasificados como missing\n",
        "dropmissing!(EbolaCleanData)"
      ],
      "outputs": [
        {
          "output_type": "execute_result",
          "execution_count": 150,
          "data": {
            "text/plain": "2477×4 DataFrame\n│ Row  │ Country                  │ Date       │ Cases   │ Deaths  │\n│      │ \u001b[90mString\u001b[39m                   │ \u001b[90mDate\u001b[39m       │ \u001b[90mFloat64\u001b[39m │ \u001b[90mFloat64\u001b[39m │\n├──────┼──────────────────────────┼────────────┼─────────┼─────────┤\n│ 1    │ Guinea                   │ 2014-08-29 │ 648.0   │ 430.0   │\n│ 2    │ Nigeria                  │ 2014-08-29 │ 19.0    │ 7.0     │\n│ 3    │ Sierra Leone             │ 2014-08-29 │ 1026.0  │ 422.0   │\n│ 4    │ Liberia                  │ 2014-08-29 │ 1378.0  │ 694.0   │\n│ 5    │ Sierra Leone             │ 2014-09-05 │ 1261.0  │ 491.0   │\n│ 6    │ Nigeria                  │ 2014-09-05 │ 22.0    │ 8.0     │\n│ 7    │ Liberia                  │ 2014-09-05 │ 1871.0  │ 1089.0  │\n│ 8    │ Guinea                   │ 2014-09-05 │ 812.0   │ 517.0   │\n│ 9    │ Senegal                  │ 2014-09-05 │ 1.0     │ 0.0     │\n│ 10   │ Senegal                  │ 2014-09-08 │ 3.0     │ 0.0     │\n⋮\n│ 2467 │ Spain                    │ 2016-03-23 │ 1.0     │ 0.0     │\n│ 2468 │ Sierra Leone             │ 2016-03-23 │ 14122.0 │ 3955.0  │\n│ 2469 │ Senegal                  │ 2016-03-23 │ 1.0     │ 0.0     │\n│ 2470 │ Mali                     │ 2016-03-23 │ 8.0     │ 6.0     │\n│ 2471 │ United Kingdom           │ 2016-03-23 │ 1.0     │ 0.0     │\n│ 2472 │ Liberia                  │ 2016-03-23 │ 9.0     │ 3.0     │\n│ 2473 │ Liberia                  │ 2016-03-23 │ 10666.0 │ 4806.0  │\n│ 2474 │ Italy                    │ 2016-03-23 │ 1.0     │ 0.0     │\n│ 2475 │ Liberia                  │ 2016-03-23 │ 5.0     │ 4.0     │\n│ 2476 │ Nigeria                  │ 2016-03-23 │ 20.0    │ 8.0     │\n│ 2477 │ United States of America │ 2016-03-23 │ 4.0     │ 1.0     │",
            "text/html": "<table class=\"data-frame\"><thead><tr><th></th><th>Country</th><th>Date</th><th>Cases</th><th>Deaths</th></tr><tr><th></th><th>String</th><th>Date</th><th>Float64</th><th>Float64</th></tr></thead><tbody><p>2,477 rows × 4 columns</p><tr><th>1</th><td>Guinea</td><td>2014-08-29</td><td>648.0</td><td>430.0</td></tr><tr><th>2</th><td>Nigeria</td><td>2014-08-29</td><td>19.0</td><td>7.0</td></tr><tr><th>3</th><td>Sierra Leone</td><td>2014-08-29</td><td>1026.0</td><td>422.0</td></tr><tr><th>4</th><td>Liberia</td><td>2014-08-29</td><td>1378.0</td><td>694.0</td></tr><tr><th>5</th><td>Sierra Leone</td><td>2014-09-05</td><td>1261.0</td><td>491.0</td></tr><tr><th>6</th><td>Nigeria</td><td>2014-09-05</td><td>22.0</td><td>8.0</td></tr><tr><th>7</th><td>Liberia</td><td>2014-09-05</td><td>1871.0</td><td>1089.0</td></tr><tr><th>8</th><td>Guinea</td><td>2014-09-05</td><td>812.0</td><td>517.0</td></tr><tr><th>9</th><td>Senegal</td><td>2014-09-05</td><td>1.0</td><td>0.0</td></tr><tr><th>10</th><td>Senegal</td><td>2014-09-08</td><td>3.0</td><td>0.0</td></tr><tr><th>11</th><td>Guinea</td><td>2014-09-08</td><td>862.0</td><td>555.0</td></tr><tr><th>12</th><td>Sierra Leone</td><td>2014-09-08</td><td>1361.0</td><td>509.0</td></tr><tr><th>13</th><td>Liberia</td><td>2014-09-08</td><td>2046.0</td><td>1224.0</td></tr><tr><th>14</th><td>Nigeria</td><td>2014-09-08</td><td>21.0</td><td>8.0</td></tr><tr><th>15</th><td>Guinea</td><td>2014-09-12</td><td>861.0</td><td>557.0</td></tr><tr><th>16</th><td>Sierra Leone</td><td>2014-09-12</td><td>1424.0</td><td>524.0</td></tr><tr><th>17</th><td>Nigeria</td><td>2014-09-12</td><td>21.0</td><td>8.0</td></tr><tr><th>18</th><td>Liberia</td><td>2014-09-12</td><td>2081.0</td><td>1137.0</td></tr><tr><th>19</th><td>Senegal</td><td>2014-09-12</td><td>3.0</td><td>0.0</td></tr><tr><th>20</th><td>Senegal</td><td>2014-09-16</td><td>1.0</td><td>0.0</td></tr><tr><th>21</th><td>Sierra Leone</td><td>2014-09-16</td><td>1620.0</td><td>562.0</td></tr><tr><th>22</th><td>Guinea</td><td>2014-09-16</td><td>936.0</td><td>595.0</td></tr><tr><th>23</th><td>Nigeria</td><td>2014-09-16</td><td>21.0</td><td>8.0</td></tr><tr><th>24</th><td>Liberia</td><td>2014-09-16</td><td>2407.0</td><td>1296.0</td></tr><tr><th>25</th><td>Nigeria</td><td>2014-09-18</td><td>21.0</td><td>8.0</td></tr><tr><th>26</th><td>Guinea</td><td>2014-09-18</td><td>942.0</td><td>601.0</td></tr><tr><th>27</th><td>Sierra Leone</td><td>2014-09-18</td><td>1673.0</td><td>562.0</td></tr><tr><th>28</th><td>Liberia</td><td>2014-09-18</td><td>2710.0</td><td>1459.0</td></tr><tr><th>29</th><td>Senegal</td><td>2014-09-18</td><td>1.0</td><td>0.0</td></tr><tr><th>30</th><td>Nigeria</td><td>2014-09-22</td><td>20.0</td><td>8.0</td></tr><tr><th>&vellip;</th><td>&vellip;</td><td>&vellip;</td><td>&vellip;</td><td>&vellip;</td></tr></tbody></table>",
            "text/latex": "\\begin{tabular}{r|cccc}\n\t& Country & Date & Cases & Deaths\\\\\n\t\\hline\n\t& String & Date & Float64 & Float64\\\\\n\t\\hline\n\t1 & Guinea & 2014-08-29 & 648.0 & 430.0 \\\\\n\t2 & Nigeria & 2014-08-29 & 19.0 & 7.0 \\\\\n\t3 & Sierra Leone & 2014-08-29 & 1026.0 & 422.0 \\\\\n\t4 & Liberia & 2014-08-29 & 1378.0 & 694.0 \\\\\n\t5 & Sierra Leone & 2014-09-05 & 1261.0 & 491.0 \\\\\n\t6 & Nigeria & 2014-09-05 & 22.0 & 8.0 \\\\\n\t7 & Liberia & 2014-09-05 & 1871.0 & 1089.0 \\\\\n\t8 & Guinea & 2014-09-05 & 812.0 & 517.0 \\\\\n\t9 & Senegal & 2014-09-05 & 1.0 & 0.0 \\\\\n\t10 & Senegal & 2014-09-08 & 3.0 & 0.0 \\\\\n\t11 & Guinea & 2014-09-08 & 862.0 & 555.0 \\\\\n\t12 & Sierra Leone & 2014-09-08 & 1361.0 & 509.0 \\\\\n\t13 & Liberia & 2014-09-08 & 2046.0 & 1224.0 \\\\\n\t14 & Nigeria & 2014-09-08 & 21.0 & 8.0 \\\\\n\t15 & Guinea & 2014-09-12 & 861.0 & 557.0 \\\\\n\t16 & Sierra Leone & 2014-09-12 & 1424.0 & 524.0 \\\\\n\t17 & Nigeria & 2014-09-12 & 21.0 & 8.0 \\\\\n\t18 & Liberia & 2014-09-12 & 2081.0 & 1137.0 \\\\\n\t19 & Senegal & 2014-09-12 & 3.0 & 0.0 \\\\\n\t20 & Senegal & 2014-09-16 & 1.0 & 0.0 \\\\\n\t21 & Sierra Leone & 2014-09-16 & 1620.0 & 562.0 \\\\\n\t22 & Guinea & 2014-09-16 & 936.0 & 595.0 \\\\\n\t23 & Nigeria & 2014-09-16 & 21.0 & 8.0 \\\\\n\t24 & Liberia & 2014-09-16 & 2407.0 & 1296.0 \\\\\n\t25 & Nigeria & 2014-09-18 & 21.0 & 8.0 \\\\\n\t26 & Guinea & 2014-09-18 & 942.0 & 601.0 \\\\\n\t27 & Sierra Leone & 2014-09-18 & 1673.0 & 562.0 \\\\\n\t28 & Liberia & 2014-09-18 & 2710.0 & 1459.0 \\\\\n\t29 & Senegal & 2014-09-18 & 1.0 & 0.0 \\\\\n\t30 & Nigeria & 2014-09-22 & 20.0 & 8.0 \\\\\n\t$\\dots$ & $\\dots$ & $\\dots$ & $\\dots$ & $\\dots$ \\\\\n\\end{tabular}\n"
          },
          "metadata": {}
        }
      ],
      "execution_count": 150,
      "metadata": {
        "collapsed": true,
        "jupyter": {
          "source_hidden": false,
          "outputs_hidden": false
        },
        "nteract": {
          "transient": {
            "deleting": false
          }
        },
        "execution": {
          "iopub.status.busy": "2020-07-30T23:57:18.526Z",
          "iopub.execute_input": "2020-07-30T23:57:18.553Z",
          "iopub.status.idle": "2020-07-30T23:57:18.606Z"
        }
      }
    },
    {
      "cell_type": "markdown",
      "source": [
        "<div align=\"center\">\n",
        "  <h2> 6. ALGORITMOS DE CLASIFICACIÓN</h2>\n",
        "</div>\n",
        "<p style='text-align: justify;'>\n",
        "  En pocas palabras, la clasificación es la tarea de predecir una etiqueta para una observación dada. Por ejemplo: se le dan ciertas descripciones físicas de un animal, y su tarea es clasificarlas como perro o gato. Aquí, clasificaremos las flores de iris.\n",
        "\n",
        "Como veremos más adelante, utilizaremos diferentes clasificadores y, al final de este cuaderno, los compararemos. Definiremos nuestra función de precisión ahora mismo para quitarla del camino. Utilizaremos una función de precisión simple que devuelve la relación del número de observaciones clasificadas correctamente al número total de predicciones\n",
        "  </p>"
      ],
      "metadata": {
        "nteract": {
          "transient": {
            "deleting": false
          }
        }
      }
    },
    {
      "cell_type": "code",
      "source": [
        "#Importando los paquetes necesarios\n",
        "Pkg.add(\"GLMNet\")\n",
        "Pkg.add(\"RDatasets\")\n",
        "Pkg.add(\"MLBase\")\n",
        "Pkg.add(\"Plots\")\n",
        "Pkg.add(\"DecisionTree\")\n",
        "Pkg.add(\"Distances\")\n",
        "Pkg.add(\"NearestNeighbors\")\n",
        "Pkg.add(\"Random\")\n",
        "Pkg.add(\"LinearAlgebra\")\n",
        "Pkg.add(\"DataStructures\")\n",
        "Pkg.add(\"LIBSVM\")"
      ],
      "outputs": [
        {
          "output_type": "stream",
          "name": "stderr",
          "text": [
            "\u001b[32m\u001b[1m  Resolving\u001b[22m\u001b[39m package versions...\n",
            "\u001b[32m\u001b[1m   Updating\u001b[22m\u001b[39m `~/.julia/environments/v1.4/Project.toml`\n",
            "\u001b[90m [no changes]\u001b[39m\n",
            "\u001b[32m\u001b[1m   Updating\u001b[22m\u001b[39m `~/.julia/environments/v1.4/Manifest.toml`\n",
            "\u001b[90m [no changes]\u001b[39m\n",
            "\u001b[32m\u001b[1m  Resolving\u001b[22m\u001b[39m package versions...\n",
            "\u001b[32m\u001b[1m   Updating\u001b[22m\u001b[39m `~/.julia/environments/v1.4/Project.toml`\n",
            "\u001b[90m [no changes]\u001b[39m\n",
            "\u001b[32m\u001b[1m   Updating\u001b[22m\u001b[39m `~/.julia/environments/v1.4/Manifest.toml`\n",
            "\u001b[90m [no changes]\u001b[39m\n",
            "\u001b[32m\u001b[1m  Resolving\u001b[22m\u001b[39m package versions...\n",
            "\u001b[32m\u001b[1m   Updating\u001b[22m\u001b[39m `~/.julia/environments/v1.4/Project.toml`\n",
            "\u001b[90m [no changes]\u001b[39m\n",
            "\u001b[32m\u001b[1m   Updating\u001b[22m\u001b[39m `~/.julia/environments/v1.4/Manifest.toml`\n",
            "\u001b[90m [no changes]\u001b[39m\n",
            "\u001b[32m\u001b[1m  Resolving\u001b[22m\u001b[39m package versions...\n",
            "\u001b[32m\u001b[1m   Updating\u001b[22m\u001b[39m `~/.julia/environments/v1.4/Project.toml`\n",
            "\u001b[90m [no changes]\u001b[39m\n",
            "\u001b[32m\u001b[1m   Updating\u001b[22m\u001b[39m `~/.julia/environments/v1.4/Manifest.toml`\n",
            "\u001b[90m [no changes]\u001b[39m\n",
            "\u001b[32m\u001b[1m  Resolving\u001b[22m\u001b[39m package versions...\n",
            "\u001b[32m\u001b[1m   Updating\u001b[22m\u001b[39m `~/.julia/environments/v1.4/Project.toml`\n",
            "\u001b[90m [no changes]\u001b[39m\n",
            "\u001b[32m\u001b[1m   Updating\u001b[22m\u001b[39m `~/.julia/environments/v1.4/Manifest.toml`\n",
            "\u001b[90m [no changes]\u001b[39m\n",
            "\u001b[32m\u001b[1m  Resolving\u001b[22m\u001b[39m package versions...\n",
            "\u001b[32m\u001b[1m   Updating\u001b[22m\u001b[39m `~/.julia/environments/v1.4/Project.toml`\n",
            "\u001b[90m [no changes]\u001b[39m\n",
            "\u001b[32m\u001b[1m   Updating\u001b[22m\u001b[39m `~/.julia/environments/v1.4/Manifest.toml`\n",
            "\u001b[90m [no changes]\u001b[39m\n",
            "\u001b[32m\u001b[1m  Resolving\u001b[22m\u001b[39m package versions...\n",
            "\u001b[32m\u001b[1m   Updating\u001b[22m\u001b[39m `~/.julia/environments/v1.4/Project.toml`\n",
            "\u001b[90m [no changes]\u001b[39m\n",
            "\u001b[32m\u001b[1m   Updating\u001b[22m\u001b[39m `~/.julia/environments/v1.4/Manifest.toml`\n",
            "\u001b[90m [no changes]\u001b[39m\n",
            "\u001b[32m\u001b[1m  Resolving\u001b[22m\u001b[39m package versions...\n",
            "\u001b[32m\u001b[1m   Updating\u001b[22m\u001b[39m `~/.julia/environments/v1.4/Project.toml`\n",
            "\u001b[90m [no changes]\u001b[39m\n",
            "\u001b[32m\u001b[1m   Updating\u001b[22m\u001b[39m `~/.julia/environments/v1.4/Manifest.toml`\n",
            "\u001b[90m [no changes]\u001b[39m\n",
            "\u001b[32m\u001b[1m  Resolving\u001b[22m\u001b[39m package versions...\n",
            "\u001b[32m\u001b[1m   Updating\u001b[22m\u001b[39m `~/.julia/environments/v1.4/Project.toml`\n",
            "\u001b[90m [no changes]\u001b[39m\n",
            "\u001b[32m\u001b[1m   Updating\u001b[22m\u001b[39m `~/.julia/environments/v1.4/Manifest.toml`\n",
            "\u001b[90m [no changes]\u001b[39m\n",
            "\u001b[32m\u001b[1m  Resolving\u001b[22m\u001b[39m package versions...\n",
            "\u001b[32m\u001b[1m   Updating\u001b[22m\u001b[39m `~/.julia/environments/v1.4/Project.toml`\n",
            "\u001b[90m [no changes]\u001b[39m\n",
            "\u001b[32m\u001b[1m   Updating\u001b[22m\u001b[39m `~/.julia/environments/v1.4/Manifest.toml`\n",
            "\u001b[90m [no changes]\u001b[39m\n",
            "\u001b[32m\u001b[1m  Resolving\u001b[22m\u001b[39m package versions...\n",
            "\u001b[32m\u001b[1m   Updating\u001b[22m\u001b[39m `~/.julia/environments/v1.4/Project.toml`\n",
            "\u001b[90m [no changes]\u001b[39m\n",
            "\u001b[32m\u001b[1m   Updating\u001b[22m\u001b[39m `~/.julia/environments/v1.4/Manifest.toml`\n",
            "\u001b[90m [no changes]\u001b[39m\n"
          ]
        }
      ],
      "execution_count": 151,
      "metadata": {
        "collapsed": true,
        "jupyter": {
          "source_hidden": false,
          "outputs_hidden": false
        },
        "nteract": {
          "transient": {
            "deleting": false
          }
        },
        "execution": {
          "iopub.status.busy": "2020-07-30T23:57:22.399Z",
          "iopub.execute_input": "2020-07-30T23:57:22.417Z",
          "iopub.status.idle": "2020-07-30T23:57:30.764Z"
        }
      }
    },
    {
      "cell_type": "code",
      "source": [
        "# Estableciendo el uso de los paquetes importados\n",
        "using GLMNet\n",
        "using RDatasets\n",
        "using MLBase\n",
        "using Plots\n",
        "using DecisionTree\n",
        "using Distances\n",
        "using NearestNeighbors\n",
        "using Random\n",
        "using LinearAlgebra\n",
        "using DataStructures\n",
        "using LIBSVM"
      ],
      "outputs": [],
      "execution_count": 152,
      "metadata": {
        "collapsed": true,
        "jupyter": {
          "source_hidden": false,
          "outputs_hidden": false
        },
        "nteract": {
          "transient": {
            "deleting": false
          }
        },
        "execution": {
          "iopub.status.busy": "2020-07-30T23:57:41.281Z",
          "iopub.execute_input": "2020-07-30T23:57:41.302Z",
          "iopub.status.idle": "2020-07-30T23:57:41.335Z"
        }
      }
    },
    {
      "cell_type": "code",
      "source": [
        "# Separando en la variable X la Matrix del conjunto de datos separados \n",
        "# de la variable objetivo\n",
        "X = Matrix(EbolaCleanData[:,3:4])\n"
      ],
      "outputs": [
        {
          "output_type": "execute_result",
          "execution_count": 155,
          "data": {
            "text/plain": "2477×2 Array{Float64,2}:\n   648.0   430.0\n    19.0     7.0\n  1026.0   422.0\n  1378.0   694.0\n  1261.0   491.0\n    22.0     8.0\n  1871.0  1089.0\n   812.0   517.0\n     1.0     0.0\n     3.0     0.0\n   862.0   555.0\n  1361.0   509.0\n  2046.0  1224.0\n     ⋮    \n  3804.0  2536.0\n     1.0     0.0\n 14122.0  3955.0\n     1.0     0.0\n     8.0     6.0\n     1.0     0.0\n     9.0     3.0\n 10666.0  4806.0\n     1.0     0.0\n     5.0     4.0\n    20.0     8.0\n     4.0     1.0"
          },
          "metadata": {}
        }
      ],
      "execution_count": 155,
      "metadata": {
        "collapsed": true,
        "jupyter": {
          "source_hidden": false,
          "outputs_hidden": false
        },
        "nteract": {
          "transient": {
            "deleting": false
          }
        },
        "execution": {
          "iopub.status.busy": "2020-07-30T23:58:36.024Z",
          "iopub.execute_input": "2020-07-30T23:58:36.048Z",
          "iopub.status.idle": "2020-07-30T23:58:36.632Z"
        }
      }
    },
    {
      "cell_type": "code",
      "source": [
        "\n",
        "#Capturando las etiquetas (variable objetivo que nos interesa clasificar)\n",
        "ebolalabels=convert.(String,EbolaCleanData[:,1])"
      ],
      "outputs": [
        {
          "output_type": "execute_result",
          "execution_count": 161,
          "data": {
            "text/plain": "2477-element Array{String,1}:\n \"Guinea\"\n \"Nigeria\"\n \"Sierra Leone\"\n \"Liberia\"\n \"Sierra Leone\"\n \"Nigeria\"\n \"Liberia\"\n \"Guinea\"\n \"Senegal\"\n \"Senegal\"\n \"Guinea\"\n \"Sierra Leone\"\n \"Liberia\"\n ⋮\n \"Guinea\"\n \"Spain\"\n \"Sierra Leone\"\n \"Senegal\"\n \"Mali\"\n \"United Kingdom\"\n \"Liberia\"\n \"Liberia\"\n \"Italy\"\n \"Liberia\"\n \"Nigeria\"\n \"United States of America\""
          },
          "metadata": {}
        }
      ],
      "execution_count": 161,
      "metadata": {
        "collapsed": true,
        "jupyter": {
          "source_hidden": false,
          "outputs_hidden": false
        },
        "nteract": {
          "transient": {
            "deleting": false
          }
        },
        "execution": {
          "iopub.status.busy": "2020-07-31T00:02:28.368Z",
          "iopub.execute_input": "2020-07-31T00:02:28.385Z",
          "iopub.status.idle": "2020-07-31T00:02:28.428Z"
        }
      }
    },
    {
      "cell_type": "code",
      "source": [
        "#Convirtiendo en la variable categórica a variable numérica\n",
        "ebolalabelsmap = labelmap(ebolalabels)\n",
        "# asignando a la variable \"y\" la conversión\n",
        "y = labelencode(ebolalabelsmap, ebolalabels)"
      ],
      "outputs": [
        {
          "output_type": "execute_result",
          "execution_count": 162,
          "data": {
            "text/plain": "2477-element Array{Int64,1}:\n  1\n  2\n  3\n  4\n  3\n  2\n  4\n  1\n  5\n  5\n  1\n  3\n  4\n  ⋮\n  1\n  7\n  3\n  5\n  8\n  9\n  4\n  4\n 10\n  4\n  2\n  6"
          },
          "metadata": {}
        }
      ],
      "execution_count": 162,
      "metadata": {
        "collapsed": true,
        "jupyter": {
          "source_hidden": false,
          "outputs_hidden": false
        },
        "nteract": {
          "transient": {
            "deleting": false
          }
        },
        "execution": {
          "iopub.status.busy": "2020-07-31T00:02:38.617Z",
          "iopub.execute_input": "2020-07-31T00:02:38.638Z",
          "iopub.status.idle": "2020-07-31T00:02:38.681Z"
        }
      }
    },
    {
      "cell_type": "markdown",
      "source": [
        "En la clasificación, a menudo queremos utilizar algunos de los datos para ajustar un modelo, y el resto de los datos para validar (comúnmente conocidos como datos de entrenamiento y pruebas). Vamos a tener estos datos listos ahora para que podamos usarlos fácilmente en el resto de este portátil."
      ],
      "metadata": {
        "nteract": {
          "transient": {
            "deleting": false
          }
        }
      }
    },
    {
      "cell_type": "code",
      "source": [
        "findaccuracy(predictedvals,groundtruthvals) = sum(predictedvals.==groundtruthvals)/length(groundtruthvals)"
      ],
      "outputs": [
        {
          "output_type": "execute_result",
          "execution_count": 147,
          "data": {
            "text/plain": "findaccuracy (generic function with 1 method)"
          },
          "metadata": {}
        }
      ],
      "execution_count": 147,
      "metadata": {
        "collapsed": true,
        "jupyter": {
          "source_hidden": false,
          "outputs_hidden": false
        },
        "nteract": {
          "transient": {
            "deleting": false
          }
        },
        "execution": {
          "iopub.status.busy": "2020-07-30T23:56:32.439Z",
          "iopub.execute_input": "2020-07-30T23:56:32.461Z",
          "iopub.status.idle": "2020-07-30T23:56:32.511Z"
        }
      }
    },
    {
      "cell_type": "code",
      "source": [
        "function perclass_splits(y,at)\n",
        "    uids = unique(y)\n",
        "    keepids = []\n",
        "    for ui in uids\n",
        "        curids = findall(y.==ui)\n",
        "        rowids = randsubseq(curids, at) \n",
        "        push!(keepids,rowids...)\n",
        "    end\n",
        "    return keepids\n",
        "end"
      ],
      "outputs": [
        {
          "output_type": "execute_result",
          "execution_count": 163,
          "data": {
            "text/plain": "perclass_splits (generic function with 1 method)"
          },
          "metadata": {}
        }
      ],
      "execution_count": 163,
      "metadata": {
        "collapsed": true,
        "jupyter": {
          "source_hidden": false,
          "outputs_hidden": false
        },
        "nteract": {
          "transient": {
            "deleting": false
          }
        },
        "execution": {
          "iopub.status.busy": "2020-07-31T00:03:31.510Z",
          "iopub.execute_input": "2020-07-31T00:03:31.530Z",
          "iopub.status.idle": "2020-07-31T00:03:31.579Z"
        }
      }
    },
    {
      "cell_type": "code",
      "source": [
        "# Separando nuestro conjunto de datos en datos de entrenamiento \n",
        "# y datos de prueba\n",
        "trainids = perclass_splits(y,0.7)\n",
        "testids = setdiff(1:length(y),trainids)"
      ],
      "outputs": [
        {
          "output_type": "execute_result",
          "execution_count": 164,
          "data": {
            "text/plain": "758-element Array{Int64,1}:\n    2\n    7\n    9\n   12\n   14\n   19\n   20\n   21\n   23\n   28\n   33\n   43\n   48\n    ⋮\n 2452\n 2453\n 2454\n 2457\n 2459\n 2460\n 2463\n 2464\n 2472\n 2475\n 2476\n 2477"
          },
          "metadata": {}
        }
      ],
      "execution_count": 164,
      "metadata": {
        "collapsed": true,
        "jupyter": {
          "source_hidden": false,
          "outputs_hidden": false
        },
        "nteract": {
          "transient": {
            "deleting": false
          }
        },
        "execution": {
          "iopub.status.busy": "2020-07-31T00:03:46.956Z",
          "iopub.execute_input": "2020-07-31T00:03:46.976Z",
          "iopub.status.idle": "2020-07-31T00:03:47.297Z"
        }
      }
    },
    {
      "cell_type": "markdown",
      "source": [
        "Necesitaremos una función más, y esa es la función que asignará clases basadas en los valores pronosticados cuando los valores predichos son continuos."
      ],
      "metadata": {
        "nteract": {
          "transient": {
            "deleting": false
          }
        }
      }
    },
    {
      "cell_type": "code",
      "source": [
        "assign_class(predictedvalue) = argmin(abs.(predictedvalue .- [1,2,3]))"
      ],
      "outputs": [
        {
          "output_type": "execute_result",
          "execution_count": 165,
          "data": {
            "text/plain": "assign_class (generic function with 1 method)"
          },
          "metadata": {}
        }
      ],
      "execution_count": 165,
      "metadata": {
        "collapsed": true,
        "jupyter": {
          "source_hidden": false,
          "outputs_hidden": false
        },
        "nteract": {
          "transient": {
            "deleting": false
          }
        },
        "execution": {
          "iopub.status.busy": "2020-07-31T00:04:26.379Z",
          "iopub.execute_input": "2020-07-31T00:04:26.405Z",
          "iopub.status.idle": "2020-07-31T00:04:26.455Z"
        }
      }
    },
    {
      "cell_type": "markdown",
      "source": [
        "## 6.1 Árboles de Decisión (Decision Trees)\n",
        "\n",
        "Dado un conjunto de datos se fabrican diagramas de construcciones lógicas, muy similares a los sistemas de predicción basados en reglas, que sirven para representar y categorizar una serie de condiciones que ocurren de forma sucesiva, para la resolución de un problema."
      ],
      "metadata": {
        "nteract": {
          "transient": {
            "deleting": false
          }
        }
      }
    },
    {
      "cell_type": "code",
      "source": [
        "model = DecisionTreeClassifier(max_depth=8)\n",
        "DecisionTree.fit!(model, X[trainids,:], y[trainids])"
      ],
      "outputs": [
        {
          "output_type": "execute_result",
          "execution_count": 192,
          "data": {
            "text/plain": "DecisionTreeClassifier\nmax_depth:                8\nmin_samples_leaf:         1\nmin_samples_split:        2\nmin_purity_increase:      0.0\npruning_purity_threshold: 1.0\nn_subfeatures:            0\nclasses:                  [1, 2, 3, 4, 5, 6, 7, 8, 9, 10]\nroot:                     Decision Tree\nLeaves: 24\nDepth:  8"
          },
          "metadata": {}
        }
      ],
      "execution_count": 192,
      "metadata": {
        "collapsed": true,
        "jupyter": {
          "source_hidden": false,
          "outputs_hidden": false
        },
        "nteract": {
          "transient": {
            "deleting": false
          }
        },
        "execution": {
          "iopub.status.busy": "2020-07-31T00:06:42.034Z",
          "iopub.execute_input": "2020-07-31T00:06:42.053Z",
          "iopub.status.idle": "2020-07-31T00:06:42.097Z"
        }
      }
    },
    {
      "cell_type": "code",
      "source": [
        "q = X[testids,:];\n",
        "predictions_DT = DecisionTree.predict(model, q)\n",
        "findaccuracy(predictions_DT,y[testids])"
      ],
      "outputs": [
        {
          "output_type": "execute_result",
          "execution_count": 193,
          "data": {
            "text/plain": "0.7427440633245382"
          },
          "metadata": {}
        }
      ],
      "execution_count": 193,
      "metadata": {
        "collapsed": true,
        "jupyter": {
          "source_hidden": false,
          "outputs_hidden": false
        },
        "nteract": {
          "transient": {
            "deleting": false
          }
        },
        "execution": {
          "iopub.status.busy": "2020-07-31T00:06:43.349Z",
          "iopub.execute_input": "2020-07-31T00:06:43.373Z",
          "iopub.status.idle": "2020-07-31T00:06:43.417Z"
        }
      }
    },
    {
      "cell_type": "code",
      "source": [
        "print_tree(model, 4)"
      ],
      "outputs": [
        {
          "output_type": "stream",
          "name": "stdout",
          "text": [
            "Feature 1, Threshold 5.0\n",
            "L-> Feature 2, Threshold 0.5\n",
            "    L-> Feature 1, Threshold 0.5\n",
            "        L-> 9 : 2/2\n",
            "        R-> Feature 1, Threshold 2.0\n",
            "            L-> 7 : 172/594\n",
            "            R-> 5 : 1/1\n",
            "    R-> Feature 1, Threshold 1.5\n",
            "        L-> 8 : 4/4\n",
            "        R-> Feature 2, Threshold 2.0\n",
            "            L-> \n",
            "            R-> 8 : 2/2\n",
            "R-> Feature 1, Threshold 335.0\n",
            "    L-> Feature 1, Threshold 14.5\n",
            "        L-> Feature 2, Threshold 4.0\n",
            "            L-> 4 : 68/68\n",
            "            R-> 8 : 155/155\n",
            "        R-> 2 : 179/179\n",
            "    R-> Feature 1, Threshold 3822.0\n",
            "        L-> Feature 2, Threshold 1852.5\n",
            "            L-> \n",
            "            R-> 1 : 140/140\n",
            "        R-> Feature 1, Threshold 10686.5\n",
            "            L-> \n",
            "            R-> 3 : 137/137\n"
          ]
        }
      ],
      "execution_count": 195,
      "metadata": {
        "collapsed": true,
        "jupyter": {
          "source_hidden": false,
          "outputs_hidden": false
        },
        "nteract": {
          "transient": {
            "deleting": false
          }
        },
        "execution": {
          "iopub.status.busy": "2020-07-31T00:06:52.371Z",
          "iopub.execute_input": "2020-07-31T00:06:52.392Z",
          "iopub.status.idle": "2020-07-31T00:06:52.437Z"
        }
      }
    },
    {
      "cell_type": "code",
      "source": [
        "using ScikitLearn.CrossValidation: cross_val_score\n",
        "accuracy = cross_val_score(model, X[trainids,:], y[trainids], cv=3)"
      ],
      "outputs": [
        {
          "output_type": "execute_result",
          "execution_count": 196,
          "data": {
            "text/plain": "3-element Array{Float64,1}:\n 0.5545927209705372\n 0.7469458987783595\n 0.6924428822495606"
          },
          "metadata": {}
        }
      ],
      "execution_count": 196,
      "metadata": {
        "collapsed": true,
        "jupyter": {
          "source_hidden": false,
          "outputs_hidden": false
        },
        "nteract": {
          "transient": {
            "deleting": false
          }
        },
        "execution": {
          "iopub.status.busy": "2020-07-31T00:07:07.137Z",
          "iopub.execute_input": "2020-07-31T00:07:07.162Z",
          "iopub.status.idle": "2020-07-31T00:07:11.410Z"
        }
      }
    },
    {
      "cell_type": "markdown",
      "source": [
        "# 6.2 Bosques Aleatorios (Random Forest)\n",
        "Los bosques aleatorios son una combinación de árboles predictores tal que cada árbol depende de los valores de un vector aleatorio probado independientemente y con la misma distribución para cada uno de estos. Es una modificación sustancial de bagging que construye una larga colección de árboles no correlacionados y luego los promedia."
      ],
      "metadata": {
        "nteract": {
          "transient": {
            "deleting": false
          }
        }
      }
    },
    {
      "cell_type": "code",
      "source": [
        "model = RandomForestClassifier(n_trees=20)\n",
        "DecisionTree.fit!(model, X[trainids,:], y[trainids])"
      ],
      "outputs": [
        {
          "output_type": "execute_result",
          "execution_count": 197,
          "data": {
            "text/plain": "RandomForestClassifier\nn_trees:             20\nn_subfeatures:       -1\npartial_sampling:    0.7\nmax_depth:           -1\nmin_samples_leaf:    1\nmin_samples_split:   2\nmin_purity_increase: 0.0\nclasses:             [1, 2, 3, 4, 5, 6, 7, 8, 9, 10]\nensemble:            Ensemble of Decision Trees\nTrees:      20\nAvg Leaves: 30.1\nAvg Depth:  10.3"
          },
          "metadata": {}
        }
      ],
      "execution_count": 197,
      "metadata": {
        "collapsed": true,
        "jupyter": {
          "source_hidden": false,
          "outputs_hidden": false
        },
        "nteract": {
          "transient": {
            "deleting": false
          }
        },
        "execution": {
          "iopub.status.busy": "2020-07-31T00:08:14.982Z",
          "iopub.execute_input": "2020-07-31T00:08:15.013Z",
          "iopub.status.idle": "2020-07-31T00:08:16.171Z"
        }
      }
    },
    {
      "cell_type": "code",
      "source": [
        "q = X[testids,:];\n",
        "predictions_RF = DecisionTree.predict(model, q)\n",
        "findaccuracy(predictions_RF,y[testids])"
      ],
      "outputs": [
        {
          "output_type": "execute_result",
          "execution_count": 198,
          "data": {
            "text/plain": "0.741424802110818"
          },
          "metadata": {}
        }
      ],
      "execution_count": 198,
      "metadata": {
        "collapsed": true,
        "jupyter": {
          "source_hidden": false,
          "outputs_hidden": false
        },
        "nteract": {
          "transient": {
            "deleting": false
          }
        },
        "execution": {
          "iopub.status.busy": "2020-07-31T00:08:28.786Z",
          "iopub.execute_input": "2020-07-31T00:08:28.814Z",
          "iopub.status.idle": "2020-07-31T00:08:28.911Z"
        }
      }
    },
    {
      "cell_type": "code",
      "source": [
        "accuracy = cross_val_score(model, X[trainids,:], y[trainids], cv=3)"
      ],
      "outputs": [
        {
          "output_type": "execute_result",
          "execution_count": 199,
          "data": {
            "text/plain": "3-element Array{Float64,1}:\n 0.5927209705372617\n 0.743455497382199\n 0.671353251318102"
          },
          "metadata": {}
        }
      ],
      "execution_count": 199,
      "metadata": {
        "collapsed": true,
        "jupyter": {
          "source_hidden": false,
          "outputs_hidden": false
        },
        "nteract": {
          "transient": {
            "deleting": false
          }
        },
        "execution": {
          "iopub.status.busy": "2020-07-31T00:08:56.376Z",
          "iopub.execute_input": "2020-07-31T00:08:56.403Z",
          "iopub.status.idle": "2020-07-31T00:08:56.740Z"
        }
      }
    },
    {
      "cell_type": "markdown",
      "source": [
        "# 6.3 Maquinas de soporte Vectorial\n",
        "Estos métodos están propiamente relacionados con problemas de clasificación y regresión. Dado un conjunto de ejemplos de entrenamiento (de muestras) podemos etiquetar las clases y entrenar una SVM para construir un modelo que prediga la clase de una nueva muestra. Intuitivamente, una SVM es un modelo que representa a los puntos de muestra en el espacio, separando las clases a 2 espacios lo más amplios posibles mediante un hiperplano de separación definido como el vector entre los 2 puntos, de las 2 clases, más cercanos al que se llama vector soporte. Cuando las nuevas muestras se ponen en correspondencia con dicho modelo, en función de los espacios a los que pertenezcan, pueden ser clasificadas a una o la otra clase.\n",
        "\n",
        "Más formalmente, una SVM construye un hiperplano o conjunto de hiperplanos en un espacio de dimensionalidad muy alta (o incluso infinita) que puede ser utilizado en problemas de clasificación o regresión. Una buena separación entre las clases permitirá una clasificación correcta."
      ],
      "metadata": {
        "nteract": {
          "transient": {
            "deleting": false
          }
        }
      }
    },
    {
      "cell_type": "code",
      "source": [
        "Xtrain = X[trainids,:]\n",
        "ytrain = y[trainids]"
      ],
      "outputs": [
        {
          "output_type": "execute_result",
          "execution_count": 200,
          "data": {
            "text/plain": "1719-element Array{Int64,1}:\n  1\n  1\n  1\n  1\n  1\n  1\n  1\n  1\n  1\n  1\n  1\n  1\n  1\n  ⋮\n 10\n 10\n 10\n 10\n 10\n 10\n 10\n 10\n 10\n 10\n 10\n 10"
          },
          "metadata": {}
        }
      ],
      "execution_count": 200,
      "metadata": {
        "collapsed": true,
        "jupyter": {
          "source_hidden": false,
          "outputs_hidden": false
        },
        "nteract": {
          "transient": {
            "deleting": false
          }
        },
        "execution": {
          "iopub.status.busy": "2020-07-31T00:10:15.788Z",
          "iopub.execute_input": "2020-07-31T00:10:15.816Z",
          "iopub.status.idle": "2020-07-31T00:10:15.872Z"
        }
      }
    },
    {
      "cell_type": "code",
      "source": [
        "model = svmtrain(Xtrain', ytrain)"
      ],
      "outputs": [
        {
          "output_type": "execute_result",
          "execution_count": 201,
          "data": {
            "text/plain": "LIBSVM.SVM{Int64}(SVC, LIBSVM.Kernel.RadialBasis, nothing, 2, 10, [1, 2, 3, 4, 5, 6, 7, 8, 9, 10], Int32[1, 2, 3, 4, 5, 6, 7, 8, 9, 10], Float64[], Int32[], LIBSVM.SupportVectors{Int64,Float64}(992, Int32[147, 4, 155, 81, 166, 9, 166, 8, 151, 105], [1, 1, 1, 1, 1, 1, 1, 1, 1, 1  …  10, 10, 10, 10, 10, 10, 10, 10, 10, 10], [648.0 812.0 … 1.0 1.0; 430.0 517.0 … 0.0 0.0], Int32[1, 2, 3, 4, 5, 6, 7, 8, 9, 10  …  1710, 1711, 1712, 1713, 1714, 1715, 1716, 1717, 1718, 1719], LIBSVM.SVMNode[LIBSVM.SVMNode(1, 648.0), LIBSVM.SVMNode(1, 812.0), LIBSVM.SVMNode(1, 862.0), LIBSVM.SVMNode(1, 861.0), LIBSVM.SVMNode(1, 936.0), LIBSVM.SVMNode(1, 942.0), LIBSVM.SVMNode(1, 1008.0), LIBSVM.SVMNode(1, 1022.0), LIBSVM.SVMNode(1, 1157.0), LIBSVM.SVMNode(1, 1199.0)  …  LIBSVM.SVMNode(1, 1.0), LIBSVM.SVMNode(1, 1.0), LIBSVM.SVMNode(1, 1.0), LIBSVM.SVMNode(1, 1.0), LIBSVM.SVMNode(1, 1.0), LIBSVM.SVMNode(1, 1.0), LIBSVM.SVMNode(1, 1.0), LIBSVM.SVMNode(1, 1.0), LIBSVM.SVMNode(1, 1.0), LIBSVM.SVMNode(1, 1.0)]), 0.0, [0.024276927451375163 1.0 … 0.02036352296109578 0.01625476602713094; 0.024327440478491003 1.0 … 0.020353998149980512 0.016265208807787368; … ; -0.984375 -0.2751784594730319 … -1.0 -1.0; -0.9994864448320007 -1.0 … -0.980282802595401 -1.0], Float64[], Float64[], [-0.9756658065007234, 0.11789739269689206, -0.4666970387136448, -0.9769297751569215, -0.9637530525335389, -0.9838909237387282, -0.9447387286153238, -0.9799969687098988, -0.9838909237387282, 0.9793982891708345  …  -0.25176160759292543, 0.3233406453568046, -0.15376917417020367, -0.25176160759292543, 0.7053066212060535, -0.21306133270263672, -1.0, -0.6121487941108711, -0.7053502229538117, -1.0], 3, 0.5, 200.0, 0.001, 1.0, 0.5, 0.1, true, false)"
          },
          "metadata": {}
        }
      ],
      "execution_count": 201,
      "metadata": {
        "collapsed": true,
        "jupyter": {
          "source_hidden": false,
          "outputs_hidden": false
        },
        "nteract": {
          "transient": {
            "deleting": false
          }
        },
        "execution": {
          "iopub.status.busy": "2020-07-31T00:10:31.182Z",
          "iopub.execute_input": "2020-07-31T00:10:31.207Z",
          "iopub.status.idle": "2020-07-31T00:10:33.111Z"
        }
      }
    },
    {
      "cell_type": "code",
      "source": [
        "predictions_SVM, decision_values = svmpredict(model, X[testids,:]')\n",
        "findaccuracy(predictions_SVM,y[testids])"
      ],
      "outputs": [
        {
          "output_type": "execute_result",
          "execution_count": 202,
          "data": {
            "text/plain": "0.662269129287599"
          },
          "metadata": {}
        }
      ],
      "execution_count": 202,
      "metadata": {
        "collapsed": true,
        "jupyter": {
          "source_hidden": false,
          "outputs_hidden": false
        },
        "nteract": {
          "transient": {
            "deleting": false
          }
        },
        "execution": {
          "iopub.status.busy": "2020-07-31T00:10:49.722Z",
          "iopub.execute_input": "2020-07-31T00:10:49.764Z",
          "iopub.status.idle": "2020-07-31T00:10:50.114Z"
        }
      }
    },
    {
      "cell_type": "markdown",
      "source": [
        "## 6.4 Detalle de los resultados obtenidos en los modelos evaluados"
      ],
      "metadata": {
        "nteract": {
          "transient": {
            "deleting": false
          }
        }
      }
    },
    {
      "cell_type": "code",
      "source": [
        "\n",
        "overall_accuracies = zeros(3)\n",
        "methods = [\"DecissionTree\", \"RandomForest\", \"Support Vector Machines\"]\n",
        "ytest = y[testids]\n",
        "overall_accuracies[1] = findaccuracy(predictions_DT,ytest)\n",
        "overall_accuracies[2] = findaccuracy(predictions_RF,ytest)\n",
        "overall_accuracies[3] = findaccuracy(predictions_SVM,ytest)\n",
        "hcat(methods, overall_accuracies)"
      ],
      "outputs": [
        {
          "output_type": "execute_result",
          "execution_count": 205,
          "data": {
            "text/plain": "3×2 Array{Any,2}:\n \"DecissionTree\"            0.742744\n \"RandomForest\"             0.741425\n \"Support Vector Machines\"  0.662269"
          },
          "metadata": {}
        }
      ],
      "execution_count": 205,
      "metadata": {
        "collapsed": true,
        "jupyter": {
          "source_hidden": false,
          "outputs_hidden": false
        },
        "nteract": {
          "transient": {
            "deleting": false
          }
        },
        "execution": {
          "iopub.status.busy": "2020-07-31T00:12:42.110Z",
          "iopub.execute_input": "2020-07-31T00:12:42.136Z",
          "iopub.status.idle": "2020-07-31T00:12:42.190Z"
        }
      }
    },
    {
      "cell_type": "markdown",
      "source": [
        "<div align=\"center\">\n",
        "  <h2> 7. MODELO SIR: CONCEPTOS</h2>\n",
        "</div>\n",
        "<p style='text-align: justify;'>\n",
        "Los modelos SIR formalizan la que es probablemente la forma más simple posible de pensar en una epidemia:\n",
        "\n",
        "- Población susceptible de ser infectada: esta población cuando pasa el tiempo se vuelve en población infectada\n",
        "- Población que ya está infectada: esta población cuando pasa el tiempo se vuelve en población recuperada\n",
        "- Población que ya se ha recuperado\n",
        "\n",
        "- antes de que comience la epidemia, hay una población en riesgo de contraer la enfermedad.\n",
        "- la enfermedad se propaga de personas infectadas a susceptibles.\n",
        "- después de un tiempo, las personas ya no están infectadas.\n",
        "- una vez infectadas, las personas nunca más se infectan.\n",
        "- ignoramos todas las otras diferencias entre las personas.\n",
        "\n",
        "Usamos el símbolo $ S $ para la cantidad de personas que todavía están en riesgo de contraer la enfermedad. \"$ S $\" es la abreviatura de \"susceptible\", lo que significa una persona que no ha tenido la enfermedad y podría contraerla. Pensamos en $ S $ como una función del tiempo, es decir, creemos que a medida que avanza la epidemia, $ S $ cambia. Por lo tanto, escribimos $ S (t) $ para el número de susceptibles en el momento $ t $.\n",
        "\n",
        "El número $ S (0) $, que es el número de susceptibles al comienzo de la epidemia, es un valor clave en este modelo.\n",
        "\n",
        "El número de personas infectadas en el momento $ t $ viene dado por $ I (t) $. Suponemos que $ I (0) > 0 $, porque de lo contrario la epidemia no puede comenzar.\n",
        "\n",
        "Finalmente, las personas previamente infectadas pero que ya no son infecciosas se llaman \"eliminadas\". (Desafortunadamente, esto no significa que se hayan recuperado. Todavía pueden estar enfermos, o como sucede trágicamente a menudo con el Ébola, pueden estar muertos). Usamos $ R (t) $ para simbolizar el número de personas eliminadas en el momento $ t $.\n",
        "\n",
        "¡NÓTESE BIEN! No es necesario que S, I y R sean números enteros. Este es un modelo, y todo lo que queremos es que los valores pronosticados de $ S $, $ I $ y $ R $ estén cerca de lo observado. Por cierre queremos decir dentro de un pequeño porcentaje. De hecho, debido a que los modelos son tan simples y la situación real tan variable, obtener números dentro de un pequeño porcentaje es un logro importante.\n",
        "\n",
        "Desafortunadamente, esto generalmente es posible solo en retrospectiva. Mostraremos que un modelo SIR puede funcionar bastante bien para la epidemia de EVD de África Occidental de 2014, pero será en retrospectiva. El curso de la epidemia no se predijo con éxito hasta que casi terminó.\n",
        "  </p>"
      ],
      "metadata": {
        "nteract": {
          "transient": {
            "deleting": false
          }
        }
      }
    },
    {
      "cell_type": "markdown",
      "source": [
        "## 7.1 Ecuación del Modelo SIR\n",
        "Modelaremos $ S $, $ I $ y $ R $ en pasos de tiempo discretos. De hecho, utilizaremos el mismo período de tiempo $ dt $ para cada paso. Denotamos por $ t_i $ el tiempo después de $ i $ pasos. Como suponemos que $ t_0 = 0 $, tenemos $ t_i = i \\, dt $.\n",
        "\n",
        "El modelo pasa de $ t_i $ a $ t_ {i + 1} $, así que lo que queremos hacer es usar los valores de $ S (t_i) $, $ I (t_i) $ y $ R (t_i) $ para predecir los valores $ S (t_ {i + 1}) $, $ I (t_ {i + 1}) $ y $ R (t_ {i + 1}) $. Entonces nuestro modelo está configurado en términos de tres ecuaciones.\n",
        "\n",
        "Todas estas ecuaciones tienen la forma __\"valor nuevo = valor antiguo + ganancias - pérdidas\"__. El modelo especifica cómo calculamos las ganancias y pérdidas.\n",
        "\n",
        "- $\\lambda$ Tasa de infección, cada virus tiene una tasa de infección determinada.\n",
        "- $\\gamma$ Tasa de recuperación\n",
        "\n",
        "Para susceptibles, solo hay un término de pérdida. Los modelos SIR más simples provienen de la llamada __\"ley de acción de masas\"__. Esta ley sostiene que todos los susceptibles tienen las mismas posibilidades de encontrarse con una persona infectada. Y lo mismo se supone para las personas infectadas. Entonces, el número de reuniones de infectados y susceptibles es proporcional al producto $ SI $. Usamos el símbolo $ \\lambda $ para la constante de proporcionalidad, e interpretamos $ \\lambda SI $ como la tasa a la que se infectan los susceptibles. Esto es, por supuesto, una tarifa por día. Entonces, la pérdida real durante el paso de tiempo $ dt $ es en realidad $ \\lambda SI \\, dt $, entonces la ecuación para $ S $ es\n",
        "\n",
        "1 ... $ S (t_ {i + 1}) = S (t_i) - \\lambda S (t_i) I (t_i) \\, dt $.\n",
        "\n",
        "Por otro lado, la tasa de pérdida para las personas infectadas es solo una probabilidad constante de recuperación por unidad de tiempo. Entonces, una fracción constante $ \\gamma $ se elimina de los infectados por día. Esto da una pérdida de $ \\gamma I $ infectados por día, que es $ \\gamma I \\, dt $ pérdida de infectados por paso de tiempo. La ganancia de los infectados debe ser exactamente los susceptibles que se infectan, por lo que la ecuación de $ I $ es\n",
        "\n",
        "2 ... $ I (t_ {i + 1}) = I (t_i) + \\lambda S (t_i) I (t_i) \\, dt - \\gamma I (t_i) \\, dt $.\n",
        "\n",
        "En un modelo SIR, la ecuación de población eliminada solo tiene un término de ganancia, sin término de pérdida. Lo que se pierde de los infectados se gana con las eliminaciones, por lo que la ecuación de $ R $ es\n",
        "\n",
        "3 ... $ R (t_ {i + 1}) = R (t_i) + \\gamma I (t_i) \\, dt $.\n",
        "\n",
        "Nuestro modelo SIR discreto consta de las ecuaciones 1, 2 y 3 para $ S $, $ I $, $ R $."
      ],
      "metadata": {
        "nteract": {
          "transient": {
            "deleting": false
          }
        }
      }
    },
    {
      "cell_type": "markdown",
      "source": [
        "Utilizaremos esta función para pasar los valores de $ \\lambda $ y $ \\gamma $ a la función de actualización. Es decir, al escribir el código para la función, le pasamos solo los argumentos $ S $, $ I $, $ R $ y tomamos los valores de los parámetros del contexto en el que se llama la función. En realidad, esto es increíblemente conveniente, especialmente cuando queremos experimentar con diferentes valores de parámetros con el fin de ajustar la salida del modelo a los datos.\n",
        "\n",
        "Esto significa que la función se ve así:"
      ],
      "metadata": {
        "nteract": {
          "transient": {
            "deleting": false
          }
        }
      }
    },
    {
      "cell_type": "code",
      "source": [
        "function updateSIR(popnvector)\n",
        "    susceptibles = popnvector[1];\n",
        "    infecteds    = popnvector[2]; \n",
        "    removeds     = popnvector[3];\n",
        "    newS = susceptibles - lambda*susceptibles*infecteds*dt\n",
        "    newI = infecteds + lambda*susceptibles*infecteds*dt - gam*infecteds*dt  \n",
        "    newR = removeds + gam*infecteds*dt\n",
        "    return [newS newI newR]\n",
        "    #                   \n",
        "end"
      ],
      "outputs": [
        {
          "output_type": "execute_result",
          "execution_count": 206,
          "data": {
            "text/plain": "updateSIR (generic function with 1 method)"
          },
          "metadata": {}
        }
      ],
      "execution_count": 206,
      "metadata": {
        "collapsed": true,
        "jupyter": {
          "source_hidden": false,
          "outputs_hidden": false
        },
        "nteract": {
          "transient": {
            "deleting": false
          }
        },
        "execution": {
          "iopub.status.busy": "2020-07-31T00:22:50.979Z",
          "iopub.execute_input": "2020-07-31T00:22:51.006Z",
          "iopub.status.idle": "2020-07-31T00:22:51.060Z"
        }
      }
    },
    {
      "cell_type": "markdown",
      "source": [
        "\n",
        "Realizamos una comprobación mínima para garantizar el correcto proceder de la función definida"
      ],
      "metadata": {
        "nteract": {
          "transient": {
            "deleting": false
          }
        }
      }
    },
    {
      "cell_type": "code",
      "source": [
        "dt = 0.5                   \n",
        "lambda = 1/200; gam = 1/10 \n",
        "s, i, r = 1000., 10, 20\n",
        "vec = [s i r]       \n",
        "updateSIR(vec) "
      ],
      "outputs": [
        {
          "output_type": "execute_result",
          "execution_count": 207,
          "data": {
            "text/plain": "1×3 Array{Float64,2}:\n 975.0  34.5  20.5"
          },
          "metadata": {}
        }
      ],
      "execution_count": 207,
      "metadata": {
        "collapsed": true,
        "jupyter": {
          "source_hidden": false,
          "outputs_hidden": false
        },
        "nteract": {
          "transient": {
            "deleting": false
          }
        },
        "execution": {
          "iopub.status.busy": "2020-07-31T00:24:30.140Z",
          "iopub.execute_input": "2020-07-31T00:24:30.168Z",
          "iopub.status.idle": "2020-07-31T00:24:30.280Z"
        }
      }
    },
    {
      "cell_type": "markdown",
      "source": [
        "# 7.2 Prueba de ejecución del modelo\n",
        "No podemos ejecutar el modelo indefinidamente, por supuesto, por lo que debe haber un tiempo de finalización definido $ T_f $. Usaremos $ T_f = 610 $ días\n",
        "\n",
        "El número de pasos es, en principio, $ n = T_f / dt $, pero aquí hay un momento delicado en el uso de las computadoras. La aritmética de la computadora no es infinitamente precisa, por lo que no podemos estar seguros de que si usamos la computadora para calcular $ n $ de esta manera, tendremos exactamente $ n \\, dt = T_f $ como esperamos sobre la base del álgebra. Me gusta establecer el tiempo como una variable separada, hacer un seguimiento explícito del número de paso $ i $ y continuar durante $ n $ pasos. Entonces, si al final el tiempo no es exactamente $ T_f $, no importa, porque estará extremadamente cerca de él.\n",
        "\n",
        "El mensaje final es NO CONFÍE EN LA IGUALDAD EXACTA, incluso si puede esperarlo razonablemente. Las computadoras normalmente están muy cerca de los números en los que usted, el programador, está pensando (excluyendo nuevamente la exactitud que los programadores profesionales pueden alcanzar).\n",
        "\n",
        "Conocer el valor de $ n $ también nos permite inicializar una matriz para contener todos los valores a medida que se recopilan, una fila de tres elementos para cada valor del tiempo. Esto terminará siendo $ n + 1 $ valores, por supuesto.\n",
        "\n",
        "Así que aquí está el código conceptual:"
      ],
      "metadata": {
        "nteract": {
          "transient": {
            "deleting": false
          }
        }
      }
    },
    {
      "cell_type": "code",
      "source": [
        "# establecer los valores que definen la ejecución actual\n",
        "lambda = 1/20000   # parámetro de tasa de infección (se supone que las tasas son por día)\n",
        "gam = 1/10       # parámetro de tasa de recuperación (ídem)\n",
        "dt = 0.5         # período de tiempo paso en días\n",
        "tfinal = 610;    # respetando los valores de la comunidad: minúsculas solo en los nombres\n",
        "s0 = 10000.0     # susceptibles iniciales, tenga en cuenta que usamos el tipo Float64 desde el principio\n",
        "i0 = 4.          # Infecciones iniciales; establezca esto en 1. para imitar una epidemia con un caso índice\n",
        "r0 = 0.          # no siempre es el caso, por supuesto\n",
        "\n",
        "# inicializar\n",
        "nsteps = round(Int64, tfinal/dt)    # tenga en cuenta el uso de round () con el tipo Int64 para garantizar que nsteps sea un número entero\n",
        "resultvals = Array{Float64}(undef, nsteps+1, 3)  #Inicializar matriz de tipo Float64 para contener resultados\n",
        "timevec = Array{Float64}(undef, nsteps+1)        # ... lo mismo para los valores de tiempo\n",
        "resultvals[1,:] = [s0, i0, r0]  # ... Y asignarlos a la primera fila\n",
        "timevec[1] = 0.               \n",
        "\n",
        "for step  = 1:nsteps\n",
        "    resultvals[step+1, :] = updateSIR(resultvals[step, :])\n",
        "    timevec[step+1] = timevec[step] + dt\n",
        "end"
      ],
      "outputs": [],
      "execution_count": 208,
      "metadata": {
        "collapsed": true,
        "jupyter": {
          "source_hidden": false,
          "outputs_hidden": false
        },
        "nteract": {
          "transient": {
            "deleting": false
          }
        },
        "execution": {
          "iopub.status.busy": "2020-07-31T00:27:36.347Z",
          "iopub.execute_input": "2020-07-31T00:27:36.371Z",
          "iopub.status.idle": "2020-07-31T00:27:36.644Z"
        }
      }
    },
    {
      "cell_type": "markdown",
      "source": [
        "## 7.3 Graficando los resultados"
      ],
      "metadata": {
        "nteract": {
          "transient": {
            "deleting": false
          }
        }
      }
    },
    {
      "cell_type": "code",
      "source": [
        "gr()"
      ],
      "outputs": [
        {
          "output_type": "execute_result",
          "execution_count": 209,
          "data": {
            "text/plain": "Plots.GRBackend()"
          },
          "metadata": {}
        }
      ],
      "execution_count": 209,
      "metadata": {
        "collapsed": true,
        "jupyter": {
          "source_hidden": false,
          "outputs_hidden": false
        },
        "nteract": {
          "transient": {
            "deleting": false
          }
        },
        "execution": {
          "iopub.status.busy": "2020-07-31T00:28:38.298Z",
          "iopub.execute_input": "2020-07-31T00:28:38.328Z",
          "iopub.status.idle": "2020-07-31T00:28:38.440Z"
        }
      }
    },
    {
      "cell_type": "code",
      "source": [
        "plot(timevec, resultvals, size=(400,300))"
      ],
      "outputs": [
        {
          "output_type": "execute_result",
          "execution_count": 211,
          "data": {
            "image/svg+xml": "<?xml version=\"1.0\" encoding=\"utf-8\"?>\n<svg xmlns=\"http://www.w3.org/2000/svg\" xmlns:xlink=\"http://www.w3.org/1999/xlink\" width=\"400\" height=\"300\" viewBox=\"0 0 1600 1200\">\n<defs>\n  <clipPath id=\"clip1400\">\n    <rect x=\"0\" y=\"0\" width=\"1600\" height=\"1200\"/>\n  </clipPath>\n</defs>\n<path clip-path=\"url(#clip1400)\" d=\"\nM0 1200 L1600 1200 L1600 0 L0 0  Z\n  \" fill=\"#ffffff\" fill-rule=\"evenodd\" fill-opacity=\"1\"/>\n<defs>\n  <clipPath id=\"clip1401\">\n    <rect x=\"320\" y=\"0\" width=\"1121\" height=\"1121\"/>\n  </clipPath>\n</defs>\n<path clip-path=\"url(#clip1400)\" d=\"\nM220.804 1087.47 L1552.76 1087.47 L1552.76 47.2441 L220.804 47.2441  Z\n  \" fill=\"#ffffff\" fill-rule=\"evenodd\" fill-opacity=\"1\"/>\n<defs>\n  <clipPath id=\"clip1402\">\n    <rect x=\"220\" y=\"47\" width=\"1333\" height=\"1041\"/>\n  </clipPath>\n</defs>\n<polyline clip-path=\"url(#clip1402)\" style=\"stroke:#000000; stroke-width:2; stroke-opacity:0.1; fill:none\" points=\"\n  258.501,1087.47 258.501,47.2441 \n  \"/>\n<polyline clip-path=\"url(#clip1402)\" style=\"stroke:#000000; stroke-width:2; stroke-opacity:0.1; fill:none\" points=\"\n  464.494,1087.47 464.494,47.2441 \n  \"/>\n<polyline clip-path=\"url(#clip1402)\" style=\"stroke:#000000; stroke-width:2; stroke-opacity:0.1; fill:none\" points=\"\n  670.487,1087.47 670.487,47.2441 \n  \"/>\n<polyline clip-path=\"url(#clip1402)\" style=\"stroke:#000000; stroke-width:2; stroke-opacity:0.1; fill:none\" points=\"\n  876.48,1087.47 876.48,47.2441 \n  \"/>\n<polyline clip-path=\"url(#clip1402)\" style=\"stroke:#000000; stroke-width:2; stroke-opacity:0.1; fill:none\" points=\"\n  1082.47,1087.47 1082.47,47.2441 \n  \"/>\n<polyline clip-path=\"url(#clip1402)\" style=\"stroke:#000000; stroke-width:2; stroke-opacity:0.1; fill:none\" points=\"\n  1288.47,1087.47 1288.47,47.2441 \n  \"/>\n<polyline clip-path=\"url(#clip1402)\" style=\"stroke:#000000; stroke-width:2; stroke-opacity:0.1; fill:none\" points=\"\n  1494.46,1087.47 1494.46,47.2441 \n  \"/>\n<polyline clip-path=\"url(#clip1402)\" style=\"stroke:#000000; stroke-width:2; stroke-opacity:0.1; fill:none\" points=\"\n  220.804,1058.03 1552.76,1058.03 \n  \"/>\n<polyline clip-path=\"url(#clip1402)\" style=\"stroke:#000000; stroke-width:2; stroke-opacity:0.1; fill:none\" points=\"\n  220.804,812.697 1552.76,812.697 \n  \"/>\n<polyline clip-path=\"url(#clip1402)\" style=\"stroke:#000000; stroke-width:2; stroke-opacity:0.1; fill:none\" points=\"\n  220.804,567.359 1552.76,567.359 \n  \"/>\n<polyline clip-path=\"url(#clip1402)\" style=\"stroke:#000000; stroke-width:2; stroke-opacity:0.1; fill:none\" points=\"\n  220.804,322.022 1552.76,322.022 \n  \"/>\n<polyline clip-path=\"url(#clip1402)\" style=\"stroke:#000000; stroke-width:2; stroke-opacity:0.1; fill:none\" points=\"\n  220.804,76.6846 1552.76,76.6846 \n  \"/>\n<polyline clip-path=\"url(#clip1400)\" style=\"stroke:#000000; stroke-width:4; stroke-opacity:1; fill:none\" points=\"\n  220.804,1087.47 1552.76,1087.47 \n  \"/>\n<polyline clip-path=\"url(#clip1400)\" style=\"stroke:#000000; stroke-width:4; stroke-opacity:1; fill:none\" points=\"\n  220.804,1087.47 220.804,47.2441 \n  \"/>\n<polyline clip-path=\"url(#clip1400)\" style=\"stroke:#000000; stroke-width:4; stroke-opacity:1; fill:none\" points=\"\n  258.501,1087.47 258.501,1074.99 \n  \"/>\n<polyline clip-path=\"url(#clip1400)\" style=\"stroke:#000000; stroke-width:4; stroke-opacity:1; fill:none\" points=\"\n  464.494,1087.47 464.494,1074.99 \n  \"/>\n<polyline clip-path=\"url(#clip1400)\" style=\"stroke:#000000; stroke-width:4; stroke-opacity:1; fill:none\" points=\"\n  670.487,1087.47 670.487,1074.99 \n  \"/>\n<polyline clip-path=\"url(#clip1400)\" style=\"stroke:#000000; stroke-width:4; stroke-opacity:1; fill:none\" points=\"\n  876.48,1087.47 876.48,1074.99 \n  \"/>\n<polyline clip-path=\"url(#clip1400)\" style=\"stroke:#000000; stroke-width:4; stroke-opacity:1; fill:none\" points=\"\n  1082.47,1087.47 1082.47,1074.99 \n  \"/>\n<polyline clip-path=\"url(#clip1400)\" style=\"stroke:#000000; stroke-width:4; stroke-opacity:1; fill:none\" points=\"\n  1288.47,1087.47 1288.47,1074.99 \n  \"/>\n<polyline clip-path=\"url(#clip1400)\" style=\"stroke:#000000; stroke-width:4; stroke-opacity:1; fill:none\" points=\"\n  1494.46,1087.47 1494.46,1074.99 \n  \"/>\n<polyline clip-path=\"url(#clip1400)\" style=\"stroke:#000000; stroke-width:4; stroke-opacity:1; fill:none\" points=\"\n  220.804,1058.03 236.787,1058.03 \n  \"/>\n<polyline clip-path=\"url(#clip1400)\" style=\"stroke:#000000; stroke-width:4; stroke-opacity:1; fill:none\" points=\"\n  220.804,812.697 236.787,812.697 \n  \"/>\n<polyline clip-path=\"url(#clip1400)\" style=\"stroke:#000000; stroke-width:4; stroke-opacity:1; fill:none\" points=\"\n  220.804,567.359 236.787,567.359 \n  \"/>\n<polyline clip-path=\"url(#clip1400)\" style=\"stroke:#000000; stroke-width:4; stroke-opacity:1; fill:none\" points=\"\n  220.804,322.022 236.787,322.022 \n  \"/>\n<polyline clip-path=\"url(#clip1400)\" style=\"stroke:#000000; stroke-width:4; stroke-opacity:1; fill:none\" points=\"\n  220.804,76.6846 236.787,76.6846 \n  \"/>\n<g clip-path=\"url(#clip1400)\">\n<text style=\"fill:#000000; fill-opacity:1; font-family:Arial,Helvetica Neue,Helvetica,sans-serif; font-size:48px; text-anchor:middle;\" transform=\"rotate(0, 258.501, 1137.47)\" x=\"258.501\" y=\"1137.47\">0</text>\n</g>\n<g clip-path=\"url(#clip1400)\">\n<text style=\"fill:#000000; fill-opacity:1; font-family:Arial,Helvetica Neue,Helvetica,sans-serif; font-size:48px; text-anchor:middle;\" transform=\"rotate(0, 464.494, 1137.47)\" x=\"464.494\" y=\"1137.47\">100</text>\n</g>\n<g clip-path=\"url(#clip1400)\">\n<text style=\"fill:#000000; fill-opacity:1; font-family:Arial,Helvetica Neue,Helvetica,sans-serif; font-size:48px; text-anchor:middle;\" transform=\"rotate(0, 670.487, 1137.47)\" x=\"670.487\" y=\"1137.47\">200</text>\n</g>\n<g clip-path=\"url(#clip1400)\">\n<text style=\"fill:#000000; fill-opacity:1; font-family:Arial,Helvetica Neue,Helvetica,sans-serif; font-size:48px; text-anchor:middle;\" transform=\"rotate(0, 876.48, 1137.47)\" x=\"876.48\" y=\"1137.47\">300</text>\n</g>\n<g clip-path=\"url(#clip1400)\">\n<text style=\"fill:#000000; fill-opacity:1; font-family:Arial,Helvetica Neue,Helvetica,sans-serif; font-size:48px; text-anchor:middle;\" transform=\"rotate(0, 1082.47, 1137.47)\" x=\"1082.47\" y=\"1137.47\">400</text>\n</g>\n<g clip-path=\"url(#clip1400)\">\n<text style=\"fill:#000000; fill-opacity:1; font-family:Arial,Helvetica Neue,Helvetica,sans-serif; font-size:48px; text-anchor:middle;\" transform=\"rotate(0, 1288.47, 1137.47)\" x=\"1288.47\" y=\"1137.47\">500</text>\n</g>\n<g clip-path=\"url(#clip1400)\">\n<text style=\"fill:#000000; fill-opacity:1; font-family:Arial,Helvetica Neue,Helvetica,sans-serif; font-size:48px; text-anchor:middle;\" transform=\"rotate(0, 1494.46, 1137.47)\" x=\"1494.46\" y=\"1137.47\">600</text>\n</g>\n<g clip-path=\"url(#clip1400)\">\n<text style=\"fill:#000000; fill-opacity:1; font-family:Arial,Helvetica Neue,Helvetica,sans-serif; font-size:48px; text-anchor:end;\" transform=\"rotate(0, 204.804, 1075.53)\" x=\"204.804\" y=\"1075.53\">0</text>\n</g>\n<g clip-path=\"url(#clip1400)\">\n<text style=\"fill:#000000; fill-opacity:1; font-family:Arial,Helvetica Neue,Helvetica,sans-serif; font-size:48px; text-anchor:end;\" transform=\"rotate(0, 204.804, 830.197)\" x=\"204.804\" y=\"830.197\">2500</text>\n</g>\n<g clip-path=\"url(#clip1400)\">\n<text style=\"fill:#000000; fill-opacity:1; font-family:Arial,Helvetica Neue,Helvetica,sans-serif; font-size:48px; text-anchor:end;\" transform=\"rotate(0, 204.804, 584.859)\" x=\"204.804\" y=\"584.859\">5000</text>\n</g>\n<g clip-path=\"url(#clip1400)\">\n<text style=\"fill:#000000; fill-opacity:1; font-family:Arial,Helvetica Neue,Helvetica,sans-serif; font-size:48px; text-anchor:end;\" transform=\"rotate(0, 204.804, 339.522)\" x=\"204.804\" y=\"339.522\">7500</text>\n</g>\n<g clip-path=\"url(#clip1400)\">\n<text style=\"fill:#000000; fill-opacity:1; font-family:Arial,Helvetica Neue,Helvetica,sans-serif; font-size:48px; text-anchor:end;\" transform=\"rotate(0, 204.804, 94.1846)\" x=\"204.804\" y=\"94.1846\">10000</text>\n</g>\n<polyline clip-path=\"url(#clip1402)\" style=\"stroke:#009af9; stroke-width:4; stroke-opacity:1; fill:none\" points=\"\n  258.501,76.6846 259.531,76.7827 260.561,76.9005 261.59,77.0417 262.62,77.2113 263.65,77.4146 264.68,77.6586 265.71,77.9512 266.74,78.3021 267.77,78.723 \n  268.8,79.2277 269.83,79.8328 270.86,80.558 271.89,81.427 272.92,82.4681 273.95,83.7147 274.98,85.207 276.01,86.9923 277.04,89.1269 278.07,91.6771 \n  279.1,94.7213 280.13,98.3512 281.16,102.674 282.19,107.814 283.22,113.916 284.25,121.142 285.28,129.68 286.31,139.736 287.34,151.538 288.37,165.331 \n  289.4,181.372 290.43,199.919 291.459,221.221 292.489,245.497 293.519,272.915 294.549,303.567 295.579,337.44 296.609,374.394 297.639,414.135 298.669,456.213 \n  299.699,500.027 300.729,544.848 301.759,589.867 302.789,634.253 303.819,677.213 304.849,718.056 305.879,756.233 306.909,791.364 307.939,823.239 308.969,851.808 \n  309.999,877.148 311.029,899.43 312.059,918.89 313.089,935.799 314.119,950.437 315.149,963.079 316.179,973.984 317.209,983.387 318.239,991.5 319.269,998.507 \n  320.299,1004.57 321.329,1009.82 322.358,1014.39 323.388,1018.37 324.418,1021.84 325.448,1024.89 326.478,1027.56 327.508,1029.92 328.538,1032 329.568,1033.84 \n  330.598,1035.48 331.628,1036.95 332.658,1038.25 333.688,1039.42 334.718,1040.48 335.748,1041.42 336.778,1042.28 337.808,1043.05 338.838,1043.76 339.868,1044.39 \n  340.898,1044.98 341.928,1045.51 342.958,1045.99 343.988,1046.44 345.018,1046.85 346.048,1047.22 347.078,1047.57 348.108,1047.89 349.138,1048.18 350.168,1048.45 \n  351.198,1048.71 352.227,1048.94 353.257,1049.16 354.287,1049.36 355.317,1049.55 356.347,1049.72 357.377,1049.89 358.407,1050.04 359.437,1050.18 360.467,1050.31 \n  361.497,1050.44 362.527,1050.56 363.557,1050.67 364.587,1050.77 365.617,1050.86 366.647,1050.95 367.677,1051.04 368.707,1051.12 369.737,1051.19 370.767,1051.27 \n  371.797,1051.33 372.827,1051.4 373.857,1051.45 374.887,1051.51 375.917,1051.56 376.947,1051.61 377.977,1051.66 379.007,1051.7 380.037,1051.75 381.067,1051.79 \n  382.097,1051.82 383.126,1051.86 384.156,1051.89 385.186,1051.92 386.216,1051.95 387.246,1051.98 388.276,1052.01 389.306,1052.04 390.336,1052.06 391.366,1052.08 \n  392.396,1052.1 393.426,1052.12 394.456,1052.14 395.486,1052.16 396.516,1052.18 397.546,1052.2 398.576,1052.21 399.606,1052.23 400.636,1052.24 401.666,1052.26 \n  402.696,1052.27 403.726,1052.28 404.756,1052.29 405.786,1052.3 406.816,1052.31 407.846,1052.32 408.876,1052.33 409.906,1052.34 410.936,1052.35 411.966,1052.36 \n  412.995,1052.37 414.025,1052.37 415.055,1052.38 416.085,1052.39 417.115,1052.39 418.145,1052.4 419.175,1052.41 420.205,1052.41 421.235,1052.42 422.265,1052.42 \n  423.295,1052.42 424.325,1052.43 425.355,1052.43 426.385,1052.44 427.415,1052.44 428.445,1052.44 429.475,1052.45 430.505,1052.45 431.535,1052.45 432.565,1052.46 \n  433.595,1052.46 434.625,1052.46 435.655,1052.47 436.685,1052.47 437.715,1052.47 438.745,1052.47 439.775,1052.47 440.805,1052.48 441.835,1052.48 442.865,1052.48 \n  443.894,1052.48 444.924,1052.48 445.954,1052.48 446.984,1052.49 448.014,1052.49 449.044,1052.49 450.074,1052.49 451.104,1052.49 452.134,1052.49 453.164,1052.49 \n  454.194,1052.49 455.224,1052.5 456.254,1052.5 457.284,1052.5 458.314,1052.5 459.344,1052.5 460.374,1052.5 461.404,1052.5 462.434,1052.5 463.464,1052.5 \n  464.494,1052.5 465.524,1052.5 466.554,1052.5 467.584,1052.5 468.614,1052.5 469.644,1052.51 470.674,1052.51 471.704,1052.51 472.734,1052.51 473.763,1052.51 \n  474.793,1052.51 475.823,1052.51 476.853,1052.51 477.883,1052.51 478.913,1052.51 479.943,1052.51 480.973,1052.51 482.003,1052.51 483.033,1052.51 484.063,1052.51 \n  485.093,1052.51 486.123,1052.51 487.153,1052.51 488.183,1052.51 489.213,1052.51 490.243,1052.51 491.273,1052.51 492.303,1052.51 493.333,1052.51 494.363,1052.51 \n  495.393,1052.51 496.423,1052.51 497.453,1052.51 498.483,1052.51 499.513,1052.51 500.543,1052.51 501.573,1052.51 502.603,1052.51 503.632,1052.51 504.662,1052.51 \n  505.692,1052.51 506.722,1052.51 507.752,1052.51 508.782,1052.51 509.812,1052.51 510.842,1052.51 511.872,1052.51 512.902,1052.51 513.932,1052.51 514.962,1052.51 \n  515.992,1052.51 517.022,1052.51 518.052,1052.51 519.082,1052.51 520.112,1052.51 521.142,1052.51 522.172,1052.51 523.202,1052.51 524.232,1052.51 525.262,1052.51 \n  526.292,1052.51 527.322,1052.51 528.352,1052.51 529.382,1052.51 530.412,1052.51 531.442,1052.51 532.472,1052.51 533.502,1052.51 534.531,1052.51 535.561,1052.51 \n  536.591,1052.51 537.621,1052.51 538.651,1052.51 539.681,1052.51 540.711,1052.51 541.741,1052.51 542.771,1052.51 543.801,1052.51 544.831,1052.51 545.861,1052.51 \n  546.891,1052.51 547.921,1052.51 548.951,1052.51 549.981,1052.51 551.011,1052.51 552.041,1052.51 553.071,1052.51 554.101,1052.51 555.131,1052.51 556.161,1052.51 \n  557.191,1052.51 558.221,1052.51 559.251,1052.51 560.281,1052.51 561.311,1052.51 562.341,1052.51 563.371,1052.51 564.4,1052.51 565.43,1052.51 566.46,1052.51 \n  567.49,1052.51 568.52,1052.51 569.55,1052.51 570.58,1052.51 571.61,1052.51 572.64,1052.51 573.67,1052.51 574.7,1052.51 575.73,1052.51 576.76,1052.51 \n  577.79,1052.51 578.82,1052.51 579.85,1052.51 580.88,1052.51 581.91,1052.51 582.94,1052.51 583.97,1052.51 585,1052.51 586.03,1052.51 587.06,1052.51 \n  588.09,1052.51 589.12,1052.51 590.15,1052.51 591.18,1052.51 592.21,1052.51 593.24,1052.51 594.27,1052.51 595.299,1052.51 596.329,1052.51 597.359,1052.51 \n  598.389,1052.51 599.419,1052.51 600.449,1052.51 601.479,1052.51 602.509,1052.51 603.539,1052.51 604.569,1052.51 605.599,1052.51 606.629,1052.51 607.659,1052.51 \n  608.689,1052.51 609.719,1052.51 610.749,1052.51 611.779,1052.51 612.809,1052.51 613.839,1052.51 614.869,1052.51 615.899,1052.51 616.929,1052.51 617.959,1052.51 \n  618.989,1052.51 620.019,1052.51 621.049,1052.51 622.079,1052.51 623.109,1052.51 624.139,1052.51 625.168,1052.51 626.198,1052.51 627.228,1052.51 628.258,1052.51 \n  629.288,1052.51 630.318,1052.51 631.348,1052.51 632.378,1052.51 633.408,1052.51 634.438,1052.51 635.468,1052.51 636.498,1052.51 637.528,1052.51 638.558,1052.51 \n  639.588,1052.51 640.618,1052.51 641.648,1052.51 642.678,1052.51 643.708,1052.51 644.738,1052.51 645.768,1052.51 646.798,1052.51 647.828,1052.51 648.858,1052.51 \n  649.888,1052.51 650.918,1052.51 651.948,1052.51 652.978,1052.51 654.008,1052.51 655.038,1052.51 656.067,1052.51 657.097,1052.51 658.127,1052.51 659.157,1052.51 \n  660.187,1052.51 661.217,1052.51 662.247,1052.51 663.277,1052.51 664.307,1052.51 665.337,1052.51 666.367,1052.51 667.397,1052.51 668.427,1052.51 669.457,1052.51 \n  670.487,1052.51 671.517,1052.51 672.547,1052.51 673.577,1052.51 674.607,1052.51 675.637,1052.51 676.667,1052.51 677.697,1052.51 678.727,1052.51 679.757,1052.51 \n  680.787,1052.51 681.817,1052.51 682.847,1052.51 683.877,1052.51 684.907,1052.51 685.936,1052.51 686.966,1052.51 687.996,1052.51 689.026,1052.51 690.056,1052.51 \n  691.086,1052.51 692.116,1052.51 693.146,1052.51 694.176,1052.51 695.206,1052.51 696.236,1052.51 697.266,1052.51 698.296,1052.51 699.326,1052.51 700.356,1052.51 \n  701.386,1052.51 702.416,1052.51 703.446,1052.51 704.476,1052.51 705.506,1052.51 706.536,1052.51 707.566,1052.51 708.596,1052.51 709.626,1052.51 710.656,1052.51 \n  711.686,1052.51 712.716,1052.51 713.746,1052.51 714.776,1052.51 715.806,1052.51 716.835,1052.51 717.865,1052.51 718.895,1052.51 719.925,1052.51 720.955,1052.51 \n  721.985,1052.51 723.015,1052.51 724.045,1052.51 725.075,1052.51 726.105,1052.51 727.135,1052.51 728.165,1052.51 729.195,1052.51 730.225,1052.51 731.255,1052.51 \n  732.285,1052.51 733.315,1052.51 734.345,1052.51 735.375,1052.51 736.405,1052.51 737.435,1052.51 738.465,1052.51 739.495,1052.51 740.525,1052.51 741.555,1052.51 \n  742.585,1052.51 743.615,1052.51 744.645,1052.51 745.675,1052.51 746.704,1052.51 747.734,1052.51 748.764,1052.51 749.794,1052.51 750.824,1052.51 751.854,1052.51 \n  752.884,1052.51 753.914,1052.51 754.944,1052.51 755.974,1052.51 757.004,1052.51 758.034,1052.51 759.064,1052.51 760.094,1052.51 761.124,1052.51 762.154,1052.51 \n  763.184,1052.51 764.214,1052.51 765.244,1052.51 766.274,1052.51 767.304,1052.51 768.334,1052.51 769.364,1052.51 770.394,1052.51 771.424,1052.51 772.454,1052.51 \n  773.484,1052.51 774.514,1052.51 775.544,1052.51 776.573,1052.51 777.603,1052.51 778.633,1052.51 779.663,1052.51 780.693,1052.51 781.723,1052.51 782.753,1052.51 \n  783.783,1052.51 784.813,1052.51 785.843,1052.51 786.873,1052.51 787.903,1052.51 788.933,1052.51 789.963,1052.51 790.993,1052.51 792.023,1052.51 793.053,1052.51 \n  794.083,1052.51 795.113,1052.51 796.143,1052.51 797.173,1052.51 798.203,1052.51 799.233,1052.51 800.263,1052.51 801.293,1052.51 802.323,1052.51 803.353,1052.51 \n  804.383,1052.51 805.413,1052.51 806.443,1052.51 807.472,1052.51 808.502,1052.51 809.532,1052.51 810.562,1052.51 811.592,1052.51 812.622,1052.51 813.652,1052.51 \n  814.682,1052.51 815.712,1052.51 816.742,1052.51 817.772,1052.51 818.802,1052.51 819.832,1052.51 820.862,1052.51 821.892,1052.51 822.922,1052.51 823.952,1052.51 \n  824.982,1052.51 826.012,1052.51 827.042,1052.51 828.072,1052.51 829.102,1052.51 830.132,1052.51 831.162,1052.51 832.192,1052.51 833.222,1052.51 834.252,1052.51 \n  835.282,1052.51 836.312,1052.51 837.341,1052.51 838.371,1052.51 839.401,1052.51 840.431,1052.51 841.461,1052.51 842.491,1052.51 843.521,1052.51 844.551,1052.51 \n  845.581,1052.51 846.611,1052.51 847.641,1052.51 848.671,1052.51 849.701,1052.51 850.731,1052.51 851.761,1052.51 852.791,1052.51 853.821,1052.51 854.851,1052.51 \n  855.881,1052.51 856.911,1052.51 857.941,1052.51 858.971,1052.51 860.001,1052.51 861.031,1052.51 862.061,1052.51 863.091,1052.51 864.121,1052.51 865.151,1052.51 \n  866.181,1052.51 867.211,1052.51 868.24,1052.51 869.27,1052.51 870.3,1052.51 871.33,1052.51 872.36,1052.51 873.39,1052.51 874.42,1052.51 875.45,1052.51 \n  876.48,1052.51 877.51,1052.51 878.54,1052.51 879.57,1052.51 880.6,1052.51 881.63,1052.51 882.66,1052.51 883.69,1052.51 884.72,1052.51 885.75,1052.51 \n  886.78,1052.51 887.81,1052.51 888.84,1052.51 889.87,1052.51 890.9,1052.51 891.93,1052.51 892.96,1052.51 893.99,1052.51 895.02,1052.51 896.05,1052.51 \n  897.08,1052.51 898.109,1052.51 899.139,1052.51 900.169,1052.51 901.199,1052.51 902.229,1052.51 903.259,1052.51 904.289,1052.51 905.319,1052.51 906.349,1052.51 \n  907.379,1052.51 908.409,1052.51 909.439,1052.51 910.469,1052.51 911.499,1052.51 912.529,1052.51 913.559,1052.51 914.589,1052.51 915.619,1052.51 916.649,1052.51 \n  917.679,1052.51 918.709,1052.51 919.739,1052.51 920.769,1052.51 921.799,1052.51 922.829,1052.51 923.859,1052.51 924.889,1052.51 925.919,1052.51 926.949,1052.51 \n  927.979,1052.51 929.008,1052.51 930.038,1052.51 931.068,1052.51 932.098,1052.51 933.128,1052.51 934.158,1052.51 935.188,1052.51 936.218,1052.51 937.248,1052.51 \n  938.278,1052.51 939.308,1052.51 940.338,1052.51 941.368,1052.51 942.398,1052.51 943.428,1052.51 944.458,1052.51 945.488,1052.51 946.518,1052.51 947.548,1052.51 \n  948.578,1052.51 949.608,1052.51 950.638,1052.51 951.668,1052.51 952.698,1052.51 953.728,1052.51 954.758,1052.51 955.788,1052.51 956.818,1052.51 957.848,1052.51 \n  958.877,1052.51 959.907,1052.51 960.937,1052.51 961.967,1052.51 962.997,1052.51 964.027,1052.51 965.057,1052.51 966.087,1052.51 967.117,1052.51 968.147,1052.51 \n  969.177,1052.51 970.207,1052.51 971.237,1052.51 972.267,1052.51 973.297,1052.51 974.327,1052.51 975.357,1052.51 976.387,1052.51 977.417,1052.51 978.447,1052.51 \n  979.477,1052.51 980.507,1052.51 981.537,1052.51 982.567,1052.51 983.597,1052.51 984.627,1052.51 985.657,1052.51 986.687,1052.51 987.717,1052.51 988.747,1052.51 \n  989.776,1052.51 990.806,1052.51 991.836,1052.51 992.866,1052.51 993.896,1052.51 994.926,1052.51 995.956,1052.51 996.986,1052.51 998.016,1052.51 999.046,1052.51 \n  1000.08,1052.51 1001.11,1052.51 1002.14,1052.51 1003.17,1052.51 1004.2,1052.51 1005.23,1052.51 1006.26,1052.51 1007.29,1052.51 1008.32,1052.51 1009.35,1052.51 \n  1010.38,1052.51 1011.41,1052.51 1012.44,1052.51 1013.47,1052.51 1014.5,1052.51 1015.53,1052.51 1016.56,1052.51 1017.59,1052.51 1018.62,1052.51 1019.65,1052.51 \n  1020.68,1052.51 1021.71,1052.51 1022.74,1052.51 1023.77,1052.51 1024.8,1052.51 1025.83,1052.51 1026.86,1052.51 1027.89,1052.51 1028.92,1052.51 1029.95,1052.51 \n  1030.98,1052.51 1032.01,1052.51 1033.04,1052.51 1034.07,1052.51 1035.09,1052.51 1036.12,1052.51 1037.15,1052.51 1038.18,1052.51 1039.21,1052.51 1040.24,1052.51 \n  1041.27,1052.51 1042.3,1052.51 1043.33,1052.51 1044.36,1052.51 1045.39,1052.51 1046.42,1052.51 1047.45,1052.51 1048.48,1052.51 1049.51,1052.51 1050.54,1052.51 \n  1051.57,1052.51 1052.6,1052.51 1053.63,1052.51 1054.66,1052.51 1055.69,1052.51 1056.72,1052.51 1057.75,1052.51 1058.78,1052.51 1059.81,1052.51 1060.84,1052.51 \n  1061.87,1052.51 1062.9,1052.51 1063.93,1052.51 1064.96,1052.51 1065.99,1052.51 1067.02,1052.51 1068.05,1052.51 1069.08,1052.51 1070.11,1052.51 1071.14,1052.51 \n  1072.17,1052.51 1073.2,1052.51 1074.23,1052.51 1075.26,1052.51 1076.29,1052.51 1077.32,1052.51 1078.35,1052.51 1079.38,1052.51 1080.41,1052.51 1081.44,1052.51 \n  1082.47,1052.51 1083.5,1052.51 1084.53,1052.51 1085.56,1052.51 1086.59,1052.51 1087.62,1052.51 1088.65,1052.51 1089.68,1052.51 1090.71,1052.51 1091.74,1052.51 \n  1092.77,1052.51 1093.8,1052.51 1094.83,1052.51 1095.86,1052.51 1096.89,1052.51 1097.92,1052.51 1098.95,1052.51 1099.98,1052.51 1101.01,1052.51 1102.04,1052.51 \n  1103.07,1052.51 1104.1,1052.51 1105.13,1052.51 1106.16,1052.51 1107.19,1052.51 1108.22,1052.51 1109.25,1052.51 1110.28,1052.51 1111.31,1052.51 1112.34,1052.51 \n  1113.37,1052.51 1114.4,1052.51 1115.43,1052.51 1116.46,1052.51 1117.49,1052.51 1118.52,1052.51 1119.55,1052.51 1120.58,1052.51 1121.61,1052.51 1122.64,1052.51 \n  1123.67,1052.51 1124.7,1052.51 1125.73,1052.51 1126.76,1052.51 1127.79,1052.51 1128.82,1052.51 1129.85,1052.51 1130.88,1052.51 1131.91,1052.51 1132.94,1052.51 \n  1133.97,1052.51 1135,1052.51 1136.03,1052.51 1137.06,1052.51 1138.09,1052.51 1139.12,1052.51 1140.15,1052.51 1141.18,1052.51 1142.21,1052.51 1143.24,1052.51 \n  1144.27,1052.51 1145.3,1052.51 1146.33,1052.51 1147.36,1052.51 1148.39,1052.51 1149.42,1052.51 1150.45,1052.51 1151.48,1052.51 1152.51,1052.51 1153.54,1052.51 \n  1154.57,1052.51 1155.6,1052.51 1156.63,1052.51 1157.66,1052.51 1158.69,1052.51 1159.72,1052.51 1160.75,1052.51 1161.78,1052.51 1162.81,1052.51 1163.84,1052.51 \n  1164.87,1052.51 1165.9,1052.51 1166.93,1052.51 1167.96,1052.51 1168.99,1052.51 1170.02,1052.51 1171.05,1052.51 1172.08,1052.51 1173.11,1052.51 1174.14,1052.51 \n  1175.17,1052.51 1176.2,1052.51 1177.23,1052.51 1178.26,1052.51 1179.29,1052.51 1180.32,1052.51 1181.35,1052.51 1182.38,1052.51 1183.41,1052.51 1184.44,1052.51 \n  1185.47,1052.51 1186.5,1052.51 1187.53,1052.51 1188.56,1052.51 1189.59,1052.51 1190.62,1052.51 1191.65,1052.51 1192.68,1052.51 1193.71,1052.51 1194.74,1052.51 \n  1195.77,1052.51 1196.8,1052.51 1197.83,1052.51 1198.86,1052.51 1199.89,1052.51 1200.92,1052.51 1201.95,1052.51 1202.98,1052.51 1204.01,1052.51 1205.04,1052.51 \n  1206.07,1052.51 1207.1,1052.51 1208.13,1052.51 1209.16,1052.51 1210.19,1052.51 1211.22,1052.51 1212.25,1052.51 1213.28,1052.51 1214.31,1052.51 1215.34,1052.51 \n  1216.37,1052.51 1217.4,1052.51 1218.43,1052.51 1219.46,1052.51 1220.49,1052.51 1221.52,1052.51 1222.55,1052.51 1223.58,1052.51 1224.61,1052.51 1225.64,1052.51 \n  1226.67,1052.51 1227.7,1052.51 1228.73,1052.51 1229.76,1052.51 1230.79,1052.51 1231.82,1052.51 1232.85,1052.51 1233.88,1052.51 1234.91,1052.51 1235.94,1052.51 \n  1236.97,1052.51 1238,1052.51 1239.03,1052.51 1240.06,1052.51 1241.09,1052.51 1242.12,1052.51 1243.15,1052.51 1244.18,1052.51 1245.21,1052.51 1246.24,1052.51 \n  1247.27,1052.51 1248.3,1052.51 1249.33,1052.51 1250.36,1052.51 1251.39,1052.51 1252.42,1052.51 1253.45,1052.51 1254.48,1052.51 1255.51,1052.51 1256.54,1052.51 \n  1257.57,1052.51 1258.6,1052.51 1259.63,1052.51 1260.66,1052.51 1261.69,1052.51 1262.72,1052.51 1263.75,1052.51 1264.78,1052.51 1265.81,1052.51 1266.84,1052.51 \n  1267.87,1052.51 1268.9,1052.51 1269.93,1052.51 1270.96,1052.51 1271.99,1052.51 1273.02,1052.51 1274.05,1052.51 1275.08,1052.51 1276.11,1052.51 1277.14,1052.51 \n  1278.17,1052.51 1279.2,1052.51 1280.23,1052.51 1281.26,1052.51 1282.29,1052.51 1283.32,1052.51 1284.35,1052.51 1285.38,1052.51 1286.41,1052.51 1287.44,1052.51 \n  1288.47,1052.51 1289.5,1052.51 1290.53,1052.51 1291.56,1052.51 1292.59,1052.51 1293.62,1052.51 1294.65,1052.51 1295.68,1052.51 1296.71,1052.51 1297.74,1052.51 \n  1298.77,1052.51 1299.8,1052.51 1300.83,1052.51 1301.86,1052.51 1302.89,1052.51 1303.92,1052.51 1304.95,1052.51 1305.98,1052.51 1307.01,1052.51 1308.04,1052.51 \n  1309.07,1052.51 1310.1,1052.51 1311.13,1052.51 1312.16,1052.51 1313.19,1052.51 1314.22,1052.51 1315.25,1052.51 1316.28,1052.51 1317.31,1052.51 1318.34,1052.51 \n  1319.37,1052.51 1320.4,1052.51 1321.43,1052.51 1322.46,1052.51 1323.49,1052.51 1324.52,1052.51 1325.55,1052.51 1326.58,1052.51 1327.61,1052.51 1328.64,1052.51 \n  1329.67,1052.51 1330.7,1052.51 1331.73,1052.51 1332.76,1052.51 1333.79,1052.51 1334.82,1052.51 1335.85,1052.51 1336.88,1052.51 1337.9,1052.51 1338.93,1052.51 \n  1339.96,1052.51 1340.99,1052.51 1342.02,1052.51 1343.05,1052.51 1344.08,1052.51 1345.11,1052.51 1346.14,1052.51 1347.17,1052.51 1348.2,1052.51 1349.23,1052.51 \n  1350.26,1052.51 1351.29,1052.51 1352.32,1052.51 1353.35,1052.51 1354.38,1052.51 1355.41,1052.51 1356.44,1052.51 1357.47,1052.51 1358.5,1052.51 1359.53,1052.51 \n  1360.56,1052.51 1361.59,1052.51 1362.62,1052.51 1363.65,1052.51 1364.68,1052.51 1365.71,1052.51 1366.74,1052.51 1367.77,1052.51 1368.8,1052.51 1369.83,1052.51 \n  1370.86,1052.51 1371.89,1052.51 1372.92,1052.51 1373.95,1052.51 1374.98,1052.51 1376.01,1052.51 1377.04,1052.51 1378.07,1052.51 1379.1,1052.51 1380.13,1052.51 \n  1381.16,1052.51 1382.19,1052.51 1383.22,1052.51 1384.25,1052.51 1385.28,1052.51 1386.31,1052.51 1387.34,1052.51 1388.37,1052.51 1389.4,1052.51 1390.43,1052.51 \n  1391.46,1052.51 1392.49,1052.51 1393.52,1052.51 1394.55,1052.51 1395.58,1052.51 1396.61,1052.51 1397.64,1052.51 1398.67,1052.51 1399.7,1052.51 1400.73,1052.51 \n  1401.76,1052.51 1402.79,1052.51 1403.82,1052.51 1404.85,1052.51 1405.88,1052.51 1406.91,1052.51 1407.94,1052.51 1408.97,1052.51 1410,1052.51 1411.03,1052.51 \n  1412.06,1052.51 1413.09,1052.51 1414.12,1052.51 1415.15,1052.51 1416.18,1052.51 1417.21,1052.51 1418.24,1052.51 1419.27,1052.51 1420.3,1052.51 1421.33,1052.51 \n  1422.36,1052.51 1423.39,1052.51 1424.42,1052.51 1425.45,1052.51 1426.48,1052.51 1427.51,1052.51 1428.54,1052.51 1429.57,1052.51 1430.6,1052.51 1431.63,1052.51 \n  1432.66,1052.51 1433.69,1052.51 1434.72,1052.51 1435.75,1052.51 1436.78,1052.51 1437.81,1052.51 1438.84,1052.51 1439.87,1052.51 1440.9,1052.51 1441.93,1052.51 \n  1442.96,1052.51 1443.99,1052.51 1445.02,1052.51 1446.05,1052.51 1447.08,1052.51 1448.11,1052.51 1449.14,1052.51 1450.17,1052.51 1451.2,1052.51 1452.23,1052.51 \n  1453.26,1052.51 1454.29,1052.51 1455.32,1052.51 1456.35,1052.51 1457.38,1052.51 1458.41,1052.51 1459.44,1052.51 1460.47,1052.51 1461.5,1052.51 1462.53,1052.51 \n  1463.56,1052.51 1464.59,1052.51 1465.62,1052.51 1466.65,1052.51 1467.68,1052.51 1468.71,1052.51 1469.74,1052.51 1470.77,1052.51 1471.8,1052.51 1472.83,1052.51 \n  1473.86,1052.51 1474.89,1052.51 1475.92,1052.51 1476.95,1052.51 1477.98,1052.51 1479.01,1052.51 1480.04,1052.51 1481.07,1052.51 1482.1,1052.51 1483.13,1052.51 \n  1484.16,1052.51 1485.19,1052.51 1486.22,1052.51 1487.25,1052.51 1488.28,1052.51 1489.31,1052.51 1490.34,1052.51 1491.37,1052.51 1492.4,1052.51 1493.43,1052.51 \n  1494.46,1052.51 1495.49,1052.51 1496.52,1052.51 1497.55,1052.51 1498.58,1052.51 1499.61,1052.51 1500.64,1052.51 1501.67,1052.51 1502.7,1052.51 1503.73,1052.51 \n  1504.76,1052.51 1505.79,1052.51 1506.82,1052.51 1507.85,1052.51 1508.88,1052.51 1509.91,1052.51 1510.94,1052.51 1511.97,1052.51 1513,1052.51 1514.03,1052.51 \n  1515.06,1052.51 \n  \"/>\n<polyline clip-path=\"url(#clip1402)\" style=\"stroke:#e26f46; stroke-width:4; stroke-opacity:1; fill:none\" points=\"\n  258.501,1057.64 259.531,1057.56 260.561,1057.47 261.59,1057.36 262.62,1057.22 263.65,1057.06 264.68,1056.86 265.71,1056.63 266.74,1056.35 267.77,1056.01 \n  268.8,1055.61 269.83,1055.12 270.86,1054.54 271.89,1053.85 272.92,1053.02 273.95,1052.02 274.98,1050.83 276.01,1049.41 277.04,1047.7 278.07,1045.67 \n  279.1,1043.24 280.13,1040.35 281.16,1036.91 282.19,1032.83 283.22,1027.99 284.25,1022.26 285.28,1015.51 286.31,1007.59 287.34,998.306 288.37,987.499 \n  289.4,974.985 290.43,960.59 291.459,944.16 292.489,925.578 293.519,904.783 294.549,881.794 295.579,856.732 296.609,829.844 297.639,801.512 298.669,772.26 \n  299.699,742.735 300.729,713.679 301.759,685.878 302.789,660.1 303.819,637.036 304.849,617.243 305.879,601.105 306.909,588.821 307.939,580.406 308.969,575.719 \n  309.999,574.495 311.029,576.39 312.059,581.012 313.089,587.954 314.119,596.82 315.149,607.238 316.179,618.873 317.209,631.428 318.239,644.646 319.269,658.309 \n  320.299,672.233 321.329,686.268 322.358,700.291 323.388,714.2 324.418,727.918 325.448,741.38 326.478,754.538 327.508,767.357 328.538,779.808 329.568,791.874 \n  330.598,803.542 331.628,814.805 332.658,825.659 333.688,836.107 334.718,846.151 335.748,855.798 336.778,865.054 337.808,873.928 338.838,882.431 339.868,890.572 \n  340.898,898.363 341.928,905.816 342.958,912.941 343.988,919.751 345.018,926.256 346.048,932.47 347.078,938.402 348.108,944.065 349.138,949.469 350.168,954.624 \n  351.198,959.543 352.227,964.233 353.257,968.706 354.287,972.97 355.317,977.035 356.347,980.91 357.377,984.603 358.407,988.122 359.437,991.476 360.467,994.67 \n  361.497,997.714 362.527,1000.61 363.557,1003.37 364.587,1006.01 365.617,1008.51 366.647,1010.9 367.677,1013.17 368.707,1015.33 369.737,1017.39 370.767,1019.35 \n  371.797,1021.22 372.827,1023 373.857,1024.69 374.887,1026.3 375.917,1027.84 376.947,1029.3 377.977,1030.69 379.007,1032.01 380.037,1033.27 381.067,1034.47 \n  382.097,1035.61 383.126,1036.69 384.156,1037.73 385.186,1038.71 386.216,1039.65 387.246,1040.54 388.276,1041.39 389.306,1042.19 390.336,1042.96 391.366,1043.69 \n  392.396,1044.39 393.426,1045.05 394.456,1045.68 395.486,1046.28 396.516,1046.85 397.546,1047.39 398.576,1047.91 399.606,1048.4 400.636,1048.87 401.666,1049.31 \n  402.696,1049.73 403.726,1050.14 404.756,1050.52 405.786,1050.88 406.816,1051.23 407.846,1051.56 408.876,1051.88 409.906,1052.17 410.936,1052.46 411.966,1052.73 \n  412.995,1052.99 414.025,1053.23 415.055,1053.47 416.085,1053.69 417.115,1053.9 418.145,1054.1 419.175,1054.29 420.205,1054.47 421.235,1054.65 422.265,1054.81 \n  423.295,1054.97 424.325,1055.12 425.355,1055.26 426.385,1055.39 427.415,1055.52 428.445,1055.64 429.475,1055.76 430.505,1055.87 431.535,1055.97 432.565,1056.07 \n  433.595,1056.17 434.625,1056.26 435.655,1056.35 436.685,1056.43 437.715,1056.51 438.745,1056.58 439.775,1056.65 440.805,1056.72 441.835,1056.78 442.865,1056.84 \n  443.894,1056.9 444.924,1056.96 445.954,1057.01 446.984,1057.06 448.014,1057.11 449.044,1057.15 450.074,1057.19 451.104,1057.23 452.134,1057.27 453.164,1057.31 \n  454.194,1057.35 455.224,1057.38 456.254,1057.41 457.284,1057.44 458.314,1057.47 459.344,1057.5 460.374,1057.52 461.404,1057.55 462.434,1057.57 463.464,1057.59 \n  464.494,1057.62 465.524,1057.64 466.554,1057.66 467.584,1057.67 468.614,1057.69 469.644,1057.71 470.674,1057.72 471.704,1057.74 472.734,1057.75 473.763,1057.77 \n  474.793,1057.78 475.823,1057.79 476.853,1057.8 477.883,1057.82 478.913,1057.83 479.943,1057.84 480.973,1057.85 482.003,1057.85 483.033,1057.86 484.063,1057.87 \n  485.093,1057.88 486.123,1057.89 487.153,1057.89 488.183,1057.9 489.213,1057.91 490.243,1057.91 491.273,1057.92 492.303,1057.93 493.333,1057.93 494.363,1057.94 \n  495.393,1057.94 496.423,1057.94 497.453,1057.95 498.483,1057.95 499.513,1057.96 500.543,1057.96 501.573,1057.96 502.603,1057.97 503.632,1057.97 504.662,1057.97 \n  505.692,1057.98 506.722,1057.98 507.752,1057.98 508.782,1057.99 509.812,1057.99 510.842,1057.99 511.872,1057.99 512.902,1057.99 513.932,1058 514.962,1058 \n  515.992,1058 517.022,1058 518.052,1058 519.082,1058 520.112,1058.01 521.142,1058.01 522.172,1058.01 523.202,1058.01 524.232,1058.01 525.262,1058.01 \n  526.292,1058.01 527.322,1058.01 528.352,1058.02 529.382,1058.02 530.412,1058.02 531.442,1058.02 532.472,1058.02 533.502,1058.02 534.531,1058.02 535.561,1058.02 \n  536.591,1058.02 537.621,1058.02 538.651,1058.02 539.681,1058.02 540.711,1058.02 541.741,1058.02 542.771,1058.02 543.801,1058.03 544.831,1058.03 545.861,1058.03 \n  546.891,1058.03 547.921,1058.03 548.951,1058.03 549.981,1058.03 551.011,1058.03 552.041,1058.03 553.071,1058.03 554.101,1058.03 555.131,1058.03 556.161,1058.03 \n  557.191,1058.03 558.221,1058.03 559.251,1058.03 560.281,1058.03 561.311,1058.03 562.341,1058.03 563.371,1058.03 564.4,1058.03 565.43,1058.03 566.46,1058.03 \n  567.49,1058.03 568.52,1058.03 569.55,1058.03 570.58,1058.03 571.61,1058.03 572.64,1058.03 573.67,1058.03 574.7,1058.03 575.73,1058.03 576.76,1058.03 \n  577.79,1058.03 578.82,1058.03 579.85,1058.03 580.88,1058.03 581.91,1058.03 582.94,1058.03 583.97,1058.03 585,1058.03 586.03,1058.03 587.06,1058.03 \n  588.09,1058.03 589.12,1058.03 590.15,1058.03 591.18,1058.03 592.21,1058.03 593.24,1058.03 594.27,1058.03 595.299,1058.03 596.329,1058.03 597.359,1058.03 \n  598.389,1058.03 599.419,1058.03 600.449,1058.03 601.479,1058.03 602.509,1058.03 603.539,1058.03 604.569,1058.03 605.599,1058.03 606.629,1058.03 607.659,1058.03 \n  608.689,1058.03 609.719,1058.03 610.749,1058.03 611.779,1058.03 612.809,1058.03 613.839,1058.03 614.869,1058.03 615.899,1058.03 616.929,1058.03 617.959,1058.03 \n  618.989,1058.03 620.019,1058.03 621.049,1058.03 622.079,1058.03 623.109,1058.03 624.139,1058.03 625.168,1058.03 626.198,1058.03 627.228,1058.03 628.258,1058.03 \n  629.288,1058.03 630.318,1058.03 631.348,1058.03 632.378,1058.03 633.408,1058.03 634.438,1058.03 635.468,1058.03 636.498,1058.03 637.528,1058.03 638.558,1058.03 \n  639.588,1058.03 640.618,1058.03 641.648,1058.03 642.678,1058.03 643.708,1058.03 644.738,1058.03 645.768,1058.03 646.798,1058.03 647.828,1058.03 648.858,1058.03 \n  649.888,1058.03 650.918,1058.03 651.948,1058.03 652.978,1058.03 654.008,1058.03 655.038,1058.03 656.067,1058.03 657.097,1058.03 658.127,1058.03 659.157,1058.03 \n  660.187,1058.03 661.217,1058.03 662.247,1058.03 663.277,1058.03 664.307,1058.03 665.337,1058.03 666.367,1058.03 667.397,1058.03 668.427,1058.03 669.457,1058.03 \n  670.487,1058.03 671.517,1058.03 672.547,1058.03 673.577,1058.03 674.607,1058.03 675.637,1058.03 676.667,1058.03 677.697,1058.03 678.727,1058.03 679.757,1058.03 \n  680.787,1058.03 681.817,1058.03 682.847,1058.03 683.877,1058.03 684.907,1058.03 685.936,1058.03 686.966,1058.03 687.996,1058.03 689.026,1058.03 690.056,1058.03 \n  691.086,1058.03 692.116,1058.03 693.146,1058.03 694.176,1058.03 695.206,1058.03 696.236,1058.03 697.266,1058.03 698.296,1058.03 699.326,1058.03 700.356,1058.03 \n  701.386,1058.03 702.416,1058.03 703.446,1058.03 704.476,1058.03 705.506,1058.03 706.536,1058.03 707.566,1058.03 708.596,1058.03 709.626,1058.03 710.656,1058.03 \n  711.686,1058.03 712.716,1058.03 713.746,1058.03 714.776,1058.03 715.806,1058.03 716.835,1058.03 717.865,1058.03 718.895,1058.03 719.925,1058.03 720.955,1058.03 \n  721.985,1058.03 723.015,1058.03 724.045,1058.03 725.075,1058.03 726.105,1058.03 727.135,1058.03 728.165,1058.03 729.195,1058.03 730.225,1058.03 731.255,1058.03 \n  732.285,1058.03 733.315,1058.03 734.345,1058.03 735.375,1058.03 736.405,1058.03 737.435,1058.03 738.465,1058.03 739.495,1058.03 740.525,1058.03 741.555,1058.03 \n  742.585,1058.03 743.615,1058.03 744.645,1058.03 745.675,1058.03 746.704,1058.03 747.734,1058.03 748.764,1058.03 749.794,1058.03 750.824,1058.03 751.854,1058.03 \n  752.884,1058.03 753.914,1058.03 754.944,1058.03 755.974,1058.03 757.004,1058.03 758.034,1058.03 759.064,1058.03 760.094,1058.03 761.124,1058.03 762.154,1058.03 \n  763.184,1058.03 764.214,1058.03 765.244,1058.03 766.274,1058.03 767.304,1058.03 768.334,1058.03 769.364,1058.03 770.394,1058.03 771.424,1058.03 772.454,1058.03 \n  773.484,1058.03 774.514,1058.03 775.544,1058.03 776.573,1058.03 777.603,1058.03 778.633,1058.03 779.663,1058.03 780.693,1058.03 781.723,1058.03 782.753,1058.03 \n  783.783,1058.03 784.813,1058.03 785.843,1058.03 786.873,1058.03 787.903,1058.03 788.933,1058.03 789.963,1058.03 790.993,1058.03 792.023,1058.03 793.053,1058.03 \n  794.083,1058.03 795.113,1058.03 796.143,1058.03 797.173,1058.03 798.203,1058.03 799.233,1058.03 800.263,1058.03 801.293,1058.03 802.323,1058.03 803.353,1058.03 \n  804.383,1058.03 805.413,1058.03 806.443,1058.03 807.472,1058.03 808.502,1058.03 809.532,1058.03 810.562,1058.03 811.592,1058.03 812.622,1058.03 813.652,1058.03 \n  814.682,1058.03 815.712,1058.03 816.742,1058.03 817.772,1058.03 818.802,1058.03 819.832,1058.03 820.862,1058.03 821.892,1058.03 822.922,1058.03 823.952,1058.03 \n  824.982,1058.03 826.012,1058.03 827.042,1058.03 828.072,1058.03 829.102,1058.03 830.132,1058.03 831.162,1058.03 832.192,1058.03 833.222,1058.03 834.252,1058.03 \n  835.282,1058.03 836.312,1058.03 837.341,1058.03 838.371,1058.03 839.401,1058.03 840.431,1058.03 841.461,1058.03 842.491,1058.03 843.521,1058.03 844.551,1058.03 \n  845.581,1058.03 846.611,1058.03 847.641,1058.03 848.671,1058.03 849.701,1058.03 850.731,1058.03 851.761,1058.03 852.791,1058.03 853.821,1058.03 854.851,1058.03 \n  855.881,1058.03 856.911,1058.03 857.941,1058.03 858.971,1058.03 860.001,1058.03 861.031,1058.03 862.061,1058.03 863.091,1058.03 864.121,1058.03 865.151,1058.03 \n  866.181,1058.03 867.211,1058.03 868.24,1058.03 869.27,1058.03 870.3,1058.03 871.33,1058.03 872.36,1058.03 873.39,1058.03 874.42,1058.03 875.45,1058.03 \n  876.48,1058.03 877.51,1058.03 878.54,1058.03 879.57,1058.03 880.6,1058.03 881.63,1058.03 882.66,1058.03 883.69,1058.03 884.72,1058.03 885.75,1058.03 \n  886.78,1058.03 887.81,1058.03 888.84,1058.03 889.87,1058.03 890.9,1058.03 891.93,1058.03 892.96,1058.03 893.99,1058.03 895.02,1058.03 896.05,1058.03 \n  897.08,1058.03 898.109,1058.03 899.139,1058.03 900.169,1058.03 901.199,1058.03 902.229,1058.03 903.259,1058.03 904.289,1058.03 905.319,1058.03 906.349,1058.03 \n  907.379,1058.03 908.409,1058.03 909.439,1058.03 910.469,1058.03 911.499,1058.03 912.529,1058.03 913.559,1058.03 914.589,1058.03 915.619,1058.03 916.649,1058.03 \n  917.679,1058.03 918.709,1058.03 919.739,1058.03 920.769,1058.03 921.799,1058.03 922.829,1058.03 923.859,1058.03 924.889,1058.03 925.919,1058.03 926.949,1058.03 \n  927.979,1058.03 929.008,1058.03 930.038,1058.03 931.068,1058.03 932.098,1058.03 933.128,1058.03 934.158,1058.03 935.188,1058.03 936.218,1058.03 937.248,1058.03 \n  938.278,1058.03 939.308,1058.03 940.338,1058.03 941.368,1058.03 942.398,1058.03 943.428,1058.03 944.458,1058.03 945.488,1058.03 946.518,1058.03 947.548,1058.03 \n  948.578,1058.03 949.608,1058.03 950.638,1058.03 951.668,1058.03 952.698,1058.03 953.728,1058.03 954.758,1058.03 955.788,1058.03 956.818,1058.03 957.848,1058.03 \n  958.877,1058.03 959.907,1058.03 960.937,1058.03 961.967,1058.03 962.997,1058.03 964.027,1058.03 965.057,1058.03 966.087,1058.03 967.117,1058.03 968.147,1058.03 \n  969.177,1058.03 970.207,1058.03 971.237,1058.03 972.267,1058.03 973.297,1058.03 974.327,1058.03 975.357,1058.03 976.387,1058.03 977.417,1058.03 978.447,1058.03 \n  979.477,1058.03 980.507,1058.03 981.537,1058.03 982.567,1058.03 983.597,1058.03 984.627,1058.03 985.657,1058.03 986.687,1058.03 987.717,1058.03 988.747,1058.03 \n  989.776,1058.03 990.806,1058.03 991.836,1058.03 992.866,1058.03 993.896,1058.03 994.926,1058.03 995.956,1058.03 996.986,1058.03 998.016,1058.03 999.046,1058.03 \n  1000.08,1058.03 1001.11,1058.03 1002.14,1058.03 1003.17,1058.03 1004.2,1058.03 1005.23,1058.03 1006.26,1058.03 1007.29,1058.03 1008.32,1058.03 1009.35,1058.03 \n  1010.38,1058.03 1011.41,1058.03 1012.44,1058.03 1013.47,1058.03 1014.5,1058.03 1015.53,1058.03 1016.56,1058.03 1017.59,1058.03 1018.62,1058.03 1019.65,1058.03 \n  1020.68,1058.03 1021.71,1058.03 1022.74,1058.03 1023.77,1058.03 1024.8,1058.03 1025.83,1058.03 1026.86,1058.03 1027.89,1058.03 1028.92,1058.03 1029.95,1058.03 \n  1030.98,1058.03 1032.01,1058.03 1033.04,1058.03 1034.07,1058.03 1035.09,1058.03 1036.12,1058.03 1037.15,1058.03 1038.18,1058.03 1039.21,1058.03 1040.24,1058.03 \n  1041.27,1058.03 1042.3,1058.03 1043.33,1058.03 1044.36,1058.03 1045.39,1058.03 1046.42,1058.03 1047.45,1058.03 1048.48,1058.03 1049.51,1058.03 1050.54,1058.03 \n  1051.57,1058.03 1052.6,1058.03 1053.63,1058.03 1054.66,1058.03 1055.69,1058.03 1056.72,1058.03 1057.75,1058.03 1058.78,1058.03 1059.81,1058.03 1060.84,1058.03 \n  1061.87,1058.03 1062.9,1058.03 1063.93,1058.03 1064.96,1058.03 1065.99,1058.03 1067.02,1058.03 1068.05,1058.03 1069.08,1058.03 1070.11,1058.03 1071.14,1058.03 \n  1072.17,1058.03 1073.2,1058.03 1074.23,1058.03 1075.26,1058.03 1076.29,1058.03 1077.32,1058.03 1078.35,1058.03 1079.38,1058.03 1080.41,1058.03 1081.44,1058.03 \n  1082.47,1058.03 1083.5,1058.03 1084.53,1058.03 1085.56,1058.03 1086.59,1058.03 1087.62,1058.03 1088.65,1058.03 1089.68,1058.03 1090.71,1058.03 1091.74,1058.03 \n  1092.77,1058.03 1093.8,1058.03 1094.83,1058.03 1095.86,1058.03 1096.89,1058.03 1097.92,1058.03 1098.95,1058.03 1099.98,1058.03 1101.01,1058.03 1102.04,1058.03 \n  1103.07,1058.03 1104.1,1058.03 1105.13,1058.03 1106.16,1058.03 1107.19,1058.03 1108.22,1058.03 1109.25,1058.03 1110.28,1058.03 1111.31,1058.03 1112.34,1058.03 \n  1113.37,1058.03 1114.4,1058.03 1115.43,1058.03 1116.46,1058.03 1117.49,1058.03 1118.52,1058.03 1119.55,1058.03 1120.58,1058.03 1121.61,1058.03 1122.64,1058.03 \n  1123.67,1058.03 1124.7,1058.03 1125.73,1058.03 1126.76,1058.03 1127.79,1058.03 1128.82,1058.03 1129.85,1058.03 1130.88,1058.03 1131.91,1058.03 1132.94,1058.03 \n  1133.97,1058.03 1135,1058.03 1136.03,1058.03 1137.06,1058.03 1138.09,1058.03 1139.12,1058.03 1140.15,1058.03 1141.18,1058.03 1142.21,1058.03 1143.24,1058.03 \n  1144.27,1058.03 1145.3,1058.03 1146.33,1058.03 1147.36,1058.03 1148.39,1058.03 1149.42,1058.03 1150.45,1058.03 1151.48,1058.03 1152.51,1058.03 1153.54,1058.03 \n  1154.57,1058.03 1155.6,1058.03 1156.63,1058.03 1157.66,1058.03 1158.69,1058.03 1159.72,1058.03 1160.75,1058.03 1161.78,1058.03 1162.81,1058.03 1163.84,1058.03 \n  1164.87,1058.03 1165.9,1058.03 1166.93,1058.03 1167.96,1058.03 1168.99,1058.03 1170.02,1058.03 1171.05,1058.03 1172.08,1058.03 1173.11,1058.03 1174.14,1058.03 \n  1175.17,1058.03 1176.2,1058.03 1177.23,1058.03 1178.26,1058.03 1179.29,1058.03 1180.32,1058.03 1181.35,1058.03 1182.38,1058.03 1183.41,1058.03 1184.44,1058.03 \n  1185.47,1058.03 1186.5,1058.03 1187.53,1058.03 1188.56,1058.03 1189.59,1058.03 1190.62,1058.03 1191.65,1058.03 1192.68,1058.03 1193.71,1058.03 1194.74,1058.03 \n  1195.77,1058.03 1196.8,1058.03 1197.83,1058.03 1198.86,1058.03 1199.89,1058.03 1200.92,1058.03 1201.95,1058.03 1202.98,1058.03 1204.01,1058.03 1205.04,1058.03 \n  1206.07,1058.03 1207.1,1058.03 1208.13,1058.03 1209.16,1058.03 1210.19,1058.03 1211.22,1058.03 1212.25,1058.03 1213.28,1058.03 1214.31,1058.03 1215.34,1058.03 \n  1216.37,1058.03 1217.4,1058.03 1218.43,1058.03 1219.46,1058.03 1220.49,1058.03 1221.52,1058.03 1222.55,1058.03 1223.58,1058.03 1224.61,1058.03 1225.64,1058.03 \n  1226.67,1058.03 1227.7,1058.03 1228.73,1058.03 1229.76,1058.03 1230.79,1058.03 1231.82,1058.03 1232.85,1058.03 1233.88,1058.03 1234.91,1058.03 1235.94,1058.03 \n  1236.97,1058.03 1238,1058.03 1239.03,1058.03 1240.06,1058.03 1241.09,1058.03 1242.12,1058.03 1243.15,1058.03 1244.18,1058.03 1245.21,1058.03 1246.24,1058.03 \n  1247.27,1058.03 1248.3,1058.03 1249.33,1058.03 1250.36,1058.03 1251.39,1058.03 1252.42,1058.03 1253.45,1058.03 1254.48,1058.03 1255.51,1058.03 1256.54,1058.03 \n  1257.57,1058.03 1258.6,1058.03 1259.63,1058.03 1260.66,1058.03 1261.69,1058.03 1262.72,1058.03 1263.75,1058.03 1264.78,1058.03 1265.81,1058.03 1266.84,1058.03 \n  1267.87,1058.03 1268.9,1058.03 1269.93,1058.03 1270.96,1058.03 1271.99,1058.03 1273.02,1058.03 1274.05,1058.03 1275.08,1058.03 1276.11,1058.03 1277.14,1058.03 \n  1278.17,1058.03 1279.2,1058.03 1280.23,1058.03 1281.26,1058.03 1282.29,1058.03 1283.32,1058.03 1284.35,1058.03 1285.38,1058.03 1286.41,1058.03 1287.44,1058.03 \n  1288.47,1058.03 1289.5,1058.03 1290.53,1058.03 1291.56,1058.03 1292.59,1058.03 1293.62,1058.03 1294.65,1058.03 1295.68,1058.03 1296.71,1058.03 1297.74,1058.03 \n  1298.77,1058.03 1299.8,1058.03 1300.83,1058.03 1301.86,1058.03 1302.89,1058.03 1303.92,1058.03 1304.95,1058.03 1305.98,1058.03 1307.01,1058.03 1308.04,1058.03 \n  1309.07,1058.03 1310.1,1058.03 1311.13,1058.03 1312.16,1058.03 1313.19,1058.03 1314.22,1058.03 1315.25,1058.03 1316.28,1058.03 1317.31,1058.03 1318.34,1058.03 \n  1319.37,1058.03 1320.4,1058.03 1321.43,1058.03 1322.46,1058.03 1323.49,1058.03 1324.52,1058.03 1325.55,1058.03 1326.58,1058.03 1327.61,1058.03 1328.64,1058.03 \n  1329.67,1058.03 1330.7,1058.03 1331.73,1058.03 1332.76,1058.03 1333.79,1058.03 1334.82,1058.03 1335.85,1058.03 1336.88,1058.03 1337.9,1058.03 1338.93,1058.03 \n  1339.96,1058.03 1340.99,1058.03 1342.02,1058.03 1343.05,1058.03 1344.08,1058.03 1345.11,1058.03 1346.14,1058.03 1347.17,1058.03 1348.2,1058.03 1349.23,1058.03 \n  1350.26,1058.03 1351.29,1058.03 1352.32,1058.03 1353.35,1058.03 1354.38,1058.03 1355.41,1058.03 1356.44,1058.03 1357.47,1058.03 1358.5,1058.03 1359.53,1058.03 \n  1360.56,1058.03 1361.59,1058.03 1362.62,1058.03 1363.65,1058.03 1364.68,1058.03 1365.71,1058.03 1366.74,1058.03 1367.77,1058.03 1368.8,1058.03 1369.83,1058.03 \n  1370.86,1058.03 1371.89,1058.03 1372.92,1058.03 1373.95,1058.03 1374.98,1058.03 1376.01,1058.03 1377.04,1058.03 1378.07,1058.03 1379.1,1058.03 1380.13,1058.03 \n  1381.16,1058.03 1382.19,1058.03 1383.22,1058.03 1384.25,1058.03 1385.28,1058.03 1386.31,1058.03 1387.34,1058.03 1388.37,1058.03 1389.4,1058.03 1390.43,1058.03 \n  1391.46,1058.03 1392.49,1058.03 1393.52,1058.03 1394.55,1058.03 1395.58,1058.03 1396.61,1058.03 1397.64,1058.03 1398.67,1058.03 1399.7,1058.03 1400.73,1058.03 \n  1401.76,1058.03 1402.79,1058.03 1403.82,1058.03 1404.85,1058.03 1405.88,1058.03 1406.91,1058.03 1407.94,1058.03 1408.97,1058.03 1410,1058.03 1411.03,1058.03 \n  1412.06,1058.03 1413.09,1058.03 1414.12,1058.03 1415.15,1058.03 1416.18,1058.03 1417.21,1058.03 1418.24,1058.03 1419.27,1058.03 1420.3,1058.03 1421.33,1058.03 \n  1422.36,1058.03 1423.39,1058.03 1424.42,1058.03 1425.45,1058.03 1426.48,1058.03 1427.51,1058.03 1428.54,1058.03 1429.57,1058.03 1430.6,1058.03 1431.63,1058.03 \n  1432.66,1058.03 1433.69,1058.03 1434.72,1058.03 1435.75,1058.03 1436.78,1058.03 1437.81,1058.03 1438.84,1058.03 1439.87,1058.03 1440.9,1058.03 1441.93,1058.03 \n  1442.96,1058.03 1443.99,1058.03 1445.02,1058.03 1446.05,1058.03 1447.08,1058.03 1448.11,1058.03 1449.14,1058.03 1450.17,1058.03 1451.2,1058.03 1452.23,1058.03 \n  1453.26,1058.03 1454.29,1058.03 1455.32,1058.03 1456.35,1058.03 1457.38,1058.03 1458.41,1058.03 1459.44,1058.03 1460.47,1058.03 1461.5,1058.03 1462.53,1058.03 \n  1463.56,1058.03 1464.59,1058.03 1465.62,1058.03 1466.65,1058.03 1467.68,1058.03 1468.71,1058.03 1469.74,1058.03 1470.77,1058.03 1471.8,1058.03 1472.83,1058.03 \n  1473.86,1058.03 1474.89,1058.03 1475.92,1058.03 1476.95,1058.03 1477.98,1058.03 1479.01,1058.03 1480.04,1058.03 1481.07,1058.03 1482.1,1058.03 1483.13,1058.03 \n  1484.16,1058.03 1485.19,1058.03 1486.22,1058.03 1487.25,1058.03 1488.28,1058.03 1489.31,1058.03 1490.34,1058.03 1491.37,1058.03 1492.4,1058.03 1493.43,1058.03 \n  1494.46,1058.03 1495.49,1058.03 1496.52,1058.03 1497.55,1058.03 1498.58,1058.03 1499.61,1058.03 1500.64,1058.03 1501.67,1058.03 1502.7,1058.03 1503.73,1058.03 \n  1504.76,1058.03 1505.79,1058.03 1506.82,1058.03 1507.85,1058.03 1508.88,1058.03 1509.91,1058.03 1510.94,1058.03 1511.97,1058.03 1513,1058.03 1514.03,1058.03 \n  1515.06,1058.03 \n  \"/>\n<polyline clip-path=\"url(#clip1402)\" style=\"stroke:#3da44d; stroke-width:4; stroke-opacity:1; fill:none\" points=\"\n  258.501,1058.03 259.531,1058.01 260.561,1057.99 261.59,1057.96 262.62,1057.93 263.65,1057.89 264.68,1057.84 265.71,1057.78 266.74,1057.71 267.77,1057.63 \n  268.8,1057.53 269.83,1057.4 270.86,1057.26 271.89,1057.08 272.92,1056.87 273.95,1056.62 274.98,1056.32 276.01,1055.96 277.04,1055.53 278.07,1055.01 \n  279.1,1054.4 280.13,1053.66 281.16,1052.77 282.19,1051.72 283.22,1050.46 284.25,1048.95 285.28,1047.17 286.31,1045.04 287.34,1042.52 288.37,1039.53 \n  289.4,1036 290.43,1031.85 291.459,1026.98 292.489,1021.29 293.519,1014.66 294.549,1007 295.579,998.188 296.609,988.123 297.639,976.714 298.669,963.888 \n  299.699,949.599 300.729,933.834 301.759,916.616 302.789,898.008 303.819,878.111 304.849,857.062 305.879,835.022 306.909,812.176 307.939,788.715 308.969,764.833 \n  309.999,740.718 311.029,716.541 312.059,692.459 313.089,668.607 314.119,645.103 315.149,622.043 316.179,599.503 317.209,577.545 318.239,556.215 319.269,535.545 \n  320.299,515.559 321.329,496.269 322.358,477.681 323.388,459.793 324.418,442.602 325.448,426.096 326.478,410.263 327.508,395.088 328.538,380.554 329.568,366.643 \n  330.598,353.335 331.628,340.611 332.658,328.449 333.688,316.83 334.718,305.734 335.748,295.14 336.778,285.028 337.808,275.379 338.838,266.174 339.868,257.393 \n  340.898,249.02 341.928,241.037 342.958,233.426 343.988,226.171 345.018,219.257 346.048,212.668 347.078,206.39 348.108,200.408 349.138,194.71 350.168,189.282 \n  351.198,184.111 352.227,179.187 353.257,174.496 354.287,170.03 355.317,165.777 356.347,161.727 357.377,157.871 358.407,154.199 359.437,150.704 360.467,147.376 \n  361.497,144.207 362.527,141.191 363.557,138.32 364.587,135.587 365.617,132.986 366.647,130.51 367.677,128.153 368.707,125.91 369.737,123.774 370.767,121.742 \n  371.797,119.808 372.827,117.967 373.857,116.216 374.887,114.548 375.917,112.962 376.947,111.452 377.977,110.015 379.007,108.648 380.037,107.346 381.067,106.108 \n  382.097,104.93 383.126,103.808 384.156,102.741 385.186,101.726 386.216,100.76 387.246,99.8402 388.276,98.9654 389.306,98.133 390.336,97.3408 391.366,96.5871 \n  392.396,95.87 393.426,95.1876 394.456,94.5383 395.486,93.9204 396.516,93.3326 397.546,92.7732 398.576,92.241 399.606,91.7346 400.636,91.2528 401.666,90.7944 \n  402.696,90.3582 403.726,89.9432 404.756,89.5483 405.786,89.1725 406.816,88.8151 407.846,88.4749 408.876,88.1513 409.906,87.8434 410.936,87.5504 411.966,87.2717 \n  412.995,87.0065 414.025,86.7541 415.055,86.5141 416.085,86.2856 417.115,86.0683 418.145,85.8615 419.175,85.6648 420.205,85.4776 421.235,85.2995 422.265,85.1301 \n  423.295,84.9689 424.325,84.8155 425.355,84.6696 426.385,84.5307 427.415,84.3986 428.445,84.273 429.475,84.1534 430.505,84.0396 431.535,83.9314 432.565,83.8284 \n  433.595,83.7304 434.625,83.6372 435.655,83.5485 436.685,83.4641 437.715,83.3838 438.745,83.3075 439.775,83.2348 440.805,83.1656 441.835,83.0999 442.865,83.0373 \n  443.894,82.9777 444.924,82.9211 445.954,82.8672 446.984,82.8159 448.014,82.7671 449.044,82.7207 450.074,82.6765 451.104,82.6345 452.134,82.5945 453.164,82.5565 \n  454.194,82.5203 455.224,82.4859 456.254,82.4531 457.284,82.422 458.314,82.3923 459.344,82.3641 460.374,82.3373 461.404,82.3117 462.434,82.2874 463.464,82.2643 \n  464.494,82.2423 465.524,82.2214 466.554,82.2015 467.584,82.1826 468.614,82.1645 469.644,82.1474 470.674,82.1311 471.704,82.1156 472.734,82.1008 473.763,82.0868 \n  474.793,82.0734 475.823,82.0607 476.853,82.0486 477.883,82.0371 478.913,82.0261 479.943,82.0157 480.973,82.0058 482.003,81.9964 483.033,81.9874 484.063,81.9789 \n  485.093,81.9708 486.123,81.963 487.153,81.9557 488.183,81.9487 489.213,81.942 490.243,81.9357 491.273,81.9297 492.303,81.924 493.333,81.9185 494.363,81.9133 \n  495.393,81.9084 496.423,81.9037 497.453,81.8992 498.483,81.895 499.513,81.8909 500.543,81.8871 501.573,81.8834 502.603,81.8799 503.632,81.8766 504.662,81.8735 \n  505.692,81.8705 506.722,81.8676 507.752,81.8649 508.782,81.8623 509.812,81.8599 510.842,81.8575 511.872,81.8553 512.902,81.8532 513.932,81.8512 514.962,81.8493 \n  515.992,81.8474 517.022,81.8457 518.052,81.8441 519.082,81.8425 520.112,81.841 521.142,81.8396 522.172,81.8382 523.202,81.8369 524.232,81.8357 525.262,81.8346 \n  526.292,81.8335 527.322,81.8324 528.352,81.8314 529.382,81.8304 530.412,81.8295 531.442,81.8287 532.472,81.8279 533.502,81.8271 534.531,81.8263 535.561,81.8256 \n  536.591,81.8249 537.621,81.8243 538.651,81.8237 539.681,81.8231 540.711,81.8226 541.741,81.822 542.771,81.8215 543.801,81.8211 544.831,81.8206 545.861,81.8202 \n  546.891,81.8198 547.921,81.8194 548.951,81.819 549.981,81.8187 551.011,81.8183 552.041,81.818 553.071,81.8177 554.101,81.8174 555.131,81.8171 556.161,81.8169 \n  557.191,81.8166 558.221,81.8164 559.251,81.8162 560.281,81.816 561.311,81.8158 562.341,81.8156 563.371,81.8154 564.4,81.8152 565.43,81.815 566.46,81.8149 \n  567.49,81.8147 568.52,81.8146 569.55,81.8145 570.58,81.8143 571.61,81.8142 572.64,81.8141 573.67,81.814 574.7,81.8139 575.73,81.8138 576.76,81.8137 \n  577.79,81.8136 578.82,81.8135 579.85,81.8134 580.88,81.8133 581.91,81.8132 582.94,81.8132 583.97,81.8131 585,81.813 586.03,81.813 587.06,81.8129 \n  588.09,81.8129 589.12,81.8128 590.15,81.8128 591.18,81.8127 592.21,81.8127 593.24,81.8126 594.27,81.8126 595.299,81.8125 596.329,81.8125 597.359,81.8125 \n  598.389,81.8124 599.419,81.8124 600.449,81.8124 601.479,81.8123 602.509,81.8123 603.539,81.8123 604.569,81.8123 605.599,81.8122 606.629,81.8122 607.659,81.8122 \n  608.689,81.8122 609.719,81.8122 610.749,81.8121 611.779,81.8121 612.809,81.8121 613.839,81.8121 614.869,81.8121 615.899,81.8121 616.929,81.812 617.959,81.812 \n  618.989,81.812 620.019,81.812 621.049,81.812 622.079,81.812 623.109,81.812 624.139,81.812 625.168,81.812 626.198,81.8119 627.228,81.8119 628.258,81.8119 \n  629.288,81.8119 630.318,81.8119 631.348,81.8119 632.378,81.8119 633.408,81.8119 634.438,81.8119 635.468,81.8119 636.498,81.8119 637.528,81.8119 638.558,81.8119 \n  639.588,81.8119 640.618,81.8119 641.648,81.8119 642.678,81.8119 643.708,81.8119 644.738,81.8118 645.768,81.8118 646.798,81.8118 647.828,81.8118 648.858,81.8118 \n  649.888,81.8118 650.918,81.8118 651.948,81.8118 652.978,81.8118 654.008,81.8118 655.038,81.8118 656.067,81.8118 657.097,81.8118 658.127,81.8118 659.157,81.8118 \n  660.187,81.8118 661.217,81.8118 662.247,81.8118 663.277,81.8118 664.307,81.8118 665.337,81.8118 666.367,81.8118 667.397,81.8118 668.427,81.8118 669.457,81.8118 \n  670.487,81.8118 671.517,81.8118 672.547,81.8118 673.577,81.8118 674.607,81.8118 675.637,81.8118 676.667,81.8118 677.697,81.8118 678.727,81.8118 679.757,81.8118 \n  680.787,81.8118 681.817,81.8118 682.847,81.8118 683.877,81.8118 684.907,81.8118 685.936,81.8118 686.966,81.8118 687.996,81.8118 689.026,81.8118 690.056,81.8118 \n  691.086,81.8118 692.116,81.8118 693.146,81.8118 694.176,81.8118 695.206,81.8118 696.236,81.8118 697.266,81.8118 698.296,81.8118 699.326,81.8118 700.356,81.8118 \n  701.386,81.8118 702.416,81.8118 703.446,81.8118 704.476,81.8118 705.506,81.8118 706.536,81.8118 707.566,81.8118 708.596,81.8118 709.626,81.8118 710.656,81.8118 \n  711.686,81.8118 712.716,81.8118 713.746,81.8118 714.776,81.8118 715.806,81.8118 716.835,81.8118 717.865,81.8118 718.895,81.8118 719.925,81.8118 720.955,81.8118 \n  721.985,81.8118 723.015,81.8118 724.045,81.8118 725.075,81.8118 726.105,81.8118 727.135,81.8118 728.165,81.8118 729.195,81.8118 730.225,81.8118 731.255,81.8118 \n  732.285,81.8118 733.315,81.8118 734.345,81.8118 735.375,81.8118 736.405,81.8118 737.435,81.8118 738.465,81.8118 739.495,81.8118 740.525,81.8118 741.555,81.8118 \n  742.585,81.8118 743.615,81.8118 744.645,81.8118 745.675,81.8118 746.704,81.8118 747.734,81.8118 748.764,81.8118 749.794,81.8118 750.824,81.8118 751.854,81.8118 \n  752.884,81.8118 753.914,81.8118 754.944,81.8118 755.974,81.8118 757.004,81.8118 758.034,81.8118 759.064,81.8118 760.094,81.8118 761.124,81.8118 762.154,81.8118 \n  763.184,81.8118 764.214,81.8118 765.244,81.8118 766.274,81.8118 767.304,81.8118 768.334,81.8118 769.364,81.8118 770.394,81.8118 771.424,81.8118 772.454,81.8118 \n  773.484,81.8118 774.514,81.8118 775.544,81.8118 776.573,81.8118 777.603,81.8118 778.633,81.8118 779.663,81.8118 780.693,81.8118 781.723,81.8118 782.753,81.8118 \n  783.783,81.8118 784.813,81.8118 785.843,81.8118 786.873,81.8118 787.903,81.8118 788.933,81.8118 789.963,81.8118 790.993,81.8118 792.023,81.8118 793.053,81.8118 \n  794.083,81.8118 795.113,81.8118 796.143,81.8118 797.173,81.8118 798.203,81.8118 799.233,81.8118 800.263,81.8118 801.293,81.8118 802.323,81.8118 803.353,81.8118 \n  804.383,81.8118 805.413,81.8118 806.443,81.8118 807.472,81.8118 808.502,81.8118 809.532,81.8118 810.562,81.8118 811.592,81.8118 812.622,81.8118 813.652,81.8118 \n  814.682,81.8118 815.712,81.8118 816.742,81.8118 817.772,81.8118 818.802,81.8118 819.832,81.8118 820.862,81.8118 821.892,81.8118 822.922,81.8118 823.952,81.8118 \n  824.982,81.8118 826.012,81.8118 827.042,81.8118 828.072,81.8118 829.102,81.8118 830.132,81.8118 831.162,81.8118 832.192,81.8118 833.222,81.8118 834.252,81.8118 \n  835.282,81.8118 836.312,81.8118 837.341,81.8118 838.371,81.8118 839.401,81.8118 840.431,81.8118 841.461,81.8118 842.491,81.8118 843.521,81.8118 844.551,81.8118 \n  845.581,81.8118 846.611,81.8118 847.641,81.8118 848.671,81.8118 849.701,81.8118 850.731,81.8118 851.761,81.8118 852.791,81.8118 853.821,81.8118 854.851,81.8118 \n  855.881,81.8118 856.911,81.8118 857.941,81.8118 858.971,81.8118 860.001,81.8118 861.031,81.8118 862.061,81.8118 863.091,81.8118 864.121,81.8118 865.151,81.8118 \n  866.181,81.8118 867.211,81.8118 868.24,81.8118 869.27,81.8118 870.3,81.8118 871.33,81.8118 872.36,81.8118 873.39,81.8118 874.42,81.8118 875.45,81.8118 \n  876.48,81.8118 877.51,81.8118 878.54,81.8118 879.57,81.8118 880.6,81.8118 881.63,81.8118 882.66,81.8118 883.69,81.8118 884.72,81.8118 885.75,81.8118 \n  886.78,81.8118 887.81,81.8118 888.84,81.8118 889.87,81.8118 890.9,81.8118 891.93,81.8118 892.96,81.8118 893.99,81.8118 895.02,81.8118 896.05,81.8118 \n  897.08,81.8118 898.109,81.8118 899.139,81.8118 900.169,81.8118 901.199,81.8118 902.229,81.8118 903.259,81.8118 904.289,81.8118 905.319,81.8118 906.349,81.8118 \n  907.379,81.8118 908.409,81.8118 909.439,81.8118 910.469,81.8118 911.499,81.8118 912.529,81.8118 913.559,81.8118 914.589,81.8118 915.619,81.8118 916.649,81.8118 \n  917.679,81.8118 918.709,81.8118 919.739,81.8118 920.769,81.8118 921.799,81.8118 922.829,81.8118 923.859,81.8118 924.889,81.8118 925.919,81.8118 926.949,81.8118 \n  927.979,81.8118 929.008,81.8118 930.038,81.8118 931.068,81.8118 932.098,81.8118 933.128,81.8118 934.158,81.8118 935.188,81.8118 936.218,81.8118 937.248,81.8118 \n  938.278,81.8118 939.308,81.8118 940.338,81.8118 941.368,81.8118 942.398,81.8118 943.428,81.8118 944.458,81.8118 945.488,81.8118 946.518,81.8118 947.548,81.8118 \n  948.578,81.8118 949.608,81.8118 950.638,81.8118 951.668,81.8118 952.698,81.8118 953.728,81.8118 954.758,81.8118 955.788,81.8118 956.818,81.8118 957.848,81.8118 \n  958.877,81.8118 959.907,81.8118 960.937,81.8118 961.967,81.8118 962.997,81.8118 964.027,81.8118 965.057,81.8118 966.087,81.8118 967.117,81.8118 968.147,81.8118 \n  969.177,81.8118 970.207,81.8118 971.237,81.8118 972.267,81.8118 973.297,81.8118 974.327,81.8118 975.357,81.8118 976.387,81.8118 977.417,81.8118 978.447,81.8118 \n  979.477,81.8118 980.507,81.8118 981.537,81.8118 982.567,81.8118 983.597,81.8118 984.627,81.8118 985.657,81.8118 986.687,81.8118 987.717,81.8118 988.747,81.8118 \n  989.776,81.8118 990.806,81.8118 991.836,81.8118 992.866,81.8118 993.896,81.8118 994.926,81.8118 995.956,81.8118 996.986,81.8118 998.016,81.8118 999.046,81.8118 \n  1000.08,81.8118 1001.11,81.8118 1002.14,81.8118 1003.17,81.8118 1004.2,81.8118 1005.23,81.8118 1006.26,81.8118 1007.29,81.8118 1008.32,81.8118 1009.35,81.8118 \n  1010.38,81.8118 1011.41,81.8118 1012.44,81.8118 1013.47,81.8118 1014.5,81.8118 1015.53,81.8118 1016.56,81.8118 1017.59,81.8118 1018.62,81.8118 1019.65,81.8118 \n  1020.68,81.8118 1021.71,81.8118 1022.74,81.8118 1023.77,81.8118 1024.8,81.8118 1025.83,81.8118 1026.86,81.8118 1027.89,81.8118 1028.92,81.8118 1029.95,81.8118 \n  1030.98,81.8118 1032.01,81.8118 1033.04,81.8118 1034.07,81.8118 1035.09,81.8118 1036.12,81.8118 1037.15,81.8118 1038.18,81.8118 1039.21,81.8118 1040.24,81.8118 \n  1041.27,81.8118 1042.3,81.8118 1043.33,81.8118 1044.36,81.8118 1045.39,81.8118 1046.42,81.8118 1047.45,81.8118 1048.48,81.8118 1049.51,81.8118 1050.54,81.8118 \n  1051.57,81.8118 1052.6,81.8118 1053.63,81.8118 1054.66,81.8118 1055.69,81.8118 1056.72,81.8118 1057.75,81.8118 1058.78,81.8118 1059.81,81.8118 1060.84,81.8118 \n  1061.87,81.8118 1062.9,81.8118 1063.93,81.8118 1064.96,81.8118 1065.99,81.8118 1067.02,81.8118 1068.05,81.8118 1069.08,81.8118 1070.11,81.8118 1071.14,81.8118 \n  1072.17,81.8118 1073.2,81.8118 1074.23,81.8118 1075.26,81.8118 1076.29,81.8118 1077.32,81.8118 1078.35,81.8118 1079.38,81.8118 1080.41,81.8118 1081.44,81.8118 \n  1082.47,81.8118 1083.5,81.8118 1084.53,81.8118 1085.56,81.8118 1086.59,81.8118 1087.62,81.8118 1088.65,81.8118 1089.68,81.8118 1090.71,81.8118 1091.74,81.8118 \n  1092.77,81.8118 1093.8,81.8118 1094.83,81.8118 1095.86,81.8118 1096.89,81.8118 1097.92,81.8118 1098.95,81.8118 1099.98,81.8118 1101.01,81.8118 1102.04,81.8118 \n  1103.07,81.8118 1104.1,81.8118 1105.13,81.8118 1106.16,81.8118 1107.19,81.8118 1108.22,81.8118 1109.25,81.8118 1110.28,81.8118 1111.31,81.8118 1112.34,81.8118 \n  1113.37,81.8118 1114.4,81.8118 1115.43,81.8118 1116.46,81.8118 1117.49,81.8118 1118.52,81.8118 1119.55,81.8118 1120.58,81.8118 1121.61,81.8118 1122.64,81.8118 \n  1123.67,81.8118 1124.7,81.8118 1125.73,81.8118 1126.76,81.8118 1127.79,81.8118 1128.82,81.8118 1129.85,81.8118 1130.88,81.8118 1131.91,81.8118 1132.94,81.8118 \n  1133.97,81.8118 1135,81.8118 1136.03,81.8118 1137.06,81.8118 1138.09,81.8118 1139.12,81.8118 1140.15,81.8118 1141.18,81.8118 1142.21,81.8118 1143.24,81.8118 \n  1144.27,81.8118 1145.3,81.8118 1146.33,81.8118 1147.36,81.8118 1148.39,81.8118 1149.42,81.8118 1150.45,81.8118 1151.48,81.8118 1152.51,81.8118 1153.54,81.8118 \n  1154.57,81.8118 1155.6,81.8118 1156.63,81.8118 1157.66,81.8118 1158.69,81.8118 1159.72,81.8118 1160.75,81.8118 1161.78,81.8118 1162.81,81.8118 1163.84,81.8118 \n  1164.87,81.8118 1165.9,81.8118 1166.93,81.8118 1167.96,81.8118 1168.99,81.8118 1170.02,81.8118 1171.05,81.8118 1172.08,81.8118 1173.11,81.8118 1174.14,81.8118 \n  1175.17,81.8118 1176.2,81.8118 1177.23,81.8118 1178.26,81.8118 1179.29,81.8118 1180.32,81.8118 1181.35,81.8118 1182.38,81.8118 1183.41,81.8118 1184.44,81.8118 \n  1185.47,81.8118 1186.5,81.8118 1187.53,81.8118 1188.56,81.8118 1189.59,81.8118 1190.62,81.8118 1191.65,81.8118 1192.68,81.8118 1193.71,81.8118 1194.74,81.8118 \n  1195.77,81.8118 1196.8,81.8118 1197.83,81.8118 1198.86,81.8118 1199.89,81.8118 1200.92,81.8118 1201.95,81.8118 1202.98,81.8118 1204.01,81.8118 1205.04,81.8118 \n  1206.07,81.8118 1207.1,81.8118 1208.13,81.8118 1209.16,81.8118 1210.19,81.8118 1211.22,81.8118 1212.25,81.8118 1213.28,81.8118 1214.31,81.8118 1215.34,81.8118 \n  1216.37,81.8118 1217.4,81.8118 1218.43,81.8118 1219.46,81.8118 1220.49,81.8118 1221.52,81.8118 1222.55,81.8118 1223.58,81.8118 1224.61,81.8118 1225.64,81.8118 \n  1226.67,81.8118 1227.7,81.8118 1228.73,81.8118 1229.76,81.8118 1230.79,81.8118 1231.82,81.8118 1232.85,81.8118 1233.88,81.8118 1234.91,81.8118 1235.94,81.8118 \n  1236.97,81.8118 1238,81.8118 1239.03,81.8118 1240.06,81.8118 1241.09,81.8118 1242.12,81.8118 1243.15,81.8118 1244.18,81.8118 1245.21,81.8118 1246.24,81.8118 \n  1247.27,81.8118 1248.3,81.8118 1249.33,81.8118 1250.36,81.8118 1251.39,81.8118 1252.42,81.8118 1253.45,81.8118 1254.48,81.8118 1255.51,81.8118 1256.54,81.8118 \n  1257.57,81.8118 1258.6,81.8118 1259.63,81.8118 1260.66,81.8118 1261.69,81.8118 1262.72,81.8118 1263.75,81.8118 1264.78,81.8118 1265.81,81.8118 1266.84,81.8118 \n  1267.87,81.8118 1268.9,81.8118 1269.93,81.8118 1270.96,81.8118 1271.99,81.8118 1273.02,81.8118 1274.05,81.8118 1275.08,81.8118 1276.11,81.8118 1277.14,81.8118 \n  1278.17,81.8118 1279.2,81.8118 1280.23,81.8118 1281.26,81.8118 1282.29,81.8118 1283.32,81.8118 1284.35,81.8118 1285.38,81.8118 1286.41,81.8118 1287.44,81.8118 \n  1288.47,81.8118 1289.5,81.8118 1290.53,81.8118 1291.56,81.8118 1292.59,81.8118 1293.62,81.8118 1294.65,81.8118 1295.68,81.8118 1296.71,81.8118 1297.74,81.8118 \n  1298.77,81.8118 1299.8,81.8118 1300.83,81.8118 1301.86,81.8118 1302.89,81.8118 1303.92,81.8118 1304.95,81.8118 1305.98,81.8118 1307.01,81.8118 1308.04,81.8118 \n  1309.07,81.8118 1310.1,81.8118 1311.13,81.8118 1312.16,81.8118 1313.19,81.8118 1314.22,81.8118 1315.25,81.8118 1316.28,81.8118 1317.31,81.8118 1318.34,81.8118 \n  1319.37,81.8118 1320.4,81.8118 1321.43,81.8118 1322.46,81.8118 1323.49,81.8118 1324.52,81.8118 1325.55,81.8118 1326.58,81.8118 1327.61,81.8118 1328.64,81.8118 \n  1329.67,81.8118 1330.7,81.8118 1331.73,81.8118 1332.76,81.8118 1333.79,81.8118 1334.82,81.8118 1335.85,81.8118 1336.88,81.8118 1337.9,81.8118 1338.93,81.8118 \n  1339.96,81.8118 1340.99,81.8118 1342.02,81.8118 1343.05,81.8118 1344.08,81.8118 1345.11,81.8118 1346.14,81.8118 1347.17,81.8118 1348.2,81.8118 1349.23,81.8118 \n  1350.26,81.8118 1351.29,81.8118 1352.32,81.8118 1353.35,81.8118 1354.38,81.8118 1355.41,81.8118 1356.44,81.8118 1357.47,81.8118 1358.5,81.8118 1359.53,81.8118 \n  1360.56,81.8118 1361.59,81.8118 1362.62,81.8118 1363.65,81.8118 1364.68,81.8118 1365.71,81.8118 1366.74,81.8118 1367.77,81.8118 1368.8,81.8118 1369.83,81.8118 \n  1370.86,81.8118 1371.89,81.8118 1372.92,81.8118 1373.95,81.8118 1374.98,81.8118 1376.01,81.8118 1377.04,81.8118 1378.07,81.8118 1379.1,81.8118 1380.13,81.8118 \n  1381.16,81.8118 1382.19,81.8118 1383.22,81.8118 1384.25,81.8118 1385.28,81.8118 1386.31,81.8118 1387.34,81.8118 1388.37,81.8118 1389.4,81.8118 1390.43,81.8118 \n  1391.46,81.8118 1392.49,81.8118 1393.52,81.8118 1394.55,81.8118 1395.58,81.8118 1396.61,81.8118 1397.64,81.8118 1398.67,81.8118 1399.7,81.8118 1400.73,81.8118 \n  1401.76,81.8118 1402.79,81.8118 1403.82,81.8118 1404.85,81.8118 1405.88,81.8118 1406.91,81.8118 1407.94,81.8118 1408.97,81.8118 1410,81.8118 1411.03,81.8118 \n  1412.06,81.8118 1413.09,81.8118 1414.12,81.8118 1415.15,81.8118 1416.18,81.8118 1417.21,81.8118 1418.24,81.8118 1419.27,81.8118 1420.3,81.8118 1421.33,81.8118 \n  1422.36,81.8118 1423.39,81.8118 1424.42,81.8118 1425.45,81.8118 1426.48,81.8118 1427.51,81.8118 1428.54,81.8118 1429.57,81.8118 1430.6,81.8118 1431.63,81.8118 \n  1432.66,81.8118 1433.69,81.8118 1434.72,81.8118 1435.75,81.8118 1436.78,81.8118 1437.81,81.8118 1438.84,81.8118 1439.87,81.8118 1440.9,81.8118 1441.93,81.8118 \n  1442.96,81.8118 1443.99,81.8118 1445.02,81.8118 1446.05,81.8118 1447.08,81.8118 1448.11,81.8118 1449.14,81.8118 1450.17,81.8118 1451.2,81.8118 1452.23,81.8118 \n  1453.26,81.8118 1454.29,81.8118 1455.32,81.8118 1456.35,81.8118 1457.38,81.8118 1458.41,81.8118 1459.44,81.8118 1460.47,81.8118 1461.5,81.8118 1462.53,81.8118 \n  1463.56,81.8118 1464.59,81.8118 1465.62,81.8118 1466.65,81.8118 1467.68,81.8118 1468.71,81.8118 1469.74,81.8118 1470.77,81.8118 1471.8,81.8118 1472.83,81.8118 \n  1473.86,81.8118 1474.89,81.8118 1475.92,81.8118 1476.95,81.8118 1477.98,81.8118 1479.01,81.8118 1480.04,81.8118 1481.07,81.8118 1482.1,81.8118 1483.13,81.8118 \n  1484.16,81.8118 1485.19,81.8118 1486.22,81.8118 1487.25,81.8118 1488.28,81.8118 1489.31,81.8118 1490.34,81.8118 1491.37,81.8118 1492.4,81.8118 1493.43,81.8118 \n  1494.46,81.8118 1495.49,81.8118 1496.52,81.8118 1497.55,81.8118 1498.58,81.8118 1499.61,81.8118 1500.64,81.8118 1501.67,81.8118 1502.7,81.8118 1503.73,81.8118 \n  1504.76,81.8118 1505.79,81.8118 1506.82,81.8118 1507.85,81.8118 1508.88,81.8118 1509.91,81.8118 1510.94,81.8118 1511.97,81.8118 1513,81.8118 1514.03,81.8118 \n  1515.06,81.8118 \n  \"/>\n<path clip-path=\"url(#clip1400)\" d=\"\nM1293.93 324.684 L1504.76 324.684 L1504.76 82.7641 L1293.93 82.7641  Z\n  \" fill=\"#ffffff\" fill-rule=\"evenodd\" fill-opacity=\"1\"/>\n<polyline clip-path=\"url(#clip1400)\" style=\"stroke:#000000; stroke-width:4; stroke-opacity:1; fill:none\" points=\"\n  1293.93,324.684 1504.76,324.684 1504.76,82.7641 1293.93,82.7641 1293.93,324.684 \n  \"/>\n<polyline clip-path=\"url(#clip1400)\" style=\"stroke:#009af9; stroke-width:4; stroke-opacity:1; fill:none\" points=\"\n  1309.93,143.244 1405.93,143.244 \n  \"/>\n<g clip-path=\"url(#clip1400)\">\n<text style=\"fill:#000000; fill-opacity:1; font-family:Arial,Helvetica Neue,Helvetica,sans-serif; font-size:48px; text-anchor:start;\" transform=\"rotate(0, 1421.93, 160.744)\" x=\"1421.93\" y=\"160.744\">y1</text>\n</g>\n<polyline clip-path=\"url(#clip1400)\" style=\"stroke:#e26f46; stroke-width:4; stroke-opacity:1; fill:none\" points=\"\n  1309.93,203.724 1405.93,203.724 \n  \"/>\n<g clip-path=\"url(#clip1400)\">\n<text style=\"fill:#000000; fill-opacity:1; font-family:Arial,Helvetica Neue,Helvetica,sans-serif; font-size:48px; text-anchor:start;\" transform=\"rotate(0, 1421.93, 221.224)\" x=\"1421.93\" y=\"221.224\">y2</text>\n</g>\n<polyline clip-path=\"url(#clip1400)\" style=\"stroke:#3da44d; stroke-width:4; stroke-opacity:1; fill:none\" points=\"\n  1309.93,264.204 1405.93,264.204 \n  \"/>\n<g clip-path=\"url(#clip1400)\">\n<text style=\"fill:#000000; fill-opacity:1; font-family:Arial,Helvetica Neue,Helvetica,sans-serif; font-size:48px; text-anchor:start;\" transform=\"rotate(0, 1421.93, 281.704)\" x=\"1421.93\" y=\"281.704\">y3</text>\n</g>\n</svg>\n"
          },
          "metadata": {}
        }
      ],
      "execution_count": 211,
      "metadata": {
        "collapsed": true,
        "jupyter": {
          "source_hidden": false,
          "outputs_hidden": false
        },
        "nteract": {
          "transient": {
            "deleting": false
          }
        },
        "execution": {
          "iopub.status.busy": "2020-07-31T00:29:10.695Z",
          "iopub.execute_input": "2020-07-31T00:29:10.722Z",
          "iopub.status.idle": "2020-07-31T00:29:10.782Z"
        }
      }
    },
    {
      "cell_type": "code",
      "source": [
        "plot(timevec, resultvals, \n",
        "title  = \"Ejemplo de los resultados del modelo SIR\",\n",
        "legend = :topleft,\n",
        "xlabel = \"Día de Epidemia\",\n",
        "ylabel = \"Tamaño de la poblacion\",\n",
        "label  = [\"Susceptibles\" \"Infecteds\" \"Removeds\"],\n",
        "size = (800, 300)\n",
        ")"
      ],
      "outputs": [
        {
          "output_type": "execute_result",
          "execution_count": 263,
          "data": {
            "image/svg+xml": "<?xml version=\"1.0\" encoding=\"utf-8\"?>\n<svg xmlns=\"http://www.w3.org/2000/svg\" xmlns:xlink=\"http://www.w3.org/1999/xlink\" width=\"800\" height=\"300\" viewBox=\"0 0 3200 1200\">\n<defs>\n  <clipPath id=\"clip7800\">\n    <rect x=\"0\" y=\"0\" width=\"3200\" height=\"1200\"/>\n  </clipPath>\n</defs>\n<path clip-path=\"url(#clip7800)\" d=\"\nM0 1200 L3200 1200 L3200 0 L0 0  Z\n  \" fill=\"#ffffff\" fill-rule=\"evenodd\" fill-opacity=\"1\"/>\n<defs>\n  <clipPath id=\"clip7801\">\n    <rect x=\"640\" y=\"0\" width=\"2241\" height=\"1200\"/>\n  </clipPath>\n</defs>\n<path clip-path=\"url(#clip7800)\" d=\"\nM360.951 1019.66 L3152.76 1019.66 L3152.76 129.011 L360.951 129.011  Z\n  \" fill=\"#ffffff\" fill-rule=\"evenodd\" fill-opacity=\"1\"/>\n<defs>\n  <clipPath id=\"clip7802\">\n    <rect x=\"360\" y=\"129\" width=\"2793\" height=\"892\"/>\n  </clipPath>\n</defs>\n<polyline clip-path=\"url(#clip7802)\" style=\"stroke:#000000; stroke-width:2; stroke-opacity:0.1; fill:none\" points=\"\n  439.964,1019.66 439.964,129.011 \n  \"/>\n<polyline clip-path=\"url(#clip7802)\" style=\"stroke:#000000; stroke-width:2; stroke-opacity:0.1; fill:none\" points=\"\n  871.731,1019.66 871.731,129.011 \n  \"/>\n<polyline clip-path=\"url(#clip7802)\" style=\"stroke:#000000; stroke-width:2; stroke-opacity:0.1; fill:none\" points=\"\n  1303.5,1019.66 1303.5,129.011 \n  \"/>\n<polyline clip-path=\"url(#clip7802)\" style=\"stroke:#000000; stroke-width:2; stroke-opacity:0.1; fill:none\" points=\"\n  1735.27,1019.66 1735.27,129.011 \n  \"/>\n<polyline clip-path=\"url(#clip7802)\" style=\"stroke:#000000; stroke-width:2; stroke-opacity:0.1; fill:none\" points=\"\n  2167.03,1019.66 2167.03,129.011 \n  \"/>\n<polyline clip-path=\"url(#clip7802)\" style=\"stroke:#000000; stroke-width:2; stroke-opacity:0.1; fill:none\" points=\"\n  2598.8,1019.66 2598.8,129.011 \n  \"/>\n<polyline clip-path=\"url(#clip7802)\" style=\"stroke:#000000; stroke-width:2; stroke-opacity:0.1; fill:none\" points=\"\n  3030.57,1019.66 3030.57,129.011 \n  \"/>\n<polyline clip-path=\"url(#clip7802)\" style=\"stroke:#000000; stroke-width:2; stroke-opacity:0.1; fill:none\" points=\"\n  360.951,994.456 3152.76,994.456 \n  \"/>\n<polyline clip-path=\"url(#clip7802)\" style=\"stroke:#000000; stroke-width:2; stroke-opacity:0.1; fill:none\" points=\"\n  360.951,784.397 3152.76,784.397 \n  \"/>\n<polyline clip-path=\"url(#clip7802)\" style=\"stroke:#000000; stroke-width:2; stroke-opacity:0.1; fill:none\" points=\"\n  360.951,574.337 3152.76,574.337 \n  \"/>\n<polyline clip-path=\"url(#clip7802)\" style=\"stroke:#000000; stroke-width:2; stroke-opacity:0.1; fill:none\" points=\"\n  360.951,364.277 3152.76,364.277 \n  \"/>\n<polyline clip-path=\"url(#clip7802)\" style=\"stroke:#000000; stroke-width:2; stroke-opacity:0.1; fill:none\" points=\"\n  360.951,154.218 3152.76,154.218 \n  \"/>\n<polyline clip-path=\"url(#clip7800)\" style=\"stroke:#000000; stroke-width:4; stroke-opacity:1; fill:none\" points=\"\n  360.951,1019.66 3152.76,1019.66 \n  \"/>\n<polyline clip-path=\"url(#clip7800)\" style=\"stroke:#000000; stroke-width:4; stroke-opacity:1; fill:none\" points=\"\n  360.951,1019.66 360.951,129.011 \n  \"/>\n<polyline clip-path=\"url(#clip7800)\" style=\"stroke:#000000; stroke-width:4; stroke-opacity:1; fill:none\" points=\"\n  439.964,1019.66 439.964,1008.98 \n  \"/>\n<polyline clip-path=\"url(#clip7800)\" style=\"stroke:#000000; stroke-width:4; stroke-opacity:1; fill:none\" points=\"\n  871.731,1019.66 871.731,1008.98 \n  \"/>\n<polyline clip-path=\"url(#clip7800)\" style=\"stroke:#000000; stroke-width:4; stroke-opacity:1; fill:none\" points=\"\n  1303.5,1019.66 1303.5,1008.98 \n  \"/>\n<polyline clip-path=\"url(#clip7800)\" style=\"stroke:#000000; stroke-width:4; stroke-opacity:1; fill:none\" points=\"\n  1735.27,1019.66 1735.27,1008.98 \n  \"/>\n<polyline clip-path=\"url(#clip7800)\" style=\"stroke:#000000; stroke-width:4; stroke-opacity:1; fill:none\" points=\"\n  2167.03,1019.66 2167.03,1008.98 \n  \"/>\n<polyline clip-path=\"url(#clip7800)\" style=\"stroke:#000000; stroke-width:4; stroke-opacity:1; fill:none\" points=\"\n  2598.8,1019.66 2598.8,1008.98 \n  \"/>\n<polyline clip-path=\"url(#clip7800)\" style=\"stroke:#000000; stroke-width:4; stroke-opacity:1; fill:none\" points=\"\n  3030.57,1019.66 3030.57,1008.98 \n  \"/>\n<polyline clip-path=\"url(#clip7800)\" style=\"stroke:#000000; stroke-width:4; stroke-opacity:1; fill:none\" points=\"\n  360.951,994.456 394.453,994.456 \n  \"/>\n<polyline clip-path=\"url(#clip7800)\" style=\"stroke:#000000; stroke-width:4; stroke-opacity:1; fill:none\" points=\"\n  360.951,784.397 394.453,784.397 \n  \"/>\n<polyline clip-path=\"url(#clip7800)\" style=\"stroke:#000000; stroke-width:4; stroke-opacity:1; fill:none\" points=\"\n  360.951,574.337 394.453,574.337 \n  \"/>\n<polyline clip-path=\"url(#clip7800)\" style=\"stroke:#000000; stroke-width:4; stroke-opacity:1; fill:none\" points=\"\n  360.951,364.277 394.453,364.277 \n  \"/>\n<polyline clip-path=\"url(#clip7800)\" style=\"stroke:#000000; stroke-width:4; stroke-opacity:1; fill:none\" points=\"\n  360.951,154.218 394.453,154.218 \n  \"/>\n<g clip-path=\"url(#clip7800)\">\n<text style=\"fill:#000000; fill-opacity:1; font-family:Arial,Helvetica Neue,Helvetica,sans-serif; font-size:48px; text-anchor:middle;\" transform=\"rotate(0, 439.964, 1077.66)\" x=\"439.964\" y=\"1077.66\">0</text>\n</g>\n<g clip-path=\"url(#clip7800)\">\n<text style=\"fill:#000000; fill-opacity:1; font-family:Arial,Helvetica Neue,Helvetica,sans-serif; font-size:48px; text-anchor:middle;\" transform=\"rotate(0, 871.731, 1077.66)\" x=\"871.731\" y=\"1077.66\">100</text>\n</g>\n<g clip-path=\"url(#clip7800)\">\n<text style=\"fill:#000000; fill-opacity:1; font-family:Arial,Helvetica Neue,Helvetica,sans-serif; font-size:48px; text-anchor:middle;\" transform=\"rotate(0, 1303.5, 1077.66)\" x=\"1303.5\" y=\"1077.66\">200</text>\n</g>\n<g clip-path=\"url(#clip7800)\">\n<text style=\"fill:#000000; fill-opacity:1; font-family:Arial,Helvetica Neue,Helvetica,sans-serif; font-size:48px; text-anchor:middle;\" transform=\"rotate(0, 1735.27, 1077.66)\" x=\"1735.27\" y=\"1077.66\">300</text>\n</g>\n<g clip-path=\"url(#clip7800)\">\n<text style=\"fill:#000000; fill-opacity:1; font-family:Arial,Helvetica Neue,Helvetica,sans-serif; font-size:48px; text-anchor:middle;\" transform=\"rotate(0, 2167.03, 1077.66)\" x=\"2167.03\" y=\"1077.66\">400</text>\n</g>\n<g clip-path=\"url(#clip7800)\">\n<text style=\"fill:#000000; fill-opacity:1; font-family:Arial,Helvetica Neue,Helvetica,sans-serif; font-size:48px; text-anchor:middle;\" transform=\"rotate(0, 2598.8, 1077.66)\" x=\"2598.8\" y=\"1077.66\">500</text>\n</g>\n<g clip-path=\"url(#clip7800)\">\n<text style=\"fill:#000000; fill-opacity:1; font-family:Arial,Helvetica Neue,Helvetica,sans-serif; font-size:48px; text-anchor:middle;\" transform=\"rotate(0, 3030.57, 1077.66)\" x=\"3030.57\" y=\"1077.66\">600</text>\n</g>\n<g clip-path=\"url(#clip7800)\">\n<text style=\"fill:#000000; fill-opacity:1; font-family:Arial,Helvetica Neue,Helvetica,sans-serif; font-size:48px; text-anchor:end;\" transform=\"rotate(0, 328.951, 1011.96)\" x=\"328.951\" y=\"1011.96\">0</text>\n</g>\n<g clip-path=\"url(#clip7800)\">\n<text style=\"fill:#000000; fill-opacity:1; font-family:Arial,Helvetica Neue,Helvetica,sans-serif; font-size:48px; text-anchor:start;\" transform=\"rotate(0, 158.666, 808.124)\" x=\"158.666\" y=\"808.124\">2.5×10</text>\n</g>\n<g clip-path=\"url(#clip7800)\">\n<text style=\"fill:#000000; fill-opacity:1; font-family:Arial,Helvetica Neue,Helvetica,sans-serif; font-size:38px; text-anchor:start;\" transform=\"rotate(0, 307.207, 780.714)\" x=\"307.207\" y=\"780.714\">4</text>\n</g>\n<g clip-path=\"url(#clip7800)\">\n<text style=\"fill:#000000; fill-opacity:1; font-family:Arial,Helvetica Neue,Helvetica,sans-serif; font-size:48px; text-anchor:start;\" transform=\"rotate(0, 158.666, 598.065)\" x=\"158.666\" y=\"598.065\">5.0×10</text>\n</g>\n<g clip-path=\"url(#clip7800)\">\n<text style=\"fill:#000000; fill-opacity:1; font-family:Arial,Helvetica Neue,Helvetica,sans-serif; font-size:38px; text-anchor:start;\" transform=\"rotate(0, 307.207, 570.654)\" x=\"307.207\" y=\"570.654\">4</text>\n</g>\n<g clip-path=\"url(#clip7800)\">\n<text style=\"fill:#000000; fill-opacity:1; font-family:Arial,Helvetica Neue,Helvetica,sans-serif; font-size:48px; text-anchor:start;\" transform=\"rotate(0, 158.666, 388.005)\" x=\"158.666\" y=\"388.005\">7.5×10</text>\n</g>\n<g clip-path=\"url(#clip7800)\">\n<text style=\"fill:#000000; fill-opacity:1; font-family:Arial,Helvetica Neue,Helvetica,sans-serif; font-size:38px; text-anchor:start;\" transform=\"rotate(0, 307.207, 360.595)\" x=\"307.207\" y=\"360.595\">4</text>\n</g>\n<g clip-path=\"url(#clip7800)\">\n<text style=\"fill:#000000; fill-opacity:1; font-family:Arial,Helvetica Neue,Helvetica,sans-serif; font-size:48px; text-anchor:start;\" transform=\"rotate(0, 158.666, 177.945)\" x=\"158.666\" y=\"177.945\">1.0×10</text>\n</g>\n<g clip-path=\"url(#clip7800)\">\n<text style=\"fill:#000000; fill-opacity:1; font-family:Arial,Helvetica Neue,Helvetica,sans-serif; font-size:38px; text-anchor:start;\" transform=\"rotate(0, 307.207, 150.535)\" x=\"307.207\" y=\"150.535\">5</text>\n</g>\n<g clip-path=\"url(#clip7800)\">\n<text style=\"fill:#000000; fill-opacity:1; font-family:Arial,Helvetica Neue,Helvetica,sans-serif; font-size:82px; text-anchor:middle;\" transform=\"rotate(0, 1756.85, 72)\" x=\"1756.85\" y=\"72\">Ejemplo de los resultados del modelo SIR</text>\n</g>\n<g clip-path=\"url(#clip7800)\">\n<text style=\"fill:#000000; fill-opacity:1; font-family:Arial,Helvetica Neue,Helvetica,sans-serif; font-size:66px; text-anchor:middle;\" transform=\"rotate(0, 1756.85, 1161.53)\" x=\"1756.85\" y=\"1161.53\">Día de Epidemia</text>\n</g>\n<g clip-path=\"url(#clip7800)\">\n<text style=\"fill:#000000; fill-opacity:1; font-family:Arial,Helvetica Neue,Helvetica,sans-serif; font-size:66px; text-anchor:middle;\" transform=\"rotate(-90, 71.0496, 574.337)\" x=\"71.0496\" y=\"574.337\">Tamaño de la poblacion</text>\n</g>\n<polyline clip-path=\"url(#clip7802)\" style=\"stroke:#009af9; stroke-width:4; stroke-opacity:1; fill:none\" points=\"\n  439.964,154.218 442.123,154.236 444.282,154.255 446.441,154.274 448.6,154.293 450.759,154.312 452.917,154.332 455.076,154.352 457.235,154.372 459.394,154.392 \n  461.553,154.412 463.712,154.433 465.87,154.454 468.029,154.475 470.188,154.496 472.347,154.518 474.506,154.54 476.665,154.562 478.823,154.584 480.982,154.607 \n  483.141,154.629 485.3,154.653 487.459,154.676 489.618,154.699 491.777,154.723 493.935,154.747 496.094,154.772 498.253,154.796 500.412,154.821 502.571,154.846 \n  504.73,154.872 506.888,154.897 509.047,154.923 511.206,154.949 513.365,154.976 515.524,155.003 517.683,155.03 519.841,155.057 522,155.085 524.159,155.113 \n  526.318,155.141 528.477,155.17 530.636,155.199 532.794,155.228 534.953,155.258 537.112,155.288 539.271,155.318 541.43,155.348 543.589,155.379 545.747,155.41 \n  547.906,155.442 550.065,155.474 552.224,155.506 554.383,155.539 556.542,155.572 558.7,155.605 560.859,155.639 563.018,155.673 565.177,155.707 567.336,155.742 \n  569.495,155.777 571.653,155.813 573.812,155.848 575.971,155.885 578.13,155.921 580.289,155.959 582.448,155.996 584.606,156.034 586.765,156.072 588.924,156.111 \n  591.083,156.15 593.242,156.19 595.401,156.23 597.559,156.27 599.718,156.311 601.877,156.352 604.036,156.394 606.195,156.436 608.354,156.479 610.512,156.522 \n  612.671,156.565 614.83,156.609 616.989,156.654 619.148,156.699 621.307,156.744 623.465,156.79 625.624,156.837 627.783,156.884 629.942,156.931 632.101,156.979 \n  634.26,157.027 636.418,157.076 638.577,157.126 640.736,157.176 642.895,157.227 645.054,157.278 647.213,157.329 649.371,157.382 651.53,157.434 653.689,157.488 \n  655.848,157.542 658.007,157.596 660.166,157.651 662.324,157.707 664.483,157.763 666.642,157.82 668.801,157.877 670.96,157.935 673.119,157.994 675.277,158.053 \n  677.436,158.113 679.595,158.173 681.754,158.235 683.913,158.296 686.072,158.359 688.23,158.422 690.389,158.486 692.548,158.55 694.707,158.616 696.866,158.681 \n  699.025,158.748 701.183,158.815 703.342,158.883 705.501,158.952 707.66,159.021 709.819,159.091 711.978,159.162 714.136,159.234 716.295,159.306 718.454,159.379 \n  720.613,159.453 722.772,159.528 724.931,159.603 727.089,159.679 729.248,159.756 731.407,159.834 733.566,159.913 735.725,159.992 737.884,160.072 740.042,160.153 \n  742.201,160.235 744.36,160.318 746.519,160.402 748.678,160.486 750.837,160.572 752.995,160.658 755.154,160.745 757.313,160.833 759.472,160.922 761.631,161.012 \n  763.79,161.103 765.948,161.195 768.107,161.287 770.266,161.381 772.425,161.475 774.584,161.571 776.743,161.668 778.901,161.765 781.06,161.864 783.219,161.963 \n  785.378,162.064 787.537,162.165 789.696,162.268 791.854,162.372 794.013,162.476 796.172,162.582 798.331,162.689 800.49,162.797 802.649,162.906 804.808,163.016 \n  806.966,163.127 809.125,163.24 811.284,163.353 813.443,163.468 815.602,163.584 817.761,163.701 819.919,163.819 822.078,163.938 824.237,164.059 826.396,164.181 \n  828.555,164.303 830.714,164.428 832.872,164.553 835.031,164.68 837.19,164.808 839.349,164.937 841.508,165.067 843.667,165.199 845.825,165.332 847.984,165.467 \n  850.143,165.602 852.302,165.739 854.461,165.878 856.62,166.017 858.778,166.159 860.937,166.301 863.096,166.445 865.255,166.59 867.414,166.737 869.573,166.885 \n  871.731,167.035 873.89,167.186 876.049,167.338 878.208,167.492 880.367,167.648 882.526,167.805 884.684,167.963 886.843,168.123 889.002,168.285 891.161,168.448 \n  893.32,168.613 895.479,168.779 897.637,168.947 899.796,169.116 901.955,169.287 904.114,169.46 906.273,169.634 908.432,169.81 910.59,169.987 912.749,170.167 \n  914.908,170.348 917.067,170.53 919.226,170.715 921.385,170.901 923.543,171.089 925.702,171.278 927.861,171.469 930.02,171.662 932.179,171.857 934.338,172.054 \n  936.496,172.253 938.655,172.453 940.814,172.655 942.973,172.859 945.132,173.065 947.291,173.273 949.449,173.482 951.608,173.694 953.767,173.907 955.926,174.123 \n  958.085,174.34 960.244,174.559 962.402,174.781 964.561,175.004 966.72,175.229 968.879,175.456 971.038,175.685 973.197,175.917 975.355,176.15 977.514,176.385 \n  979.673,176.623 981.832,176.862 983.991,177.104 986.15,177.348 988.308,177.594 990.467,177.842 992.626,178.092 994.785,178.344 996.944,178.598 999.103,178.855 \n  1001.26,179.114 1003.42,179.375 1005.58,179.638 1007.74,179.904 1009.9,180.171 1012.06,180.441 1014.21,180.714 1016.37,180.988 1018.53,181.265 1020.69,181.544 \n  1022.85,181.826 1025.01,182.109 1027.17,182.395 1029.33,182.684 1031.49,182.975 1033.64,183.268 1035.8,183.563 1037.96,183.861 1040.12,184.162 1042.28,184.464 \n  1044.44,184.77 1046.6,185.077 1048.76,185.387 1050.91,185.7 1053.07,186.015 1055.23,186.332 1057.39,186.652 1059.55,186.975 1061.71,187.3 1063.87,187.627 \n  1066.03,187.957 1068.19,188.289 1070.34,188.624 1072.5,188.962 1074.66,189.302 1076.82,189.645 1078.98,189.99 1081.14,190.338 1083.3,190.688 1085.46,191.041 \n  1087.61,191.397 1089.77,191.755 1091.93,192.116 1094.09,192.479 1096.25,192.846 1098.41,193.214 1100.57,193.586 1102.73,193.96 1104.89,194.336 1107.04,194.716 \n  1109.2,195.098 1111.36,195.482 1113.52,195.87 1115.68,196.26 1117.84,196.652 1120,197.048 1122.16,197.446 1124.32,197.846 1126.47,198.25 1128.63,198.656 \n  1130.79,199.065 1132.95,199.476 1135.11,199.89 1137.27,200.307 1139.43,200.727 1141.59,201.149 1143.74,201.574 1145.9,202.002 1148.06,202.432 1150.22,202.865 \n  1152.38,203.301 1154.54,203.739 1156.7,204.18 1158.86,204.624 1161.02,205.071 1163.17,205.52 1165.33,205.972 1167.49,206.427 1169.65,206.884 1171.81,207.344 \n  1173.97,207.807 1176.13,208.272 1178.29,208.74 1180.44,209.21 1182.6,209.684 1184.76,210.16 1186.92,210.638 1189.08,211.119 1191.24,211.603 1193.4,212.09 \n  1195.56,212.579 1197.72,213.07 1199.87,213.564 1202.03,214.061 1204.19,214.56 1206.35,215.062 1208.51,215.567 1210.67,216.074 1212.83,216.583 1214.99,217.095 \n  1217.14,217.61 1219.3,218.127 1221.46,218.646 1223.62,219.168 1225.78,219.693 1227.94,220.219 1230.1,220.749 1232.26,221.28 1234.42,221.814 1236.57,222.351 \n  1238.73,222.89 1240.89,223.431 1243.05,223.974 1245.21,224.52 1247.37,225.068 1249.53,225.618 1251.69,226.171 1253.85,226.725 1256,227.282 1258.16,227.841 \n  1260.32,228.403 1262.48,228.966 1264.64,229.532 1266.8,230.099 1268.96,230.669 1271.12,231.241 1273.27,231.815 1275.43,232.391 1277.59,232.968 1279.75,233.548 \n  1281.91,234.13 1284.07,234.714 1286.23,235.299 1288.39,235.887 1290.55,236.476 1292.7,237.067 1294.86,237.66 1297.02,238.255 1299.18,238.851 1301.34,239.449 \n  1303.5,240.049 1305.66,240.65 1307.82,241.253 1309.97,241.858 1312.13,242.464 1314.29,243.072 1316.45,243.681 1318.61,244.291 1320.77,244.903 1322.93,245.517 \n  1325.09,246.132 1327.25,246.748 1329.4,247.366 1331.56,247.984 1333.72,248.605 1335.88,249.226 1338.04,249.848 1340.2,250.472 1342.36,251.097 1344.52,251.723 \n  1346.67,252.349 1348.83,252.977 1350.99,253.606 1353.15,254.236 1355.31,254.867 1357.47,255.499 1359.63,256.131 1361.79,256.764 1363.95,257.398 1366.1,258.033 \n  1368.26,258.669 1370.42,259.305 1372.58,259.942 1374.74,260.579 1376.9,261.217 1379.06,261.856 1381.22,262.495 1383.38,263.134 1385.53,263.774 1387.69,264.414 \n  1389.85,265.055 1392.01,265.696 1394.17,266.337 1396.33,266.978 1398.49,267.62 1400.65,268.262 1402.8,268.904 1404.96,269.546 1407.12,270.188 1409.28,270.83 \n  1411.44,271.472 1413.6,272.114 1415.76,272.756 1417.92,273.398 1420.08,274.039 1422.23,274.681 1424.39,275.322 1426.55,275.963 1428.71,276.603 1430.87,277.243 \n  1433.03,277.883 1435.19,278.523 1437.35,279.162 1439.5,279.8 1441.66,280.438 1443.82,281.075 1445.98,281.712 1448.14,282.348 1450.3,282.984 1452.46,283.619 \n  1454.62,284.253 1456.78,284.886 1458.93,285.519 1461.09,286.15 1463.25,286.781 1465.41,287.411 1467.57,288.04 1469.73,288.668 1471.89,289.295 1474.05,289.921 \n  1476.21,290.546 1478.36,291.17 1480.52,291.792 1482.68,292.414 1484.84,293.034 1487,293.653 1489.16,294.271 1491.32,294.887 1493.48,295.503 1495.63,296.117 \n  1497.79,296.729 1499.95,297.34 1502.11,297.95 1504.27,298.558 1506.43,299.165 1508.59,299.77 1510.75,300.374 1512.91,300.976 1515.06,301.576 1517.22,302.175 \n  1519.38,302.773 1521.54,303.368 1523.7,303.962 1525.86,304.554 1528.02,305.145 1530.18,305.733 1532.33,306.32 1534.49,306.905 1536.65,307.488 1538.81,308.069 \n  1540.97,308.649 1543.13,309.226 1545.29,309.802 1547.45,310.376 1549.61,310.947 1551.76,311.517 1553.92,312.084 1556.08,312.65 1558.24,313.214 1560.4,313.775 \n  1562.56,314.334 1564.72,314.892 1566.88,315.447 1569.03,316 1571.19,316.55 1573.35,317.099 1575.51,317.645 1577.67,318.19 1579.83,318.732 1581.99,319.271 \n  1584.15,319.809 1586.31,320.344 1588.46,320.877 1590.62,321.407 1592.78,321.936 1594.94,322.462 1597.1,322.985 1599.26,323.507 1601.42,324.025 1603.58,324.542 \n  1605.74,325.056 1607.89,325.568 1610.05,326.077 1612.21,326.584 1614.37,327.089 1616.53,327.591 1618.69,328.09 1620.85,328.587 1623.01,329.082 1625.16,329.574 \n  1627.32,330.064 1629.48,330.551 1631.64,331.036 1633.8,331.518 1635.96,331.998 1638.12,332.475 1640.28,332.95 1642.44,333.422 1644.59,333.892 1646.75,334.359 \n  1648.91,334.824 1651.07,335.286 1653.23,335.745 1655.39,336.202 1657.55,336.657 1659.71,337.109 1661.86,337.558 1664.02,338.005 1666.18,338.449 1668.34,338.891 \n  1670.5,339.33 1672.66,339.767 1674.82,340.201 1676.98,340.632 1679.14,341.061 1681.29,341.488 1683.45,341.911 1685.61,342.333 1687.77,342.751 1689.93,343.168 \n  1692.09,343.581 1694.25,343.992 1696.41,344.401 1698.56,344.807 1700.72,345.21 1702.88,345.611 1705.04,346.009 1707.2,346.405 1709.36,346.799 1711.52,347.189 \n  1713.68,347.578 1715.84,347.963 1717.99,348.347 1720.15,348.727 1722.31,349.106 1724.47,349.481 1726.63,349.855 1728.79,350.225 1730.95,350.594 1733.11,350.959 \n  1735.27,351.323 1737.42,351.684 1739.58,352.042 1741.74,352.398 1743.9,352.752 1746.06,353.103 1748.22,353.451 1750.38,353.798 1752.54,354.142 1754.69,354.483 \n  1756.85,354.822 1759.01,355.159 1761.17,355.493 1763.33,355.825 1765.49,356.154 1767.65,356.482 1769.81,356.807 1771.97,357.129 1774.12,357.449 1776.28,357.767 \n  1778.44,358.083 1780.6,358.396 1782.76,358.707 1784.92,359.015 1787.08,359.322 1789.24,359.626 1791.39,359.928 1793.55,360.227 1795.71,360.525 1797.87,360.82 \n  1800.03,361.113 1802.19,361.404 1804.35,361.692 1806.51,361.979 1808.67,362.263 1810.82,362.545 1812.98,362.825 1815.14,363.102 1817.3,363.378 1819.46,363.651 \n  1821.62,363.923 1823.78,364.192 1825.94,364.459 1828.1,364.724 1830.25,364.987 1832.41,365.248 1834.57,365.507 1836.73,365.764 1838.89,366.019 1841.05,366.271 \n  1843.21,366.522 1845.37,366.771 1847.52,367.018 1849.68,367.263 1851.84,367.506 1854,367.747 1856.16,367.986 1858.32,368.223 1860.48,368.458 1862.64,368.691 \n  1864.8,368.923 1866.95,369.152 1869.11,369.38 1871.27,369.606 1873.43,369.829 1875.59,370.052 1877.75,370.272 1879.91,370.49 1882.07,370.707 1884.22,370.922 \n  1886.38,371.135 1888.54,371.346 1890.7,371.556 1892.86,371.764 1895.02,371.97 1897.18,372.174 1899.34,372.377 1901.5,372.578 1903.65,372.777 1905.81,372.975 \n  1907.97,373.17 1910.13,373.365 1912.29,373.557 1914.45,373.748 1916.61,373.938 1918.77,374.125 1920.92,374.312 1923.08,374.496 1925.24,374.679 1927.4,374.861 \n  1929.56,375.04 1931.72,375.219 1933.88,375.395 1936.04,375.571 1938.2,375.745 1940.35,375.917 1942.51,376.088 1944.67,376.257 1946.83,376.425 1948.99,376.591 \n  1951.15,376.756 1953.31,376.919 1955.47,377.081 1957.63,377.242 1959.78,377.401 1961.94,377.559 1964.1,377.715 1966.26,377.871 1968.42,378.024 1970.58,378.177 \n  1972.74,378.328 1974.9,378.477 1977.05,378.626 1979.21,378.773 1981.37,378.918 1983.53,379.063 1985.69,379.206 1987.85,379.348 1990.01,379.488 1992.17,379.628 \n  1994.33,379.766 1996.48,379.903 1998.64,380.038 2000.8,380.173 2002.96,380.306 2005.12,380.438 2007.28,380.569 2009.44,380.699 2011.6,380.827 2013.75,380.954 \n  2015.91,381.081 2018.07,381.206 2020.23,381.33 2022.39,381.452 2024.55,381.574 2026.71,381.695 2028.87,381.814 2031.03,381.932 2033.18,382.05 2035.34,382.166 \n  2037.5,382.281 2039.66,382.395 2041.82,382.508 2043.98,382.621 2046.14,382.732 2048.3,382.842 2050.46,382.951 2052.61,383.059 2054.77,383.166 2056.93,383.272 \n  2059.09,383.377 2061.25,383.481 2063.41,383.584 2065.57,383.686 2067.73,383.787 2069.88,383.888 2072.04,383.987 2074.2,384.086 2076.36,384.183 2078.52,384.28 \n  2080.68,384.375 2082.84,384.47 2085,384.564 2087.16,384.657 2089.31,384.75 2091.47,384.841 2093.63,384.932 2095.79,385.021 2097.95,385.11 2100.11,385.198 \n  2102.27,385.285 2104.43,385.372 2106.58,385.457 2108.74,385.542 2110.9,385.626 2113.06,385.709 2115.22,385.792 2117.38,385.873 2119.54,385.954 2121.7,386.034 \n  2123.86,386.114 2126.01,386.192 2128.17,386.27 2130.33,386.347 2132.49,386.424 2134.65,386.499 2136.81,386.574 2138.97,386.649 2141.13,386.722 2143.28,386.795 \n  2145.44,386.867 2147.6,386.939 2149.76,387.009 2151.92,387.08 2154.08,387.149 2156.24,387.218 2158.4,387.286 2160.56,387.354 2162.71,387.421 2164.87,387.487 \n  2167.03,387.552 2169.19,387.617 2171.35,387.682 2173.51,387.746 2175.67,387.809 2177.83,387.871 2179.99,387.933 2182.14,387.995 2184.3,388.055 2186.46,388.116 \n  2188.62,388.175 2190.78,388.234 2192.94,388.293 2195.1,388.351 2197.26,388.408 2199.41,388.465 2201.57,388.521 2203.73,388.577 2205.89,388.632 2208.05,388.687 \n  2210.21,388.741 2212.37,388.795 2214.53,388.848 2216.69,388.9 2218.84,388.952 2221,389.004 2223.16,389.055 2225.32,389.106 2227.48,389.156 2229.64,389.206 \n  2231.8,389.255 2233.96,389.303 2236.11,389.352 2238.27,389.399 2240.43,389.447 2242.59,389.494 2244.75,389.54 2246.91,389.586 2249.07,389.631 2251.23,389.676 \n  2253.39,389.721 2255.54,389.765 2257.7,389.809 2259.86,389.852 2262.02,389.895 2264.18,389.938 2266.34,389.98 2268.5,390.022 2270.66,390.063 2272.81,390.104 \n  2274.97,390.144 2277.13,390.184 2279.29,390.224 2281.45,390.263 2283.61,390.302 2285.77,390.341 2287.93,390.379 2290.09,390.417 2292.24,390.454 2294.4,390.491 \n  2296.56,390.528 2298.72,390.564 2300.88,390.6 2303.04,390.636 2305.2,390.671 2307.36,390.706 2309.52,390.741 2311.67,390.775 2313.83,390.809 2315.99,390.843 \n  2318.15,390.876 2320.31,390.909 2322.47,390.942 2324.63,390.974 2326.79,391.006 2328.94,391.038 2331.1,391.069 2333.26,391.1 2335.42,391.131 2337.58,391.162 \n  2339.74,391.192 2341.9,391.222 2344.06,391.251 2346.22,391.281 2348.37,391.31 2350.53,391.338 2352.69,391.367 2354.85,391.395 2357.01,391.423 2359.17,391.451 \n  2361.33,391.478 2363.49,391.505 2365.64,391.532 2367.8,391.558 2369.96,391.585 2372.12,391.611 2374.28,391.636 2376.44,391.662 2378.6,391.687 2380.76,391.712 \n  2382.92,391.737 2385.07,391.762 2387.23,391.786 2389.39,391.81 2391.55,391.834 2393.71,391.857 2395.87,391.881 2398.03,391.904 2400.19,391.927 2402.35,391.95 \n  2404.5,391.972 2406.66,391.994 2408.82,392.016 2410.98,392.038 2413.14,392.06 2415.3,392.081 2417.46,392.102 2419.62,392.123 2421.77,392.144 2423.93,392.164 \n  2426.09,392.185 2428.25,392.205 2430.41,392.225 2432.57,392.245 2434.73,392.264 2436.89,392.284 2439.05,392.303 2441.2,392.322 2443.36,392.341 2445.52,392.359 \n  2447.68,392.378 2449.84,392.396 2452,392.414 2454.16,392.432 2456.32,392.449 2458.47,392.467 2460.63,392.484 2462.79,392.502 2464.95,392.519 2467.11,392.535 \n  2469.27,392.552 2471.43,392.569 2473.59,392.585 2475.75,392.601 2477.9,392.617 2480.06,392.633 2482.22,392.649 2484.38,392.664 2486.54,392.68 2488.7,392.695 \n  2490.86,392.71 2493.02,392.725 2495.17,392.74 2497.33,392.755 2499.49,392.769 2501.65,392.784 2503.81,392.798 2505.97,392.812 2508.13,392.826 2510.29,392.84 \n  2512.45,392.853 2514.6,392.867 2516.76,392.88 2518.92,392.894 2521.08,392.907 2523.24,392.92 2525.4,392.933 2527.56,392.945 2529.72,392.958 2531.88,392.971 \n  2534.03,392.983 2536.19,392.995 2538.35,393.007 2540.51,393.019 2542.67,393.031 2544.83,393.043 2546.99,393.055 2549.15,393.066 2551.3,393.078 2553.46,393.089 \n  2555.62,393.1 2557.78,393.111 2559.94,393.122 2562.1,393.133 2564.26,393.144 2566.42,393.155 2568.58,393.165 2570.73,393.176 2572.89,393.186 2575.05,393.196 \n  2577.21,393.206 2579.37,393.216 2581.53,393.226 2583.69,393.236 2585.85,393.246 2588,393.256 2590.16,393.265 2592.32,393.275 2594.48,393.284 2596.64,393.293 \n  2598.8,393.303 2600.96,393.312 2603.12,393.321 2605.28,393.33 2607.43,393.338 2609.59,393.347 2611.75,393.356 2613.91,393.364 2616.07,393.373 2618.23,393.381 \n  2620.39,393.389 2622.55,393.398 2624.7,393.406 2626.86,393.414 2629.02,393.422 2631.18,393.43 2633.34,393.438 2635.5,393.445 2637.66,393.453 2639.82,393.461 \n  2641.98,393.468 2644.13,393.476 2646.29,393.483 2648.45,393.49 2650.61,393.498 2652.77,393.505 2654.93,393.512 2657.09,393.519 2659.25,393.526 2661.41,393.533 \n  2663.56,393.539 2665.72,393.546 2667.88,393.553 2670.04,393.559 2672.2,393.566 2674.36,393.572 2676.52,393.579 2678.68,393.585 2680.83,393.591 2682.99,393.598 \n  2685.15,393.604 2687.31,393.61 2689.47,393.616 2691.63,393.622 2693.79,393.628 2695.95,393.634 2698.11,393.64 2700.26,393.645 2702.42,393.651 2704.58,393.657 \n  2706.74,393.662 2708.9,393.668 2711.06,393.673 2713.22,393.679 2715.38,393.684 2717.53,393.689 2719.69,393.694 2721.85,393.7 2724.01,393.705 2726.17,393.71 \n  2728.33,393.715 2730.49,393.72 2732.65,393.725 2734.81,393.73 2736.96,393.735 2739.12,393.739 2741.28,393.744 2743.44,393.749 2745.6,393.754 2747.76,393.758 \n  2749.92,393.763 2752.08,393.767 2754.24,393.772 2756.39,393.776 2758.55,393.78 2760.71,393.785 2762.87,393.789 2765.03,393.793 2767.19,393.798 2769.35,393.802 \n  2771.51,393.806 2773.66,393.81 2775.82,393.814 2777.98,393.818 2780.14,393.822 2782.3,393.826 2784.46,393.83 2786.62,393.834 2788.78,393.837 2790.94,393.841 \n  2793.09,393.845 2795.25,393.849 2797.41,393.852 2799.57,393.856 2801.73,393.86 2803.89,393.863 2806.05,393.867 2808.21,393.87 2810.36,393.874 2812.52,393.877 \n  2814.68,393.88 2816.84,393.884 2819,393.887 2821.16,393.89 2823.32,393.893 2825.48,393.897 2827.64,393.9 2829.79,393.903 2831.95,393.906 2834.11,393.909 \n  2836.27,393.912 2838.43,393.915 2840.59,393.918 2842.75,393.921 2844.91,393.924 2847.06,393.927 2849.22,393.93 2851.38,393.933 2853.54,393.936 2855.7,393.938 \n  2857.86,393.941 2860.02,393.944 2862.18,393.947 2864.34,393.949 2866.49,393.952 2868.65,393.955 2870.81,393.957 2872.97,393.96 2875.13,393.962 2877.29,393.965 \n  2879.45,393.967 2881.61,393.97 2883.77,393.972 2885.92,393.975 2888.08,393.977 2890.24,393.98 2892.4,393.982 2894.56,393.984 2896.72,393.987 2898.88,393.989 \n  2901.04,393.991 2903.19,393.993 2905.35,393.996 2907.51,393.998 2909.67,394 2911.83,394.002 2913.99,394.004 2916.15,394.006 2918.31,394.008 2920.47,394.01 \n  2922.62,394.013 2924.78,394.015 2926.94,394.017 2929.1,394.019 2931.26,394.02 2933.42,394.022 2935.58,394.024 2937.74,394.026 2939.89,394.028 2942.05,394.03 \n  2944.21,394.032 2946.37,394.034 2948.53,394.036 2950.69,394.037 2952.85,394.039 2955.01,394.041 2957.17,394.043 2959.32,394.044 2961.48,394.046 2963.64,394.048 \n  2965.8,394.049 2967.96,394.051 2970.12,394.053 2972.28,394.054 2974.44,394.056 2976.6,394.058 2978.75,394.059 2980.91,394.061 2983.07,394.062 2985.23,394.064 \n  2987.39,394.065 2989.55,394.067 2991.71,394.068 2993.87,394.07 2996.02,394.071 2998.18,394.073 3000.34,394.074 3002.5,394.075 3004.66,394.077 3006.82,394.078 \n  3008.98,394.08 3011.14,394.081 3013.3,394.082 3015.45,394.084 3017.61,394.085 3019.77,394.086 3021.93,394.088 3024.09,394.089 3026.25,394.09 3028.41,394.091 \n  3030.57,394.093 3032.72,394.094 3034.88,394.095 3037.04,394.096 3039.2,394.097 3041.36,394.099 3043.52,394.1 3045.68,394.101 3047.84,394.102 3050,394.103 \n  3052.15,394.104 3054.31,394.105 3056.47,394.106 3058.63,394.108 3060.79,394.109 3062.95,394.11 3065.11,394.111 3067.27,394.112 3069.42,394.113 3071.58,394.114 \n  3073.74,394.115 \n  \"/>\n<polyline clip-path=\"url(#clip7802)\" style=\"stroke:#e26f46; stroke-width:4; stroke-opacity:1; fill:none\" points=\"\n  439.964,994.204 442.123,994.201 444.282,994.199 446.441,994.196 448.6,994.193 450.759,994.19 452.917,994.187 455.076,994.184 457.235,994.181 459.394,994.178 \n  461.553,994.175 463.712,994.172 465.87,994.169 468.029,994.166 470.188,994.163 472.347,994.159 474.506,994.156 476.665,994.153 478.823,994.149 480.982,994.146 \n  483.141,994.143 485.3,994.139 487.459,994.136 489.618,994.132 491.777,994.129 493.935,994.125 496.094,994.121 498.253,994.118 500.412,994.114 502.571,994.11 \n  504.73,994.107 506.888,994.103 509.047,994.099 511.206,994.095 513.365,994.091 515.524,994.087 517.683,994.083 519.841,994.079 522,994.075 524.159,994.071 \n  526.318,994.066 528.477,994.062 530.636,994.058 532.794,994.054 534.953,994.049 537.112,994.045 539.271,994.04 541.43,994.036 543.589,994.031 545.747,994.026 \n  547.906,994.022 550.065,994.017 552.224,994.012 554.383,994.007 556.542,994.002 558.7,993.998 560.859,993.993 563.018,993.988 565.177,993.982 567.336,993.977 \n  569.495,993.972 571.653,993.967 573.812,993.961 575.971,993.956 578.13,993.951 580.289,993.945 582.448,993.94 584.606,993.934 586.765,993.928 588.924,993.923 \n  591.083,993.917 593.242,993.911 595.401,993.905 597.559,993.899 599.718,993.893 601.877,993.887 604.036,993.881 606.195,993.875 608.354,993.868 610.512,993.862 \n  612.671,993.856 614.83,993.849 616.989,993.843 619.148,993.836 621.307,993.829 623.465,993.823 625.624,993.816 627.783,993.809 629.942,993.802 632.101,993.795 \n  634.26,993.788 636.418,993.78 638.577,993.773 640.736,993.766 642.895,993.758 645.054,993.751 647.213,993.743 649.371,993.736 651.53,993.728 653.689,993.72 \n  655.848,993.712 658.007,993.704 660.166,993.696 662.324,993.688 664.483,993.68 666.642,993.672 668.801,993.663 670.96,993.655 673.119,993.646 675.277,993.638 \n  677.436,993.629 679.595,993.62 681.754,993.611 683.913,993.602 686.072,993.593 688.23,993.584 690.389,993.575 692.548,993.565 694.707,993.556 696.866,993.546 \n  699.025,993.537 701.183,993.527 703.342,993.517 705.501,993.507 707.66,993.497 709.819,993.487 711.978,993.477 714.136,993.466 716.295,993.456 718.454,993.445 \n  720.613,993.435 722.772,993.424 724.931,993.413 727.089,993.402 729.248,993.391 731.407,993.38 733.566,993.368 735.725,993.357 737.884,993.345 740.042,993.334 \n  742.201,993.322 744.36,993.31 746.519,993.298 748.678,993.286 750.837,993.274 752.995,993.261 755.154,993.249 757.313,993.236 759.472,993.224 761.631,993.211 \n  763.79,993.198 765.948,993.185 768.107,993.171 770.266,993.158 772.425,993.145 774.584,993.131 776.743,993.117 778.901,993.103 781.06,993.089 783.219,993.075 \n  785.378,993.061 787.537,993.047 789.696,993.032 791.854,993.018 794.013,993.003 796.172,992.988 798.331,992.973 800.49,992.957 802.649,992.942 804.808,992.927 \n  806.966,992.911 809.125,992.895 811.284,992.879 813.443,992.863 815.602,992.847 817.761,992.831 819.919,992.814 822.078,992.797 824.237,992.78 826.396,992.763 \n  828.555,992.746 830.714,992.729 832.872,992.712 835.031,992.694 837.19,992.676 839.349,992.658 841.508,992.64 843.667,992.622 845.825,992.603 847.984,992.585 \n  850.143,992.566 852.302,992.547 854.461,992.528 856.62,992.509 858.778,992.49 860.937,992.47 863.096,992.45 865.255,992.43 867.414,992.41 869.573,992.39 \n  871.731,992.369 873.89,992.349 876.049,992.328 878.208,992.307 880.367,992.286 882.526,992.265 884.684,992.243 886.843,992.221 889.002,992.2 891.161,992.178 \n  893.32,992.155 895.479,992.133 897.637,992.11 899.796,992.087 901.955,992.065 904.114,992.041 906.273,992.018 908.432,991.994 910.59,991.971 912.749,991.947 \n  914.908,991.923 917.067,991.898 919.226,991.874 921.385,991.849 923.543,991.824 925.702,991.799 927.861,991.774 930.02,991.749 932.179,991.723 934.338,991.697 \n  936.496,991.671 938.655,991.645 940.814,991.618 942.973,991.592 945.132,991.565 947.291,991.538 949.449,991.511 951.608,991.483 953.767,991.456 955.926,991.428 \n  958.085,991.4 960.244,991.371 962.402,991.343 964.561,991.314 966.72,991.285 968.879,991.256 971.038,991.227 973.197,991.198 975.355,991.168 977.514,991.138 \n  979.673,991.108 981.832,991.078 983.991,991.047 986.15,991.017 988.308,990.986 990.467,990.955 992.626,990.923 994.785,990.892 996.944,990.86 999.103,990.828 \n  1001.26,990.796 1003.42,990.764 1005.58,990.732 1007.74,990.699 1009.9,990.666 1012.06,990.633 1014.21,990.6 1016.37,990.566 1018.53,990.532 1020.69,990.499 \n  1022.85,990.464 1025.01,990.43 1027.17,990.396 1029.33,990.361 1031.49,990.326 1033.64,990.291 1035.8,990.256 1037.96,990.221 1040.12,990.185 1042.28,990.149 \n  1044.44,990.113 1046.6,990.077 1048.76,990.041 1050.91,990.004 1053.07,989.967 1055.23,989.931 1057.39,989.893 1059.55,989.856 1061.71,989.819 1063.87,989.781 \n  1066.03,989.743 1068.19,989.705 1070.34,989.667 1072.5,989.629 1074.66,989.591 1076.82,989.552 1078.98,989.513 1081.14,989.474 1083.3,989.435 1085.46,989.396 \n  1087.61,989.357 1089.77,989.317 1091.93,989.278 1094.09,989.238 1096.25,989.198 1098.41,989.158 1100.57,989.118 1102.73,989.077 1104.89,989.037 1107.04,988.996 \n  1109.2,988.956 1111.36,988.915 1113.52,988.874 1115.68,988.833 1117.84,988.791 1120,988.75 1122.16,988.709 1124.32,988.667 1126.47,988.626 1128.63,988.584 \n  1130.79,988.542 1132.95,988.5 1135.11,988.458 1137.27,988.416 1139.43,988.374 1141.59,988.332 1143.74,988.29 1145.9,988.248 1148.06,988.205 1150.22,988.163 \n  1152.38,988.121 1154.54,988.078 1156.7,988.036 1158.86,987.993 1161.02,987.95 1163.17,987.908 1165.33,987.865 1167.49,987.822 1169.65,987.78 1171.81,987.737 \n  1173.97,987.694 1176.13,987.652 1178.29,987.609 1180.44,987.566 1182.6,987.524 1184.76,987.481 1186.92,987.438 1189.08,987.396 1191.24,987.353 1193.4,987.311 \n  1195.56,987.269 1197.72,987.226 1199.87,987.184 1202.03,987.142 1204.19,987.099 1206.35,987.057 1208.51,987.015 1210.67,986.973 1212.83,986.932 1214.99,986.89 \n  1217.14,986.848 1219.3,986.807 1221.46,986.765 1223.62,986.724 1225.78,986.683 1227.94,986.642 1230.1,986.601 1232.26,986.56 1234.42,986.52 1236.57,986.48 \n  1238.73,986.439 1240.89,986.399 1243.05,986.359 1245.21,986.32 1247.37,986.28 1249.53,986.241 1251.69,986.202 1253.85,986.163 1256,986.125 1258.16,986.086 \n  1260.32,986.048 1262.48,986.01 1264.64,985.972 1266.8,985.935 1268.96,985.898 1271.12,985.861 1273.27,985.824 1275.43,985.788 1277.59,985.752 1279.75,985.716 \n  1281.91,985.681 1284.07,985.645 1286.23,985.61 1288.39,985.576 1290.55,985.542 1292.7,985.508 1294.86,985.474 1297.02,985.441 1299.18,985.408 1301.34,985.375 \n  1303.5,985.343 1305.66,985.311 1307.82,985.28 1309.97,985.249 1312.13,985.218 1314.29,985.188 1316.45,985.158 1318.61,985.129 1320.77,985.099 1322.93,985.071 \n  1325.09,985.042 1327.25,985.015 1329.4,984.987 1331.56,984.96 1333.72,984.934 1335.88,984.907 1338.04,984.882 1340.2,984.857 1342.36,984.832 1344.52,984.807 \n  1346.67,984.784 1348.83,984.76 1350.99,984.737 1353.15,984.715 1355.31,984.693 1357.47,984.672 1359.63,984.651 1361.79,984.63 1363.95,984.61 1366.1,984.591 \n  1368.26,984.572 1370.42,984.553 1372.58,984.536 1374.74,984.518 1376.9,984.501 1379.06,984.485 1381.22,984.469 1383.38,984.454 1385.53,984.439 1387.69,984.425 \n  1389.85,984.411 1392.01,984.398 1394.17,984.386 1396.33,984.374 1398.49,984.362 1400.65,984.351 1402.8,984.341 1404.96,984.331 1407.12,984.322 1409.28,984.313 \n  1411.44,984.305 1413.6,984.298 1415.76,984.291 1417.92,984.284 1420.08,984.278 1422.23,984.273 1424.39,984.268 1426.55,984.264 1428.71,984.261 1430.87,984.258 \n  1433.03,984.255 1435.19,984.253 1437.35,984.252 1439.5,984.251 1441.66,984.251 1443.82,984.252 1445.98,984.253 1448.14,984.254 1450.3,984.256 1452.46,984.259 \n  1454.62,984.262 1456.78,984.266 1458.93,984.27 1461.09,984.275 1463.25,984.281 1465.41,984.287 1467.57,984.294 1469.73,984.301 1471.89,984.309 1474.05,984.317 \n  1476.21,984.326 1478.36,984.335 1480.52,984.345 1482.68,984.355 1484.84,984.366 1487,984.378 1489.16,984.39 1491.32,984.403 1493.48,984.416 1495.63,984.429 \n  1497.79,984.444 1499.95,984.458 1502.11,984.473 1504.27,984.489 1506.43,984.505 1508.59,984.522 1510.75,984.539 1512.91,984.557 1515.06,984.575 1517.22,984.594 \n  1519.38,984.613 1521.54,984.633 1523.7,984.653 1525.86,984.673 1528.02,984.694 1530.18,984.716 1532.33,984.738 1534.49,984.76 1536.65,984.783 1538.81,984.806 \n  1540.97,984.83 1543.13,984.854 1545.29,984.879 1547.45,984.904 1549.61,984.929 1551.76,984.955 1553.92,984.981 1556.08,985.008 1558.24,985.035 1560.4,985.062 \n  1562.56,985.09 1564.72,985.118 1566.88,985.147 1569.03,985.176 1571.19,985.205 1573.35,985.234 1575.51,985.264 1577.67,985.295 1579.83,985.325 1581.99,985.356 \n  1584.15,985.388 1586.31,985.419 1588.46,985.451 1590.62,985.483 1592.78,985.516 1594.94,985.549 1597.1,985.582 1599.26,985.615 1601.42,985.649 1603.58,985.683 \n  1605.74,985.717 1607.89,985.751 1610.05,985.786 1612.21,985.821 1614.37,985.856 1616.53,985.892 1618.69,985.928 1620.85,985.963 1623.01,986 1625.16,986.036 \n  1627.32,986.072 1629.48,986.109 1631.64,986.146 1633.8,986.183 1635.96,986.221 1638.12,986.258 1640.28,986.296 1642.44,986.333 1644.59,986.371 1646.75,986.41 \n  1648.91,986.448 1651.07,986.486 1653.23,986.525 1655.39,986.564 1657.55,986.602 1659.71,986.641 1661.86,986.68 1664.02,986.72 1666.18,986.759 1668.34,986.798 \n  1670.5,986.838 1672.66,986.877 1674.82,986.917 1676.98,986.957 1679.14,986.996 1681.29,987.036 1683.45,987.076 1685.61,987.116 1687.77,987.156 1689.93,987.196 \n  1692.09,987.236 1694.25,987.277 1696.41,987.317 1698.56,987.357 1700.72,987.397 1702.88,987.438 1705.04,987.478 1707.2,987.518 1709.36,987.559 1711.52,987.599 \n  1713.68,987.639 1715.84,987.68 1717.99,987.72 1720.15,987.76 1722.31,987.8 1724.47,987.841 1726.63,987.881 1728.79,987.921 1730.95,987.961 1733.11,988.001 \n  1735.27,988.041 1737.42,988.082 1739.58,988.122 1741.74,988.161 1743.9,988.201 1746.06,988.241 1748.22,988.281 1750.38,988.321 1752.54,988.36 1754.69,988.4 \n  1756.85,988.439 1759.01,988.479 1761.17,988.518 1763.33,988.557 1765.49,988.596 1767.65,988.635 1769.81,988.674 1771.97,988.713 1774.12,988.752 1776.28,988.791 \n  1778.44,988.829 1780.6,988.868 1782.76,988.906 1784.92,988.944 1787.08,988.982 1789.24,989.02 1791.39,989.058 1793.55,989.096 1795.71,989.134 1797.87,989.171 \n  1800.03,989.209 1802.19,989.246 1804.35,989.283 1806.51,989.32 1808.67,989.357 1810.82,989.393 1812.98,989.43 1815.14,989.466 1817.3,989.503 1819.46,989.539 \n  1821.62,989.575 1823.78,989.611 1825.94,989.646 1828.1,989.682 1830.25,989.717 1832.41,989.753 1834.57,989.788 1836.73,989.823 1838.89,989.857 1841.05,989.892 \n  1843.21,989.926 1845.37,989.961 1847.52,989.995 1849.68,990.029 1851.84,990.063 1854,990.096 1856.16,990.13 1858.32,990.163 1860.48,990.196 1862.64,990.229 \n  1864.8,990.262 1866.95,990.295 1869.11,990.327 1871.27,990.359 1873.43,990.392 1875.59,990.424 1877.75,990.455 1879.91,990.487 1882.07,990.518 1884.22,990.55 \n  1886.38,990.581 1888.54,990.612 1890.7,990.642 1892.86,990.673 1895.02,990.703 1897.18,990.733 1899.34,990.763 1901.5,990.793 1903.65,990.823 1905.81,990.853 \n  1907.97,990.882 1910.13,990.911 1912.29,990.94 1914.45,990.969 1916.61,990.997 1918.77,991.026 1920.92,991.054 1923.08,991.082 1925.24,991.11 1927.4,991.138 \n  1929.56,991.165 1931.72,991.193 1933.88,991.22 1936.04,991.247 1938.2,991.274 1940.35,991.3 1942.51,991.327 1944.67,991.353 1946.83,991.379 1948.99,991.405 \n  1951.15,991.431 1953.31,991.457 1955.47,991.482 1957.63,991.507 1959.78,991.532 1961.94,991.557 1964.1,991.582 1966.26,991.607 1968.42,991.631 1970.58,991.655 \n  1972.74,991.679 1974.9,991.703 1977.05,991.727 1979.21,991.751 1981.37,991.774 1983.53,991.797 1985.69,991.82 1987.85,991.843 1990.01,991.866 1992.17,991.888 \n  1994.33,991.911 1996.48,991.933 1998.64,991.955 2000.8,991.977 2002.96,991.999 2005.12,992.02 2007.28,992.042 2009.44,992.063 2011.6,992.084 2013.75,992.105 \n  2015.91,992.126 2018.07,992.146 2020.23,992.167 2022.39,992.187 2024.55,992.207 2026.71,992.227 2028.87,992.247 2031.03,992.267 2033.18,992.286 2035.34,992.306 \n  2037.5,992.325 2039.66,992.344 2041.82,992.363 2043.98,992.382 2046.14,992.4 2048.3,992.419 2050.46,992.437 2052.61,992.455 2054.77,992.473 2056.93,992.491 \n  2059.09,992.509 2061.25,992.527 2063.41,992.544 2065.57,992.561 2067.73,992.579 2069.88,992.596 2072.04,992.613 2074.2,992.629 2076.36,992.646 2078.52,992.662 \n  2080.68,992.679 2082.84,992.695 2085,992.711 2087.16,992.727 2089.31,992.743 2091.47,992.759 2093.63,992.774 2095.79,992.79 2097.95,992.805 2100.11,992.82 \n  2102.27,992.835 2104.43,992.85 2106.58,992.865 2108.74,992.88 2110.9,992.894 2113.06,992.909 2115.22,992.923 2117.38,992.937 2119.54,992.951 2121.7,992.965 \n  2123.86,992.979 2126.01,992.993 2128.17,993.006 2130.33,993.02 2132.49,993.033 2134.65,993.046 2136.81,993.06 2138.97,993.073 2141.13,993.086 2143.28,993.098 \n  2145.44,993.111 2147.6,993.124 2149.76,993.136 2151.92,993.148 2154.08,993.161 2156.24,993.173 2158.4,993.185 2160.56,993.197 2162.71,993.209 2164.87,993.22 \n  2167.03,993.232 2169.19,993.244 2171.35,993.255 2173.51,993.266 2175.67,993.277 2177.83,993.289 2179.99,993.3 2182.14,993.311 2184.3,993.321 2186.46,993.332 \n  2188.62,993.343 2190.78,993.353 2192.94,993.364 2195.1,993.374 2197.26,993.384 2199.41,993.395 2201.57,993.405 2203.73,993.415 2205.89,993.424 2208.05,993.434 \n  2210.21,993.444 2212.37,993.454 2214.53,993.463 2216.69,993.473 2218.84,993.482 2221,993.491 2223.16,993.501 2225.32,993.51 2227.48,993.519 2229.64,993.528 \n  2231.8,993.536 2233.96,993.545 2236.11,993.554 2238.27,993.563 2240.43,993.571 2242.59,993.58 2244.75,993.588 2246.91,993.596 2249.07,993.605 2251.23,993.613 \n  2253.39,993.621 2255.54,993.629 2257.7,993.637 2259.86,993.645 2262.02,993.653 2264.18,993.66 2266.34,993.668 2268.5,993.676 2270.66,993.683 2272.81,993.69 \n  2274.97,993.698 2277.13,993.705 2279.29,993.712 2281.45,993.72 2283.61,993.727 2285.77,993.734 2287.93,993.741 2290.09,993.748 2292.24,993.754 2294.4,993.761 \n  2296.56,993.768 2298.72,993.775 2300.88,993.781 2303.04,993.788 2305.2,993.794 2307.36,993.801 2309.52,993.807 2311.67,993.813 2313.83,993.82 2315.99,993.826 \n  2318.15,993.832 2320.31,993.838 2322.47,993.844 2324.63,993.85 2326.79,993.856 2328.94,993.862 2331.1,993.867 2333.26,993.873 2335.42,993.879 2337.58,993.884 \n  2339.74,993.89 2341.9,993.895 2344.06,993.901 2346.22,993.906 2348.37,993.912 2350.53,993.917 2352.69,993.922 2354.85,993.927 2357.01,993.933 2359.17,993.938 \n  2361.33,993.943 2363.49,993.948 2365.64,993.953 2367.8,993.958 2369.96,993.962 2372.12,993.967 2374.28,993.972 2376.44,993.977 2378.6,993.981 2380.76,993.986 \n  2382.92,993.991 2385.07,993.995 2387.23,994 2389.39,994.004 2391.55,994.009 2393.71,994.013 2395.87,994.017 2398.03,994.022 2400.19,994.026 2402.35,994.03 \n  2404.5,994.034 2406.66,994.038 2408.82,994.043 2410.98,994.047 2413.14,994.051 2415.3,994.055 2417.46,994.059 2419.62,994.062 2421.77,994.066 2423.93,994.07 \n  2426.09,994.074 2428.25,994.078 2430.41,994.081 2432.57,994.085 2434.73,994.089 2436.89,994.092 2439.05,994.096 2441.2,994.099 2443.36,994.103 2445.52,994.106 \n  2447.68,994.11 2449.84,994.113 2452,994.117 2454.16,994.12 2456.32,994.123 2458.47,994.127 2460.63,994.13 2462.79,994.133 2464.95,994.136 2467.11,994.139 \n  2469.27,994.142 2471.43,994.146 2473.59,994.149 2475.75,994.152 2477.9,994.155 2480.06,994.158 2482.22,994.161 2484.38,994.164 2486.54,994.166 2488.7,994.169 \n  2490.86,994.172 2493.02,994.175 2495.17,994.178 2497.33,994.18 2499.49,994.183 2501.65,994.186 2503.81,994.188 2505.97,994.191 2508.13,994.194 2510.29,994.196 \n  2512.45,994.199 2514.6,994.201 2516.76,994.204 2518.92,994.206 2521.08,994.209 2523.24,994.211 2525.4,994.214 2527.56,994.216 2529.72,994.219 2531.88,994.221 \n  2534.03,994.223 2536.19,994.226 2538.35,994.228 2540.51,994.23 2542.67,994.232 2544.83,994.235 2546.99,994.237 2549.15,994.239 2551.3,994.241 2553.46,994.243 \n  2555.62,994.245 2557.78,994.247 2559.94,994.249 2562.1,994.251 2564.26,994.254 2566.42,994.256 2568.58,994.258 2570.73,994.259 2572.89,994.261 2575.05,994.263 \n  2577.21,994.265 2579.37,994.267 2581.53,994.269 2583.69,994.271 2585.85,994.273 2588,994.275 2590.16,994.276 2592.32,994.278 2594.48,994.28 2596.64,994.282 \n  2598.8,994.283 2600.96,994.285 2603.12,994.287 2605.28,994.288 2607.43,994.29 2609.59,994.292 2611.75,994.293 2613.91,994.295 2616.07,994.297 2618.23,994.298 \n  2620.39,994.3 2622.55,994.301 2624.7,994.303 2626.86,994.304 2629.02,994.306 2631.18,994.307 2633.34,994.309 2635.5,994.31 2637.66,994.312 2639.82,994.313 \n  2641.98,994.315 2644.13,994.316 2646.29,994.317 2648.45,994.319 2650.61,994.32 2652.77,994.322 2654.93,994.323 2657.09,994.324 2659.25,994.326 2661.41,994.327 \n  2663.56,994.328 2665.72,994.329 2667.88,994.331 2670.04,994.332 2672.2,994.333 2674.36,994.334 2676.52,994.336 2678.68,994.337 2680.83,994.338 2682.99,994.339 \n  2685.15,994.34 2687.31,994.341 2689.47,994.343 2691.63,994.344 2693.79,994.345 2695.95,994.346 2698.11,994.347 2700.26,994.348 2702.42,994.349 2704.58,994.35 \n  2706.74,994.351 2708.9,994.352 2711.06,994.353 2713.22,994.354 2715.38,994.355 2717.53,994.356 2719.69,994.357 2721.85,994.358 2724.01,994.359 2726.17,994.36 \n  2728.33,994.361 2730.49,994.362 2732.65,994.363 2734.81,994.364 2736.96,994.365 2739.12,994.366 2741.28,994.367 2743.44,994.368 2745.6,994.369 2747.76,994.369 \n  2749.92,994.37 2752.08,994.371 2754.24,994.372 2756.39,994.373 2758.55,994.374 2760.71,994.375 2762.87,994.375 2765.03,994.376 2767.19,994.377 2769.35,994.378 \n  2771.51,994.379 2773.66,994.379 2775.82,994.38 2777.98,994.381 2780.14,994.382 2782.3,994.382 2784.46,994.383 2786.62,994.384 2788.78,994.385 2790.94,994.385 \n  2793.09,994.386 2795.25,994.387 2797.41,994.387 2799.57,994.388 2801.73,994.389 2803.89,994.389 2806.05,994.39 2808.21,994.391 2810.36,994.391 2812.52,994.392 \n  2814.68,994.393 2816.84,994.393 2819,994.394 2821.16,994.395 2823.32,994.395 2825.48,994.396 2827.64,994.396 2829.79,994.397 2831.95,994.398 2834.11,994.398 \n  2836.27,994.399 2838.43,994.399 2840.59,994.4 2842.75,994.4 2844.91,994.401 2847.06,994.402 2849.22,994.402 2851.38,994.403 2853.54,994.403 2855.7,994.404 \n  2857.86,994.404 2860.02,994.405 2862.18,994.405 2864.34,994.406 2866.49,994.406 2868.65,994.407 2870.81,994.407 2872.97,994.408 2875.13,994.408 2877.29,994.409 \n  2879.45,994.409 2881.61,994.41 2883.77,994.41 2885.92,994.411 2888.08,994.411 2890.24,994.411 2892.4,994.412 2894.56,994.412 2896.72,994.413 2898.88,994.413 \n  2901.04,994.414 2903.19,994.414 2905.35,994.415 2907.51,994.415 2909.67,994.415 2911.83,994.416 2913.99,994.416 2916.15,994.417 2918.31,994.417 2920.47,994.417 \n  2922.62,994.418 2924.78,994.418 2926.94,994.418 2929.1,994.419 2931.26,994.419 2933.42,994.42 2935.58,994.42 2937.74,994.42 2939.89,994.421 2942.05,994.421 \n  2944.21,994.421 2946.37,994.422 2948.53,994.422 2950.69,994.422 2952.85,994.423 2955.01,994.423 2957.17,994.423 2959.32,994.424 2961.48,994.424 2963.64,994.424 \n  2965.8,994.425 2967.96,994.425 2970.12,994.425 2972.28,994.426 2974.44,994.426 2976.6,994.426 2978.75,994.427 2980.91,994.427 2983.07,994.427 2985.23,994.427 \n  2987.39,994.428 2989.55,994.428 2991.71,994.428 2993.87,994.429 2996.02,994.429 2998.18,994.429 3000.34,994.429 3002.5,994.43 3004.66,994.43 3006.82,994.43 \n  3008.98,994.43 3011.14,994.431 3013.3,994.431 3015.45,994.431 3017.61,994.431 3019.77,994.432 3021.93,994.432 3024.09,994.432 3026.25,994.432 3028.41,994.433 \n  3030.57,994.433 3032.72,994.433 3034.88,994.433 3037.04,994.434 3039.2,994.434 3041.36,994.434 3043.52,994.434 3045.68,994.435 3047.84,994.435 3050,994.435 \n  3052.15,994.435 3054.31,994.435 3056.47,994.436 3058.63,994.436 3060.79,994.436 3062.95,994.436 3065.11,994.436 3067.27,994.437 3069.42,994.437 3071.58,994.437 \n  3073.74,994.437 \n  \"/>\n<polyline clip-path=\"url(#clip7802)\" style=\"stroke:#3da44d; stroke-width:4; stroke-opacity:1; fill:none\" points=\"\n  439.964,994.456 442.123,994.441 444.282,994.425 446.441,994.409 448.6,994.392 450.759,994.376 452.917,994.359 455.076,994.342 457.235,994.325 459.394,994.308 \n  461.553,994.291 463.712,994.273 465.87,994.255 468.029,994.237 470.188,994.219 472.347,994.201 474.506,994.182 476.665,994.164 478.823,994.145 480.982,994.125 \n  483.141,994.106 485.3,994.086 487.459,994.067 489.618,994.047 491.777,994.026 493.935,994.006 496.094,993.985 498.253,993.964 500.412,993.943 502.571,993.922 \n  504.73,993.9 506.888,993.878 509.047,993.856 511.206,993.834 513.365,993.811 515.524,993.788 517.683,993.765 519.841,993.742 522,993.718 524.159,993.695 \n  526.318,993.67 528.477,993.646 530.636,993.621 532.794,993.597 534.953,993.571 537.112,993.546 539.271,993.52 541.43,993.494 543.589,993.468 545.747,993.441 \n  547.906,993.414 550.065,993.387 552.224,993.36 554.383,993.332 556.542,993.304 558.7,993.276 560.859,993.247 563.018,993.218 565.177,993.189 567.336,993.159 \n  569.495,993.129 571.653,993.099 573.812,993.068 575.971,993.037 578.13,993.006 580.289,992.974 582.448,992.943 584.606,992.91 586.765,992.878 588.924,992.845 \n  591.083,992.811 593.242,992.778 595.401,992.743 597.559,992.709 599.718,992.674 601.877,992.639 604.036,992.603 606.195,992.567 608.354,992.531 610.512,992.494 \n  612.671,992.457 614.83,992.42 616.989,992.382 619.148,992.343 621.307,992.305 623.465,992.265 625.624,992.226 627.783,992.186 629.942,992.145 632.101,992.104 \n  634.26,992.063 636.418,992.021 638.577,991.979 640.736,991.936 642.895,991.893 645.054,991.85 647.213,991.805 649.371,991.761 651.53,991.716 653.689,991.67 \n  655.848,991.624 658.007,991.578 660.166,991.531 662.324,991.483 664.483,991.435 666.642,991.387 668.801,991.338 670.96,991.288 673.119,991.238 675.277,991.188 \n  677.436,991.136 679.595,991.085 681.754,991.032 683.913,990.98 686.072,990.926 688.23,990.872 690.389,990.818 692.548,990.763 694.707,990.707 696.866,990.651 \n  699.025,990.594 701.183,990.536 703.342,990.478 705.501,990.419 707.66,990.36 709.819,990.3 711.978,990.24 714.136,990.178 716.295,990.116 718.454,990.054 \n  720.613,989.991 722.772,989.927 724.931,989.862 727.089,989.797 729.248,989.731 731.407,989.665 733.566,989.597 735.725,989.529 737.884,989.461 740.042,989.391 \n  742.201,989.321 744.36,989.25 746.519,989.178 748.678,989.106 750.837,989.033 752.995,988.959 755.154,988.884 757.313,988.809 759.472,988.733 761.631,988.656 \n  763.79,988.578 765.948,988.499 768.107,988.42 770.266,988.339 772.425,988.258 774.584,988.176 776.743,988.093 778.901,988.01 781.06,987.925 783.219,987.84 \n  785.378,987.753 787.537,987.666 789.696,987.578 791.854,987.489 794.013,987.399 796.172,987.308 798.331,987.216 800.49,987.124 802.649,987.03 804.808,986.935 \n  806.966,986.84 809.125,986.743 811.284,986.646 813.443,986.547 815.602,986.447 817.761,986.347 819.919,986.245 822.078,986.143 824.237,986.039 826.396,985.934 \n  828.555,985.828 830.714,985.722 832.872,985.614 835.031,985.505 837.19,985.394 839.349,985.283 841.508,985.171 843.667,985.057 845.825,984.943 847.984,984.827 \n  850.143,984.71 852.302,984.592 854.461,984.472 856.62,984.352 858.778,984.23 860.937,984.107 863.096,983.983 865.255,983.858 867.414,983.731 869.573,983.603 \n  871.731,983.474 873.89,983.344 876.049,983.212 878.208,983.079 880.367,982.945 882.526,982.809 884.684,982.672 886.843,982.534 889.002,982.394 891.161,982.253 \n  893.32,982.11 895.479,981.967 897.637,981.821 899.796,981.675 901.955,981.527 904.114,981.377 906.273,981.226 908.432,981.074 910.59,980.92 912.749,980.765 \n  914.908,980.608 917.067,980.45 919.226,980.29 921.385,980.128 923.543,979.965 925.702,979.801 927.861,979.635 930.02,979.467 932.179,979.298 934.338,979.127 \n  936.496,978.955 938.655,978.781 940.814,978.605 942.973,978.427 945.132,978.248 947.291,978.068 949.449,977.885 951.608,977.701 953.767,977.515 955.926,977.328 \n  958.085,977.139 960.244,976.947 962.402,976.755 964.561,976.56 966.72,976.364 968.879,976.166 971.038,975.966 973.197,975.764 975.355,975.56 977.514,975.355 \n  979.673,975.147 981.832,974.938 983.991,974.727 986.15,974.514 988.308,974.299 990.467,974.082 992.626,973.863 994.785,973.642 996.944,973.419 999.103,973.195 \n  1001.26,972.968 1003.42,972.739 1005.58,972.508 1007.74,972.276 1009.9,972.041 1012.06,971.804 1014.21,971.565 1016.37,971.324 1018.53,971.081 1020.69,970.835 \n  1022.85,970.588 1025.01,970.339 1027.17,970.087 1029.33,969.833 1031.49,969.577 1033.64,969.319 1035.8,969.059 1037.96,968.796 1040.12,968.532 1042.28,968.265 \n  1044.44,967.995 1046.6,967.724 1048.76,967.45 1050.91,967.174 1053.07,966.896 1055.23,966.615 1057.39,966.333 1059.55,966.047 1061.71,965.76 1063.87,965.47 \n  1066.03,965.178 1068.19,964.883 1070.34,964.586 1072.5,964.287 1074.66,963.985 1076.82,963.681 1078.98,963.375 1081.14,963.066 1083.3,962.754 1085.46,962.441 \n  1087.61,962.124 1089.77,961.806 1091.93,961.485 1094.09,961.161 1096.25,960.835 1098.41,960.506 1100.57,960.175 1102.73,959.841 1104.89,959.505 1107.04,959.166 \n  1109.2,958.825 1111.36,958.481 1113.52,958.135 1115.68,957.786 1117.84,957.435 1120,957.08 1122.16,956.724 1124.32,956.365 1126.47,956.003 1128.63,955.638 \n  1130.79,955.271 1132.95,954.902 1135.11,954.53 1137.27,954.155 1139.43,953.777 1141.59,953.397 1143.74,953.014 1145.9,952.629 1148.06,952.241 1150.22,951.85 \n  1152.38,951.457 1154.54,951.061 1156.7,950.662 1158.86,950.261 1161.02,949.857 1163.17,949.45 1165.33,949.041 1167.49,948.629 1169.65,948.214 1171.81,947.797 \n  1173.97,947.377 1176.13,946.955 1178.29,946.529 1180.44,946.101 1182.6,945.671 1184.76,945.237 1186.92,944.802 1189.08,944.363 1191.24,943.922 1193.4,943.478 \n  1195.56,943.031 1197.72,942.582 1199.87,942.13 1202.03,941.675 1204.19,941.218 1206.35,940.758 1208.51,940.296 1210.67,939.831 1212.83,939.363 1214.99,938.893 \n  1217.14,938.42 1219.3,937.945 1221.46,937.467 1223.62,936.986 1225.78,936.503 1227.94,936.017 1230.1,935.528 1232.26,935.037 1234.42,934.544 1236.57,934.048 \n  1238.73,933.549 1240.89,933.048 1243.05,932.545 1245.21,932.039 1247.37,931.53 1249.53,931.019 1251.69,930.506 1253.85,929.99 1256,929.471 1258.16,928.951 \n  1260.32,928.428 1262.48,927.902 1264.64,927.374 1266.8,926.844 1268.96,926.311 1271.12,925.776 1273.27,925.239 1275.43,924.7 1277.59,924.158 1279.75,923.614 \n  1281.91,923.068 1284.07,922.519 1286.23,921.968 1288.39,921.416 1290.55,920.861 1292.7,920.303 1294.86,919.744 1297.02,919.183 1299.18,918.619 1301.34,918.054 \n  1303.5,917.486 1305.66,916.917 1307.82,916.345 1309.97,915.772 1312.13,915.196 1314.29,914.619 1316.45,914.039 1318.61,913.458 1320.77,912.875 1322.93,912.291 \n  1325.09,911.704 1327.25,911.116 1329.4,910.525 1331.56,909.934 1333.72,909.34 1335.88,908.745 1338.04,908.148 1340.2,907.55 1342.36,906.95 1344.52,906.348 \n  1346.67,905.745 1348.83,905.141 1350.99,904.535 1353.15,903.927 1355.31,903.318 1357.47,902.708 1359.63,902.097 1361.79,901.484 1363.95,900.87 1366.1,900.254 \n  1368.26,899.638 1370.42,899.02 1372.58,898.401 1374.74,897.781 1376.9,897.16 1379.06,896.538 1381.22,895.914 1383.38,895.29 1385.53,894.665 1387.69,894.039 \n  1389.85,893.412 1392.01,892.784 1394.17,892.156 1396.33,891.526 1398.49,890.896 1400.65,890.265 1402.8,889.634 1404.96,889.001 1407.12,888.368 1409.28,887.735 \n  1411.44,887.101 1413.6,886.467 1415.76,885.832 1417.92,885.196 1420.08,884.561 1422.23,883.925 1424.39,883.288 1426.55,882.651 1428.71,882.014 1430.87,881.377 \n  1433.03,880.74 1435.19,880.102 1437.35,879.464 1439.5,878.827 1441.66,878.189 1443.82,877.551 1445.98,876.913 1448.14,876.276 1450.3,875.638 1452.46,875 \n  1454.62,874.363 1456.78,873.726 1458.93,873.089 1461.09,872.453 1463.25,871.816 1465.41,871.18 1467.57,870.545 1469.73,869.91 1471.89,869.275 1474.05,868.641 \n  1476.21,868.007 1478.36,867.374 1480.52,866.741 1482.68,866.109 1484.84,865.478 1487,864.847 1489.16,864.217 1491.32,863.588 1493.48,862.96 1495.63,862.332 \n  1497.79,861.706 1499.95,861.08 1502.11,860.455 1504.27,859.831 1506.43,859.208 1508.59,858.586 1510.75,857.965 1512.91,857.345 1515.06,856.727 1517.22,856.109 \n  1519.38,855.493 1521.54,854.877 1523.7,854.263 1525.86,853.651 1528.02,853.039 1530.18,852.429 1532.33,851.82 1534.49,851.213 1536.65,850.607 1538.81,850.002 \n  1540.97,849.399 1543.13,848.798 1545.29,848.198 1547.45,847.599 1549.61,847.002 1551.76,846.406 1553.92,845.813 1556.08,845.22 1558.24,844.63 1560.4,844.041 \n  1562.56,843.454 1564.72,842.869 1566.88,842.285 1569.03,841.703 1571.19,841.123 1573.35,840.545 1575.51,839.968 1577.67,839.394 1579.83,838.821 1581.99,838.251 \n  1584.15,837.682 1586.31,837.115 1588.46,836.55 1590.62,835.987 1592.78,835.427 1594.94,834.868 1597.1,834.311 1599.26,833.756 1601.42,833.204 1603.58,832.653 \n  1605.74,832.105 1607.89,831.559 1610.05,831.015 1612.21,830.473 1614.37,829.933 1616.53,829.396 1618.69,828.86 1620.85,828.327 1623.01,827.797 1625.16,827.268 \n  1627.32,826.742 1629.48,826.218 1631.64,825.696 1633.8,825.177 1635.96,824.66 1638.12,824.145 1640.28,823.632 1642.44,823.122 1644.59,822.615 1646.75,822.109 \n  1648.91,821.607 1651.07,821.106 1653.23,820.608 1655.39,820.112 1657.55,819.619 1659.71,819.128 1661.86,818.64 1664.02,818.154 1666.18,817.67 1668.34,817.189 \n  1670.5,816.71 1672.66,816.234 1674.82,815.76 1676.98,815.289 1679.14,814.821 1681.29,814.354 1683.45,813.891 1685.61,813.429 1687.77,812.971 1689.93,812.514 \n  1692.09,812.061 1694.25,811.609 1696.41,811.161 1698.56,810.714 1700.72,810.271 1702.88,809.829 1705.04,809.391 1707.2,808.955 1709.36,808.521 1711.52,808.09 \n  1713.68,807.661 1715.84,807.235 1717.99,806.812 1720.15,806.391 1722.31,805.972 1724.47,805.556 1726.63,805.143 1728.79,804.732 1730.95,804.323 1733.11,803.917 \n  1735.27,803.514 1737.42,803.113 1739.58,802.715 1741.74,802.319 1743.9,801.925 1746.06,801.534 1748.22,801.146 1750.38,800.76 1752.54,800.376 1754.69,799.995 \n  1756.85,799.617 1759.01,799.241 1761.17,798.867 1763.33,798.496 1765.49,798.127 1767.65,797.761 1769.81,797.397 1771.97,797.036 1774.12,796.677 1776.28,796.32 \n  1778.44,795.966 1780.6,795.615 1782.76,795.265 1784.92,794.919 1787.08,794.574 1789.24,794.232 1791.39,793.892 1793.55,793.555 1795.71,793.22 1797.87,792.887 \n  1800.03,792.557 1802.19,792.229 1804.35,791.903 1806.51,791.58 1808.67,791.259 1810.82,790.94 1812.98,790.624 1815.14,790.309 1817.3,789.998 1819.46,789.688 \n  1821.62,789.381 1823.78,789.076 1825.94,788.773 1828.1,788.472 1830.25,788.174 1832.41,787.878 1834.57,787.584 1836.73,787.292 1838.89,787.002 1841.05,786.715 \n  1843.21,786.429 1845.37,786.146 1847.52,785.865 1849.68,785.587 1851.84,785.31 1854,785.035 1856.16,784.763 1858.32,784.492 1860.48,784.224 1862.64,783.958 \n  1864.8,783.694 1866.95,783.431 1869.11,783.171 1871.27,782.913 1873.43,782.657 1875.59,782.403 1877.75,782.151 1879.91,781.901 1882.07,781.653 1884.22,781.407 \n  1886.38,781.163 1888.54,780.92 1890.7,780.68 1892.86,780.442 1895.02,780.205 1897.18,779.971 1899.34,779.738 1901.5,779.507 1903.65,779.278 1905.81,779.051 \n  1907.97,778.826 1910.13,778.603 1912.29,778.381 1914.45,778.161 1916.61,777.943 1918.77,777.727 1920.92,777.513 1923.08,777.3 1925.24,777.089 1927.4,776.88 \n  1929.56,776.673 1931.72,776.467 1933.88,776.263 1936.04,776.061 1938.2,775.86 1940.35,775.661 1942.51,775.464 1944.67,775.268 1946.83,775.074 1948.99,774.882 \n  1951.15,774.691 1953.31,774.502 1955.47,774.315 1957.63,774.129 1959.78,773.945 1961.94,773.762 1964.1,773.581 1966.26,773.401 1968.42,773.223 1970.58,773.046 \n  1972.74,772.871 1974.9,772.698 1977.05,772.526 1979.21,772.355 1981.37,772.186 1983.53,772.018 1985.69,771.852 1987.85,771.687 1990.01,771.524 1992.17,771.362 \n  1994.33,771.202 1996.48,771.043 1998.64,770.885 2000.8,770.728 2002.96,770.574 2005.12,770.42 2007.28,770.268 2009.44,770.117 2011.6,769.967 2013.75,769.819 \n  2015.91,769.672 2018.07,769.526 2020.23,769.382 2022.39,769.239 2024.55,769.097 2026.71,768.956 2028.87,768.817 2031.03,768.679 2033.18,768.542 2035.34,768.407 \n  2037.5,768.272 2039.66,768.139 2041.82,768.007 2043.98,767.876 2046.14,767.746 2048.3,767.618 2050.46,767.491 2052.61,767.364 2054.77,767.239 2056.93,767.115 \n  2059.09,766.993 2061.25,766.871 2063.41,766.75 2065.57,766.631 2067.73,766.512 2069.88,766.395 2072.04,766.279 2074.2,766.163 2076.36,766.049 2078.52,765.936 \n  2080.68,765.824 2082.84,765.713 2085,765.603 2087.16,765.494 2089.31,765.386 2091.47,765.279 2093.63,765.172 2095.79,765.067 2097.95,764.963 2100.11,764.86 \n  2102.27,764.758 2104.43,764.656 2106.58,764.556 2108.74,764.457 2110.9,764.358 2113.06,764.26 2115.22,764.164 2117.38,764.068 2119.54,763.973 2121.7,763.879 \n  2123.86,763.786 2126.01,763.693 2128.17,763.602 2130.33,763.511 2132.49,763.421 2134.65,763.332 2136.81,763.244 2138.97,763.157 2141.13,763.071 2143.28,762.985 \n  2145.44,762.9 2147.6,762.816 2149.76,762.733 2151.92,762.65 2154.08,762.568 2156.24,762.487 2158.4,762.407 2160.56,762.328 2162.71,762.249 2164.87,762.171 \n  2167.03,762.094 2169.19,762.017 2171.35,761.941 2173.51,761.866 2175.67,761.792 2177.83,761.718 2179.99,761.645 2182.14,761.573 2184.3,761.501 2186.46,761.431 \n  2188.62,761.36 2190.78,761.291 2192.94,761.222 2195.1,761.153 2197.26,761.086 2199.41,761.019 2201.57,760.952 2203.73,760.887 2205.89,760.822 2208.05,760.757 \n  2210.21,760.693 2212.37,760.63 2214.53,760.567 2216.69,760.505 2218.84,760.444 2221,760.383 2223.16,760.323 2225.32,760.263 2227.48,760.204 2229.64,760.145 \n  2231.8,760.087 2233.96,760.03 2236.11,759.973 2238.27,759.916 2240.43,759.86 2242.59,759.805 2244.75,759.75 2246.91,759.696 2249.07,759.642 2251.23,759.589 \n  2253.39,759.536 2255.54,759.484 2257.7,759.432 2259.86,759.381 2262.02,759.33 2264.18,759.28 2266.34,759.23 2268.5,759.181 2270.66,759.132 2272.81,759.084 \n  2274.97,759.036 2277.13,758.989 2279.29,758.942 2281.45,758.895 2283.61,758.849 2285.77,758.804 2287.93,758.758 2290.09,758.714 2292.24,758.669 2294.4,758.626 \n  2296.56,758.582 2298.72,758.539 2300.88,758.497 2303.04,758.454 2305.2,758.413 2307.36,758.371 2309.52,758.33 2311.67,758.29 2313.83,758.249 2315.99,758.21 \n  2318.15,758.17 2320.31,758.131 2322.47,758.093 2324.63,758.054 2326.79,758.016 2328.94,757.979 2331.1,757.942 2333.26,757.905 2335.42,757.868 2337.58,757.832 \n  2339.74,757.797 2341.9,757.761 2344.06,757.726 2346.22,757.691 2348.37,757.657 2350.53,757.623 2352.69,757.589 2354.85,757.556 2357.01,757.523 2359.17,757.49 \n  2361.33,757.458 2363.49,757.426 2365.64,757.394 2367.8,757.362 2369.96,757.331 2372.12,757.3 2374.28,757.27 2376.44,757.239 2378.6,757.209 2380.76,757.18 \n  2382.92,757.15 2385.07,757.121 2387.23,757.092 2389.39,757.064 2391.55,757.036 2393.71,757.008 2395.87,756.98 2398.03,756.953 2400.19,756.925 2402.35,756.898 \n  2404.5,756.872 2406.66,756.845 2408.82,756.819 2410.98,756.794 2413.14,756.768 2415.3,756.743 2417.46,756.717 2419.62,756.693 2421.77,756.668 2423.93,756.644 \n  2426.09,756.619 2428.25,756.596 2430.41,756.572 2432.57,756.548 2434.73,756.525 2436.89,756.502 2439.05,756.48 2441.2,756.457 2443.36,756.435 2445.52,756.413 \n  2447.68,756.391 2449.84,756.369 2452,756.348 2454.16,756.326 2456.32,756.305 2458.47,756.285 2460.63,756.264 2462.79,756.244 2464.95,756.223 2467.11,756.203 \n  2469.27,756.184 2471.43,756.164 2473.59,756.145 2475.75,756.125 2477.9,756.106 2480.06,756.087 2482.22,756.069 2484.38,756.05 2486.54,756.032 2488.7,756.014 \n  2490.86,755.996 2493.02,755.978 2495.17,755.961 2497.33,755.943 2499.49,755.926 2501.65,755.909 2503.81,755.892 2505.97,755.875 2508.13,755.859 2510.29,755.842 \n  2512.45,755.826 2514.6,755.81 2516.76,755.794 2518.92,755.778 2521.08,755.763 2523.24,755.747 2525.4,755.732 2527.56,755.717 2529.72,755.702 2531.88,755.687 \n  2534.03,755.672 2536.19,755.657 2538.35,755.643 2540.51,755.629 2542.67,755.615 2544.83,755.601 2546.99,755.587 2549.15,755.573 2551.3,755.559 2553.46,755.546 \n  2555.62,755.533 2557.78,755.519 2559.94,755.506 2562.1,755.494 2564.26,755.481 2566.42,755.468 2568.58,755.455 2570.73,755.443 2572.89,755.431 2575.05,755.419 \n  2577.21,755.407 2579.37,755.395 2581.53,755.383 2583.69,755.371 2585.85,755.359 2588,755.348 2590.16,755.337 2592.32,755.325 2594.48,755.314 2596.64,755.303 \n  2598.8,755.292 2600.96,755.282 2603.12,755.271 2605.28,755.26 2607.43,755.25 2609.59,755.239 2611.75,755.229 2613.91,755.219 2616.07,755.209 2618.23,755.199 \n  2620.39,755.189 2622.55,755.179 2624.7,755.169 2626.86,755.16 2629.02,755.15 2631.18,755.141 2633.34,755.132 2635.5,755.122 2637.66,755.113 2639.82,755.104 \n  2641.98,755.095 2644.13,755.087 2646.29,755.078 2648.45,755.069 2650.61,755.06 2652.77,755.052 2654.93,755.044 2657.09,755.035 2659.25,755.027 2661.41,755.019 \n  2663.56,755.011 2665.72,755.003 2667.88,754.995 2670.04,754.987 2672.2,754.979 2674.36,754.971 2676.52,754.964 2678.68,754.956 2680.83,754.949 2682.99,754.941 \n  2685.15,754.934 2687.31,754.927 2689.47,754.92 2691.63,754.913 2693.79,754.905 2695.95,754.899 2698.11,754.892 2700.26,754.885 2702.42,754.878 2704.58,754.871 \n  2706.74,754.865 2708.9,754.858 2711.06,754.852 2713.22,754.845 2715.38,754.839 2717.53,754.833 2719.69,754.826 2721.85,754.82 2724.01,754.814 2726.17,754.808 \n  2728.33,754.802 2730.49,754.796 2732.65,754.79 2734.81,754.784 2736.96,754.779 2739.12,754.773 2741.28,754.767 2743.44,754.762 2745.6,754.756 2747.76,754.751 \n  2749.92,754.745 2752.08,754.74 2754.24,754.734 2756.39,754.729 2758.55,754.724 2760.71,754.719 2762.87,754.714 2765.03,754.709 2767.19,754.704 2769.35,754.699 \n  2771.51,754.694 2773.66,754.689 2775.82,754.684 2777.98,754.679 2780.14,754.675 2782.3,754.67 2784.46,754.665 2786.62,754.661 2788.78,754.656 2790.94,754.652 \n  2793.09,754.647 2795.25,754.643 2797.41,754.639 2799.57,754.634 2801.73,754.63 2803.89,754.626 2806.05,754.622 2808.21,754.617 2810.36,754.613 2812.52,754.609 \n  2814.68,754.605 2816.84,754.601 2819,754.597 2821.16,754.593 2823.32,754.59 2825.48,754.586 2827.64,754.582 2829.79,754.578 2831.95,754.574 2834.11,754.571 \n  2836.27,754.567 2838.43,754.564 2840.59,754.56 2842.75,754.556 2844.91,754.553 2847.06,754.55 2849.22,754.546 2851.38,754.543 2853.54,754.539 2855.7,754.536 \n  2857.86,754.533 2860.02,754.53 2862.18,754.526 2864.34,754.523 2866.49,754.52 2868.65,754.517 2870.81,754.514 2872.97,754.511 2875.13,754.508 2877.29,754.505 \n  2879.45,754.502 2881.61,754.499 2883.77,754.496 2885.92,754.493 2888.08,754.49 2890.24,754.487 2892.4,754.484 2894.56,754.482 2896.72,754.479 2898.88,754.476 \n  2901.04,754.473 2903.19,754.471 2905.35,754.468 2907.51,754.466 2909.67,754.463 2911.83,754.46 2913.99,754.458 2916.15,754.455 2918.31,754.453 2920.47,754.45 \n  2922.62,754.448 2924.78,754.446 2926.94,754.443 2929.1,754.441 2931.26,754.438 2933.42,754.436 2935.58,754.434 2937.74,754.432 2939.89,754.429 2942.05,754.427 \n  2944.21,754.425 2946.37,754.423 2948.53,754.421 2950.69,754.418 2952.85,754.416 2955.01,754.414 2957.17,754.412 2959.32,754.41 2961.48,754.408 2963.64,754.406 \n  2965.8,754.404 2967.96,754.402 2970.12,754.4 2972.28,754.398 2974.44,754.396 2976.6,754.394 2978.75,754.393 2980.91,754.391 2983.07,754.389 2985.23,754.387 \n  2987.39,754.385 2989.55,754.383 2991.71,754.382 2993.87,754.38 2996.02,754.378 2998.18,754.376 3000.34,754.375 3002.5,754.373 3004.66,754.371 3006.82,754.37 \n  3008.98,754.368 3011.14,754.367 3013.3,754.365 3015.45,754.363 3017.61,754.362 3019.77,754.36 3021.93,754.359 3024.09,754.357 3026.25,754.356 3028.41,754.354 \n  3030.57,754.353 3032.72,754.351 3034.88,754.35 3037.04,754.348 3039.2,754.347 3041.36,754.346 3043.52,754.344 3045.68,754.343 3047.84,754.341 3050,754.34 \n  3052.15,754.339 3054.31,754.337 3056.47,754.336 3058.63,754.335 3060.79,754.334 3062.95,754.332 3065.11,754.331 3067.27,754.33 3069.42,754.329 3071.58,754.327 \n  3073.74,754.326 \n  \"/>\n<path clip-path=\"url(#clip7800)\" d=\"\nM456.951 502.451 L1049.82 502.451 L1049.82 260.531 L456.951 260.531  Z\n  \" fill=\"#ffffff\" fill-rule=\"evenodd\" fill-opacity=\"1\"/>\n<polyline clip-path=\"url(#clip7800)\" style=\"stroke:#000000; stroke-width:4; stroke-opacity:1; fill:none\" points=\"\n  456.951,502.451 1049.82,502.451 1049.82,260.531 456.951,260.531 456.951,502.451 \n  \"/>\n<polyline clip-path=\"url(#clip7800)\" style=\"stroke:#009af9; stroke-width:4; stroke-opacity:1; fill:none\" points=\"\n  488.951,321.011 680.951,321.011 \n  \"/>\n<g clip-path=\"url(#clip7800)\">\n<text style=\"fill:#000000; fill-opacity:1; font-family:Arial,Helvetica Neue,Helvetica,sans-serif; font-size:48px; text-anchor:start;\" transform=\"rotate(0, 712.951, 338.511)\" x=\"712.951\" y=\"338.511\">Susceptibles</text>\n</g>\n<polyline clip-path=\"url(#clip7800)\" style=\"stroke:#e26f46; stroke-width:4; stroke-opacity:1; fill:none\" points=\"\n  488.951,381.491 680.951,381.491 \n  \"/>\n<g clip-path=\"url(#clip7800)\">\n<text style=\"fill:#000000; fill-opacity:1; font-family:Arial,Helvetica Neue,Helvetica,sans-serif; font-size:48px; text-anchor:start;\" transform=\"rotate(0, 712.951, 398.991)\" x=\"712.951\" y=\"398.991\">Infecteds</text>\n</g>\n<polyline clip-path=\"url(#clip7800)\" style=\"stroke:#3da44d; stroke-width:4; stroke-opacity:1; fill:none\" points=\"\n  488.951,441.971 680.951,441.971 \n  \"/>\n<g clip-path=\"url(#clip7800)\">\n<text style=\"fill:#000000; fill-opacity:1; font-family:Arial,Helvetica Neue,Helvetica,sans-serif; font-size:48px; text-anchor:start;\" transform=\"rotate(0, 712.951, 459.471)\" x=\"712.951\" y=\"459.471\">Removeds</text>\n</g>\n</svg>\n"
          },
          "metadata": {}
        }
      ],
      "execution_count": 263,
      "metadata": {
        "collapsed": true,
        "jupyter": {
          "source_hidden": false,
          "outputs_hidden": false
        },
        "nteract": {
          "transient": {
            "deleting": false
          }
        },
        "execution": {
          "iopub.status.busy": "2020-07-31T02:10:34.086Z",
          "iopub.execute_input": "2020-07-31T02:10:34.122Z",
          "iopub.status.idle": "2020-07-31T02:10:34.199Z"
        }
      }
    },
    {
      "cell_type": "markdown",
      "source": [
        "## 7.4 La predicción de umbral de nuestro modelo SIR\n",
        "Recordemos las tres ecuaciones de nuestro modelo SIR:\n",
        "\n",
        "1 ... $ S(t_{i+1}) = S(t_i) - \\lambda S(t_i)I(t_i)\\,dt$\n",
        "\n",
        "2 ... $I(t_{i+1}) = I(t_i) + \\lambda S(t_i)I(t_i)\\,dt - \\gamma I(t_i)\\,dt$\n",
        "\n",
        "3 ... $R(t_{i+1}) = R(t_i) + \\gamma I(t_i)\\,dt$\n",
        "\n",
        "#### La duración de la infecciosidad implicada por nuestro modelo.\n",
        "\n",
        "Notamos que la tasa de pérdida de infectados viene dada por $ \\gamma I $. Esto significa que cada día, la fracción de personas infectadas que se extirpan es $ \\gamma $.\n",
        "\n",
        "Por ejemplo, considere $ \\gamma = 1/10 $. Luego, todos los días se recupera una décima parte de los enfermos. Si suponemos que cada persona está enferma durante 10 días, y tantas personas se enferman como se están recuperando, entonces una décima parte de todas las personas enfermas se recuperan todos los días.\n",
        "\n",
        "En otras palabras, tiene sentido considerar la duración de la enfermedad de una persona como $ 1 / \\gamma $. Recuerde que la duración de EVD es de aproximadamente tres semanas. Esto significa que podemos estimar que $ 1 / \\gamma \\approx 21 $. Por lo tanto, estableceremos $ \\gamma = 0.05 $ como una estimación razonable.\n",
        "\n",
        "Es grosero pensar que son igualmente infecciosos todos los días de estas tres semanas, pero eso es lo que estamos haciendo. Asumimos que la única diferencia entre las personas es si son susceptibles, infectadas o eliminadas.\n",
        "\n",
        "Del mismo modo, es grosero pensar que todas las personas infectadas están enfermas de la misma manera y por la misma duración, pero nuevamente esto es lo que hacemos. De hecho, sin muchos más datos (especialmente datos sobre la duración de la enfermedad) y un modelo considerablemente más complicado, esto es todo lo que podemos hacer.\n"
      ],
      "metadata": {
        "nteract": {
          "transient": {
            "deleting": false
          }
        }
      }
    },
    {
      "cell_type": "markdown",
      "source": [
        "## 7.5 Datos de casos totales: observación vs modelo\n",
        "\n",
        "Cuando uno ajusta datos a un modelo, lo primero es asegurarse de que los números del modelo y los números de observación realmente representen lo mismo.\n",
        "\n",
        "En este caso, los datos reportados son de dos tipos: casos totales hasta la fecha y muertes totales. Nuestro modelo no incluye muertes, por lo que no podemos usar esos datos. Además, en nuestro modelo no existe un registro explícito del número de casos. Por lo tanto, primero tenemos que averiguar cómo hacer que nuestro modelo nos diga cuál es el número total de casos.\n",
        "\n",
        "Afortunadamente, eso no es difícil. El total de casos hasta la fecha es la cantidad de personas que alguna vez han sido infectadas. Pero cada una de esas personas se encuentra actualmente en el grupo infectado o se ha mudado al grupo eliminado. Entonces, el número total de casos en el momento $ t $ es $ I (t) + R (t) $. Usaremos $ C (t) $ para denotar el número modelado de casos, y $ W (t) $ para el número reportado de casos.\n",
        "\n",
        "Vuelva a ejecutar el modelo tal como lo dejamos al final de la conferencia anterior, con las estimaciones a partir de ahí."
      ],
      "metadata": {
        "nteract": {
          "transient": {
            "deleting": false
          }
        }
      }
    },
    {
      "cell_type": "code",
      "source": [
        "# Ejecutando nuestro modelos en los datos procesados\n",
        "tvalsfromdata      = EVDdata[:,1]  # los valores del día epidémico\n",
        "totalcasesfromdata = EVDdata[:, 2]    # extraeremos países individuales cuando los necesitemos\n",
        "\n",
        "# Aquí está la función que impulsa los cambios que ocurren cada paso\n",
        "function updateSIR(popnvector)       # exactamente la misma función que antes\n",
        "    susceptibles = popnvector[1];\n",
        "    infecteds    = popnvector[2]; \n",
        "    removeds     = popnvector[3];\n",
        "    newS = susceptibles - lambda*susceptibles*infecteds*dt\n",
        "    newI = infecteds + lambda*susceptibles*infecteds*dt - gam*infecteds*dt  \n",
        "    newR = removeds + gam*infecteds*dt\n",
        "    return [newS newI newR] \n",
        "end"
      ],
      "outputs": [
        {
          "output_type": "execute_result",
          "execution_count": 214,
          "data": {
            "text/plain": "updateSIR (generic function with 1 method)"
          },
          "metadata": {}
        }
      ],
      "execution_count": 214,
      "metadata": {
        "collapsed": true,
        "jupyter": {
          "source_hidden": false,
          "outputs_hidden": false
        },
        "nteract": {
          "transient": {
            "deleting": false
          }
        },
        "execution": {
          "iopub.status.busy": "2020-07-31T00:47:49.686Z",
          "iopub.execute_input": "2020-07-31T00:47:49.720Z",
          "iopub.status.idle": "2020-07-31T00:47:49.782Z"
        }
      }
    },
    {
      "cell_type": "code",
      "source": [
        "# establecer valores de parámetros\n",
        "lambda = 1.47*10^-6.   # parámetro de tasa de infección (se supone que las tasas son por día)\n",
        "gam = 1/8.      # parámetro de tasa de recuperación (ídem)\n",
        "dt = 0.5         # período de tiempo paso en días\n",
        "tfinal = 610.;    # respetando los valores de la comunidad: minúsculas solo en los nombres"
      ],
      "outputs": [],
      "execution_count": 217,
      "metadata": {
        "collapsed": true,
        "jupyter": {
          "source_hidden": false,
          "outputs_hidden": false
        },
        "nteract": {
          "transient": {
            "deleting": false
          }
        },
        "execution": {
          "iopub.status.busy": "2020-07-31T00:48:55.728Z",
          "iopub.execute_input": "2020-07-31T00:48:55.760Z",
          "iopub.status.idle": "2020-07-31T00:48:55.815Z"
        }
      }
    },
    {
      "cell_type": "code",
      "source": [
        "# establecer valores iniciales (originalmente s0, lambda, gam, i = 22.*10^6., 2.3*10^-8., 0.05, 4. )\n",
        "s0 = 10. ^ 5.     # susceptibles iniciales, tenga en cuenta que usamos el tipo Float64 desde el principio\n",
        "i0 = 30.          # Infecciones iniciales; establezca esto en 1. para imitar una epidemia con un caso índice\n",
        "r0 = 0.          # no siempre es el caso, por supuesto"
      ],
      "outputs": [
        {
          "output_type": "execute_result",
          "execution_count": 219,
          "data": {
            "text/plain": "0.0"
          },
          "metadata": {}
        }
      ],
      "execution_count": 219,
      "metadata": {
        "collapsed": true,
        "jupyter": {
          "source_hidden": false,
          "outputs_hidden": false
        },
        "nteract": {
          "transient": {
            "deleting": false
          }
        },
        "execution": {
          "iopub.status.busy": "2020-07-31T00:49:24.250Z",
          "iopub.execute_input": "2020-07-31T00:49:24.282Z",
          "iopub.status.idle": "2020-07-31T00:49:24.350Z"
        }
      }
    },
    {
      "cell_type": "code",
      "source": [
        "# inicializar\n",
        "nsteps = round(Int64, tfinal/dt)   \n",
        "resultvals = Array{Float64}(undef, nsteps+1, 3)\n",
        "timevec = Array{Float64}(undef,nsteps+1)       \n",
        "resultvals[1,:] = [s0, i0, r0] \n",
        "timevec[1] = 0.  "
      ],
      "outputs": [
        {
          "output_type": "execute_result",
          "execution_count": 221,
          "data": {
            "text/plain": "0.0"
          },
          "metadata": {}
        }
      ],
      "execution_count": 221,
      "metadata": {
        "collapsed": true,
        "jupyter": {
          "source_hidden": false,
          "outputs_hidden": false
        },
        "nteract": {
          "transient": {
            "deleting": false
          }
        },
        "execution": {
          "iopub.status.busy": "2020-07-31T00:50:31.059Z",
          "iopub.execute_input": "2020-07-31T00:50:31.088Z",
          "iopub.status.idle": "2020-07-31T00:50:31.155Z"
        }
      }
    },
    {
      "cell_type": "code",
      "source": [
        "for step  = 1:nsteps\n",
        "    resultvals[step+1, :] = updateSIR(resultvals[step, :])  \n",
        "    timevec[step+1] = timevec[step] + dt\n",
        "end"
      ],
      "outputs": [],
      "execution_count": 222,
      "metadata": {
        "collapsed": true,
        "jupyter": {
          "source_hidden": false,
          "outputs_hidden": false
        },
        "nteract": {
          "transient": {
            "deleting": false
          }
        },
        "execution": {
          "iopub.status.busy": "2020-07-31T00:50:42.329Z",
          "iopub.execute_input": "2020-07-31T00:50:42.365Z",
          "iopub.status.idle": "2020-07-31T00:50:42.419Z"
        }
      }
    },
    {
      "cell_type": "code",
      "source": [
        "# Realizando nuestra gráfica\n",
        "ivals = resultvals[:, 2]\n",
        "rvals = resultvals[:, 3]\n",
        "cvals = ivals + rvals    \n",
        "\n",
        "plot(timevec, cvals,\n",
        "label = \"Model values\",\n",
        "xlabel = \"Epidemic day\",\n",
        "ylabel = \"Number of cases to date\",\n",
        "title = \"Model versus data\")\n",
        "\n",
        "plot!(tvalsfromdata, totalcasesfromdata,\n",
        "#legend = :right,\n",
        "line = :scatter,\n",
        "label = \"Reported number of cases\",\n",
        "size = (800,300)\n",
        ")"
      ],
      "outputs": [
        {
          "output_type": "execute_result",
          "execution_count": 225,
          "data": {
            "image/svg+xml": "<?xml version=\"1.0\" encoding=\"utf-8\"?>\n<svg xmlns=\"http://www.w3.org/2000/svg\" xmlns:xlink=\"http://www.w3.org/1999/xlink\" width=\"800\" height=\"300\" viewBox=\"0 0 3200 1200\">\n<defs>\n  <clipPath id=\"clip3000\">\n    <rect x=\"0\" y=\"0\" width=\"3200\" height=\"1200\"/>\n  </clipPath>\n</defs>\n<path clip-path=\"url(#clip3000)\" d=\"\nM0 1200 L3200 1200 L3200 0 L0 0  Z\n  \" fill=\"#ffffff\" fill-rule=\"evenodd\" fill-opacity=\"1\"/>\n<defs>\n  <clipPath id=\"clip3001\">\n    <rect x=\"640\" y=\"0\" width=\"2241\" height=\"1200\"/>\n  </clipPath>\n</defs>\n<path clip-path=\"url(#clip3000)\" d=\"\nM347.57 1019.66 L3152.76 1019.66 L3152.76 129.011 L347.57 129.011  Z\n  \" fill=\"#ffffff\" fill-rule=\"evenodd\" fill-opacity=\"1\"/>\n<defs>\n  <clipPath id=\"clip3002\">\n    <rect x=\"347\" y=\"129\" width=\"2806\" height=\"892\"/>\n  </clipPath>\n</defs>\n<polyline clip-path=\"url(#clip3002)\" style=\"stroke:#000000; stroke-width:2; stroke-opacity:0.1; fill:none\" points=\"\n  426.962,1019.66 426.962,129.011 \n  \"/>\n<polyline clip-path=\"url(#clip3002)\" style=\"stroke:#000000; stroke-width:2; stroke-opacity:0.1; fill:none\" points=\"\n  858.675,1019.66 858.675,129.011 \n  \"/>\n<polyline clip-path=\"url(#clip3002)\" style=\"stroke:#000000; stroke-width:2; stroke-opacity:0.1; fill:none\" points=\"\n  1290.39,1019.66 1290.39,129.011 \n  \"/>\n<polyline clip-path=\"url(#clip3002)\" style=\"stroke:#000000; stroke-width:2; stroke-opacity:0.1; fill:none\" points=\"\n  1722.1,1019.66 1722.1,129.011 \n  \"/>\n<polyline clip-path=\"url(#clip3002)\" style=\"stroke:#000000; stroke-width:2; stroke-opacity:0.1; fill:none\" points=\"\n  2153.81,1019.66 2153.81,129.011 \n  \"/>\n<polyline clip-path=\"url(#clip3002)\" style=\"stroke:#000000; stroke-width:2; stroke-opacity:0.1; fill:none\" points=\"\n  2585.53,1019.66 2585.53,129.011 \n  \"/>\n<polyline clip-path=\"url(#clip3002)\" style=\"stroke:#000000; stroke-width:2; stroke-opacity:0.1; fill:none\" points=\"\n  3017.24,1019.66 3017.24,129.011 \n  \"/>\n<polyline clip-path=\"url(#clip3002)\" style=\"stroke:#000000; stroke-width:2; stroke-opacity:0.1; fill:none\" points=\"\n  347.57,995.337 3152.76,995.337 \n  \"/>\n<polyline clip-path=\"url(#clip3002)\" style=\"stroke:#000000; stroke-width:2; stroke-opacity:0.1; fill:none\" points=\"\n  347.57,848.479 3152.76,848.479 \n  \"/>\n<polyline clip-path=\"url(#clip3002)\" style=\"stroke:#000000; stroke-width:2; stroke-opacity:0.1; fill:none\" points=\"\n  347.57,701.62 3152.76,701.62 \n  \"/>\n<polyline clip-path=\"url(#clip3002)\" style=\"stroke:#000000; stroke-width:2; stroke-opacity:0.1; fill:none\" points=\"\n  347.57,554.761 3152.76,554.761 \n  \"/>\n<polyline clip-path=\"url(#clip3002)\" style=\"stroke:#000000; stroke-width:2; stroke-opacity:0.1; fill:none\" points=\"\n  347.57,407.902 3152.76,407.902 \n  \"/>\n<polyline clip-path=\"url(#clip3002)\" style=\"stroke:#000000; stroke-width:2; stroke-opacity:0.1; fill:none\" points=\"\n  347.57,261.043 3152.76,261.043 \n  \"/>\n<polyline clip-path=\"url(#clip3000)\" style=\"stroke:#000000; stroke-width:4; stroke-opacity:1; fill:none\" points=\"\n  347.57,1019.66 3152.76,1019.66 \n  \"/>\n<polyline clip-path=\"url(#clip3000)\" style=\"stroke:#000000; stroke-width:4; stroke-opacity:1; fill:none\" points=\"\n  347.57,1019.66 347.57,129.011 \n  \"/>\n<polyline clip-path=\"url(#clip3000)\" style=\"stroke:#000000; stroke-width:4; stroke-opacity:1; fill:none\" points=\"\n  426.962,1019.66 426.962,1008.98 \n  \"/>\n<polyline clip-path=\"url(#clip3000)\" style=\"stroke:#000000; stroke-width:4; stroke-opacity:1; fill:none\" points=\"\n  858.675,1019.66 858.675,1008.98 \n  \"/>\n<polyline clip-path=\"url(#clip3000)\" style=\"stroke:#000000; stroke-width:4; stroke-opacity:1; fill:none\" points=\"\n  1290.39,1019.66 1290.39,1008.98 \n  \"/>\n<polyline clip-path=\"url(#clip3000)\" style=\"stroke:#000000; stroke-width:4; stroke-opacity:1; fill:none\" points=\"\n  1722.1,1019.66 1722.1,1008.98 \n  \"/>\n<polyline clip-path=\"url(#clip3000)\" style=\"stroke:#000000; stroke-width:4; stroke-opacity:1; fill:none\" points=\"\n  2153.81,1019.66 2153.81,1008.98 \n  \"/>\n<polyline clip-path=\"url(#clip3000)\" style=\"stroke:#000000; stroke-width:4; stroke-opacity:1; fill:none\" points=\"\n  2585.53,1019.66 2585.53,1008.98 \n  \"/>\n<polyline clip-path=\"url(#clip3000)\" style=\"stroke:#000000; stroke-width:4; stroke-opacity:1; fill:none\" points=\"\n  3017.24,1019.66 3017.24,1008.98 \n  \"/>\n<polyline clip-path=\"url(#clip3000)\" style=\"stroke:#000000; stroke-width:4; stroke-opacity:1; fill:none\" points=\"\n  347.57,995.337 381.232,995.337 \n  \"/>\n<polyline clip-path=\"url(#clip3000)\" style=\"stroke:#000000; stroke-width:4; stroke-opacity:1; fill:none\" points=\"\n  347.57,848.479 381.232,848.479 \n  \"/>\n<polyline clip-path=\"url(#clip3000)\" style=\"stroke:#000000; stroke-width:4; stroke-opacity:1; fill:none\" points=\"\n  347.57,701.62 381.232,701.62 \n  \"/>\n<polyline clip-path=\"url(#clip3000)\" style=\"stroke:#000000; stroke-width:4; stroke-opacity:1; fill:none\" points=\"\n  347.57,554.761 381.232,554.761 \n  \"/>\n<polyline clip-path=\"url(#clip3000)\" style=\"stroke:#000000; stroke-width:4; stroke-opacity:1; fill:none\" points=\"\n  347.57,407.902 381.232,407.902 \n  \"/>\n<polyline clip-path=\"url(#clip3000)\" style=\"stroke:#000000; stroke-width:4; stroke-opacity:1; fill:none\" points=\"\n  347.57,261.043 381.232,261.043 \n  \"/>\n<g clip-path=\"url(#clip3000)\">\n<text style=\"fill:#000000; fill-opacity:1; font-family:Arial,Helvetica Neue,Helvetica,sans-serif; font-size:48px; text-anchor:middle;\" transform=\"rotate(0, 426.962, 1077.66)\" x=\"426.962\" y=\"1077.66\">0</text>\n</g>\n<g clip-path=\"url(#clip3000)\">\n<text style=\"fill:#000000; fill-opacity:1; font-family:Arial,Helvetica Neue,Helvetica,sans-serif; font-size:48px; text-anchor:middle;\" transform=\"rotate(0, 858.675, 1077.66)\" x=\"858.675\" y=\"1077.66\">100</text>\n</g>\n<g clip-path=\"url(#clip3000)\">\n<text style=\"fill:#000000; fill-opacity:1; font-family:Arial,Helvetica Neue,Helvetica,sans-serif; font-size:48px; text-anchor:middle;\" transform=\"rotate(0, 1290.39, 1077.66)\" x=\"1290.39\" y=\"1077.66\">200</text>\n</g>\n<g clip-path=\"url(#clip3000)\">\n<text style=\"fill:#000000; fill-opacity:1; font-family:Arial,Helvetica Neue,Helvetica,sans-serif; font-size:48px; text-anchor:middle;\" transform=\"rotate(0, 1722.1, 1077.66)\" x=\"1722.1\" y=\"1077.66\">300</text>\n</g>\n<g clip-path=\"url(#clip3000)\">\n<text style=\"fill:#000000; fill-opacity:1; font-family:Arial,Helvetica Neue,Helvetica,sans-serif; font-size:48px; text-anchor:middle;\" transform=\"rotate(0, 2153.81, 1077.66)\" x=\"2153.81\" y=\"1077.66\">400</text>\n</g>\n<g clip-path=\"url(#clip3000)\">\n<text style=\"fill:#000000; fill-opacity:1; font-family:Arial,Helvetica Neue,Helvetica,sans-serif; font-size:48px; text-anchor:middle;\" transform=\"rotate(0, 2585.53, 1077.66)\" x=\"2585.53\" y=\"1077.66\">500</text>\n</g>\n<g clip-path=\"url(#clip3000)\">\n<text style=\"fill:#000000; fill-opacity:1; font-family:Arial,Helvetica Neue,Helvetica,sans-serif; font-size:48px; text-anchor:middle;\" transform=\"rotate(0, 3017.24, 1077.66)\" x=\"3017.24\" y=\"1077.66\">600</text>\n</g>\n<g clip-path=\"url(#clip3000)\">\n<text style=\"fill:#000000; fill-opacity:1; font-family:Arial,Helvetica Neue,Helvetica,sans-serif; font-size:48px; text-anchor:end;\" transform=\"rotate(0, 315.57, 1012.84)\" x=\"315.57\" y=\"1012.84\">0</text>\n</g>\n<g clip-path=\"url(#clip3000)\">\n<text style=\"fill:#000000; fill-opacity:1; font-family:Arial,Helvetica Neue,Helvetica,sans-serif; font-size:48px; text-anchor:start;\" transform=\"rotate(0, 145.285, 872.206)\" x=\"145.285\" y=\"872.206\">5.0×10</text>\n</g>\n<g clip-path=\"url(#clip3000)\">\n<text style=\"fill:#000000; fill-opacity:1; font-family:Arial,Helvetica Neue,Helvetica,sans-serif; font-size:38px; text-anchor:start;\" transform=\"rotate(0, 293.826, 844.796)\" x=\"293.826\" y=\"844.796\">3</text>\n</g>\n<g clip-path=\"url(#clip3000)\">\n<text style=\"fill:#000000; fill-opacity:1; font-family:Arial,Helvetica Neue,Helvetica,sans-serif; font-size:48px; text-anchor:start;\" transform=\"rotate(0, 145.285, 725.347)\" x=\"145.285\" y=\"725.347\">1.0×10</text>\n</g>\n<g clip-path=\"url(#clip3000)\">\n<text style=\"fill:#000000; fill-opacity:1; font-family:Arial,Helvetica Neue,Helvetica,sans-serif; font-size:38px; text-anchor:start;\" transform=\"rotate(0, 293.826, 697.937)\" x=\"293.826\" y=\"697.937\">4</text>\n</g>\n<g clip-path=\"url(#clip3000)\">\n<text style=\"fill:#000000; fill-opacity:1; font-family:Arial,Helvetica Neue,Helvetica,sans-serif; font-size:48px; text-anchor:start;\" transform=\"rotate(0, 145.285, 578.488)\" x=\"145.285\" y=\"578.488\">1.5×10</text>\n</g>\n<g clip-path=\"url(#clip3000)\">\n<text style=\"fill:#000000; fill-opacity:1; font-family:Arial,Helvetica Neue,Helvetica,sans-serif; font-size:38px; text-anchor:start;\" transform=\"rotate(0, 293.826, 551.078)\" x=\"293.826\" y=\"551.078\">4</text>\n</g>\n<g clip-path=\"url(#clip3000)\">\n<text style=\"fill:#000000; fill-opacity:1; font-family:Arial,Helvetica Neue,Helvetica,sans-serif; font-size:48px; text-anchor:start;\" transform=\"rotate(0, 145.285, 431.629)\" x=\"145.285\" y=\"431.629\">2.0×10</text>\n</g>\n<g clip-path=\"url(#clip3000)\">\n<text style=\"fill:#000000; fill-opacity:1; font-family:Arial,Helvetica Neue,Helvetica,sans-serif; font-size:38px; text-anchor:start;\" transform=\"rotate(0, 293.826, 404.219)\" x=\"293.826\" y=\"404.219\">4</text>\n</g>\n<g clip-path=\"url(#clip3000)\">\n<text style=\"fill:#000000; fill-opacity:1; font-family:Arial,Helvetica Neue,Helvetica,sans-serif; font-size:48px; text-anchor:start;\" transform=\"rotate(0, 145.285, 284.77)\" x=\"145.285\" y=\"284.77\">2.5×10</text>\n</g>\n<g clip-path=\"url(#clip3000)\">\n<text style=\"fill:#000000; fill-opacity:1; font-family:Arial,Helvetica Neue,Helvetica,sans-serif; font-size:38px; text-anchor:start;\" transform=\"rotate(0, 293.826, 257.36)\" x=\"293.826\" y=\"257.36\">4</text>\n</g>\n<g clip-path=\"url(#clip3000)\">\n<text style=\"fill:#000000; fill-opacity:1; font-family:Arial,Helvetica Neue,Helvetica,sans-serif; font-size:82px; text-anchor:middle;\" transform=\"rotate(0, 1750.16, 72)\" x=\"1750.16\" y=\"72\">Model versus data</text>\n</g>\n<g clip-path=\"url(#clip3000)\">\n<text style=\"fill:#000000; fill-opacity:1; font-family:Arial,Helvetica Neue,Helvetica,sans-serif; font-size:66px; text-anchor:middle;\" transform=\"rotate(0, 1750.16, 1161.53)\" x=\"1750.16\" y=\"1161.53\">Epidemic day</text>\n</g>\n<g clip-path=\"url(#clip3000)\">\n<text style=\"fill:#000000; fill-opacity:1; font-family:Arial,Helvetica Neue,Helvetica,sans-serif; font-size:66px; text-anchor:middle;\" transform=\"rotate(-90, 71.0496, 574.337)\" x=\"71.0496\" y=\"574.337\">Number of cases to date</text>\n</g>\n<polyline clip-path=\"url(#clip3002)\" style=\"stroke:#009af9; stroke-width:4; stroke-opacity:1; fill:none\" points=\"\n  426.962,994.456 429.121,994.392 431.279,994.326 433.438,994.26 435.596,994.193 437.755,994.125 439.913,994.057 442.072,993.988 444.231,993.918 446.389,993.847 \n  448.548,993.776 450.706,993.703 452.865,993.63 455.023,993.557 457.182,993.482 459.341,993.407 461.499,993.33 463.658,993.253 465.816,993.175 467.975,993.096 \n  470.133,993.017 472.292,992.936 474.45,992.855 476.609,992.772 478.768,992.689 480.926,992.605 483.085,992.52 485.243,992.434 487.402,992.347 489.56,992.259 \n  491.719,992.171 493.878,992.081 496.036,991.99 498.195,991.898 500.353,991.806 502.512,991.712 504.67,991.617 506.829,991.521 508.988,991.424 511.146,991.326 \n  513.305,991.227 515.463,991.127 517.622,991.026 519.78,990.924 521.939,990.821 524.097,990.716 526.256,990.61 528.415,990.504 530.573,990.396 532.732,990.287 \n  534.89,990.176 537.049,990.065 539.207,989.952 541.366,989.838 543.525,989.723 545.683,989.607 547.842,989.489 550,989.37 552.159,989.25 554.317,989.128 \n  556.476,989.005 558.635,988.881 560.793,988.756 562.952,988.629 565.11,988.501 567.269,988.371 569.427,988.24 571.586,988.107 573.745,987.973 575.903,987.838 \n  578.062,987.701 580.22,987.563 582.379,987.423 584.537,987.282 586.696,987.139 588.854,986.995 591.013,986.849 593.172,986.702 595.33,986.553 597.489,986.402 \n  599.647,986.25 601.806,986.096 603.964,985.94 606.123,985.783 608.282,985.624 610.44,985.463 612.599,985.301 614.757,985.137 616.916,984.971 619.074,984.804 \n  621.233,984.634 623.392,984.463 625.55,984.29 627.709,984.115 629.867,983.938 632.026,983.76 634.184,983.579 636.343,983.397 638.501,983.212 640.66,983.026 \n  642.819,982.837 644.977,982.647 647.136,982.455 649.294,982.26 651.453,982.064 653.611,981.865 655.77,981.664 657.929,981.461 660.087,981.256 662.246,981.049 \n  664.404,980.84 666.563,980.628 668.721,980.414 670.88,980.198 673.039,979.98 675.197,979.759 677.356,979.536 679.514,979.311 681.673,979.083 683.831,978.853 \n  685.99,978.62 688.148,978.385 690.307,978.148 692.466,977.908 694.624,977.665 696.783,977.42 698.941,977.172 701.1,976.922 703.258,976.669 705.417,976.414 \n  707.576,976.156 709.734,975.895 711.893,975.631 714.051,975.365 716.21,975.095 718.368,974.824 720.527,974.549 722.686,974.271 724.844,973.991 727.003,973.707 \n  729.161,973.421 731.32,973.131 733.478,972.839 735.637,972.544 737.796,972.245 739.954,971.943 742.113,971.639 744.271,971.331 746.43,971.02 748.588,970.706 \n  750.747,970.388 752.905,970.068 755.064,969.744 757.223,969.416 759.381,969.086 761.54,968.751 763.698,968.414 765.857,968.073 768.015,967.728 770.174,967.38 \n  772.333,967.029 774.491,966.674 776.65,966.315 778.808,965.953 780.967,965.587 783.125,965.217 785.284,964.843 787.443,964.466 789.601,964.085 791.76,963.7 \n  793.918,963.311 796.077,962.918 798.235,962.521 800.394,962.12 802.552,961.716 804.711,961.307 806.87,960.894 809.028,960.476 811.187,960.055 813.345,959.63 \n  815.504,959.2 817.662,958.766 819.821,958.327 821.98,957.885 824.138,957.437 826.297,956.986 828.455,956.53 830.614,956.069 832.772,955.604 834.931,955.134 \n  837.09,954.66 839.248,954.181 841.407,953.697 843.565,953.208 845.724,952.715 847.882,952.217 850.041,951.714 852.2,951.206 854.358,950.693 856.517,950.175 \n  858.675,949.652 860.834,949.124 862.992,948.591 865.151,948.053 867.309,947.509 869.468,946.961 871.627,946.407 873.785,945.847 875.944,945.283 878.102,944.713 \n  880.261,944.137 882.419,943.556 884.578,942.969 886.737,942.377 888.895,941.779 891.054,941.176 893.212,940.567 895.371,939.952 897.529,939.331 899.688,938.704 \n  901.847,938.072 904.005,937.433 906.164,936.789 908.322,936.138 910.481,935.482 912.639,934.819 914.798,934.15 916.956,933.475 919.115,932.794 921.274,932.107 \n  923.432,931.413 925.591,930.712 927.749,930.006 929.908,929.293 932.066,928.573 934.225,927.847 936.384,927.114 938.542,926.374 940.701,925.628 942.859,924.875 \n  945.018,924.116 947.176,923.349 949.335,922.576 951.494,921.795 953.652,921.008 955.811,920.214 957.969,919.412 960.128,918.604 962.286,917.788 964.445,916.966 \n  966.604,916.135 968.762,915.298 970.921,914.454 973.079,913.602 975.238,912.742 977.396,911.875 979.555,911.001 981.713,910.119 983.872,909.23 986.031,908.332 \n  988.189,907.428 990.348,906.515 992.506,905.595 994.665,904.667 996.823,903.731 998.982,902.787 1001.14,901.836 1003.3,900.876 1005.46,899.908 1007.62,898.933 \n  1009.77,897.949 1011.93,896.957 1014.09,895.957 1016.25,894.948 1018.41,893.932 1020.57,892.907 1022.73,891.874 1024.88,890.832 1027.04,889.783 1029.2,888.724 \n  1031.36,887.657 1033.52,886.582 1035.68,885.498 1037.84,884.406 1039.99,883.305 1042.15,882.195 1044.31,881.077 1046.47,879.95 1048.63,878.814 1050.79,877.669 \n  1052.95,876.516 1055.1,875.354 1057.26,874.182 1059.42,873.002 1061.58,871.813 1063.74,870.616 1065.9,869.409 1068.06,868.193 1070.21,866.968 1072.37,865.734 \n  1074.53,864.491 1076.69,863.238 1078.85,861.977 1081.01,860.706 1083.17,859.427 1085.32,858.138 1087.48,856.84 1089.64,855.532 1091.8,854.216 1093.96,852.89 \n  1096.12,851.554 1098.28,850.21 1100.43,848.856 1102.59,847.493 1104.75,846.12 1106.91,844.738 1109.07,843.347 1111.23,841.946 1113.39,840.536 1115.54,839.116 \n  1117.7,837.687 1119.86,836.249 1122.02,834.801 1124.18,833.344 1126.34,831.877 1128.5,830.401 1130.65,828.916 1132.81,827.421 1134.97,825.916 1137.13,824.402 \n  1139.29,822.879 1141.45,821.346 1143.61,819.804 1145.76,818.252 1147.92,816.691 1150.08,815.121 1152.24,813.541 1154.4,811.952 1156.56,810.353 1158.72,808.746 \n  1160.87,807.128 1163.03,805.502 1165.19,803.866 1167.35,802.221 1169.51,800.566 1171.67,798.903 1173.83,797.23 1175.98,795.548 1178.14,793.857 1180.3,792.157 \n  1182.46,790.447 1184.62,788.729 1186.78,787.001 1188.94,785.265 1191.09,783.519 1193.25,781.765 1195.41,780.001 1197.57,778.229 1199.73,776.448 1201.89,774.658 \n  1204.05,772.86 1206.2,771.052 1208.36,769.236 1210.52,767.412 1212.68,765.579 1214.84,763.737 1217,761.887 1219.16,760.029 1221.31,758.162 1223.47,756.287 \n  1225.63,754.404 1227.79,752.512 1229.95,750.613 1232.11,748.705 1234.27,746.789 1236.42,744.866 1238.58,742.935 1240.74,740.995 1242.9,739.048 1245.06,737.094 \n  1247.22,735.132 1249.38,733.162 1251.53,731.185 1253.69,729.201 1255.85,727.209 1258.01,725.21 1260.17,723.204 1262.33,721.191 1264.49,719.171 1266.64,717.144 \n  1268.8,715.111 1270.96,713.071 1273.12,711.024 1275.28,708.97 1277.44,706.91 1279.6,704.844 1281.75,702.772 1283.91,700.693 1286.07,698.608 1288.23,696.518 \n  1290.39,694.421 1292.55,692.319 1294.71,690.211 1296.86,688.098 1299.02,685.979 1301.18,683.855 1303.34,681.725 1305.5,679.59 1307.66,677.451 1309.82,675.306 \n  1311.97,673.157 1314.13,671.003 1316.29,668.844 1318.45,666.681 1320.61,664.513 1322.77,662.341 1324.93,660.165 1327.08,657.985 1329.24,655.801 1331.4,653.614 \n  1333.56,651.422 1335.72,649.227 1337.88,647.029 1340.04,644.827 1342.19,642.622 1344.35,640.414 1346.51,638.203 1348.67,635.989 1350.83,633.773 1352.99,631.554 \n  1355.15,629.332 1357.3,627.108 1359.46,624.882 1361.62,622.654 1363.78,620.424 1365.94,618.192 1368.1,615.958 1370.26,613.723 1372.41,611.486 1374.57,609.248 \n  1376.73,607.008 1378.89,604.768 1381.05,602.527 1383.21,600.285 1385.37,598.042 1387.52,595.798 1389.68,593.554 1391.84,591.31 1394,589.066 1396.16,586.821 \n  1398.32,584.577 1400.48,582.333 1402.63,580.089 1404.79,577.846 1406.95,575.603 1409.11,573.361 1411.27,571.119 1413.43,568.879 1415.59,566.64 1417.74,564.402 \n  1419.9,562.165 1422.06,559.93 1424.22,557.696 1426.38,555.464 1428.54,553.234 1430.7,551.006 1432.85,548.78 1435.01,546.556 1437.17,544.335 1439.33,542.116 \n  1441.49,539.899 1443.65,537.686 1445.81,535.475 1447.96,533.266 1450.12,531.061 1452.28,528.859 1454.44,526.661 1456.6,524.466 1458.76,522.274 1460.92,520.086 \n  1463.07,517.901 1465.23,515.721 1467.39,513.544 1469.55,511.372 1471.71,509.203 1473.87,507.039 1476.03,504.879 1478.18,502.724 1480.34,500.574 1482.5,498.428 \n  1484.66,496.286 1486.82,494.15 1488.98,492.019 1491.14,489.893 1493.29,487.772 1495.45,485.656 1497.61,483.546 1499.77,481.441 1501.93,479.342 1504.09,477.248 \n  1506.24,475.161 1508.4,473.079 1510.56,471.003 1512.72,468.933 1514.88,466.869 1517.04,464.811 1519.2,462.76 1521.35,460.715 1523.51,458.676 1525.67,456.644 \n  1527.83,454.619 1529.99,452.6 1532.15,450.588 1534.31,448.583 1536.46,446.585 1538.62,444.594 1540.78,442.61 1542.94,440.633 1545.1,438.663 1547.26,436.7 \n  1549.42,434.745 1551.57,432.797 1553.73,430.857 1555.89,428.924 1558.05,426.998 1560.21,425.08 1562.37,423.17 1564.53,421.268 1566.68,419.374 1568.84,417.487 \n  1571,415.608 1573.16,413.737 1575.32,411.874 1577.48,410.02 1579.64,408.173 1581.79,406.334 1583.95,404.504 1586.11,402.682 1588.27,400.868 1590.43,399.062 \n  1592.59,397.265 1594.75,395.476 1596.9,393.696 1599.06,391.924 1601.22,390.16 1603.38,388.405 1605.54,386.659 1607.7,384.921 1609.86,383.192 1612.01,381.471 \n  1614.17,379.759 1616.33,378.056 1618.49,376.361 1620.65,374.676 1622.81,372.999 1624.97,371.33 1627.12,369.671 1629.28,368.02 1631.44,366.378 1633.6,364.745 \n  1635.76,363.121 1637.92,361.506 1640.08,359.899 1642.23,358.301 1644.39,356.713 1646.55,355.133 1648.71,353.562 1650.87,352 1653.03,350.447 1655.19,348.903 \n  1657.34,347.368 1659.5,345.842 1661.66,344.325 1663.82,342.816 1665.98,341.317 1668.14,339.826 1670.3,338.345 1672.45,336.872 1674.61,335.409 1676.77,333.954 \n  1678.93,332.508 1681.09,331.071 1683.25,329.643 1685.41,328.224 1687.56,326.814 1689.72,325.412 1691.88,324.02 1694.04,322.636 1696.2,321.261 1698.36,319.895 \n  1700.52,318.538 1702.67,317.189 1704.83,315.85 1706.99,314.519 1709.15,313.197 1711.31,311.883 1713.47,310.579 1715.63,309.282 1717.78,307.995 1719.94,306.716 \n  1722.1,305.446 1724.26,304.185 1726.42,302.932 1728.58,301.687 1730.74,300.451 1732.89,299.224 1735.05,298.005 1737.21,296.795 1739.37,295.593 1741.53,294.399 \n  1743.69,293.214 1745.85,292.037 1748,290.869 1750.16,289.708 1752.32,288.556 1754.48,287.413 1756.64,286.277 1758.8,285.15 1760.96,284.03 1763.11,282.919 \n  1765.27,281.816 1767.43,280.721 1769.59,279.634 1771.75,278.555 1773.91,277.484 1776.07,276.421 1778.22,275.366 1780.38,274.319 1782.54,273.279 1784.7,272.247 \n  1786.86,271.223 1789.02,270.207 1791.18,269.198 1793.33,268.197 1795.49,267.204 1797.65,266.218 1799.81,265.24 1801.97,264.269 1804.13,263.306 1806.29,262.35 \n  1808.44,261.401 1810.6,260.46 1812.76,259.526 1814.92,258.6 1817.08,257.68 1819.24,256.768 1821.4,255.863 1823.55,254.965 1825.71,254.075 1827.87,253.191 \n  1830.03,252.314 1832.19,251.444 1834.35,250.581 1836.51,249.725 1838.66,248.876 1840.82,248.034 1842.98,247.199 1845.14,246.37 1847.3,245.548 1849.46,244.732 \n  1851.62,243.923 1853.77,243.121 1855.93,242.325 1858.09,241.536 1860.25,240.753 1862.41,239.977 1864.57,239.207 1866.73,238.443 1868.88,237.686 1871.04,236.935 \n  1873.2,236.19 1875.36,235.451 1877.52,234.719 1879.68,233.992 1881.84,233.272 1883.99,232.558 1886.15,231.849 1888.31,231.147 1890.47,230.45 1892.63,229.759 \n  1894.79,229.075 1896.95,228.396 1899.1,227.722 1901.26,227.055 1903.42,226.393 1905.58,225.736 1907.74,225.086 1909.9,224.44 1912.06,223.801 1914.21,223.167 \n  1916.37,222.538 1918.53,221.914 1920.69,221.296 1922.85,220.684 1925.01,220.076 1927.17,219.474 1929.32,218.877 1931.48,218.286 1933.64,217.699 1935.8,217.118 \n  1937.96,216.541 1940.12,215.97 1942.28,215.403 1944.43,214.842 1946.59,214.285 1948.75,213.734 1950.91,213.187 1953.07,212.645 1955.23,212.107 1957.39,211.575 \n  1959.54,211.047 1961.7,210.524 1963.86,210.005 1966.02,209.491 1968.18,208.982 1970.34,208.477 1972.5,207.977 1974.65,207.481 1976.81,206.989 1978.97,206.502 \n  1981.13,206.019 1983.29,205.541 1985.45,205.067 1987.61,204.597 1989.76,204.131 1991.92,203.67 1994.08,203.212 1996.24,202.759 1998.4,202.31 2000.56,201.865 \n  2002.72,201.423 2004.87,200.986 2007.03,200.553 2009.19,200.124 2011.35,199.699 2013.51,199.277 2015.67,198.859 2017.83,198.446 2019.98,198.035 2022.14,197.629 \n  2024.3,197.226 2026.46,196.827 2028.62,196.432 2030.78,196.04 2032.94,195.652 2035.09,195.268 2037.25,194.886 2039.41,194.509 2041.57,194.135 2043.73,193.764 \n  2045.89,193.397 2048.05,193.033 2050.2,192.673 2052.36,192.315 2054.52,191.961 2056.68,191.611 2058.84,191.263 2061,190.919 2063.15,190.578 2065.31,190.24 \n  2067.47,189.906 2069.63,189.574 2071.79,189.246 2073.95,188.92 2076.11,188.598 2078.26,188.278 2080.42,187.962 2082.58,187.648 2084.74,187.338 2086.9,187.03 \n  2089.06,186.725 2091.22,186.423 2093.37,186.124 2095.53,185.828 2097.69,185.534 2099.85,185.243 2102.01,184.955 2104.17,184.67 2106.33,184.387 2108.48,184.107 \n  2110.64,183.83 2112.8,183.555 2114.96,183.283 2117.12,183.013 2119.28,182.746 2121.44,182.482 2123.59,182.219 2125.75,181.96 2127.91,181.703 2130.07,181.448 \n  2132.23,181.196 2134.39,180.946 2136.55,180.698 2138.7,180.453 2140.86,180.21 2143.02,179.969 2145.18,179.731 2147.34,179.495 2149.5,179.261 2151.66,179.03 \n  2153.81,178.8 2155.97,178.573 2158.13,178.348 2160.29,178.125 2162.45,177.904 2164.61,177.686 2166.77,177.469 2168.92,177.255 2171.08,177.042 2173.24,176.832 \n  2175.4,176.623 2177.56,176.417 2179.72,176.212 2181.88,176.01 2184.03,175.809 2186.19,175.611 2188.35,175.414 2190.51,175.219 2192.67,175.026 2194.83,174.835 \n  2196.99,174.645 2199.14,174.458 2201.3,174.272 2203.46,174.088 2205.62,173.906 2207.78,173.726 2209.94,173.547 2212.1,173.37 2214.25,173.195 2216.41,173.021 \n  2218.57,172.85 2220.73,172.679 2222.89,172.511 2225.05,172.344 2227.21,172.178 2229.36,172.015 2231.52,171.853 2233.68,171.692 2235.84,171.533 2238,171.375 \n  2240.16,171.219 2242.32,171.065 2244.47,170.912 2246.63,170.76 2248.79,170.61 2250.95,170.462 2253.11,170.315 2255.27,170.169 2257.43,170.025 2259.58,169.882 \n  2261.74,169.74 2263.9,169.6 2266.06,169.461 2268.22,169.324 2270.38,169.188 2272.54,169.053 2274.69,168.919 2276.85,168.787 2279.01,168.656 2281.17,168.527 \n  2283.33,168.398 2285.49,168.271 2287.65,168.145 2289.8,168.021 2291.96,167.897 2294.12,167.775 2296.28,167.654 2298.44,167.534 2300.6,167.415 2302.76,167.298 \n  2304.91,167.181 2307.07,167.066 2309.23,166.952 2311.39,166.839 2313.55,166.727 2315.71,166.616 2317.87,166.507 2320.02,166.398 2322.18,166.29 2324.34,166.184 \n  2326.5,166.078 2328.66,165.974 2330.82,165.87 2332.98,165.768 2335.13,165.666 2337.29,165.566 2339.45,165.466 2341.61,165.368 2343.77,165.27 2345.93,165.174 \n  2348.09,165.078 2350.24,164.983 2352.4,164.89 2354.56,164.797 2356.72,164.705 2358.88,164.614 2361.04,164.524 2363.2,164.434 2365.35,164.346 2367.51,164.259 \n  2369.67,164.172 2371.83,164.086 2373.99,164.001 2376.15,163.917 2378.31,163.834 2380.46,163.751 2382.62,163.67 2384.78,163.589 2386.94,163.509 2389.1,163.429 \n  2391.26,163.351 2393.42,163.273 2395.57,163.196 2397.73,163.12 2399.89,163.044 2402.05,162.97 2404.21,162.896 2406.37,162.822 2408.53,162.75 2410.68,162.678 \n  2412.84,162.607 2415,162.536 2417.16,162.467 2419.32,162.398 2421.48,162.329 2423.64,162.262 2425.79,162.195 2427.95,162.128 2430.11,162.063 2432.27,161.998 \n  2434.43,161.933 2436.59,161.869 2438.75,161.806 2440.9,161.744 2443.06,161.682 2445.22,161.62 2447.38,161.56 2449.54,161.5 2451.7,161.44 2453.86,161.381 \n  2456.01,161.323 2458.17,161.265 2460.33,161.208 2462.49,161.151 2464.65,161.095 2466.81,161.04 2468.97,160.985 2471.12,160.93 2473.28,160.876 2475.44,160.823 \n  2477.6,160.77 2479.76,160.718 2481.92,160.666 2484.08,160.615 2486.23,160.564 2488.39,160.514 2490.55,160.464 2492.71,160.415 2494.87,160.366 2497.03,160.318 \n  2499.19,160.27 2501.34,160.223 2503.5,160.176 2505.66,160.129 2507.82,160.083 2509.98,160.038 2512.14,159.993 2514.3,159.948 2516.45,159.904 2518.61,159.86 \n  2520.77,159.817 2522.93,159.774 2525.09,159.732 2527.25,159.69 2529.41,159.648 2531.56,159.607 2533.72,159.566 2535.88,159.526 2538.04,159.486 2540.2,159.446 \n  2542.36,159.407 2544.52,159.368 2546.67,159.33 2548.83,159.292 2550.99,159.254 2553.15,159.217 2555.31,159.18 2557.47,159.143 2559.63,159.107 2561.78,159.071 \n  2563.94,159.036 2566.1,159.001 2568.26,158.966 2570.42,158.932 2572.58,158.897 2574.74,158.864 2576.89,158.83 2579.05,158.797 2581.21,158.764 2583.37,158.732 \n  2585.53,158.7 2587.69,158.668 2589.85,158.637 2592,158.605 2594.16,158.575 2596.32,158.544 2598.48,158.514 2600.64,158.484 2602.8,158.454 2604.96,158.425 \n  2607.11,158.396 2609.27,158.367 2611.43,158.339 2613.59,158.31 2615.75,158.282 2617.91,158.255 2620.07,158.227 2622.22,158.2 2624.38,158.174 2626.54,158.147 \n  2628.7,158.121 2630.86,158.095 2633.02,158.069 2635.17,158.043 2637.33,158.018 2639.49,157.993 2641.65,157.968 2643.81,157.944 2645.97,157.92 2648.13,157.896 \n  2650.28,157.872 2652.44,157.848 2654.6,157.825 2656.76,157.802 2658.92,157.779 2661.08,157.756 2663.24,157.734 2665.39,157.712 2667.55,157.69 2669.71,157.668 \n  2671.87,157.646 2674.03,157.625 2676.19,157.604 2678.35,157.583 2680.5,157.562 2682.66,157.542 2684.82,157.522 2686.98,157.502 2689.14,157.482 2691.3,157.462 \n  2693.46,157.443 2695.61,157.423 2697.77,157.404 2699.93,157.385 2702.09,157.367 2704.25,157.348 2706.41,157.33 2708.57,157.312 2710.72,157.294 2712.88,157.276 \n  2715.04,157.258 2717.2,157.241 2719.36,157.223 2721.52,157.206 2723.68,157.189 2725.83,157.173 2727.99,157.156 2730.15,157.14 2732.31,157.123 2734.47,157.107 \n  2736.63,157.091 2738.79,157.075 2740.94,157.06 2743.1,157.044 2745.26,157.029 2747.42,157.014 2749.58,156.999 2751.74,156.984 2753.9,156.969 2756.05,156.955 \n  2758.21,156.94 2760.37,156.926 2762.53,156.912 2764.69,156.898 2766.85,156.884 2769.01,156.87 2771.16,156.857 2773.32,156.843 2775.48,156.83 2777.64,156.817 \n  2779.8,156.804 2781.96,156.791 2784.12,156.778 2786.27,156.765 2788.43,156.753 2790.59,156.74 2792.75,156.728 2794.91,156.716 2797.07,156.704 2799.23,156.692 \n  2801.38,156.68 2803.54,156.668 2805.7,156.657 2807.86,156.645 2810.02,156.634 2812.18,156.623 2814.34,156.612 2816.49,156.601 2818.65,156.59 2820.81,156.579 \n  2822.97,156.568 2825.13,156.558 2827.29,156.547 2829.45,156.537 2831.6,156.527 2833.76,156.516 2835.92,156.506 2838.08,156.496 2840.24,156.487 2842.4,156.477 \n  2844.56,156.467 2846.71,156.458 2848.87,156.448 2851.03,156.439 2853.19,156.429 2855.35,156.42 2857.51,156.411 2859.67,156.402 2861.82,156.393 2863.98,156.384 \n  2866.14,156.376 2868.3,156.367 2870.46,156.358 2872.62,156.35 2874.78,156.342 2876.93,156.333 2879.09,156.325 2881.25,156.317 2883.41,156.309 2885.57,156.301 \n  2887.73,156.293 2889.89,156.285 2892.04,156.277 2894.2,156.27 2896.36,156.262 2898.52,156.254 2900.68,156.247 2902.84,156.24 2905,156.232 2907.15,156.225 \n  2909.31,156.218 2911.47,156.211 2913.63,156.204 2915.79,156.197 2917.95,156.19 2920.11,156.183 2922.26,156.177 2924.42,156.17 2926.58,156.163 2928.74,156.157 \n  2930.9,156.15 2933.06,156.144 2935.22,156.138 2937.37,156.131 2939.53,156.125 2941.69,156.119 2943.85,156.113 2946.01,156.107 2948.17,156.101 2950.33,156.095 \n  2952.48,156.089 2954.64,156.083 2956.8,156.077 2958.96,156.072 2961.12,156.066 2963.28,156.061 2965.44,156.055 2967.59,156.05 2969.75,156.044 2971.91,156.039 \n  2974.07,156.034 2976.23,156.028 2978.39,156.023 2980.55,156.018 2982.7,156.013 2984.86,156.008 2987.02,156.003 2989.18,155.998 2991.34,155.993 2993.5,155.988 \n  2995.66,155.983 2997.81,155.979 2999.97,155.974 3002.13,155.969 3004.29,155.965 3006.45,155.96 3008.61,155.956 3010.77,155.951 3012.92,155.947 3015.08,155.942 \n  3017.24,155.938 3019.4,155.934 3021.56,155.93 3023.72,155.925 3025.88,155.921 3028.03,155.917 3030.19,155.913 3032.35,155.909 3034.51,155.905 3036.67,155.901 \n  3038.83,155.897 3040.99,155.893 3043.14,155.889 3045.3,155.886 3047.46,155.882 3049.62,155.878 3051.78,155.874 3053.94,155.871 3056.1,155.867 3058.25,155.864 \n  3060.41,155.86 \n  \"/>\n<circle clip-path=\"url(#clip3002)\" cx=\"3073.36\" cy=\"154.218\" r=\"14\" fill=\"#e26f46\" fill-rule=\"evenodd\" fill-opacity=\"1\" stroke=\"#000000\" stroke-opacity=\"1\" stroke-width=\"2.4\"/>\n<circle clip-path=\"url(#clip3002)\" cx=\"3043.14\" cy=\"154.306\" r=\"14\" fill=\"#e26f46\" fill-rule=\"evenodd\" fill-opacity=\"1\" stroke=\"#000000\" stroke-opacity=\"1\" stroke-width=\"2.4\"/>\n<circle clip-path=\"url(#clip3002)\" cx=\"3012.92\" cy=\"154.276\" r=\"14\" fill=\"#e26f46\" fill-rule=\"evenodd\" fill-opacity=\"1\" stroke=\"#000000\" stroke-opacity=\"1\" stroke-width=\"2.4\"/>\n<circle clip-path=\"url(#clip3002)\" cx=\"2982.7\" cy=\"155.099\" r=\"14\" fill=\"#e26f46\" fill-rule=\"evenodd\" fill-opacity=\"1\" stroke=\"#000000\" stroke-opacity=\"1\" stroke-width=\"2.4\"/>\n<circle clip-path=\"url(#clip3002)\" cx=\"2939.53\" cy=\"157.096\" r=\"14\" fill=\"#e26f46\" fill-rule=\"evenodd\" fill-opacity=\"1\" stroke=\"#000000\" stroke-opacity=\"1\" stroke-width=\"2.4\"/>\n<circle clip-path=\"url(#clip3002)\" cx=\"2909.31\" cy=\"158.947\" r=\"14\" fill=\"#e26f46\" fill-rule=\"evenodd\" fill-opacity=\"1\" stroke=\"#000000\" stroke-opacity=\"1\" stroke-width=\"2.4\"/>\n<circle clip-path=\"url(#clip3002)\" cx=\"2879.09\" cy=\"159.593\" r=\"14\" fill=\"#e26f46\" fill-rule=\"evenodd\" fill-opacity=\"1\" stroke=\"#000000\" stroke-opacity=\"1\" stroke-width=\"2.4\"/>\n<circle clip-path=\"url(#clip3002)\" cx=\"2818.65\" cy=\"161.531\" r=\"14\" fill=\"#e26f46\" fill-rule=\"evenodd\" fill-opacity=\"1\" stroke=\"#000000\" stroke-opacity=\"1\" stroke-width=\"2.4\"/>\n<circle clip-path=\"url(#clip3002)\" cx=\"2788.43\" cy=\"164.263\" r=\"14\" fill=\"#e26f46\" fill-rule=\"evenodd\" fill-opacity=\"1\" stroke=\"#000000\" stroke-opacity=\"1\" stroke-width=\"2.4\"/>\n<circle clip-path=\"url(#clip3002)\" cx=\"2758.21\" cy=\"166.466\" r=\"14\" fill=\"#e26f46\" fill-rule=\"evenodd\" fill-opacity=\"1\" stroke=\"#000000\" stroke-opacity=\"1\" stroke-width=\"2.4\"/>\n<circle clip-path=\"url(#clip3002)\" cx=\"2727.99\" cy=\"168.61\" r=\"14\" fill=\"#e26f46\" fill-rule=\"evenodd\" fill-opacity=\"1\" stroke=\"#000000\" stroke-opacity=\"1\" stroke-width=\"2.4\"/>\n<circle clip-path=\"url(#clip3002)\" cx=\"2697.77\" cy=\"170.783\" r=\"14\" fill=\"#e26f46\" fill-rule=\"evenodd\" fill-opacity=\"1\" stroke=\"#000000\" stroke-opacity=\"1\" stroke-width=\"2.4\"/>\n<circle clip-path=\"url(#clip3002)\" cx=\"2637.33\" cy=\"174.337\" r=\"14\" fill=\"#e26f46\" fill-rule=\"evenodd\" fill-opacity=\"1\" stroke=\"#000000\" stroke-opacity=\"1\" stroke-width=\"2.4\"/>\n<circle clip-path=\"url(#clip3002)\" cx=\"2607.11\" cy=\"175.013\" r=\"14\" fill=\"#e26f46\" fill-rule=\"evenodd\" fill-opacity=\"1\" stroke=\"#000000\" stroke-opacity=\"1\" stroke-width=\"2.4\"/>\n<circle clip-path=\"url(#clip3002)\" cx=\"2546.67\" cy=\"180.329\" r=\"14\" fill=\"#e26f46\" fill-rule=\"evenodd\" fill-opacity=\"1\" stroke=\"#000000\" stroke-opacity=\"1\" stroke-width=\"2.4\"/>\n<circle clip-path=\"url(#clip3002)\" cx=\"2486.23\" cy=\"183.443\" r=\"14\" fill=\"#e26f46\" fill-rule=\"evenodd\" fill-opacity=\"1\" stroke=\"#000000\" stroke-opacity=\"1\" stroke-width=\"2.4\"/>\n<circle clip-path=\"url(#clip3002)\" cx=\"2456.01\" cy=\"185.469\" r=\"14\" fill=\"#e26f46\" fill-rule=\"evenodd\" fill-opacity=\"1\" stroke=\"#000000\" stroke-opacity=\"1\" stroke-width=\"2.4\"/>\n<circle clip-path=\"url(#clip3002)\" cx=\"2425.79\" cy=\"187.202\" r=\"14\" fill=\"#e26f46\" fill-rule=\"evenodd\" fill-opacity=\"1\" stroke=\"#000000\" stroke-opacity=\"1\" stroke-width=\"2.4\"/>\n<circle clip-path=\"url(#clip3002)\" cx=\"2395.57\" cy=\"189.288\" r=\"14\" fill=\"#e26f46\" fill-rule=\"evenodd\" fill-opacity=\"1\" stroke=\"#000000\" stroke-opacity=\"1\" stroke-width=\"2.4\"/>\n<circle clip-path=\"url(#clip3002)\" cx=\"2365.35\" cy=\"193.341\" r=\"14\" fill=\"#e26f46\" fill-rule=\"evenodd\" fill-opacity=\"1\" stroke=\"#000000\" stroke-opacity=\"1\" stroke-width=\"2.4\"/>\n<circle clip-path=\"url(#clip3002)\" cx=\"2304.91\" cy=\"199.068\" r=\"14\" fill=\"#e26f46\" fill-rule=\"evenodd\" fill-opacity=\"1\" stroke=\"#000000\" stroke-opacity=\"1\" stroke-width=\"2.4\"/>\n<circle clip-path=\"url(#clip3002)\" cx=\"2244.47\" cy=\"205.295\" r=\"14\" fill=\"#e26f46\" fill-rule=\"evenodd\" fill-opacity=\"1\" stroke=\"#000000\" stroke-opacity=\"1\" stroke-width=\"2.4\"/>\n<circle clip-path=\"url(#clip3002)\" cx=\"2184.03\" cy=\"215.282\" r=\"14\" fill=\"#e26f46\" fill-rule=\"evenodd\" fill-opacity=\"1\" stroke=\"#000000\" stroke-opacity=\"1\" stroke-width=\"2.4\"/>\n<circle clip-path=\"url(#clip3002)\" cx=\"2123.59\" cy=\"231.407\" r=\"14\" fill=\"#e26f46\" fill-rule=\"evenodd\" fill-opacity=\"1\" stroke=\"#000000\" stroke-opacity=\"1\" stroke-width=\"2.4\"/>\n<circle clip-path=\"url(#clip3002)\" cx=\"2063.15\" cy=\"246.944\" r=\"14\" fill=\"#e26f46\" fill-rule=\"evenodd\" fill-opacity=\"1\" stroke=\"#000000\" stroke-opacity=\"1\" stroke-width=\"2.4\"/>\n<circle clip-path=\"url(#clip3002)\" cx=\"2002.72\" cy=\"265.83\" r=\"14\" fill=\"#e26f46\" fill-rule=\"evenodd\" fill-opacity=\"1\" stroke=\"#000000\" stroke-opacity=\"1\" stroke-width=\"2.4\"/>\n<circle clip-path=\"url(#clip3002)\" cx=\"1942.28\" cy=\"282.132\" r=\"14\" fill=\"#e26f46\" fill-rule=\"evenodd\" fill-opacity=\"1\" stroke=\"#000000\" stroke-opacity=\"1\" stroke-width=\"2.4\"/>\n<circle clip-path=\"url(#clip3002)\" cx=\"1881.84\" cy=\"300.43\" r=\"14\" fill=\"#e26f46\" fill-rule=\"evenodd\" fill-opacity=\"1\" stroke=\"#000000\" stroke-opacity=\"1\" stroke-width=\"2.4\"/>\n<circle clip-path=\"url(#clip3002)\" cx=\"1821.4\" cy=\"324.956\" r=\"14\" fill=\"#e26f46\" fill-rule=\"evenodd\" fill-opacity=\"1\" stroke=\"#000000\" stroke-opacity=\"1\" stroke-width=\"2.4\"/>\n<circle clip-path=\"url(#clip3002)\" cx=\"1760.96\" cy=\"348.512\" r=\"14\" fill=\"#e26f46\" fill-rule=\"evenodd\" fill-opacity=\"1\" stroke=\"#000000\" stroke-opacity=\"1\" stroke-width=\"2.4\"/>\n<circle clip-path=\"url(#clip3002)\" cx=\"1700.52\" cy=\"371.892\" r=\"14\" fill=\"#e26f46\" fill-rule=\"evenodd\" fill-opacity=\"1\" stroke=\"#000000\" stroke-opacity=\"1\" stroke-width=\"2.4\"/>\n<circle clip-path=\"url(#clip3002)\" cx=\"1640.08\" cy=\"402.879\" r=\"14\" fill=\"#e26f46\" fill-rule=\"evenodd\" fill-opacity=\"1\" stroke=\"#000000\" stroke-opacity=\"1\" stroke-width=\"2.4\"/>\n<circle clip-path=\"url(#clip3002)\" cx=\"1579.64\" cy=\"450.05\" r=\"14\" fill=\"#e26f46\" fill-rule=\"evenodd\" fill-opacity=\"1\" stroke=\"#000000\" stroke-opacity=\"1\" stroke-width=\"2.4\"/>\n<circle clip-path=\"url(#clip3002)\" cx=\"1519.2\" cy=\"492.786\" r=\"14\" fill=\"#e26f46\" fill-rule=\"evenodd\" fill-opacity=\"1\" stroke=\"#000000\" stroke-opacity=\"1\" stroke-width=\"2.4\"/>\n<circle clip-path=\"url(#clip3002)\" cx=\"1467.39\" cy=\"546.214\" r=\"14\" fill=\"#e26f46\" fill-rule=\"evenodd\" fill-opacity=\"1\" stroke=\"#000000\" stroke-opacity=\"1\" stroke-width=\"2.4\"/>\n<circle clip-path=\"url(#clip3002)\" cx=\"1398.32\" cy=\"613.064\" r=\"14\" fill=\"#e26f46\" fill-rule=\"evenodd\" fill-opacity=\"1\" stroke=\"#000000\" stroke-opacity=\"1\" stroke-width=\"2.4\"/>\n<circle clip-path=\"url(#clip3002)\" cx=\"1337.88\" cy=\"704.234\" r=\"14\" fill=\"#e26f46\" fill-rule=\"evenodd\" fill-opacity=\"1\" stroke=\"#000000\" stroke-opacity=\"1\" stroke-width=\"2.4\"/>\n<circle clip-path=\"url(#clip3002)\" cx=\"1307.66\" cy=\"732.46\" r=\"14\" fill=\"#e26f46\" fill-rule=\"evenodd\" fill-opacity=\"1\" stroke=\"#000000\" stroke-opacity=\"1\" stroke-width=\"2.4\"/>\n<circle clip-path=\"url(#clip3002)\" cx=\"1247.22\" cy=\"784.771\" r=\"14\" fill=\"#e26f46\" fill-rule=\"evenodd\" fill-opacity=\"1\" stroke=\"#000000\" stroke-opacity=\"1\" stroke-width=\"2.4\"/>\n<circle clip-path=\"url(#clip3002)\" cx=\"1186.78\" cy=\"838.874\" r=\"14\" fill=\"#e26f46\" fill-rule=\"evenodd\" fill-opacity=\"1\" stroke=\"#000000\" stroke-opacity=\"1\" stroke-width=\"2.4\"/>\n<circle clip-path=\"url(#clip3002)\" cx=\"1126.34\" cy=\"887.719\" r=\"14\" fill=\"#e26f46\" fill-rule=\"evenodd\" fill-opacity=\"1\" stroke=\"#000000\" stroke-opacity=\"1\" stroke-width=\"2.4\"/>\n<circle clip-path=\"url(#clip3002)\" cx=\"1061.58\" cy=\"929.985\" r=\"14\" fill=\"#e26f46\" fill-rule=\"evenodd\" fill-opacity=\"1\" stroke=\"#000000\" stroke-opacity=\"1\" stroke-width=\"2.4\"/>\n<circle clip-path=\"url(#clip3002)\" cx=\"1031.36\" cy=\"941.44\" r=\"14\" fill=\"#e26f46\" fill-rule=\"evenodd\" fill-opacity=\"1\" stroke=\"#000000\" stroke-opacity=\"1\" stroke-width=\"2.4\"/>\n<circle clip-path=\"url(#clip3002)\" cx=\"988.189\" cy=\"953.13\" r=\"14\" fill=\"#e26f46\" fill-rule=\"evenodd\" fill-opacity=\"1\" stroke=\"#000000\" stroke-opacity=\"1\" stroke-width=\"2.4\"/>\n<circle clip-path=\"url(#clip3002)\" cx=\"957.969\" cy=\"960.062\" r=\"14\" fill=\"#e26f46\" fill-rule=\"evenodd\" fill-opacity=\"1\" stroke=\"#000000\" stroke-opacity=\"1\" stroke-width=\"2.4\"/>\n<circle clip-path=\"url(#clip3002)\" cx=\"919.115\" cy=\"966.494\" r=\"14\" fill=\"#e26f46\" fill-rule=\"evenodd\" fill-opacity=\"1\" stroke=\"#000000\" stroke-opacity=\"1\" stroke-width=\"2.4\"/>\n<circle clip-path=\"url(#clip3002)\" cx=\"867.309\" cy=\"972.457\" r=\"14\" fill=\"#e26f46\" fill-rule=\"evenodd\" fill-opacity=\"1\" stroke=\"#000000\" stroke-opacity=\"1\" stroke-width=\"2.4\"/>\n<circle clip-path=\"url(#clip3002)\" cx=\"802.552\" cy=\"979.829\" r=\"14\" fill=\"#e26f46\" fill-rule=\"evenodd\" fill-opacity=\"1\" stroke=\"#000000\" stroke-opacity=\"1\" stroke-width=\"2.4\"/>\n<circle clip-path=\"url(#clip3002)\" cx=\"711.893\" cy=\"986.262\" r=\"14\" fill=\"#e26f46\" fill-rule=\"evenodd\" fill-opacity=\"1\" stroke=\"#000000\" stroke-opacity=\"1\" stroke-width=\"2.4\"/>\n<circle clip-path=\"url(#clip3002)\" cx=\"647.136\" cy=\"987.701\" r=\"14\" fill=\"#e26f46\" fill-rule=\"evenodd\" fill-opacity=\"1\" stroke=\"#000000\" stroke-opacity=\"1\" stroke-width=\"2.4\"/>\n<circle clip-path=\"url(#clip3002)\" cx=\"599.647\" cy=\"988.318\" r=\"14\" fill=\"#e26f46\" fill-rule=\"evenodd\" fill-opacity=\"1\" stroke=\"#000000\" stroke-opacity=\"1\" stroke-width=\"2.4\"/>\n<circle clip-path=\"url(#clip3002)\" cx=\"526.256\" cy=\"990.168\" r=\"14\" fill=\"#e26f46\" fill-rule=\"evenodd\" fill-opacity=\"1\" stroke=\"#000000\" stroke-opacity=\"1\" stroke-width=\"2.4\"/>\n<circle clip-path=\"url(#clip3002)\" cx=\"465.816\" cy=\"991.519\" r=\"14\" fill=\"#e26f46\" fill-rule=\"evenodd\" fill-opacity=\"1\" stroke=\"#000000\" stroke-opacity=\"1\" stroke-width=\"2.4\"/>\n<circle clip-path=\"url(#clip3002)\" cx=\"426.962\" cy=\"993.898\" r=\"14\" fill=\"#e26f46\" fill-rule=\"evenodd\" fill-opacity=\"1\" stroke=\"#000000\" stroke-opacity=\"1\" stroke-width=\"2.4\"/>\n<path clip-path=\"url(#clip3000)\" d=\"\nM2169.6 441.971 L3056.76 441.971 L3056.76 260.531 L2169.6 260.531  Z\n  \" fill=\"#ffffff\" fill-rule=\"evenodd\" fill-opacity=\"1\"/>\n<polyline clip-path=\"url(#clip3000)\" style=\"stroke:#000000; stroke-width:4; stroke-opacity:1; fill:none\" points=\"\n  2169.6,441.971 3056.76,441.971 3056.76,260.531 2169.6,260.531 2169.6,441.971 \n  \"/>\n<polyline clip-path=\"url(#clip3000)\" style=\"stroke:#009af9; stroke-width:4; stroke-opacity:1; fill:none\" points=\"\n  2201.6,321.011 2393.6,321.011 \n  \"/>\n<g clip-path=\"url(#clip3000)\">\n<text style=\"fill:#000000; fill-opacity:1; font-family:Arial,Helvetica Neue,Helvetica,sans-serif; font-size:48px; text-anchor:start;\" transform=\"rotate(0, 2425.6, 338.511)\" x=\"2425.6\" y=\"338.511\">Model values</text>\n</g>\n<circle clip-path=\"url(#clip3000)\" cx=\"2313.6\" cy=\"381.491\" r=\"21\" fill=\"#e26f46\" fill-rule=\"evenodd\" fill-opacity=\"1\" stroke=\"#000000\" stroke-opacity=\"1\" stroke-width=\"2.4\"/>\n<g clip-path=\"url(#clip3000)\">\n<text style=\"fill:#000000; fill-opacity:1; font-family:Arial,Helvetica Neue,Helvetica,sans-serif; font-size:48px; text-anchor:start;\" transform=\"rotate(0, 2425.6, 398.991)\" x=\"2425.6\" y=\"398.991\">Reported number of cases</text>\n</g>\n</svg>\n"
          },
          "metadata": {}
        }
      ],
      "execution_count": 225,
      "metadata": {
        "collapsed": true,
        "jupyter": {
          "source_hidden": false,
          "outputs_hidden": false
        },
        "nteract": {
          "transient": {
            "deleting": false
          }
        },
        "execution": {
          "iopub.status.busy": "2020-07-31T00:51:13.538Z",
          "iopub.execute_input": "2020-07-31T00:51:13.573Z",
          "iopub.status.idle": "2020-07-31T00:51:13.645Z"
        }
      }
    },
    {
      "cell_type": "markdown",
      "source": [],
      "metadata": {
        "nteract": {
          "transient": {
            "deleting": false
          }
        }
      }
    }
  ],
  "metadata": {
    "kernel_info": {
      "name": "julia-1.4"
    },
    "language_info": {
      "file_extension": ".jl",
      "name": "julia",
      "mimetype": "application/julia",
      "version": "1.4.2"
    },
    "kernelspec": {
      "argv": [
        "/Applications/Julia-1.4.app/Contents/Resources/julia/bin/julia",
        "-i",
        "--startup-file=yes",
        "--color=yes",
        "--project=@.",
        "/Users/johnflorez/.julia/packages/IJulia/DrVMH/src/kernel.jl",
        "{connection_file}"
      ],
      "display_name": "Julia 1.4.2",
      "env": {},
      "interrupt_mode": "signal",
      "language": "julia",
      "name": "julia-1.4"
    },
    "nteract": {
      "version": "0.24.1"
    }
  },
  "nbformat": 4,
  "nbformat_minor": 0
}